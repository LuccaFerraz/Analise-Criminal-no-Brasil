{
  "nbformat": 4,
  "nbformat_minor": 0,
  "metadata": {
    "colab": {
      "provenance": [],
      "collapsed_sections": [
        "pZ0sJoWXxt5Q",
        "Xv_8McfdJI1L",
        "UT5YCvOmNEDb",
        "-TuQqW5o7vCX",
        "jRWSGn7jta3t",
        "UvG1jk9Cz_dK",
        "ZzroubD9-De_",
        "muc-LrWyf7Xx"
      ],
      "gpuType": "T4"
    },
    "kernelspec": {
      "name": "python3",
      "display_name": "Python 3"
    },
    "language_info": {
      "name": "python"
    },
    "accelerator": "GPU",
    "widgets": {
      "application/vnd.jupyter.widget-state+json": {
        "b52eca176d964191a00bc83de5ef0600": {
          "model_module": "@jupyter-widgets/controls",
          "model_name": "HBoxModel",
          "model_module_version": "1.5.0",
          "state": {
            "_dom_classes": [],
            "_model_module": "@jupyter-widgets/controls",
            "_model_module_version": "1.5.0",
            "_model_name": "HBoxModel",
            "_view_count": null,
            "_view_module": "@jupyter-widgets/controls",
            "_view_module_version": "1.5.0",
            "_view_name": "HBoxView",
            "box_style": "",
            "children": [
              "IPY_MODEL_251cfac261c14de9b212646d444716a7",
              "IPY_MODEL_d477e876facb4d66a0e5495859655f2b",
              "IPY_MODEL_1c92f78b698d458d9cda0c05b92f98cd"
            ],
            "layout": "IPY_MODEL_70a0e4526ea44f378b0ad5eca7de8308"
          }
        },
        "251cfac261c14de9b212646d444716a7": {
          "model_module": "@jupyter-widgets/controls",
          "model_name": "HTMLModel",
          "model_module_version": "1.5.0",
          "state": {
            "_dom_classes": [],
            "_model_module": "@jupyter-widgets/controls",
            "_model_module_version": "1.5.0",
            "_model_name": "HTMLModel",
            "_view_count": null,
            "_view_module": "@jupyter-widgets/controls",
            "_view_module_version": "1.5.0",
            "_view_name": "HTMLView",
            "description": "",
            "description_tooltip": null,
            "layout": "IPY_MODEL_b4517541a470481092c1c5f2066f7e34",
            "placeholder": "​",
            "style": "IPY_MODEL_a1bdf7871cc94a9c85303b3ccbbf6247",
            "value": "Progress: 100%"
          }
        },
        "d477e876facb4d66a0e5495859655f2b": {
          "model_module": "@jupyter-widgets/controls",
          "model_name": "FloatProgressModel",
          "model_module_version": "1.5.0",
          "state": {
            "_dom_classes": [],
            "_model_module": "@jupyter-widgets/controls",
            "_model_module_version": "1.5.0",
            "_model_name": "FloatProgressModel",
            "_view_count": null,
            "_view_module": "@jupyter-widgets/controls",
            "_view_module_version": "1.5.0",
            "_view_name": "ProgressView",
            "bar_style": "",
            "description": "",
            "description_tooltip": null,
            "layout": "IPY_MODEL_d972bcd667ad40c8a1bfcc7bd21ab6e9",
            "max": 640,
            "min": 0,
            "orientation": "horizontal",
            "style": "IPY_MODEL_b4dc2106575d4d39b189efd80601c02d",
            "value": 640
          }
        },
        "1c92f78b698d458d9cda0c05b92f98cd": {
          "model_module": "@jupyter-widgets/controls",
          "model_name": "HTMLModel",
          "model_module_version": "1.5.0",
          "state": {
            "_dom_classes": [],
            "_model_module": "@jupyter-widgets/controls",
            "_model_module_version": "1.5.0",
            "_model_name": "HTMLModel",
            "_view_count": null,
            "_view_module": "@jupyter-widgets/controls",
            "_view_module_version": "1.5.0",
            "_view_name": "HTMLView",
            "description": "",
            "description_tooltip": null,
            "layout": "IPY_MODEL_68c6ac5ff180411d81d38dd8622e97e3",
            "placeholder": "​",
            "style": "IPY_MODEL_75404172a2a54e99882db153ff9a4098",
            "value": " 640/640 [16:30&lt;00:00,  1.49s/it]"
          }
        },
        "70a0e4526ea44f378b0ad5eca7de8308": {
          "model_module": "@jupyter-widgets/base",
          "model_name": "LayoutModel",
          "model_module_version": "1.2.0",
          "state": {
            "_model_module": "@jupyter-widgets/base",
            "_model_module_version": "1.2.0",
            "_model_name": "LayoutModel",
            "_view_count": null,
            "_view_module": "@jupyter-widgets/base",
            "_view_module_version": "1.2.0",
            "_view_name": "LayoutView",
            "align_content": null,
            "align_items": null,
            "align_self": null,
            "border": null,
            "bottom": null,
            "display": null,
            "flex": null,
            "flex_flow": null,
            "grid_area": null,
            "grid_auto_columns": null,
            "grid_auto_flow": null,
            "grid_auto_rows": null,
            "grid_column": null,
            "grid_gap": null,
            "grid_row": null,
            "grid_template_areas": null,
            "grid_template_columns": null,
            "grid_template_rows": null,
            "height": null,
            "justify_content": null,
            "justify_items": null,
            "left": null,
            "margin": null,
            "max_height": null,
            "max_width": null,
            "min_height": null,
            "min_width": null,
            "object_fit": null,
            "object_position": null,
            "order": null,
            "overflow": null,
            "overflow_x": null,
            "overflow_y": null,
            "padding": null,
            "right": null,
            "top": null,
            "visibility": "hidden",
            "width": null
          }
        },
        "b4517541a470481092c1c5f2066f7e34": {
          "model_module": "@jupyter-widgets/base",
          "model_name": "LayoutModel",
          "model_module_version": "1.2.0",
          "state": {
            "_model_module": "@jupyter-widgets/base",
            "_model_module_version": "1.2.0",
            "_model_name": "LayoutModel",
            "_view_count": null,
            "_view_module": "@jupyter-widgets/base",
            "_view_module_version": "1.2.0",
            "_view_name": "LayoutView",
            "align_content": null,
            "align_items": null,
            "align_self": null,
            "border": null,
            "bottom": null,
            "display": null,
            "flex": null,
            "flex_flow": null,
            "grid_area": null,
            "grid_auto_columns": null,
            "grid_auto_flow": null,
            "grid_auto_rows": null,
            "grid_column": null,
            "grid_gap": null,
            "grid_row": null,
            "grid_template_areas": null,
            "grid_template_columns": null,
            "grid_template_rows": null,
            "height": null,
            "justify_content": null,
            "justify_items": null,
            "left": null,
            "margin": null,
            "max_height": null,
            "max_width": null,
            "min_height": null,
            "min_width": null,
            "object_fit": null,
            "object_position": null,
            "order": null,
            "overflow": null,
            "overflow_x": null,
            "overflow_y": null,
            "padding": null,
            "right": null,
            "top": null,
            "visibility": null,
            "width": null
          }
        },
        "a1bdf7871cc94a9c85303b3ccbbf6247": {
          "model_module": "@jupyter-widgets/controls",
          "model_name": "DescriptionStyleModel",
          "model_module_version": "1.5.0",
          "state": {
            "_model_module": "@jupyter-widgets/controls",
            "_model_module_version": "1.5.0",
            "_model_name": "DescriptionStyleModel",
            "_view_count": null,
            "_view_module": "@jupyter-widgets/base",
            "_view_module_version": "1.2.0",
            "_view_name": "StyleView",
            "description_width": ""
          }
        },
        "d972bcd667ad40c8a1bfcc7bd21ab6e9": {
          "model_module": "@jupyter-widgets/base",
          "model_name": "LayoutModel",
          "model_module_version": "1.2.0",
          "state": {
            "_model_module": "@jupyter-widgets/base",
            "_model_module_version": "1.2.0",
            "_model_name": "LayoutModel",
            "_view_count": null,
            "_view_module": "@jupyter-widgets/base",
            "_view_module_version": "1.2.0",
            "_view_name": "LayoutView",
            "align_content": null,
            "align_items": null,
            "align_self": null,
            "border": null,
            "bottom": null,
            "display": null,
            "flex": null,
            "flex_flow": null,
            "grid_area": null,
            "grid_auto_columns": null,
            "grid_auto_flow": null,
            "grid_auto_rows": null,
            "grid_column": null,
            "grid_gap": null,
            "grid_row": null,
            "grid_template_areas": null,
            "grid_template_columns": null,
            "grid_template_rows": null,
            "height": null,
            "justify_content": null,
            "justify_items": null,
            "left": null,
            "margin": null,
            "max_height": null,
            "max_width": null,
            "min_height": null,
            "min_width": null,
            "object_fit": null,
            "object_position": null,
            "order": null,
            "overflow": null,
            "overflow_x": null,
            "overflow_y": null,
            "padding": null,
            "right": null,
            "top": null,
            "visibility": null,
            "width": null
          }
        },
        "b4dc2106575d4d39b189efd80601c02d": {
          "model_module": "@jupyter-widgets/controls",
          "model_name": "ProgressStyleModel",
          "model_module_version": "1.5.0",
          "state": {
            "_model_module": "@jupyter-widgets/controls",
            "_model_module_version": "1.5.0",
            "_model_name": "ProgressStyleModel",
            "_view_count": null,
            "_view_module": "@jupyter-widgets/base",
            "_view_module_version": "1.2.0",
            "_view_name": "StyleView",
            "bar_color": null,
            "description_width": ""
          }
        },
        "68c6ac5ff180411d81d38dd8622e97e3": {
          "model_module": "@jupyter-widgets/base",
          "model_name": "LayoutModel",
          "model_module_version": "1.2.0",
          "state": {
            "_model_module": "@jupyter-widgets/base",
            "_model_module_version": "1.2.0",
            "_model_name": "LayoutModel",
            "_view_count": null,
            "_view_module": "@jupyter-widgets/base",
            "_view_module_version": "1.2.0",
            "_view_name": "LayoutView",
            "align_content": null,
            "align_items": null,
            "align_self": null,
            "border": null,
            "bottom": null,
            "display": null,
            "flex": null,
            "flex_flow": null,
            "grid_area": null,
            "grid_auto_columns": null,
            "grid_auto_flow": null,
            "grid_auto_rows": null,
            "grid_column": null,
            "grid_gap": null,
            "grid_row": null,
            "grid_template_areas": null,
            "grid_template_columns": null,
            "grid_template_rows": null,
            "height": null,
            "justify_content": null,
            "justify_items": null,
            "left": null,
            "margin": null,
            "max_height": null,
            "max_width": null,
            "min_height": null,
            "min_width": null,
            "object_fit": null,
            "object_position": null,
            "order": null,
            "overflow": null,
            "overflow_x": null,
            "overflow_y": null,
            "padding": null,
            "right": null,
            "top": null,
            "visibility": null,
            "width": null
          }
        },
        "75404172a2a54e99882db153ff9a4098": {
          "model_module": "@jupyter-widgets/controls",
          "model_name": "DescriptionStyleModel",
          "model_module_version": "1.5.0",
          "state": {
            "_model_module": "@jupyter-widgets/controls",
            "_model_module_version": "1.5.0",
            "_model_name": "DescriptionStyleModel",
            "_view_count": null,
            "_view_module": "@jupyter-widgets/base",
            "_view_module_version": "1.2.0",
            "_view_name": "StyleView",
            "description_width": ""
          }
        }
      }
    }
  },
  "cells": [
    {
      "cell_type": "markdown",
      "source": [
        "# **Imports e Installs**"
      ],
      "metadata": {
        "id": "pZ0sJoWXxt5Q"
      }
    },
    {
      "cell_type": "code",
      "source": [
        "#@title Imports\n",
        "\n",
        "# Básicos\n",
        "from logging import warning\n",
        "import pandas as pd\n",
        "import numpy as np\n",
        "import geopandas as gpd\n",
        "import plotly.express as px\n",
        "import plotly.graph_objects as go\n",
        "from plotly.subplots import make_subplots\n",
        "import seaborn as sns\n",
        "import matplotlib.pyplot as plt\n",
        "\n",
        "# Pysal\n",
        "!pip install geopandas pysal\n",
        "import libpysal\n",
        "import json\n",
        "\n",
        "!pip install esda\n",
        "\n",
        "from shapely.wkt import loads\n",
        "\n",
        "# esda e pysal\n",
        "from esda.geary import Geary\n",
        "from pysal.explore import esda\n",
        "import libpysal as lps\n",
        "from libpysal import weights\n",
        "from libpysal.weights import Queen\n",
        "from libpysal.weights import full2W\n",
        "from scipy.spatial import distance_matrix\n",
        "from esda import Moran, Moran_Local, G_Local\n",
        "\n",
        "\n",
        "# skgstat\n",
        "!pip install scikit-gstat\n",
        "!pip install gstools\n",
        "import gstools as gs\n",
        "import skgstat as skg\n",
        "from skgstat import OrdinaryKriging\n",
        "\n",
        "# Torch\n",
        "!pip install torch-geometric\n",
        "import networkx as nx\n",
        "import torch\n",
        "from torch_geometric.data import Data\n",
        "import torch\n",
        "import torch.nn.functional as F\n",
        "from torch_geometric.nn import GATConv\n",
        "\n",
        "# Barra de progresso\n",
        "from tqdm.auto import tqdm\n",
        "\n",
        "# Sklearn\n",
        "from sklearn.metrics import r2_score\n",
        "from sklearn.model_selection import train_test_split\n",
        "from sklearn.model_selection import KFold\n",
        "from sklearn.metrics import silhouette_score\n",
        "from sklearn.cluster import KMeans\n",
        "from sklearn.model_selection import train_test_split\n",
        "from sklearn.preprocessing import StandardScaler\n",
        "from sklearn.model_selection import LeaveOneOut\n",
        "from sklearn.metrics import mean_absolute_error, mean_squared_error, r2_score\n",
        "from sklearn.model_selection import GroupKFold\n",
        "\n",
        "# Regressão\n",
        "from spreg import GM_Error\n",
        "from spreg import GM_Lag\n",
        "import statsmodels.api as sm\n",
        "from statsmodels.stats.diagnostic import het_breuschpagan\n",
        "from scipy.stats import kstest\n",
        "from scipy.spatial import distance_matrix\n",
        "from statsmodels.stats.outliers_influence import variance_inflation_factor\n",
        "from libpysal.weights import Queen, Rook, DistanceBand, KNN\n",
        "\n",
        "# UMAP\n",
        "!pip install umap-learn\n",
        "import umap.umap_ as umap\n",
        "\n",
        "# warnings\n",
        "import warnings\n",
        "warnings.filterwarnings('ignore')\n",
        "\n",
        "from spreg import ML_Lag"
      ],
      "metadata": {
        "collapsed": true,
        "id": "8j4-2YdWsHnn",
        "cellView": "form"
      },
      "execution_count": 23,
      "outputs": []
    },
    {
      "cell_type": "code",
      "execution_count": 2,
      "metadata": {
        "cellView": "form",
        "id": "OM7XEfQBqog5",
        "colab": {
          "base_uri": "https://localhost:8080/"
        },
        "outputId": "502fbc1e-e724-4326-dfa7-bdc65ace5a4a"
      },
      "outputs": [
        {
          "output_type": "stream",
          "name": "stdout",
          "text": [
            "Cloning into 'Analise-Criminal-no-Brasil'...\n",
            "remote: Enumerating objects: 288, done.\u001b[K\n",
            "remote: Counting objects: 100% (103/103), done.\u001b[K\n",
            "remote: Compressing objects: 100% (67/67), done.\u001b[K\n",
            "remote: Total 288 (delta 45), reused 73 (delta 30), pack-reused 185 (from 1)\u001b[K\n",
            "Receiving objects: 100% (288/288), 81.38 MiB | 15.88 MiB/s, done.\n",
            "Resolving deltas: 100% (114/114), done.\n",
            "Updating files: 100% (132/132), done.\n"
          ]
        }
      ],
      "source": [
        "from os import path\n",
        "#@title Import nos dados pelo GIT\n",
        "\n",
        "!git clone https://github.com/MurilloYumoto/Analise-Criminal-no-Brasil\n",
        "\n",
        "path = '/content/Analise-Criminal-no-Brasil/Base_final/2014/2014.shp'\n",
        "path_gini = '/content/Analise-Criminal-no-Brasil/docs/gini_2010 - Página1.csv'\n",
        "path_regiao_imediata = '/content/Analise-Criminal-no-Brasil/Shapefiles_auxiliares/regiao_geografica_imediata/Regiao Geografica Imediata.shp'"
      ]
    },
    {
      "cell_type": "markdown",
      "source": [
        "# **Sobre os modelos de predição**\n",
        "\n",
        "#### **Problemas da previsão do índice de criminalidade**\n",
        "\n",
        "Uma primeira vista ao problema subentende que a etapa final, destinada aos modelos de predição, visa aplicar métodos de regressão a fim de obter estimadores para o índice de criminalidade para cada município. A forma com a qual é constituído o índice, porém, introduz alguns vieses a análise, o que dificultava a predição.\n",
        "\n",
        "Cita-se, por exemplo, que os pesos atribuídos aos diferentes crimes eram arbitrários e falhavam na tentativa de quantificar a gravidade de diferentes ocorrências: um homicídio não deve ser comparado a um número \"$n$\" de furtos, são equivalências que não fazem sentido.\n",
        "\n",
        "Uma outra problemática diz respeito à representatividade de crimes hediondos, cuja natureza os restringia apenas às grandes cidades, ao passo que não haviam ocorrências na maior parte do território, afetando o fenômeno de autocorrelação espacial de grande interesse neste trabalho.\n",
        "\n",
        "#### **Número de roubos totais**\n",
        "\n",
        "Optou-se, portanto, por dar continuidade ao estudo através do número de incidências de roubos totais para cada município, uma vez que:\n",
        "\n",
        "**1.** A contagem de roubos, em se tratando de um único valor absoluto, não é afetada pelo viés do índice.\n",
        "\n",
        "**2.** Roubos representam o tipo de crime com o maior número de ocorrências e são mais bem distribuídos ao longo do Estado, permitindo uma análise mais robusta."
      ],
      "metadata": {
        "id": "gJveGhBiJpI0"
      }
    },
    {
      "cell_type": "markdown",
      "source": [
        "# **Filtragem e processamento dos dados**"
      ],
      "metadata": {
        "id": "29bTPM66xxgV"
      }
    },
    {
      "cell_type": "markdown",
      "source": [
        "### **Sistema de coordenadas cartográficas**\n",
        "\n",
        "Ao trabalhar com dados espaciais representados por coordenadas geográficas leva-se em consideração que elas estão baseadas em uma superfície curva e, por conseguinte, introduzem distorções significativas no cálculo das distâncias e áreas. Em se tratando uma análise local (restrita ao Estado de São Paulo) é necessário converter as coordenadas geográficas de todos os pontos para um espaço de coordenadas adequado, uma vez que toda planificação introduz algum tipo de distorção em detrimento de preservar propriedades espaciais (distâncias, áreas, etc).\n",
        "\n",
        "\n",
        "#### **Zona UTM23S**\n",
        "\n",
        "A Zona 23S da projeção UTM abrange a maior parte do estado de São Paulo. Utilizar essa projeção garante que a maioria dos municípios estejam bem representados, evitando distorções significativas que ocorrem quando dados são projetados fora da zona apropriada.\n",
        "\n"
      ],
      "metadata": {
        "id": "YC9XXCGt0yOn"
      }
    },
    {
      "cell_type": "code",
      "source": [
        "df = gpd.read_file(path)\n",
        "\n",
        "# Convertendo o sistema de coordenadas para a projeção\n",
        "print(f\"CRS atual: {df.crs}\")\n",
        "df = df.to_crs('EPSG:32723')\n",
        "df.head()\n",
        "\n",
        "df['centroid'] = df.geometry.centroid\n",
        "\n",
        "df['x_centroid'] = df['centroid'].x\n",
        "df['y_centroid'] = df['centroid'].y\n",
        "\n",
        "gini = pd.read_csv(path_gini)\n",
        "gini['Cod'] = gini['Cod'].astype(int)\n",
        "gini['Gini'] = gini['Gini'].astype(str).str.replace(',', '.').astype(float)\n",
        "df['Codigo sem digito'] = ((df['cod_ibge'] - (df['cod_ibge'] % 10)) / 10).astype(int)\n",
        "df = df.merge(gini, left_on='Codigo sem digito', right_on='Cod', how='left')\n",
        "\n",
        "df.drop('Codigo sem digito', axis=1, inplace=True)\n",
        "df.drop('Município', axis=1, inplace=True)\n",
        "df.drop('Cod', axis=1, inplace=True)"
      ],
      "metadata": {
        "id": "voxdimLBsBAB",
        "colab": {
          "base_uri": "https://localhost:8080/"
        },
        "outputId": "63cee866-8a40-40e4-b23f-64f398012fc0"
      },
      "execution_count": 3,
      "outputs": [
        {
          "output_type": "stream",
          "name": "stdout",
          "text": [
            "CRS atual: EPSG:4674\n"
          ]
        }
      ]
    },
    {
      "cell_type": "markdown",
      "source": [
        "# **Autocorrelação espacial**"
      ],
      "metadata": {
        "id": "3oOgeF4549qb"
      }
    },
    {
      "cell_type": "markdown",
      "source": [
        "Faz-se, aqui, uma breve seção de exploração da natureza espacial dos dados de roubo, que serve para justificar as escolhas de modelo adiante."
      ],
      "metadata": {
        "id": "sWMkRxSiR479"
      }
    },
    {
      "cell_type": "markdown",
      "source": [
        "## **Krigagem**"
      ],
      "metadata": {
        "id": "bcm2M_GMtrTk"
      }
    },
    {
      "cell_type": "markdown",
      "metadata": {
        "id": "qtTXeDQ7lCxP"
      },
      "source": [
        "Krigagem é uma técnica de interpolação geoestatística em que os valores \"preditos\" são simulados a partir de um Processo Gaussiano sob suposição de uma covariância definida a partir do \"variograma\". O variograma, por sua vez, é uma função que quantifica a diferença média entre valores de uma variável em dois pontos separados por uma distância específica, a qual define-se por:\n",
        "\n",
        "\n",
        "\n"
      ]
    },
    {
      "cell_type": "markdown",
      "metadata": {
        "id": "XlCI0fYCo5mp"
      },
      "source": [
        "$$\n",
        "\\gamma(h) = \\frac{1}{2N(h)} \\sum_{i=1}^{N(h)} \\left[ Z(x_i) - Z(x_i + h) \\right]^2\n",
        "$$\n",
        "\n",
        "Em que:\n",
        "\n",
        "*   $\\gamma(h)$: É o valor do variograma para uma distância $h$.\n",
        "*   $N(h)$: Número de pares de pontos separados pela distância $h$.\n",
        "*   $Z(x_i)$ e $Z(x_i + h)$: São os valores da variável nos pontos $x_i$ e $x_i + h$."
      ]
    },
    {
      "cell_type": "markdown",
      "metadata": {
        "id": "wYYABhYCoYwN"
      },
      "source": [
        "Em se tratando de uma técnica de interpolação, a krigagem é majoritariamente usada para predizer novas observações. Vale ressaltar que ela leva em consideração apenas os valores do Índice Criminal e a dependência espacial dos dados, aqui calculada a partir da matriz de distância inversa. Por isso, faz-se aqui uma forma de \"confirmar\" o fenômeno de autocorrelação espacial: se um modelo de variograma é capaz de prever eficientemente os valores omissos, valida-se a suposição de dependência no espaço."
      ]
    },
    {
      "cell_type": "markdown",
      "metadata": {
        "id": "7KuqF4gJu4sf"
      },
      "source": [
        "Conforme já testado no notebook de análise exploratória, a krigagem é feita a partir do Leave One Out Cross Validation."
      ]
    },
    {
      "cell_type": "code",
      "source": [
        "X = df[['x_centroid', 'y_centroid']].values\n",
        "y = (df['TR2014'] * 1000 / df['populacao']).values"
      ],
      "metadata": {
        "id": "Ukmer0sa0Wcd"
      },
      "execution_count": 4,
      "outputs": []
    },
    {
      "cell_type": "code",
      "source": [
        "loo = LeaveOneOut()\n",
        "\n",
        "y_pred = []\n",
        "y_true = []\n",
        "\n",
        "for train_index, test_index in loo.split(X):\n",
        "    X_train, X_test = X[train_index], X[test_index]\n",
        "    y_train, y_test = y[train_index], y[test_index]\n",
        "\n",
        "    V = skg.Variogram(X, y, model='stable', normalize=False, use_nugget=True, maxlag=0.7, n_lags=15, fit_method='trf')\n",
        "\n",
        "    OK = OrdinaryKriging(V, mode='exact')\n",
        "\n",
        "    y_k_pred = OK.transform(X_test)\n",
        "\n",
        "    y_pred.append(y_k_pred[0])\n",
        "    y_true.append(y_test[0])\n",
        "\n",
        "y_pred = np.array(y_pred)\n",
        "y_true = np.array(y_true)\n",
        "\n",
        "mae = mean_absolute_error(y_true, y_pred)\n",
        "rmse = mean_squared_error(y_true, y_pred, squared=False)\n",
        "r2 = r2_score(y_true, y_pred)\n",
        "\n",
        "print(f'Erro Médio Absoluto (MAE): {mae}')\n",
        "print(f'Raiz do Erro Quadrático Médio (RMSE): {rmse}')\n",
        "print(f'Coeficiente de Determinação (R²): {r2}')"
      ],
      "metadata": {
        "id": "WFjaq16y0ki7",
        "colab": {
          "base_uri": "https://localhost:8080/"
        },
        "outputId": "07b73835-4945-416b-bbee-4b3a181e76cd"
      },
      "execution_count": null,
      "outputs": [
        {
          "output_type": "stream",
          "name": "stdout",
          "text": [
            "Erro Médio Absoluto (MAE): 0.7232701481213889\n",
            "Raiz do Erro Quadrático Médio (RMSE): 1.1807772867137154\n",
            "Coeficiente de Determinação (R²): 0.7213448995403327\n"
          ]
        }
      ]
    },
    {
      "cell_type": "code",
      "source": [
        "#@title Distribuição dos valores preditos\n",
        "\n",
        "df_krigagem = df.copy()\n",
        "\n",
        "df_krigagem['RV previsto'] = y_pred\n",
        "df_krigagem['taxa RV'] = y\n",
        "\n",
        "df_krigagem['Erro'] = df_krigagem['taxa RV'] - df_krigagem['RV previsto']\n",
        "\n",
        "erro_absoluto = np.abs(df_krigagem['Erro'])\n",
        "\n",
        "df_krigagem['Erro absoluto'] = erro_absoluto\n",
        "\n",
        "fig = px.scatter(df_krigagem, x=\"taxa RV\", y=\"RV previsto\", color=\"Erro absoluto\", title=\"Validação cruzada Leave One Out\", color_continuous_scale='Agsunset')\n",
        "\n",
        "fig.update_layout(\n",
        "    xaxis_title=\"IC2014\",\n",
        "    yaxis_title=\"IC previsto\",\n",
        "    showlegend=True)\n",
        "\n",
        "fig.add_trace(\n",
        "    go.Scatter(\n",
        "        x=[y_true.min(), y_true.max()],\n",
        "        y=[y_true.min(), y_true.max()],\n",
        "        mode='lines',\n",
        "        line=dict(color='black'),\n",
        "        showlegend=False\n",
        "    )\n",
        ")\n",
        "\n",
        "fig.show()"
      ],
      "metadata": {
        "id": "StuNYF7A1oEV",
        "cellView": "form",
        "colab": {
          "base_uri": "https://localhost:8080/",
          "height": 542
        },
        "outputId": "01615ed6-e158-4d0b-90ee-0ab19dbdda74"
      },
      "execution_count": null,
      "outputs": [
        {
          "output_type": "display_data",
          "data": {
            "text/html": [
              "<html>\n",
              "<head><meta charset=\"utf-8\" /></head>\n",
              "<body>\n",
              "    <div>            <script src=\"https://cdnjs.cloudflare.com/ajax/libs/mathjax/2.7.5/MathJax.js?config=TeX-AMS-MML_SVG\"></script><script type=\"text/javascript\">if (window.MathJax && window.MathJax.Hub && window.MathJax.Hub.Config) {window.MathJax.Hub.Config({SVG: {font: \"STIX-Web\"}});}</script>                <script type=\"text/javascript\">window.PlotlyConfig = {MathJaxConfig: 'local'};</script>\n",
              "        <script charset=\"utf-8\" src=\"https://cdn.plot.ly/plotly-2.35.2.min.js\"></script>                <div id=\"a9c60f38-643b-44c6-a29c-4502f6739798\" class=\"plotly-graph-div\" style=\"height:525px; width:100%;\"></div>            <script type=\"text/javascript\">                                    window.PLOTLYENV=window.PLOTLYENV || {};                                    if (document.getElementById(\"a9c60f38-643b-44c6-a29c-4502f6739798\")) {                    Plotly.newPlot(                        \"a9c60f38-643b-44c6-a29c-4502f6739798\",                        [{\"hovertemplate\":\"taxa RV=%{x}\\u003cbr\\u003eRV previsto=%{y}\\u003cbr\\u003eErro absoluto=%{marker.color}\\u003cextra\\u003e\\u003c\\u002fextra\\u003e\",\"legendgroup\":\"\",\"marker\":{\"color\":[2.0919107145906666,1.8240416963083672,4.547800091891814,0.44613710019018127,0.35425707499925485,0.7354274706950912,1.2071991626003182,0.651795102964402,0.7154243112165911,1.3671175801462967,2.2750733666001492,0.16534036169359656,1.0786068067478176,0.08974562334458108,0.22398470121658776,4.136132430122678,1.1372701219539822,4.504209342344033,0.3322379043233137,0.3103613770109526,0.06660805720427254,1.8291534857518936,0.25600498630217183,0.11079999051972056,7.965657491954024,0.02772885847069695,4.40128490206587,2.703044275958767,0.7328890481246937,1.72518492412833,0.9998863091781377,1.2373082005274336,3.441854952579389,0.03316762855020594,0.7748480317782516,1.3542784318510441,0.3881826595273381,3.6682716751883264,0.4165983481388762,0.07327998173991834,2.2869173762705692,1.6873254186546074,0.8368429243130446,6.370538738626507,0.38871168769663217,1.1067943090026544,7.1155639445248315,0.6294213370869883,0.46099153208046584,0.604383099871491,2.2303796115804837,3.15606018828604,0.2970485753700931,1.566203824012498,3.0921175100878013,1.5864919733757352,0.5957262122072171,3.3173202676612066,0.7148096206392572,1.2032752149102128,0.2308577809992789,0.5948129041941641,0.9472830003285462,0.8309564313376175,0.38550202884070744,0.013300451376698774,0.43398688323818124,2.1034397277508736,1.8333010247029229,0.6463252986254906,2.369456659588434,0.8374628833328943,0.3099222733943358,0.19869790999704984,0.047639990938650456,2.2824678955388897,3.167765476370312,0.22038623448518635,1.9414522291679246,5.452911314997052,0.43190777020748483,0.8310451069864249,1.0580011352028806,2.418062002983148,0.4338617963776996,0.11374904169555267,0.321577064424667,0.26969794222427096,3.76942927655548,0.36985970786550193,5.277917787150846,0.5380005486499893,1.9332807036606452,1.3932421609619041,1.802384313634188,0.708445246087644,2.1359320760631864,0.01557745566275237,3.6079392671385175,2.262008256945837,2.076198715798548,0.2702278355534,2.1848760484961973,0.10425223863123367,0.4445612472063018,0.37567461473984365,0.20182454901975877,0.21205496826186432,0.08711251331660685,0.05043584782249777,1.0141748651730356,0.031077003375877488,0.5525960891505965,0.3683151833644267,0.986737663821798,0.38784390383504697,1.0967310089665139,0.9526316330549099,0.9741552973907597,0.10498369151113951,1.7374228385993864,0.173104822970147,0.6142787441059823,3.5341755611602172,1.0949438727080052,1.3385415380175556,1.2348831574760437,1.111894729995666,0.22812026734825452,0.05562364822610355,1.2740243493224839,0.30810302904507525,2.115436895315942,0.1993242452792039,0.08736805429050354,0.18545224739070854,2.4100312457974495,0.11441301896484463,0.7509856283797605,0.17203857544640933,1.077289246804646,0.07878707798306395,1.6238238422770679,2.101505015320253,0.7773537615431776,1.4663871798114063,0.2733054496394782,0.8783967346916293,1.5548591090900001,1.625725881501472,0.0475828577041949,1.0180861832947832,1.0863910395737264,0.011245176873654339,0.283379250208732,0.6681756306848861,0.2592946618118167,3.4069085729635282,0.0033819125439841224,0.254584652377829,0.0631614824618767,1.6564655349282855,0.0753777736120102,1.795899324485313,0.017556835628971146,0.36609223626010307,0.3975076801324192,0.15895655848372758,0.02609429629013027,0.5057709377287607,1.8077406378557297,1.2106970779222017,0.43908835743575814,0.893662377908025,0.6021760823373508,1.721479424611561,3.99990053476962,0.15000320511169862,1.3867245398492258,1.0118923281274723,2.4475706912730204,1.759082378381473,0.45578890998082455,0.09613300084249166,1.161144113810276,0.15428206887269558,1.4080420780919265,3.2887956006722048,0.8773898739686997,1.6985961769597302,1.5069782124918025,0.3976349880943759,0.5949347673793247,0.5457738903704561,4.389310918132997,0.053859079564730516,1.207162838791228,2.480864766663964,0.7285140313682641,0.18722511478628867,0.39287184023145716,0.7279142106845766,0.08330662923579013,0.3246399812183425,2.112274653139242,0.35228219540804706,0.8222456366767689,0.0957174501426834,0.4577438468237426,0.3998027627696481,0.4730965318696474,0.9564733189649859,3.0669863213345994,0.5814794267404109,0.4926519988999636,0.9940518760543056,1.123395370830174,0.18649534603948326,0.2174882523122219,0.556044121172691,0.10224171814216276,0.8258637015717842,0.277091316886997,0.32089732393512094,0.5414864164213153,0.6771621717185656,1.742852467200064,0.2143702138368826,1.0058344809551751,0.7533051692427999,0.37855343462140745,0.47080577044284105,0.06610372401134801,0.676951582405861,2.781470207378373,0.7660281537284012,1.6725907880252675,0.3719093086444635,0.4940556913926975,0.7749624899657593,0.12743442913005254,0.20343007551761016,1.683892457117128,0.212166815110706,0.21260263764006893,0.4071396213748464,0.2811836383322948,1.0038714025829596,0.29727499910885014,0.36577720897266186,0.6441906139650937,0.4804814208786211,0.9819690877483289,1.313121674063594,1.1630547757413687,1.5097173630993226,0.3382699127575489,0.41468446499451606,1.0387669386617921,0.8719177641220872,0.05045336393160449,0.6127869904590595,0.04628309463709446,0.1463520809297676,0.007263310896045816,0.2423340192064673,0.25444773489664396,0.3978510591732864,0.17222836235781352,0.3257740019156478,1.0415147045784543,0.7026452738726574,0.21521605326614365,0.0721862171201414,0.4665324596691013,0.6302071960898337,0.12295081214418957,0.1061702331831419,0.4130943871943418,0.25702481032537394,0.5399644180926919,0.38648761302602685,0.25063603875783635,0.6721198760476526,0.27401337791222724,0.8226913253763726,0.04930258776602692,0.4445994290976863,0.29741016447245655,0.1814140339026939,3.302984068988893,0.522491581395059,0.3385725331904068,0.08475399160763869,0.7195738504239357,0.6753597867012111,0.3462540152583191,0.5035625643115922,0.10291474647446552,0.4316532634711727,0.4806018617847343,0.4399320577614211,0.10988219294039656,0.9648919753901688,0.3560660544227794,0.6047341696236238,1.1847911918595866,0.05333578136963257,0.608071846426981,1.7119114811360707,0.6646113733861276,0.6295562950826935,0.07381497599611331,1.0346144041827168,0.3521757554291223,0.21311781738153357,2.909899167857069,0.0038228137237449333,0.15210431487444925,0.5443672163278842,0.4073382975936785,0.06507701035435215,0.548717115433372,0.3538433536643305,0.10389460714540688,1.0770438403407099,0.7320470569525184,0.06646525059461605,1.0851147434004853,0.3826367511352635,0.35645100731616847,0.3560189658780381,0.41717352707282557,0.0723353367198881,0.1320679154120339,0.07334282446890616,1.1151381349567395,0.37213242710716965,0.12482604773994621,0.006621283539522349,1.0282383098056262,0.31239255998984433,0.02728817977690584,0.2177767630915131,0.9408050128686212,0.5517888343853523,0.17479965884171877,0.7860447194718296,0.1100839917247283,0.1789654524418492,0.12755216798622615,0.1613348107426964,0.45938726162468513,0.23213955185604868,0.2930630207279658,0.32492801287339823,0.0781315903035667,0.3394494028156758,0.04428291457076705,0.5351090018731064,0.3978914659601106,0.14739772594082434,0.3773731350056053,0.0009135413135274439,1.0665988691524693,0.10329499999078573,0.05702198388198976,0.4060406776121035,0.3094925864515785,0.6389888931170451,0.2739078820603793,0.1342867247999011,0.15714447025556144,0.4322109417867376,0.1261295988539073,0.3097003005300374,0.12188513185958094,0.30328588186785516,0.32914240543769746,0.6636685035170414,0.2483360144193821,0.7067847444777152,0.6846590743891987,0.20202481951483994,0.29122274024115974,0.3693871535825762,0.3989248579275768,0.012687716701830665,0.6735205168577763,0.3008641100164213,1.7076499598006079,2.726193543405927,0.07643625192250741,0.046543441788180595,0.3968041321967497,0.12853453937392093,0.1549055208800738,0.025529841818624666,0.28658391995011856,1.554501800164239,0.6813576120675601,0.12718099795074544,0.04116976544253714,0.14612283937940612,0.263902427976757,1.3493980989567378,0.4281323314973842,0.27118156026903106,0.148827210194165,0.9562603102421736,0.867815072604539,0.017828913482973774,0.464181481311146,0.7683803601141977,0.006813407967255269,0.04443699523080158,0.20259303240160204,0.1356331673002032,1.2734183053076165,0.05016618133001305,0.3752389401452475,0.6186089824164891,0.4847219570895889,0.2721820450596696,2.002666076893824,0.39595830963704237,0.10114878062161026,0.35019980891572955,0.23023398770963222,0.24715963593680065,0.39329942679497676,0.44721409131558354,0.09741506494199925,0.22153703397297964,0.09600595785263272,0.7356319522744825,0.8998185052744825,0.12320217408569067,0.016708793547615786,0.1671893989835901,0.2984216821381891,0.43717694195990187,0.6438505039460094,0.04239155372250902,0.5257609686962745,0.9741669406150972,0.5100370819549188,0.06794567323286294,0.19023300893504924,0.01777729127856753,0.46456325462240095,0.689992167836398,1.490100450781978,0.760696038604948,0.634092017681093,0.46523254672189585,0.5576418998311834,0.49519682635733964,0.40124265810579196,0.00325416873574369,0.5969052282324245,0.6817337322093084,0.6050406727383966,0.24921612650538605,0.07493039286016656,0.296415588638066,0.05527214880785958,0.07013567061975975,0.3406238093189913,0.3387019350782249,0.03282646912584397,0.09017952217505476,0.011915902049780103,0.6153335820216261,0.3164100651687507,0.18241669001474825,0.011422673885270074,1.0737119805159532,0.5624323188190983,0.6708243993522505,1.8385948927368783,4.64003605227702,1.4965749681843012,0.13446587286320605,0.34452283975540415,0.32975940180343527,1.2444741577001786,1.4117852296377429,0.262688669277506,0.19962176509385665,0.4717559494289353,1.1080844428466108,0.4847161283187813,0.44254048170796745,0.09997263289974545,0.024983139141470212,0.35800909981651585,0.2636859648847978,0.254196874960378,0.622710804950935,0.0820670172801542,1.2605781429413154,0.7131526165174086,0.5411500385885036,0.4068860638668623,0.2852423399152236,0.07432094106074116,0.6351727352302072,0.1438439961863024,0.8409526874884914,0.9289594777030321,0.6389926649411422,0.7478636183746755,0.4232088967522202,0.4955458730495295,0.5246990742388715,0.4113863777645159,0.3976474112318239,0.2036441651484956,1.977286827451291,0.15193501604787074,0.7513481479462207,0.13731563645747746,0.3818343218311328,0.42563393066418476,0.8424968473769638,0.3681748222149599,1.3331696264703292,0.6202403189073089,0.41920270532100506,1.21131042057737,0.11052302646022338,0.7648230405691094,0.2443866987397501,0.3818776489354088,0.28287506644018023,0.11884483451929762,0.9528793116626123,0.5510908830617465,0.37201136082243613,0.41417805865268364,2.0376038215473073,0.8452919675761303,0.09810034362826558,0.2710153759333441,0.34941858665038605,0.15052829165101633,0.28850740448113077,0.8701568956010705,0.7282020530946853,1.0374298112662586,0.5405748329213047,0.30692851605027416,0.8641840893705737,0.7692193418747083,0.8095159055850393,0.24583589787135962,0.44249827417433074,0.638462909279673,0.3842355353278322,0.047058028619026526,0.2613335863254342,0.3686755799068098,0.14186642829302465,0.5510494491833371,0.34255098544682505,0.05921152294665549,0.3299571391702828,0.9300848683206075,0.04796229510060801,0.30685464223977216,1.6291586940649705,0.27911418533465376,0.25052242294771415,0.11910528386646668,0.4780141153440638,0.4802211434936531,0.5878749865282786,0.3337457391665698,0.4607597030780015,0.2963596084242644,0.09609869957867351,0.12268903572593226,0.9344291980836041,0.09919078350396635,0.30722034313039576,0.10965147643714429,0.08860219586189166,0.16396393253750066,0.8940309722398843,0.3314702669984989,0.5078356099937315,0.8578740452646166,0.24959252572549295,0.4042116202896453,0.2068303405214415,0.08517050449503472,0.20206581156761758,0.40134553146017066,0.06940739919429584,0.4628945348882908,0.13815649229119442,0.23792158817134587,0.3433634219601317,0.3109079470124865,0.028284611099746004,0.5294180395498614,0.5555182133094995,0.308902289574403,0.2494524507346251,0.33779159037823203,0.6801929990132867,0.16994239239864078,0.16852271091208865,0.020155683652525846,0.48464181786865657,0.3512826117426697,0.39719794946335907,0.15037639907965905,0.4855531218637895,0.27904795534869004,0.844819619847778,0.2671861396888103,0.5584342477423987,0.18644352200970932,0.015402486935293724,0.29748491819594863,0.1969178858511823,0.18399800475333516,0.23891032543424273,0.10766742111962868,0.011938429212964397,0.5513711188183386,0.07133094584574806,0.3600427965671057,0.2899381231241097,0.05798077231998555,0.24306643610029693,0.715340389447088,0.2746893315756494],\"coloraxis\":\"coloraxis\",\"symbol\":\"circle\"},\"mode\":\"markers\",\"name\":\"\",\"orientation\":\"v\",\"showlegend\":false,\"x\":[0.7310535293639834,4.758732273722281,6.673785371062467,2.5155474809587033,1.837037037037037,1.97249173685894,0.0,0.3035822707953855,0.0,1.0457840721768261,1.3750429700928155,0.19138755980861244,0.2364066193853428,0.5632216277105041,0.1191090641997856,1.6717032083842345,0.14097413124691618,11.28273582506992,0.2176278563656148,0.2349900129244507,0.7290264692687304,0.07698229407236336,0.5321271783956365,1.8204208384644214,11.436276468238114,10.35998528301156,0.6578947368421053,13.40474316416276,8.546296778223079,12.303872444171889,1.463662975690467,0.8703220191470844,13.148871974216554,0.7037297677691766,6.195437904815545,2.2146251263196373,9.936336050455168,3.3310673011556764,1.0005002501250626,1.225451688923802,11.816670894809342,0.691494616220488,1.2254446878829515,2.571621926460636,0.27856705108919716,6.523819002549169,16.15924460890647,4.4232776617954075,6.724810217190649,9.578207381370826,0.8564902931100115,5.5117080190119045,8.494477278524922,5.863216055439965,12.240305496204028,7.286912524863692,2.345453797303414,11.198361482326915,1.3618151532886147,3.8968431192258857,1.8548406523257774,5.99724091431309,1.8217780553820528,0.7350624803108264,0.20828993959591752,2.1990199643308572,6.070141875039112,5.019620572329487,8.292199288482644,0.351123595505618,8.138965296356306,4.480045367548025,0.2753114460733705,1.323001323001323,7.416563658838072,4.884570817363401,0.6420958006934635,5.633412687718037,0.701344243132671,12.25676912201983,0.0,2.5116119043523137,1.8817145482791064,7.345824984683866,2.9448938321536904,1.4342971273843514,0.7364408248137237,0.6980193700375186,1.1667949600939918,1.451980916822236,14.072999876759136,2.970564407237375,4.1143037574992105,4.490214261310947,1.3640605930073946,1.3218131407569798,3.3469069002063927,4.665846762434862,0.7267001756192091,1.8420862529798454,0.7394766780432309,4.915376550522174,0.0,5.08363450283046,0.21791239921551536,0.0,0.6127719175384077,0.5691879585125221,1.0827637544833186,4.825099329480109,3.2573084279699267,0.48963603721233884,5.035105550298485,1.5179113539769278,2.372845473951626,2.7450980392156863,3.2073613146577613,0.0,1.5789473684210527,1.8074237552557981,2.2289845521679297,0.5451076587626056,4.093925840427067,6.469242959014622,1.4612761811982464,3.7601759762356877,4.853472606895097,2.335189509610203,1.1348819239870576,0.3837298541826554,1.960111726368403,2.5660876297179045,1.285722634562562,2.097739103410768,0.47162395849709166,1.2127894156560088,5.7642298080704295,0.2766347384072755,0.6915629322268326,3.691627314294281,2.584968884633796,1.017293997965412,2.1881195388795067,0.4073319755600815,2.93610774238846,4.602966841186737,0.9771986970684039,1.794005909666526,0.22917382834880257,1.4612761811982464,0.5102040816326531,2.466525722339676,3.7747295338883085,0.5995203836930456,2.1947873799725652,0.20128824476650564,0.10723860589812333,5.607341521176406,0.5394034198176817,0.24459845087647777,3.4099496802020166,2.0893390812197508,0.36172906493036716,0.5844535359438925,0.4230565838180857,0.0,0.9954799827808868,2.7883339704526544,3.6907859528686635,1.0940919037199124,0.24703557312252963,1.545563622313058,1.0576821376717531,1.789086571911341,1.8444266238973537,0.7215007215007215,7.939798299234463,0.6825622693460128,3.160846291103747,0.3122462998813464,4.8808572960111665,4.419503968830867,1.9263698630136987,1.6146393972012918,0.8169563836064085,0.5597223777006605,1.2640307412276266,7.309591236346068,0.8003841844085161,0.7427213309566251,3.9723261279751068,0.41893590280687054,0.0,3.477722546931046,8.110202324580284,0.48614487117160915,0.43431053203040176,5.086887424120053,0.6629101756711966,3.5063962833300306,1.2024433649175124,1.5630920803334596,0.9004952723998199,4.3020875524077455,4.1520979020979025,0.2939231390991256,1.539594350358123,0.449842555105713,0.1446968600781363,0.22084805653710246,3.252661268310436,0.390269285807207,5.278655558747486,2.766814501363063,2.965671694019666,0.0,0.504116955133591,0.6291710671190707,1.0548523206751055,1.6352201257861636,0.39258023358523897,1.4657383657017222,0.23679848448969926,1.3712405155864338,0.0,4.46563475808347,1.2037557178396598,1.7588430721125659,1.392757660167131,1.0929943553579182,0.5769886438144195,0.47569213205213584,0.8220304151253597,0.0,4.740715341474376,0.5421523448088913,1.498887921864423,0.8467777876816116,0.9865675039842149,0.5786199913207001,0.6941552131056504,1.2398990978665185,0.5844535359438925,1.0666666666666667,0.8552490912978405,1.3262180681423474,0.0,2.425373134328358,0.0,2.291907638264148,1.8997515709484145,0.8165845691857861,2.9504276170422936,4.740227048721167,1.7938230982912553,1.1784732224695562,0.21528525296017223,1.4753447199682233,1.7128344456913354,2.9179438811601037,1.6124303723248314,2.2456770716370986,2.8608466318000985,0.9087552892397694,1.4129615674453655,0.0,0.21953896816684962,0.45714285714285713,0.43802014892685065,0.3359086328518643,2.050910845699119,0.5372877713303246,0.0,0.7060484819957638,0.505774256090365,1.70853989860796,2.3629489603024574,0.7100591715976331,0.6763611768684478,0.5390835579514824,0.0,0.6876528117359413,0.785175879396985,2.6963262554769125,0.5673528934997568,2.1738508623895196,2.587125247298737,0.9270484204521143,0.6056935190793459,0.4755865567533291,5.883672287799204,0.0,0.0,0.16003200640128026,2.1844877010906196,1.0505204851494605,0.8743806470416788,0.4429589658921596,0.5067723210172302,0.5517893741131956,0.0,0.0,0.17780938833570412,1.5015015015015014,1.9031910169384,1.5344843225591873,0.2254791431792559,0.7544322897019993,1.9863990091374355,4.185607866823495,0.33294489761944396,1.299997678575574,1.2502790801518195,2.9180570487134023,0.9411651141464357,2.176541717049577,3.8850626907843284,0.40428542551041036,0.26186236514088196,0.4718093890068412,0.4163197335553705,0.4889975550122249,0.21226915729144555,0.0,0.3090951240244185,1.372055796935742,0.0,0.9053050878145935,0.0,1.9561572377817797,0.0,0.6834170854271356,0.7628294036061026,0.21088148460565162,1.131648434552999,0.9469995896335112,0.2530791294077948,0.6821282401091405,0.8933889219773675,0.28770079117717573,1.6864760681015099,0.0,0.4076142338890474,0.07170000717000072,1.3297500069986843,0.26737967914438504,0.8295886622882821,1.8474726574046705,0.15215296444692397,0.4986287708800798,1.6931284541417755,0.3977329223426469,0.26437541308658297,0.22530134054297624,0.6894606537340562,0.0,0.36075036075036077,1.2408872343725763,1.2769062385990515,2.594058644940625,0.5809254394827238,0.9856100926473487,2.1147326373737036,0.34965034965034963,1.4104174742318596,0.9608198996476993,0.6770480704129993,1.6852682120258196,0.0,0.2596391016487083,0.0,1.103996467211305,0.18511662347278784,0.0,0.9392317084624777,1.809743425085379,0.4655493482309125,0.30815284381053004,0.3432297923459756,0.0,0.15676438313215238,1.6027083971115232,0.13457139012245997,0.0,0.0,0.0,1.012965964343598,1.0185373803218578,0.0,1.252191334835963,2.152595072949055,4.510342459874689,0.18797497247509332,0.6209527188858334,1.6535904021391128,0.2046245140167792,1.9962378594187877,0.2887577002053388,0.0,2.870248421817521,0.2457002457002457,1.0166248056452578,1.0390210113137843,0.463980463980464,0.18429782528566163,2.4156578550056276,0.28109627547434995,0.41476565740356697,0.5944049239736928,0.5974905397331209,0.24169184290030213,0.6202618883528601,0.3898635477582846,0.0,1.2163257951166773,0.14946938368790794,0.5208451278335107,0.5532197388802832,0.0,0.1462629808395495,0.6360513929525505,0.34524426031417227,1.2021294865189764,1.1972761966526153,3.2083600696672474,0.16019223067681218,0.15479876160990713,0.5730659025787965,1.9775407867787274,0.4715710051199138,1.5874415733309815,0.7231180851833104,0.9683967446970967,1.2881653236857973,0.20200659888223016,0.2787456445993031,0.8429334082607474,0.39401103230890466,0.7233273056057866,0.34882472899001826,0.0,1.5936923335010904,1.3859704028255913,1.783556757378747,0.2598077422707197,0.0,0.6360311655271108,0.34458993797381116,0.4644202487228443,0.8815232722143864,0.49109022028904165,1.6857089342573515,0.0,0.8486803021301875,0.0,0.5223295899712719,2.315315037199395,1.7424229731767387,0.36913990402362495,0.7005253940455342,0.0,1.4058106841611997,0.0,0.996142596752999,1.947681251888915,0.0,1.6959567408135676,0.24295432458697766,0.6730984967466906,0.41220115416323166,0.5853658536585366,0.5607476635514018,0.6864988558352403,0.38595137012736397,1.080691642651297,1.0029419630917358,1.2298558100084818,1.9144862795149968,0.34287673581347505,0.3429355281207133,2.902950889528071,6.725915794294893,2.7484349190044557,0.14473874656245478,0.0,0.4733503739467954,0.0,2.1790686887957365,1.0257366654233495,0.5628253834247925,0.4037141703673799,3.1932107691248364,1.5195111700236008,1.1751608114794656,0.9710505553195363,0.8954956568460642,0.7743534148985597,0.4877255730775484,1.244278540639026,1.3770548239951803,0.6667777962993833,1.8465867456106926,0.0,0.22038567493112948,0.22346368715083798,0.4161464835622139,0.4798464491362764,2.367955332884668,1.0687757174157002,2.7608216610521517,0.599965716244786,1.0498687664041995,0.1590583744234134,0.9854644000985464,0.0,0.0,0.0,0.22573363431151242,0.43078690407811604,2.806351159940796,0.8450406675821274,0.1040257983980027,0.8521516829995739,0.350385423966363,0.0,0.43632737019260737,1.7745720991470606,2.1390374331550803,0.4060089321965083,0.4400924194080757,0.3669724770642202,0.254000508001016,0.19652800524074682,0.6583278472679395,0.0,1.437297879985627,1.3813120716184082,1.8762713053237006,0.2523977788995457,0.9110787172011662,0.8751203290452437,2.9191925951737554,1.9080756495875189,0.3718854592785422,0.576036866359447,0.5238893545683152,0.7273388489862714,0.8088160954402993,0.1427959445951735,2.0349330167881976,0.0,0.0,0.7673419275629221,1.5018773466833542,1.5372790161414296,0.0,0.26881720430107525,0.8650519031141869,1.8433859312785725,0.8582872401296967,0.34199726402188785,0.5668532558633884,0.45392646391284613,0.4704996706502306,0.36656891495601174,0.0,0.4701457451810061,0.0,1.445028699875567,1.171848073343903,0.48488426023527426,2.765113584452438,0.2686727565824825,0.0,0.2303086135421465,1.2278727105290086,0.4549590536851683,0.9732360097323601,0.0,0.0,0.0,0.42557718906266623,0.6091370558375635,1.4422047705429675,0.24313153415998054,0.0,0.49879457976556657,0.7254261878853827,0.0,1.9261997719655874,0.6288868702396758,1.0624483532050526,0.0,1.3540128015755786,0.9086188992731049,0.3930302633302764,0.5170630816959669,0.0,0.0,0.5091649694501018,0.0,0.33846674564224066,0.0,1.1701685042646142,0.0,0.9540467482906663,0.09828975820719481,0.8151492350137949,0.5154307067843567,0.0,1.6220600162206003,0.24009603841536614,0.1718213058419244,0.11617100371747212,0.3139717425431711,0.7309832470574195,0.0,0.0,1.1365788975184694,0.6777363605557438,0.0,1.8744142455482662,0.0,0.44637163627088383,0.4416961130742049,0.25680534155110424,0.0,0.5319148936170213,1.091544171154126,0.0,0.8246289169873557,0.28557829604950025,0.8496176720475785,0.16775708773695688,0.7261285247488806,0.0,0.25163563160543534,0.5260389268805892,0.9896635144051023,0.0],\"xaxis\":\"x\",\"y\":[2.82296424395465,2.9346905774139134,2.1259852791706533,2.069410380768522,2.191294112036292,2.7079192075540313,1.2071991626003182,0.9553773737597876,0.7154243112165911,2.412901652323123,3.6501163366929648,0.356727921502209,1.3150134261331605,0.473476004365923,0.3430937654163734,5.807835638506912,1.2782442532008984,6.778526482725888,0.5498657606889285,0.5453513899354033,0.6624184120644578,1.906135779824257,0.7881321646978083,1.931220828984142,3.4706189762840904,10.387714141482258,5.059179638907976,10.701698888203993,7.813407730098385,10.578687520043559,0.4637766665123294,2.107630219674518,9.707017021637165,0.7368973963193826,5.420589873037294,0.860346694468593,10.324518709982506,6.999338976344003,0.5839019019861864,1.1521717071838837,9.529753518538772,2.3788200348750954,2.062287612195996,8.942160665087144,0.6672787387858293,7.630613311551824,9.043680664381638,3.793856324708419,6.263818685110183,10.182590481242316,3.086869904690495,8.667768207297945,8.791525853895015,7.429419879452463,9.148187986116227,8.873404498239427,2.941180009510631,7.881041214665708,0.6470055326493575,5.1001183341360985,1.6239828713264985,5.402428010118926,0.8744950550535067,1.566018911648444,0.593791968436625,2.1857195129541584,5.636154991800931,7.12306030008036,6.458898263779721,0.9974488941311086,5.769508636767871,5.31750825088092,0.5852337194677063,1.5216992329983727,7.368923667899422,2.6021029218245113,3.809861277063775,5.413026453232851,2.6427964723005957,6.803857807022777,0.43190777020748483,1.6805667973658889,2.939715683481987,4.9277629817007185,3.37875562853139,1.3205480856887988,0.41486376038905676,0.4283214278132476,4.936224236649472,1.8218406246877379,8.79508208960829,3.508564955887364,2.1810230538385653,5.883456422272851,3.1664449066415825,2.030258386844624,5.482838976269579,4.681424218097614,4.334639442757727,4.104094509925682,2.8156753938417793,4.645148714968774,2.1848760484961973,4.979382264199226,0.6624736464218172,0.37567461473984365,0.8145964665581664,0.3571329902506578,0.9956512411667118,4.774663481657611,4.271483293142962,0.5207130405882163,4.482509461147888,1.149596170612501,1.3861078101298279,3.1329419430507333,2.1106303056912474,0.9526316330549099,2.5531026658118123,1.7024400637446586,3.966407390767316,0.3720028357924586,3.479647096321085,2.9350673978544046,2.5562200539062516,2.421634438218132,3.618589449419053,1.223294779614537,1.363002191335312,0.439353502408759,3.234136075690887,2.8741906587629797,3.4011595298785045,1.8984148581315643,0.3842559042065881,1.0273371682653003,3.35419856227298,0.3910477573721201,1.442548560606593,3.5195887388478715,3.662258131438442,1.096081075948476,3.8119433811565746,2.5088369908803347,3.7134615039316374,3.1365796613753303,0.7038932474289257,2.672402644358155,1.7840329374388026,3.0870020626997183,0.46262122392845817,3.484611905634459,2.688338494314582,0.5882752068193913,2.4781666301812972,0.8694638754513917,0.36653326770994005,2.2004329482128777,0.5427853323616658,0.49918310325430676,3.34678819774014,3.7458046161480363,0.43710683854237736,2.3803528604292055,0.40549974818911455,0.36609223626010307,1.392987662913306,2.629377411968927,3.716880249158794,1.599862841448673,2.0547762109782592,2.7562607002352597,0.618593780235995,2.682748949819366,2.4466027062347044,2.4429801461122826,3.9398977644648427,0.5325590642343142,1.7741217512545213,1.3241386280088188,2.433286604738146,2.6604215904493937,1.4705809530328742,1.7107723980437834,1.9781004974166845,0.714004446573356,2.672072819319553,4.020795635673863,1.6777740583772158,2.4413175079163554,2.4653479154833042,0.8165708909012465,0.5949347673793247,4.023496437301502,3.720891406447286,0.5400039507363397,1.6414733708216298,2.606022657456089,1.3914242070394607,3.319171168543742,0.8095715246860552,2.291006291018036,0.8171886431640297,3.977447571189403,2.0398232489586605,0.6462053345071727,0.7173487136813542,0.5455600052483964,0.6024407069018789,0.6206508193067506,3.7257578001800833,1.3467426047721929,2.211669237412887,3.348293928103474,2.4730196951197025,0.9940518760543056,1.6275123259637652,0.8156664131585539,1.2723405729873274,2.1912642469588546,0.2903385154430762,2.2916020672735065,0.5138898013766963,1.6921378395215547,0.5414864164213153,3.7884725863649047,2.946608185039724,1.9732132859494484,2.398592141122306,1.8462995246007181,0.955542078435827,0.9464979024949769,0.8881341391367077,0.676951582405861,1.9592451340960029,1.3081804985372925,3.1714787098896906,0.47486847903714813,0.4925118125915174,1.3535824812864594,0.5667207839755979,1.0364690223489084,2.2683459930610206,0.8544998515559606,0.6426464536577716,0.9190784467675011,0.2811836383322948,1.4215017317453986,0.29727499910885014,2.6576848472368098,1.2555609569833208,1.2970659900644073,1.9684585292939647,3.4271053746575726,0.6307683225498866,2.688190585568879,0.5535551657177211,1.0606602549737072,2.7516013843531275,2.0460261170380165,1.662883736256436,2.858464062096158,2.907129726437193,1.055107370169537,1.4202248783414113,0.2423340192064673,0.4739867030634936,0.8549939163161435,0.6102485112846642,0.6616826347675121,1.009396141120665,1.239933045202982,0.21521605326614365,0.6338622648756224,0.9723067157594663,1.0783327025181264,2.485899772446647,0.6038889384144912,0.26326678967410594,0.2820587476261085,0.5399644180926919,1.0741404247619681,0.5345398406391486,2.02420637942926,0.8413662714119841,1.351159537013147,2.53782265953271,0.48244899135442804,0.3082833546068893,0.657000590656023,2.5806882188103106,0.522491581395059,0.3385725331904068,0.24478599800891895,2.9040615515145554,1.7258802718506716,0.5281266317833597,0.9465215302037518,0.4038575745427647,0.9834426375843683,0.4806018617847343,0.4399320577614211,0.28769158127610067,2.46639347689167,2.2592570713611795,0.9297501529355635,1.4102703350388426,0.7010965083323667,1.3783271627104545,2.473696385687424,0.9975562710055715,0.6704413834928805,1.1764641041557062,1.8834426445306856,1.293340869575558,2.3896595344311105,0.9751635229272597,0.4081082392341553,0.4139666800153312,1.0161766053347254,0.823658031149049,0.5540745653665771,0.7609862727248176,0.3538433536643305,0.4129897311698254,2.449099637276452,0.7320470569525184,0.8388398372199775,1.0851147434004853,1.5735204866465162,0.35645100731616847,0.32739811954909753,0.34565587653327706,0.2832168213255397,0.999580519140965,1.0203424141024173,1.3682172643645343,1.0542606672163102,1.0182149697173137,0.2810795076376534,0.6582377582958836,0.31239255998984433,0.38032605411214154,0.2894767702615138,2.2705550198673055,0.8191685135297374,1.0043883211300009,1.0614279379328408,0.26223695617165227,0.3196633184382306,1.5655762861555493,0.5590677330853433,0.7237626747112681,0.4574408923990249,0.3963976330060904,0.32492801287339823,0.28261877044679407,0.9014378315569005,1.2326233240282845,2.0589496430675185,0.9788169054428344,0.8382123667065243,1.7373595023680983,0.3505638909638771,0.34381860507939027,1.064114899638485,0.6200260865310095,2.091308889637923,0.3094925864515785,0.8986279947657534,0.2739078820603793,0.9697097424114038,0.3422610937283493,0.4322109417867376,1.065361307316385,1.5000431245553416,0.34366421637133154,0.6114387256783852,0.6723721977836731,0.6636685035170414,0.4051003975515345,0.895923652633808,0.8192304645116587,0.20202481951483994,0.29122274024115974,0.3693871535825762,0.6140411064160212,1.0058496636200271,0.6735205168577763,1.5530554448523843,0.4449451131484471,1.784148916468762,0.26441122439760073,0.5744092770976528,1.256786269942363,0.3331590533907001,1.841332338538714,0.3142875420239635,0.28658391995011856,1.315746621653282,0.9270578577678058,0.8894438076945124,1.0801907767563215,0.3178576246010579,0.44820025326241864,1.0662597560488898,0.7092286069717342,0.1435840971345359,0.7432321341678578,1.5537508499752946,1.1095069155048412,0.6024329748698863,0.8540450290694306,0.7683803601141977,1.209512387149422,0.19390637891870952,0.31825209543190863,0.41758657158008,1.2734183053076165,0.19642916216956255,0.26081245280730303,0.9638532427306614,1.6868514436085653,0.9250941515929457,1.2056939927734236,0.5561505403138546,0.2559475422315174,0.9232657114945261,1.7473067990690951,0.22441136918311314,1.1941421465360047,0.2759039938677269,0.8709816797550974,1.0666282897128176,0.2980125567348629,1.0143775968737856,1.7427519135352298,0.270808858223214,0.7066185120581708,0.5160141279736083,0.2984216821381891,1.1565153915411885,0.7421198988795819,1.825948311101256,0.7855687109669942,0.9741669406150972,1.1460682474820296,0.2766442647409482,0.2741872397877951,0.8637459809358189,0.9556534749114426,0.9957167664209534,1.490100450781978,1.6093763407351356,0.634092017681093,0.9875621366931677,1.7576731373682117,1.247226146819399,0.7703825621294169,0.7037795627812778,0.5969052282324245,2.087544416370508,0.6050406727383966,0.7469264702476129,1.8727508590287485,0.296415588638066,1.7512288896214272,0.3130899952067374,1.013722306065682,0.7509030892414565,0.6181923227843805,0.6509271857264566,0.6984147578850204,1.0012849521489902,0.7642815774825462,0.8205252730769875,1.2184331361232117,0.8407742989990435,0.9053090546325734,1.0137599274729638,1.0643559967911926,2.085879742017872,1.2518599508201544,0.2792046194256608,0.34452283975540415,0.8031097757502307,1.2444741577001786,0.7672834591579936,0.7630479961458435,0.7624471485186491,0.8754701197963152,2.0851263262782256,1.0347950417048195,0.7326203297714982,0.8710779224197909,0.9204787959875345,1.1323625147150755,0.7514115379623462,1.498475415599404,0.7543440190442453,0.7488448135795375,0.5860086026693773,0.7131526165174086,0.7615357135196331,0.6303497510177003,0.7013888234774375,0.4055255080755352,1.7327825976544609,0.9249317212293978,1.9198689735636603,1.5289251939478181,0.41087610146305736,0.9069219927980889,0.5622555033463262,0.4955458730495295,0.5246990742388715,0.4113863777645159,0.6233810455433363,0.6344310692266116,0.829064332489505,0.9969756836299981,0.8553739463442235,0.7148360465420964,0.7322197457974958,0.42563393066418476,1.2788242175695712,1.4063972769321007,0.8058678066847512,1.0262492511038173,0.8592951247290808,1.5782828976415901,0.36452353446123936,0.9613510458098563,0.41394114852818936,0.3818776489354088,1.1544228135454468,1.5001569061377058,0.9233919936610883,0.8034886619612921,0.53906735637873,0.4609422703925601,0.8815887736264482,1.0627836820113885,0.4699858029068078,0.8470522422927911,0.8733079412187013,0.5768105573352551,1.09732349992143,1.012952840196244,1.3067309636935123,1.0374298112662586,0.5405748329213047,1.0742704436131962,0.6376932573127805,0.7680596742667213,0.8095159055850393,0.5146531021724349,0.42255362893985615,1.2049230219988996,0.4740517048018645,0.3890552926409144,0.30551966953795423,0.822602043819656,0.3286332423572059,0.9176183641393488,0.34255098544682505,0.5293572681276616,0.3299571391702828,0.5149438315549595,1.123885778243295,0.7917389024750464,1.1359548903874674,0.5477869419171363,0.25052242294771415,0.34941389740861317,0.7498585951849448,0.9351801971788214,0.3853610232040815,0.3337457391665698,0.4607597030780015,0.2963596084242644,0.3294784894839927,0.7318260915634958,0.5077755724593633,0.3423223176639469,0.30722034313039576,0.3891431033284223,0.636823992023491,0.16396393253750066,1.0321687997257032,0.9603571372381747,0.5546127432113211,0.8578740452646166,1.1044202758500856,0.5044072789834596,0.5998606038517179,0.4318925772009322,0.20206581156761758,0.40134553146017066,0.439757570255806,0.4628945348882908,0.20031025335104624,0.23792158817134587,0.8268050823044825,0.3109079470124865,0.9823313593904123,0.6277077977570562,0.2596310217042954,0.20652841720995363,0.2494524507346251,1.2842684258423682,0.9202890374286529,0.3417636982405652,0.2846937146295608,0.29381605889064527,0.24634142918876287,0.3512826117426697,0.39719794946335907,0.9862024984388104,0.19218323869195428,0.27904795534869004,1.0295946257004882,0.2671861396888103,1.0048058840132825,0.2552525910644956,0.27220782848639796,0.29748491819594863,0.33499700776583896,0.9075461664007909,0.23891032543424273,0.9322963381069844,0.29751672526246464,0.29824655322924,0.23908803358270495,0.36608572818177487,0.2899381231241097,0.3096164039254209,0.28297249078029224,0.2743231249580142,0.2746893315756494],\"yaxis\":\"y\",\"type\":\"scatter\"},{\"line\":{\"color\":\"black\"},\"mode\":\"lines\",\"showlegend\":false,\"x\":[0.0,16.15924460890647],\"y\":[0.0,16.15924460890647],\"type\":\"scatter\"}],                        {\"template\":{\"data\":{\"histogram2dcontour\":[{\"type\":\"histogram2dcontour\",\"colorbar\":{\"outlinewidth\":0,\"ticks\":\"\"},\"colorscale\":[[0.0,\"#0d0887\"],[0.1111111111111111,\"#46039f\"],[0.2222222222222222,\"#7201a8\"],[0.3333333333333333,\"#9c179e\"],[0.4444444444444444,\"#bd3786\"],[0.5555555555555556,\"#d8576b\"],[0.6666666666666666,\"#ed7953\"],[0.7777777777777778,\"#fb9f3a\"],[0.8888888888888888,\"#fdca26\"],[1.0,\"#f0f921\"]]}],\"choropleth\":[{\"type\":\"choropleth\",\"colorbar\":{\"outlinewidth\":0,\"ticks\":\"\"}}],\"histogram2d\":[{\"type\":\"histogram2d\",\"colorbar\":{\"outlinewidth\":0,\"ticks\":\"\"},\"colorscale\":[[0.0,\"#0d0887\"],[0.1111111111111111,\"#46039f\"],[0.2222222222222222,\"#7201a8\"],[0.3333333333333333,\"#9c179e\"],[0.4444444444444444,\"#bd3786\"],[0.5555555555555556,\"#d8576b\"],[0.6666666666666666,\"#ed7953\"],[0.7777777777777778,\"#fb9f3a\"],[0.8888888888888888,\"#fdca26\"],[1.0,\"#f0f921\"]]}],\"heatmap\":[{\"type\":\"heatmap\",\"colorbar\":{\"outlinewidth\":0,\"ticks\":\"\"},\"colorscale\":[[0.0,\"#0d0887\"],[0.1111111111111111,\"#46039f\"],[0.2222222222222222,\"#7201a8\"],[0.3333333333333333,\"#9c179e\"],[0.4444444444444444,\"#bd3786\"],[0.5555555555555556,\"#d8576b\"],[0.6666666666666666,\"#ed7953\"],[0.7777777777777778,\"#fb9f3a\"],[0.8888888888888888,\"#fdca26\"],[1.0,\"#f0f921\"]]}],\"heatmapgl\":[{\"type\":\"heatmapgl\",\"colorbar\":{\"outlinewidth\":0,\"ticks\":\"\"},\"colorscale\":[[0.0,\"#0d0887\"],[0.1111111111111111,\"#46039f\"],[0.2222222222222222,\"#7201a8\"],[0.3333333333333333,\"#9c179e\"],[0.4444444444444444,\"#bd3786\"],[0.5555555555555556,\"#d8576b\"],[0.6666666666666666,\"#ed7953\"],[0.7777777777777778,\"#fb9f3a\"],[0.8888888888888888,\"#fdca26\"],[1.0,\"#f0f921\"]]}],\"contourcarpet\":[{\"type\":\"contourcarpet\",\"colorbar\":{\"outlinewidth\":0,\"ticks\":\"\"}}],\"contour\":[{\"type\":\"contour\",\"colorbar\":{\"outlinewidth\":0,\"ticks\":\"\"},\"colorscale\":[[0.0,\"#0d0887\"],[0.1111111111111111,\"#46039f\"],[0.2222222222222222,\"#7201a8\"],[0.3333333333333333,\"#9c179e\"],[0.4444444444444444,\"#bd3786\"],[0.5555555555555556,\"#d8576b\"],[0.6666666666666666,\"#ed7953\"],[0.7777777777777778,\"#fb9f3a\"],[0.8888888888888888,\"#fdca26\"],[1.0,\"#f0f921\"]]}],\"surface\":[{\"type\":\"surface\",\"colorbar\":{\"outlinewidth\":0,\"ticks\":\"\"},\"colorscale\":[[0.0,\"#0d0887\"],[0.1111111111111111,\"#46039f\"],[0.2222222222222222,\"#7201a8\"],[0.3333333333333333,\"#9c179e\"],[0.4444444444444444,\"#bd3786\"],[0.5555555555555556,\"#d8576b\"],[0.6666666666666666,\"#ed7953\"],[0.7777777777777778,\"#fb9f3a\"],[0.8888888888888888,\"#fdca26\"],[1.0,\"#f0f921\"]]}],\"mesh3d\":[{\"type\":\"mesh3d\",\"colorbar\":{\"outlinewidth\":0,\"ticks\":\"\"}}],\"scatter\":[{\"fillpattern\":{\"fillmode\":\"overlay\",\"size\":10,\"solidity\":0.2},\"type\":\"scatter\"}],\"parcoords\":[{\"type\":\"parcoords\",\"line\":{\"colorbar\":{\"outlinewidth\":0,\"ticks\":\"\"}}}],\"scatterpolargl\":[{\"type\":\"scatterpolargl\",\"marker\":{\"colorbar\":{\"outlinewidth\":0,\"ticks\":\"\"}}}],\"bar\":[{\"error_x\":{\"color\":\"#2a3f5f\"},\"error_y\":{\"color\":\"#2a3f5f\"},\"marker\":{\"line\":{\"color\":\"#E5ECF6\",\"width\":0.5},\"pattern\":{\"fillmode\":\"overlay\",\"size\":10,\"solidity\":0.2}},\"type\":\"bar\"}],\"scattergeo\":[{\"type\":\"scattergeo\",\"marker\":{\"colorbar\":{\"outlinewidth\":0,\"ticks\":\"\"}}}],\"scatterpolar\":[{\"type\":\"scatterpolar\",\"marker\":{\"colorbar\":{\"outlinewidth\":0,\"ticks\":\"\"}}}],\"histogram\":[{\"marker\":{\"pattern\":{\"fillmode\":\"overlay\",\"size\":10,\"solidity\":0.2}},\"type\":\"histogram\"}],\"scattergl\":[{\"type\":\"scattergl\",\"marker\":{\"colorbar\":{\"outlinewidth\":0,\"ticks\":\"\"}}}],\"scatter3d\":[{\"type\":\"scatter3d\",\"line\":{\"colorbar\":{\"outlinewidth\":0,\"ticks\":\"\"}},\"marker\":{\"colorbar\":{\"outlinewidth\":0,\"ticks\":\"\"}}}],\"scattermapbox\":[{\"type\":\"scattermapbox\",\"marker\":{\"colorbar\":{\"outlinewidth\":0,\"ticks\":\"\"}}}],\"scatterternary\":[{\"type\":\"scatterternary\",\"marker\":{\"colorbar\":{\"outlinewidth\":0,\"ticks\":\"\"}}}],\"scattercarpet\":[{\"type\":\"scattercarpet\",\"marker\":{\"colorbar\":{\"outlinewidth\":0,\"ticks\":\"\"}}}],\"carpet\":[{\"aaxis\":{\"endlinecolor\":\"#2a3f5f\",\"gridcolor\":\"white\",\"linecolor\":\"white\",\"minorgridcolor\":\"white\",\"startlinecolor\":\"#2a3f5f\"},\"baxis\":{\"endlinecolor\":\"#2a3f5f\",\"gridcolor\":\"white\",\"linecolor\":\"white\",\"minorgridcolor\":\"white\",\"startlinecolor\":\"#2a3f5f\"},\"type\":\"carpet\"}],\"table\":[{\"cells\":{\"fill\":{\"color\":\"#EBF0F8\"},\"line\":{\"color\":\"white\"}},\"header\":{\"fill\":{\"color\":\"#C8D4E3\"},\"line\":{\"color\":\"white\"}},\"type\":\"table\"}],\"barpolar\":[{\"marker\":{\"line\":{\"color\":\"#E5ECF6\",\"width\":0.5},\"pattern\":{\"fillmode\":\"overlay\",\"size\":10,\"solidity\":0.2}},\"type\":\"barpolar\"}],\"pie\":[{\"automargin\":true,\"type\":\"pie\"}]},\"layout\":{\"autotypenumbers\":\"strict\",\"colorway\":[\"#636efa\",\"#EF553B\",\"#00cc96\",\"#ab63fa\",\"#FFA15A\",\"#19d3f3\",\"#FF6692\",\"#B6E880\",\"#FF97FF\",\"#FECB52\"],\"font\":{\"color\":\"#2a3f5f\"},\"hovermode\":\"closest\",\"hoverlabel\":{\"align\":\"left\"},\"paper_bgcolor\":\"white\",\"plot_bgcolor\":\"#E5ECF6\",\"polar\":{\"bgcolor\":\"#E5ECF6\",\"angularaxis\":{\"gridcolor\":\"white\",\"linecolor\":\"white\",\"ticks\":\"\"},\"radialaxis\":{\"gridcolor\":\"white\",\"linecolor\":\"white\",\"ticks\":\"\"}},\"ternary\":{\"bgcolor\":\"#E5ECF6\",\"aaxis\":{\"gridcolor\":\"white\",\"linecolor\":\"white\",\"ticks\":\"\"},\"baxis\":{\"gridcolor\":\"white\",\"linecolor\":\"white\",\"ticks\":\"\"},\"caxis\":{\"gridcolor\":\"white\",\"linecolor\":\"white\",\"ticks\":\"\"}},\"coloraxis\":{\"colorbar\":{\"outlinewidth\":0,\"ticks\":\"\"}},\"colorscale\":{\"sequential\":[[0.0,\"#0d0887\"],[0.1111111111111111,\"#46039f\"],[0.2222222222222222,\"#7201a8\"],[0.3333333333333333,\"#9c179e\"],[0.4444444444444444,\"#bd3786\"],[0.5555555555555556,\"#d8576b\"],[0.6666666666666666,\"#ed7953\"],[0.7777777777777778,\"#fb9f3a\"],[0.8888888888888888,\"#fdca26\"],[1.0,\"#f0f921\"]],\"sequentialminus\":[[0.0,\"#0d0887\"],[0.1111111111111111,\"#46039f\"],[0.2222222222222222,\"#7201a8\"],[0.3333333333333333,\"#9c179e\"],[0.4444444444444444,\"#bd3786\"],[0.5555555555555556,\"#d8576b\"],[0.6666666666666666,\"#ed7953\"],[0.7777777777777778,\"#fb9f3a\"],[0.8888888888888888,\"#fdca26\"],[1.0,\"#f0f921\"]],\"diverging\":[[0,\"#8e0152\"],[0.1,\"#c51b7d\"],[0.2,\"#de77ae\"],[0.3,\"#f1b6da\"],[0.4,\"#fde0ef\"],[0.5,\"#f7f7f7\"],[0.6,\"#e6f5d0\"],[0.7,\"#b8e186\"],[0.8,\"#7fbc41\"],[0.9,\"#4d9221\"],[1,\"#276419\"]]},\"xaxis\":{\"gridcolor\":\"white\",\"linecolor\":\"white\",\"ticks\":\"\",\"title\":{\"standoff\":15},\"zerolinecolor\":\"white\",\"automargin\":true,\"zerolinewidth\":2},\"yaxis\":{\"gridcolor\":\"white\",\"linecolor\":\"white\",\"ticks\":\"\",\"title\":{\"standoff\":15},\"zerolinecolor\":\"white\",\"automargin\":true,\"zerolinewidth\":2},\"scene\":{\"xaxis\":{\"backgroundcolor\":\"#E5ECF6\",\"gridcolor\":\"white\",\"linecolor\":\"white\",\"showbackground\":true,\"ticks\":\"\",\"zerolinecolor\":\"white\",\"gridwidth\":2},\"yaxis\":{\"backgroundcolor\":\"#E5ECF6\",\"gridcolor\":\"white\",\"linecolor\":\"white\",\"showbackground\":true,\"ticks\":\"\",\"zerolinecolor\":\"white\",\"gridwidth\":2},\"zaxis\":{\"backgroundcolor\":\"#E5ECF6\",\"gridcolor\":\"white\",\"linecolor\":\"white\",\"showbackground\":true,\"ticks\":\"\",\"zerolinecolor\":\"white\",\"gridwidth\":2}},\"shapedefaults\":{\"line\":{\"color\":\"#2a3f5f\"}},\"annotationdefaults\":{\"arrowcolor\":\"#2a3f5f\",\"arrowhead\":0,\"arrowwidth\":1},\"geo\":{\"bgcolor\":\"white\",\"landcolor\":\"#E5ECF6\",\"subunitcolor\":\"white\",\"showland\":true,\"showlakes\":true,\"lakecolor\":\"white\"},\"title\":{\"x\":0.05},\"mapbox\":{\"style\":\"light\"}}},\"xaxis\":{\"anchor\":\"y\",\"domain\":[0.0,1.0],\"title\":{\"text\":\"IC2014\"}},\"yaxis\":{\"anchor\":\"x\",\"domain\":[0.0,1.0],\"title\":{\"text\":\"IC previsto\"}},\"coloraxis\":{\"colorbar\":{\"title\":{\"text\":\"Erro absoluto\"}},\"colorscale\":[[0.0,\"rgb(75, 41, 145)\"],[0.16666666666666666,\"rgb(135, 44, 162)\"],[0.3333333333333333,\"rgb(192, 54, 157)\"],[0.5,\"rgb(234, 79, 136)\"],[0.6666666666666666,\"rgb(250, 120, 118)\"],[0.8333333333333334,\"rgb(246, 169, 122)\"],[1.0,\"rgb(237, 217, 163)\"]]},\"legend\":{\"tracegroupgap\":0},\"title\":{\"text\":\"Validação cruzada Leave One Out\"},\"showlegend\":true},                        {\"responsive\": true}                    ).then(function(){\n",
              "                            \n",
              "var gd = document.getElementById('a9c60f38-643b-44c6-a29c-4502f6739798');\n",
              "var x = new MutationObserver(function (mutations, observer) {{\n",
              "        var display = window.getComputedStyle(gd).display;\n",
              "        if (!display || display === 'none') {{\n",
              "            console.log([gd, 'removed!']);\n",
              "            Plotly.purge(gd);\n",
              "            observer.disconnect();\n",
              "        }}\n",
              "}});\n",
              "\n",
              "// Listen for the removal of the full notebook cells\n",
              "var notebookContainer = gd.closest('#notebook-container');\n",
              "if (notebookContainer) {{\n",
              "    x.observe(notebookContainer, {childList: true});\n",
              "}}\n",
              "\n",
              "// Listen for the clearing of the current output cell\n",
              "var outputEl = gd.closest('.output');\n",
              "if (outputEl) {{\n",
              "    x.observe(outputEl, {childList: true});\n",
              "}}\n",
              "\n",
              "                        })                };                            </script>        </div>\n",
              "</body>\n",
              "</html>"
            ]
          },
          "metadata": {}
        }
      ]
    },
    {
      "cell_type": "markdown",
      "source": [
        "# **Modelos preditores**"
      ],
      "metadata": {
        "id": "sFJmKDo4tpGH"
      }
    },
    {
      "cell_type": "markdown",
      "source": [
        "## **Baseline: alguns modelos para teste**\n",
        "\n",
        "Um baseline em modelos de regressão é uma abordagem simples e inicial usada como referência para avaliar o desempenho de modelos mais sofisticados. Ele serve como um \"ponto de partida\" para medir se as técnicas mais avançadas realmente trazem melhorias.\n",
        "\n",
        "Aqui, faz-se a regressão da incidência de roubos por município por meio de alguns modelos \"simples\", isto é, que não consideram a relação espacial entre os dados, tal como modelos de árvore (Random Forest) e modelos lineares (Regressão Linear Simples e Múltipla)."
      ],
      "metadata": {
        "id": "tkbb-R-2Xb6u"
      }
    },
    {
      "cell_type": "code",
      "source": [
        "#@title Random Forest Regressor\n",
        "\n",
        "from sklearn.ensemble import RandomForestRegressor\n",
        "tqdm.pandas(desc=\"Progress\")\n",
        "\n",
        "\n",
        "X_baseline = df[['Area_Km2', 'IPDM', 'CAER', 'CAEC',\n",
        "           'RTF', 'IndRiq', 'TMI', 'TMP', 'TM1539', 'TM6069',\n",
        "            'TAE03','IndLong', 'TAE03',\n",
        "            'Prof5ano', 'Prof9ano', 'TDISM',\n",
        "           'IndEsc', 'populacao', 'Agrop', 'Gini', 'Indústria', 'AdmPub', 'ServExc',\n",
        "          'ValAdic', 'ImpLiq', 'PIB', 'PIBpc']]\n",
        "\n",
        "y_baseline = (df['TR2014'] * 1000 / df['populacao']).values\n",
        "\n",
        "Y_pred_rf = []\n",
        "\n",
        "loo = LeaveOneOut()\n",
        "\n",
        "for train_index, test_index in tqdm(loo.split(X_baseline), total=loo.get_n_splits(X_baseline), desc = 'Progress', leave=False):\n",
        "    X_train_base, X_test_base = X_baseline.iloc[train_index], X_baseline.iloc[test_index]\n",
        "    y_train_base, y_test_base = y_baseline[train_index], y_baseline[test_index]\n",
        "\n",
        "    model = RandomForestRegressor()\n",
        "    model.fit(X_train_base, y_train_base)\n",
        "\n",
        "    y_pred = model.predict(X_test_base)\n",
        "    Y_pred_rf.append(y_pred[0])\n",
        "\n",
        "r2_rf = r2_score(y_baseline, Y_pred_rf)\n",
        "mae_rf = mean_absolute_error(y_baseline, Y_pred_rf)\n",
        "rmse_rf = mean_squared_error(y_baseline, Y_pred_rf, squared=False)\n",
        "\n",
        "print(f'R2: {r2_rf}')\n",
        "print(f'MAE: {mae_rf}')\n",
        "print(f'RMSE: {rmse_rf}')"
      ],
      "metadata": {
        "colab": {
          "base_uri": "https://localhost:8080/",
          "height": 69,
          "referenced_widgets": [
            "b52eca176d964191a00bc83de5ef0600",
            "251cfac261c14de9b212646d444716a7",
            "d477e876facb4d66a0e5495859655f2b",
            "1c92f78b698d458d9cda0c05b92f98cd",
            "70a0e4526ea44f378b0ad5eca7de8308",
            "b4517541a470481092c1c5f2066f7e34",
            "a1bdf7871cc94a9c85303b3ccbbf6247",
            "d972bcd667ad40c8a1bfcc7bd21ab6e9",
            "b4dc2106575d4d39b189efd80601c02d",
            "68c6ac5ff180411d81d38dd8622e97e3",
            "75404172a2a54e99882db153ff9a4098"
          ]
        },
        "cellView": "form",
        "id": "pvWM9dgXZ3Dd",
        "outputId": "fe7ed150-f369-4b7f-c242-d66660802add"
      },
      "execution_count": 35,
      "outputs": [
        {
          "output_type": "display_data",
          "data": {
            "text/plain": [
              "Progress:   0%|          | 0/640 [00:00<?, ?it/s]"
            ],
            "application/vnd.jupyter.widget-view+json": {
              "version_major": 2,
              "version_minor": 0,
              "model_id": "b52eca176d964191a00bc83de5ef0600"
            }
          },
          "metadata": {}
        },
        {
          "output_type": "stream",
          "name": "stdout",
          "text": [
            "R2: 0.7066095216503689\n",
            "MAE: 0.72223724566614\n",
            "RMSE: 1.211595076286531\n"
          ]
        }
      ]
    },
    {
      "cell_type": "code",
      "source": [
        "#@title Distribuição dos valores preditos\n",
        "\n",
        "df_print = df.copy()\n",
        "\n",
        "df_print['RV previsto'] = Y_pred_rf\n",
        "df_print['taxa RV'] = y_baseline\n",
        "\n",
        "df_print['Erro'] = df_print['taxa RV'] - df_print['RV previsto']\n",
        "\n",
        "erro_absoluto = np.abs(df_print['Erro'])\n",
        "\n",
        "df_print['Erro absoluto'] = erro_absoluto\n",
        "\n",
        "fig = px.scatter(df_print, x=\"taxa RV\", y=\"RV previsto\", color=\"Erro absoluto\", title=\"Validação cruzada Leave One Out\", color_continuous_scale='Agsunset')\n",
        "\n",
        "fig.update_layout(\n",
        "    xaxis_title=\"TR\",\n",
        "    yaxis_title=\"TR previsto\",\n",
        "    showlegend=True)\n",
        "\n",
        "fig.add_trace(\n",
        "    go.Scatter(\n",
        "        x=[y_baseline.min(), y_baseline.max()],\n",
        "        y=[y_baseline.min(), y_baseline.max()],\n",
        "        mode='lines',\n",
        "        line=dict(color='black'),\n",
        "        showlegend=False\n",
        "    )\n",
        ")\n",
        "\n",
        "fig.show()"
      ],
      "metadata": {
        "colab": {
          "base_uri": "https://localhost:8080/",
          "height": 542
        },
        "cellView": "form",
        "id": "YTUe534ef_I4",
        "outputId": "eae0c3a6-9671-4ece-9dd5-ca13f8f95683"
      },
      "execution_count": 36,
      "outputs": [
        {
          "output_type": "display_data",
          "data": {
            "text/html": [
              "<html>\n",
              "<head><meta charset=\"utf-8\" /></head>\n",
              "<body>\n",
              "    <div>            <script src=\"https://cdnjs.cloudflare.com/ajax/libs/mathjax/2.7.5/MathJax.js?config=TeX-AMS-MML_SVG\"></script><script type=\"text/javascript\">if (window.MathJax && window.MathJax.Hub && window.MathJax.Hub.Config) {window.MathJax.Hub.Config({SVG: {font: \"STIX-Web\"}});}</script>                <script type=\"text/javascript\">window.PlotlyConfig = {MathJaxConfig: 'local'};</script>\n",
              "        <script charset=\"utf-8\" src=\"https://cdn.plot.ly/plotly-2.35.2.min.js\"></script>                <div id=\"f872eca5-c5ff-4808-9be8-d07d3ff5b2cd\" class=\"plotly-graph-div\" style=\"height:525px; width:100%;\"></div>            <script type=\"text/javascript\">                                    window.PLOTLYENV=window.PLOTLYENV || {};                                    if (document.getElementById(\"f872eca5-c5ff-4808-9be8-d07d3ff5b2cd\")) {                    Plotly.newPlot(                        \"f872eca5-c5ff-4808-9be8-d07d3ff5b2cd\",                        [{\"hovertemplate\":\"taxa RV=%{x}\\u003cbr\\u003eRV previsto=%{y}\\u003cbr\\u003eErro absoluto=%{marker.color}\\u003cextra\\u003e\\u003c\\u002fextra\\u003e\",\"legendgroup\":\"\",\"marker\":{\"color\":[0.019453371389874685,2.0486628408004854,5.624458242739488,1.2965207981123383,1.3266246788973288,0.07200318351547641,0.6187859812099706,0.05342379007210796,0.6961682612530674,0.46613095834303286,0.7194985681789272,0.2754262696844463,0.7309812751355108,2.5530460021382093,1.2154506618249148,1.0914258529751022,0.525994275122297,5.607001043709928,1.305751972445485,0.23353615548220663,0.7253604233392862,0.5202789437051829,0.05125137411256525,0.7220692363114127,10.060035857601964,6.14141906547103,0.11207928489258301,4.090634237111445,5.510969053238183,3.0668782185311265,0.2788819389909094,0.44568607825731166,4.395796931887785,0.007965580382457982,4.124214064065967,0.26353169778818275,2.4067171339605657,2.2268384034552637,0.46788296891594106,0.8564515055762101,3.3822049449457605,2.569752441480181,0.4187612321080577,0.8735239890657014,0.6852852353586716,1.3823847487162668,7.498878791585128,0.20604743448592,2.429732271274343,0.4064340338800161,0.6169523962951416,2.0749966478240363,1.5795332997492455,3.6485790744568884,4.351789623123578,1.8438646135600179,0.8166204481201711,3.680498180499119,2.3198401958031107,1.6635432895607098,0.002069097318566415,0.8245890557823472,0.9588491630534075,0.04252470190155799,0.13438999101478344,2.3342684512325023,0.44742960827582756,1.5429348596456345,0.7138709615014296,0.23374600559206427,3.0575098621147605,2.638255043699501,0.2711074846638157,0.7894876933520513,2.214744817155129,0.5616750648451685,0.4323593199885095,4.4000034984484095,2.07774516194518,3.413348608352047,0.4184649371638088,1.07386554419254,0.7715864362333471,1.4458309058863152,1.0696655290551353,0.7863064303601544,0.29386400012759917,0.21709445291737245,3.340281113040391,0.5811874669790098,6.951158538676847,0.16554738531142554,1.4768242810907761,2.563608096426276,0.19856005407090427,0.5952085202303696,1.1808982657207805,0.9957032013059708,1.6766733533419504,0.1900015290023096,1.527137514097675,0.10365006279364941,0.946180313599983,4.331546754002199,0.9605030754704744,0.43916468909823153,0.4852439268847246,0.007676103583722282,0.39127274341062424,0.02767417177933762,2.8669519518903415,1.0124423097784914,0.4035297939106455,1.01775222435348,0.918095398189648,0.39099674114425254,1.6900054660614097,0.1289109623645093,0.04672197503583053,1.410482058112504,1.0307242180242318,0.22641219151570685,0.9875797717362582,1.9203325634066202,0.9373107071442596,0.42961078022518295,0.887909907296395,1.2059613554476538,0.6024667134519501,0.18453090865993704,0.33749911172864033,1.4063492805216815,0.23303405733871108,0.7667163831328077,0.29324154484339987,0.674550884665165,0.6962516452802836,0.810704020277662,0.267817175960181,0.9339472901575694,0.4634535002361635,0.143593886967476,1.489316568808174,0.43715009974907604,2.1652544140102465,2.032578049087836,0.03214304203828333,1.0178837780063217,0.5828759139292132,0.39827829514449853,0.07779278005471524,0.7312576608607066,0.3255292057118475,0.39864971874263644,1.0368327275874538,0.2311177802333721,0.4846969463578716,1.0550506431357691,0.42893254116743196,0.47493358041710076,0.8395816844034867,1.1030385671152865,0.18666618080088837,0.006419250253263287,0.4914047585294827,0.33047318390177677,0.2701184180802937,0.2317054183878997,1.3017626937920705,0.6060341373837022,0.5614281565810904,0.773387622711248,1.103292152245132,0.3056215270658913,0.6067113657990191,0.11450269471822339,1.5923235640787121,1.1566181655708427,0.21492603126879972,0.45101664440291084,1.088368826898475,2.1713280477391845,0.37431693632271323,0.8136261741679657,0.3958613342503555,0.08512402535334168,2.0138496894415976,1.0552577598416226,0.09317618325682175,0.187853925482244,2.2240368618012267,0.02828314640810181,0.5871687485103123,1.110517847702949,0.5062782951192997,0.5277956323888615,0.010650146333787691,0.757006674517303,0.05817779404131285,0.037776173860083695,0.40576319135019967,0.3145094800626458,0.44384925309244516,1.0682924559591713,3.0298725642820408,0.9916518538877804,0.7085127777150664,0.09664366130268887,0.8347867197056501,0.20923832873487166,1.376772145133561,0.4739976536560273,0.3789124410332452,0.2048980090368535,1.6499303912522114,0.5898862680090665,0.02626738454896199,1.5359532448779274,0.4748415610966281,2.9271737823935777,0.973963167777797,0.37629834990527344,0.4281498276523243,0.8226583636831768,2.6354017069879667,1.8116394388665844,0.24823959263886386,0.16074689309119528,0.25864725040559167,1.135946856187012,0.9530822642366584,0.3429444241881377,0.4672172322432722,0.12002463801157237,0.0050326532250837275,0.21372497803986135,0.3958683770220215,0.24509324755373973,0.37332461263340344,0.676694118463797,0.29263393637263213,0.7096664288448236,0.819078535992247,0.9262846251230474,0.26098329879641713,0.6487956292518597,0.593962448601427,1.7645875481306732,0.5188987342529647,1.0764797395048258,0.4264196569460248,0.061484230485505664,2.3823888238492876,0.4968060279099369,0.12305999868453443,0.5009810360490763,0.2191131122808548,0.41389811776493435,0.6588559630583379,1.5168228499574403,0.05959075687514659,0.2371268850314272,0.9441298041755322,1.0891428019141902,0.060143040413394466,0.15943958721176923,0.15321250506462455,0.0811507633541278,0.2512812785666956,0.0412703764226377,1.2394880602800056,0.08492291911670474,0.744834333466725,0.3675457229296536,0.07172537944063884,0.16876029301586293,1.4796374464366464,0.3467646751803108,0.11853988304465302,0.12834783732738647,0.17709708750176859,0.050785916833556044,0.18727646655175922,0.07878536301373185,0.04094415366536874,0.5210466395662183,1.2399506224784254,0.1992168642435561,0.012857226888099538,0.1325312555106825,1.816069035951763,0.19694343950166382,0.09689422979768426,0.5820514518347292,0.22610317262812085,0.3098534650527027,0.4267799338908012,2.012755698983873,0.7050994503149409,0.36515002304986377,0.15965716688757486,0.24161449807554874,0.6762750701720345,1.022957486841002,0.9315509659695514,1.262706468389887,0.3728193405986816,0.007985032927914637,0.5563885463745686,2.407796404872553,0.19283313098709148,0.3677726564947933,0.20049055723364595,0.016882516266116365,0.23998581971207744,1.6168981115198604,2.2801348500442686,0.06637877135940345,0.7350505461694019,0.5793035311106639,0.5866508098566776,0.12413771531022383,0.672680331586054,0.43124937606730357,0.35371121867878463,0.34515646677365575,0.33915400023718406,0.203971356732226,0.3838636123658159,0.44316873698265424,0.5314668691756725,0.6095833671342855,0.14625266717440222,0.3633810228265465,0.5765391788773679,0.2202395842261785,0.5603585243205043,0.009308185509840028,0.6275116869620434,0.9394905666361236,2.6166961429786832,0.6442464496352523,0.33202459634851844,0.5999763887636672,0.9583303229868461,0.2831865227888721,0.9553020361983545,0.8415525562041652,0.8041928315065217,0.19517146606996255,0.15555421002520453,0.7246945274953585,0.6141258939860507,0.3341267590016349,0.7985671192814772,0.34886448429986056,0.14208464041158417,0.6401695968722878,0.6562583484460642,0.7799471609072746,0.7645119030325139,0.08473415587152788,0.547493466620536,0.23977831443785463,2.1243939160566425,0.5027356097416672,0.04712059340484498,0.1699876818792423,0.2812633722099441,0.5533373055994166,0.29334950053969266,0.19602302692439832,0.2117090241846733,0.06615766920154445,0.2185989409198813,0.19818834348407055,1.3153682595077936,1.2728074213302187,0.453063902129208,0.9198895991758544,0.31990038617658245,0.4077406445219043,0.528545254012321,0.5047667364461508,0.2679049327833829,0.12867231653887337,0.5695606310444492,0.4161461621981105,0.20374906470695936,0.45001565734354987,1.6947184244542928,0.1987852362497744,0.584055905546102,0.07240479592578197,0.2887533840594929,0.32417609566874306,0.8028178888926705,1.0423318878016474,0.5925128592221128,0.563884289925304,0.2991482265142297,0.14073741240266657,1.1367216989524012,0.7999525531600936,0.3047017270254723,0.6996070809249963,0.12353526507826418,0.22142192071358358,0.7719531622070188,0.12076354925507055,0.3017500512425031,0.3214942091278469,0.12951622408098196,0.3330212116088408,0.3250660145437162,1.0212561565900682,0.486584345512161,0.03213429101054288,0.6926404980290042,0.7831228436178768,0.1403444395889642,0.08014624730206943,0.32307461587682096,0.13012582896262637,2.4272213209788127,0.4090155675728864,0.5464006968095555,0.016641067770494122,0.8639999957598454,0.066273305853909,0.994669305141805,0.310656579956424,0.33762810507577345,0.06356120267851106,0.5550571459895752,0.3171096946991367,0.11543436390031148,0.18701621422784742,0.38730955647420623,0.6628821911527137,0.36716115894277995,0.16482216739805833,0.30666087255577823,0.202825288173609,0.5064019680725511,0.5312117938849981,0.7352904856239592,0.24303027241011743,0.3030252324197024,0.39457541800808976,0.09310539695583658,1.2624842708813813,0.43774839681710065,0.0001739553252574355,0.14027457985168224,0.19005078992003738,0.7005917120226159,0.3044631468510015,0.09330207426572767,0.3089265553934626,0.35701046208793663,0.38092784880801633,0.5202934582931021,0.4621869576736145,0.3092866562120693,0.8868829958869984,0.17997431334235792,0.10467554776039281,0.0540119616064787,0.6304025374096908,0.030871944517204986,0.11372301745072,0.1820324173962511,0.3054500717089054,0.39956380158064686,0.21696651819583357,0.3634141907555515,1.600414271359544,0.2274104057231618,0.5193376030445644,0.9267174723617047,0.5995014263205212,0.9018069932540689,0.44345962967005836,0.3369118104800669,0.7126660742265065,0.5790608311947778,1.1169485573764137,0.4085663337541594,0.01855992205054613,0.040721683525822006,1.5702321555491014,0.43417730875084426,0.34451649444235455,0.1364887161163626,0.04010220950033894,0.15995700966276938,0.3533183413613463,0.04529670449191325,0.42198723425982376,0.05346601024419795,0.6715265870298286,0.6504564016663035,0.47332436932441313,0.22496499485146165,0.31065704382982795,0.3951400665646822,0.6893327576971338,0.13079015674555827,1.3386457021065847,0.5631553293068883,1.0271976574271702,0.4941529033360792,0.5979882535635178,0.5531339874560409,0.11661171888472596,0.18958965078593043,0.412550767661894,0.5619310930313947,0.02739302453596526,0.030186693874915904,0.5695829337621899,0.34941374422391736,0.3063875845959743,0.13793640452897335,0.5265785832038583,0.9281766795604546,0.04950671355450664,0.4552731876658119,0.0957085927846339,0.2209407594448678,0.0484502804385053,0.9903516827688927,0.17376053799612573,0.28216376494892814,0.8180283329876921,0.2516659022991059,0.2774099493772906,0.5231344326365008,0.26613240579347464,0.519763991827206,2.0194178515982593,0.63573801874677,1.7464424651925796,0.06492845767636324,0.65397160465993,0.3818944921891162,1.0517786844813077,0.437591273031953,1.4672187776794918,0.5245486037220235,0.411819725354316,0.002505142890821155,0.0874473785935379,0.8955488591527613,0.9861535801607039,0.33202211464175435,0.3129142757091674,0.821552998106881,0.38233137036875386,0.2584790082325843,0.04320693418007726,0.016751464089732326,0.1580460690413945,0.8157364589523161,0.26344435487985896,0.17644802608830762,0.29590772474278654,0.25657348742031094,0.17492343441875446,1.0764539742268477,1.337650483638427,0.384488173376852,0.23649436754846803,0.08116223871975004,0.3050102795663753,0.2166125493891531,0.5139130702008867,0.25540510550795464,0.2691227262070706,0.159384774185691,0.07948516227249752,0.17462256642613228,0.7006859509434653,0.12758283066216172,0.2607513633152863,0.06589954570820072,0.2636883639367472,0.22772496753319083,0.8236338183713565,0.3144019510143783,0.6803710917066472,0.6926458107054132,0.5228299344188871,0.5541074290891392,0.8466093575140694,0.09655399918758878,0.5082225589049597,0.1648014062150829,0.2843216323333743,0.49137832578222207,0.23867578895358743,0.12845802384383406,0.6693011455720841,0.7025302024432637,0.14026803703661783,0.4196831417820443,0.056467669936053344,0.9634780948338786,0.17683468288972393,0.12739849788909163,0.7902072437416043,0.45769200638008384,0.6039347774543624,0.046638230547949855,0.8347942217002801,0.31362060058350333,0.4634713983180923,0.319991402998818,0.167175526567777,0.25469483736380444,0.14336849791354012,0.041199237218969904,0.3909552780478799,0.09971240388475461,0.03161983478952446,0.0925338955366457,0.11714633218931042,0.2632839427884892,0.14388453871075915,0.3240125153663552,1.1698065537417421,0.3002845521734917,0.3115310363785748,0.29930828606062526,0.13245922177719677,0.11108946132504893,0.4120755190781232,0.1441095033224401,0.37184069952031157],\"coloraxis\":\"coloraxis\",\"symbol\":\"circle\"},\"mode\":\"markers\",\"name\":\"\",\"orientation\":\"v\",\"showlegend\":false,\"x\":[0.7310535293639834,4.758732273722281,6.673785371062467,2.5155474809587033,1.837037037037037,1.97249173685894,0.0,0.3035822707953855,0.0,1.0457840721768261,1.3750429700928155,0.19138755980861244,0.2364066193853428,0.5632216277105041,0.1191090641997856,1.6717032083842345,0.14097413124691618,11.28273582506992,0.2176278563656148,0.2349900129244507,0.7290264692687304,0.07698229407236336,0.5321271783956365,1.8204208384644214,11.436276468238114,10.35998528301156,0.6578947368421053,13.40474316416276,8.546296778223079,12.303872444171889,1.463662975690467,0.8703220191470844,13.148871974216554,0.7037297677691766,6.195437904815545,2.2146251263196373,9.936336050455168,3.3310673011556764,1.0005002501250626,1.225451688923802,11.816670894809342,0.691494616220488,1.2254446878829515,2.571621926460636,0.27856705108919716,6.523819002549169,16.15924460890647,4.4232776617954075,6.724810217190649,9.578207381370826,0.8564902931100115,5.5117080190119045,8.494477278524922,5.863216055439965,12.240305496204028,7.286912524863692,2.345453797303414,11.198361482326915,1.3618151532886147,3.8968431192258857,1.8548406523257774,5.99724091431309,1.8217780553820528,0.7350624803108264,0.20828993959591752,2.1990199643308572,6.070141875039112,5.019620572329487,8.292199288482644,0.351123595505618,8.138965296356306,4.480045367548025,0.2753114460733705,1.323001323001323,7.416563658838072,4.884570817363401,0.6420958006934635,5.633412687718037,0.701344243132671,12.25676912201983,0.0,2.5116119043523137,1.8817145482791064,7.345824984683866,2.9448938321536904,1.4342971273843514,0.7364408248137237,0.6980193700375186,1.1667949600939918,1.451980916822236,14.072999876759136,2.970564407237375,4.1143037574992105,4.490214261310947,1.3640605930073946,1.3218131407569798,3.3469069002063927,4.665846762434862,0.7267001756192091,1.8420862529798454,0.7394766780432309,4.915376550522174,0.0,5.08363450283046,0.21791239921551536,0.0,0.6127719175384077,0.5691879585125221,1.0827637544833186,4.825099329480109,3.2573084279699267,0.48963603721233884,5.035105550298485,1.5179113539769278,2.372845473951626,2.7450980392156863,3.2073613146577613,0.0,1.5789473684210527,1.8074237552557981,2.2289845521679297,0.5451076587626056,4.093925840427067,6.469242959014622,1.4612761811982464,3.7601759762356877,4.853472606895097,2.335189509610203,1.1348819239870576,0.3837298541826554,1.960111726368403,2.5660876297179045,1.285722634562562,2.097739103410768,0.47162395849709166,1.2127894156560088,5.7642298080704295,0.2766347384072755,0.6915629322268326,3.691627314294281,2.584968884633796,1.017293997965412,2.1881195388795067,0.4073319755600815,2.93610774238846,4.602966841186737,0.9771986970684039,1.794005909666526,0.22917382834880257,1.4612761811982464,0.5102040816326531,2.466525722339676,3.7747295338883085,0.5995203836930456,2.1947873799725652,0.20128824476650564,0.10723860589812333,5.607341521176406,0.5394034198176817,0.24459845087647777,3.4099496802020166,2.0893390812197508,0.36172906493036716,0.5844535359438925,0.4230565838180857,0.0,0.9954799827808868,2.7883339704526544,3.6907859528686635,1.0940919037199124,0.24703557312252963,1.545563622313058,1.0576821376717531,1.789086571911341,1.8444266238973537,0.7215007215007215,7.939798299234463,0.6825622693460128,3.160846291103747,0.3122462998813464,4.8808572960111665,4.419503968830867,1.9263698630136987,1.6146393972012918,0.8169563836064085,0.5597223777006605,1.2640307412276266,7.309591236346068,0.8003841844085161,0.7427213309566251,3.9723261279751068,0.41893590280687054,0.0,3.477722546931046,8.110202324580284,0.48614487117160915,0.43431053203040176,5.086887424120053,0.6629101756711966,3.5063962833300306,1.2024433649175124,1.5630920803334596,0.9004952723998199,4.3020875524077455,4.1520979020979025,0.2939231390991256,1.539594350358123,0.449842555105713,0.1446968600781363,0.22084805653710246,3.252661268310436,0.390269285807207,5.278655558747486,2.766814501363063,2.965671694019666,0.0,0.504116955133591,0.6291710671190707,1.0548523206751055,1.6352201257861636,0.39258023358523897,1.4657383657017222,0.23679848448969926,1.3712405155864338,0.0,4.46563475808347,1.2037557178396598,1.7588430721125659,1.392757660167131,1.0929943553579182,0.5769886438144195,0.47569213205213584,0.8220304151253597,0.0,4.740715341474376,0.5421523448088913,1.498887921864423,0.8467777876816116,0.9865675039842149,0.5786199913207001,0.6941552131056504,1.2398990978665185,0.5844535359438925,1.0666666666666667,0.8552490912978405,1.3262180681423474,0.0,2.425373134328358,0.0,2.291907638264148,1.8997515709484145,0.8165845691857861,2.9504276170422936,4.740227048721167,1.7938230982912553,1.1784732224695562,0.21528525296017223,1.4753447199682233,1.7128344456913354,2.9179438811601037,1.6124303723248314,2.2456770716370986,2.8608466318000985,0.9087552892397694,1.4129615674453655,0.0,0.21953896816684962,0.45714285714285713,0.43802014892685065,0.3359086328518643,2.050910845699119,0.5372877713303246,0.0,0.7060484819957638,0.505774256090365,1.70853989860796,2.3629489603024574,0.7100591715976331,0.6763611768684478,0.5390835579514824,0.0,0.6876528117359413,0.785175879396985,2.6963262554769125,0.5673528934997568,2.1738508623895196,2.587125247298737,0.9270484204521143,0.6056935190793459,0.4755865567533291,5.883672287799204,0.0,0.0,0.16003200640128026,2.1844877010906196,1.0505204851494605,0.8743806470416788,0.4429589658921596,0.5067723210172302,0.5517893741131956,0.0,0.0,0.17780938833570412,1.5015015015015014,1.9031910169384,1.5344843225591873,0.2254791431792559,0.7544322897019993,1.9863990091374355,4.185607866823495,0.33294489761944396,1.299997678575574,1.2502790801518195,2.9180570487134023,0.9411651141464357,2.176541717049577,3.8850626907843284,0.40428542551041036,0.26186236514088196,0.4718093890068412,0.4163197335553705,0.4889975550122249,0.21226915729144555,0.0,0.3090951240244185,1.372055796935742,0.0,0.9053050878145935,0.0,1.9561572377817797,0.0,0.6834170854271356,0.7628294036061026,0.21088148460565162,1.131648434552999,0.9469995896335112,0.2530791294077948,0.6821282401091405,0.8933889219773675,0.28770079117717573,1.6864760681015099,0.0,0.4076142338890474,0.07170000717000072,1.3297500069986843,0.26737967914438504,0.8295886622882821,1.8474726574046705,0.15215296444692397,0.4986287708800798,1.6931284541417755,0.3977329223426469,0.26437541308658297,0.22530134054297624,0.6894606537340562,0.0,0.36075036075036077,1.2408872343725763,1.2769062385990515,2.594058644940625,0.5809254394827238,0.9856100926473487,2.1147326373737036,0.34965034965034963,1.4104174742318596,0.9608198996476993,0.6770480704129993,1.6852682120258196,0.0,0.2596391016487083,0.0,1.103996467211305,0.18511662347278784,0.0,0.9392317084624777,1.809743425085379,0.4655493482309125,0.30815284381053004,0.3432297923459756,0.0,0.15676438313215238,1.6027083971115232,0.13457139012245997,0.0,0.0,0.0,1.012965964343598,1.0185373803218578,0.0,1.252191334835963,2.152595072949055,4.510342459874689,0.18797497247509332,0.6209527188858334,1.6535904021391128,0.2046245140167792,1.9962378594187877,0.2887577002053388,0.0,2.870248421817521,0.2457002457002457,1.0166248056452578,1.0390210113137843,0.463980463980464,0.18429782528566163,2.4156578550056276,0.28109627547434995,0.41476565740356697,0.5944049239736928,0.5974905397331209,0.24169184290030213,0.6202618883528601,0.3898635477582846,0.0,1.2163257951166773,0.14946938368790794,0.5208451278335107,0.5532197388802832,0.0,0.1462629808395495,0.6360513929525505,0.34524426031417227,1.2021294865189764,1.1972761966526153,3.2083600696672474,0.16019223067681218,0.15479876160990713,0.5730659025787965,1.9775407867787274,0.4715710051199138,1.5874415733309815,0.7231180851833104,0.9683967446970967,1.2881653236857973,0.20200659888223016,0.2787456445993031,0.8429334082607474,0.39401103230890466,0.7233273056057866,0.34882472899001826,0.0,1.5936923335010904,1.3859704028255913,1.783556757378747,0.2598077422707197,0.0,0.6360311655271108,0.34458993797381116,0.4644202487228443,0.8815232722143864,0.49109022028904165,1.6857089342573515,0.0,0.8486803021301875,0.0,0.5223295899712719,2.315315037199395,1.7424229731767387,0.36913990402362495,0.7005253940455342,0.0,1.4058106841611997,0.0,0.996142596752999,1.947681251888915,0.0,1.6959567408135676,0.24295432458697766,0.6730984967466906,0.41220115416323166,0.5853658536585366,0.5607476635514018,0.6864988558352403,0.38595137012736397,1.080691642651297,1.0029419630917358,1.2298558100084818,1.9144862795149968,0.34287673581347505,0.3429355281207133,2.902950889528071,6.725915794294893,2.7484349190044557,0.14473874656245478,0.0,0.4733503739467954,0.0,2.1790686887957365,1.0257366654233495,0.5628253834247925,0.4037141703673799,3.1932107691248364,1.5195111700236008,1.1751608114794656,0.9710505553195363,0.8954956568460642,0.7743534148985597,0.4877255730775484,1.244278540639026,1.3770548239951803,0.6667777962993833,1.8465867456106926,0.0,0.22038567493112948,0.22346368715083798,0.4161464835622139,0.4798464491362764,2.367955332884668,1.0687757174157002,2.7608216610521517,0.599965716244786,1.0498687664041995,0.1590583744234134,0.9854644000985464,0.0,0.0,0.0,0.22573363431151242,0.43078690407811604,2.806351159940796,0.8450406675821274,0.1040257983980027,0.8521516829995739,0.350385423966363,0.0,0.43632737019260737,1.7745720991470606,2.1390374331550803,0.4060089321965083,0.4400924194080757,0.3669724770642202,0.254000508001016,0.19652800524074682,0.6583278472679395,0.0,1.437297879985627,1.3813120716184082,1.8762713053237006,0.2523977788995457,0.9110787172011662,0.8751203290452437,2.9191925951737554,1.9080756495875189,0.3718854592785422,0.576036866359447,0.5238893545683152,0.7273388489862714,0.8088160954402993,0.1427959445951735,2.0349330167881976,0.0,0.0,0.7673419275629221,1.5018773466833542,1.5372790161414296,0.0,0.26881720430107525,0.8650519031141869,1.8433859312785725,0.8582872401296967,0.34199726402188785,0.5668532558633884,0.45392646391284613,0.4704996706502306,0.36656891495601174,0.0,0.4701457451810061,0.0,1.445028699875567,1.171848073343903,0.48488426023527426,2.765113584452438,0.2686727565824825,0.0,0.2303086135421465,1.2278727105290086,0.4549590536851683,0.9732360097323601,0.0,0.0,0.0,0.42557718906266623,0.6091370558375635,1.4422047705429675,0.24313153415998054,0.0,0.49879457976556657,0.7254261878853827,0.0,1.9261997719655874,0.6288868702396758,1.0624483532050526,0.0,1.3540128015755786,0.9086188992731049,0.3930302633302764,0.5170630816959669,0.0,0.0,0.5091649694501018,0.0,0.33846674564224066,0.0,1.1701685042646142,0.0,0.9540467482906663,0.09828975820719481,0.8151492350137949,0.5154307067843567,0.0,1.6220600162206003,0.24009603841536614,0.1718213058419244,0.11617100371747212,0.3139717425431711,0.7309832470574195,0.0,0.0,1.1365788975184694,0.6777363605557438,0.0,1.8744142455482662,0.0,0.44637163627088383,0.4416961130742049,0.25680534155110424,0.0,0.5319148936170213,1.091544171154126,0.0,0.8246289169873557,0.28557829604950025,0.8496176720475785,0.16775708773695688,0.7261285247488806,0.0,0.25163563160543534,0.5260389268805892,0.9896635144051023,0.0],\"xaxis\":\"x\",\"y\":[0.7505069007538581,2.710069432921795,1.0493271283229784,1.219026682846365,0.5104123581397083,2.0444949203744165,0.6187859812099706,0.25015848072327757,0.6961682612530674,1.511915030519859,2.0945415382717427,0.4668138294930587,0.9673878945208536,3.1162676298487133,1.3345597260247004,0.5802773554091322,0.6669684063692132,5.675734781359993,1.5233798288110998,0.46852616840665734,1.4543868926080166,0.5972612377775462,0.48087580428307125,1.0983516021530086,1.3762406106361498,4.2185662175405305,0.7699740217346883,9.314108927051315,3.0353277249848953,9.236994225640762,1.1847810366995577,0.42463594088977274,8.753075042328769,0.7116953481516346,2.071223840749578,1.9510934285314545,7.529618916494602,1.1042288977004124,0.5326172812091216,2.081903194500012,8.434465949863581,3.261247057700669,0.8066834557748938,3.4451459155263375,0.9638522864478687,5.1414342538329025,8.660365817321342,4.6293250962813275,4.295077945916306,9.17177334749081,1.473442689405153,3.4367113711878683,10.074010578274168,9.511795129896853,7.8885158730804505,5.443047911303674,3.162074245423585,7.517863301827796,3.6816553490917254,2.233299829665176,1.8569097496443439,6.821829970095437,0.8629288923286453,0.6925377784092684,0.34267993061070096,4.5332884155633595,5.622712266763284,6.562555431975121,7.5783283269812145,0.5848696010976823,5.081455434241545,7.118300411247526,0.5464189307371862,0.5335136296492716,5.201818841682943,4.3228957525182325,1.074455120681973,10.033416186166447,2.779089405077851,8.843420513667782,0.4184649371638088,1.4377463601597738,2.6533009845124536,8.791655890570182,4.014559361208826,2.220603557744506,1.030304824941323,0.4809249171201461,4.507076073134383,0.8707934498432262,7.121841338082289,3.1361117925488005,5.591128038589987,7.053822357737223,1.1655005389364903,1.9170216609873494,4.527805165927173,3.6701435611288913,2.4033735289611595,1.6520847239775358,2.266614192140906,4.811726487728524,0.946180313599983,9.415181256832659,1.1784154746859898,0.43916468909823153,1.0980158444231323,0.5615118549287998,0.6914910110726944,4.797425157700771,6.124260379860268,1.50207834699083,4.631575756387839,0.5001591296234479,3.290940872141274,2.3541012980714338,4.897366780719171,0.1289109623645093,1.6256693434568832,3.217905813368302,1.198260334143698,0.31869546724689873,5.081505612163325,4.548910395608002,0.5239654740539869,4.189786756460871,3.965562699598702,1.1292281541625493,1.7373486374390077,0.19919894552271838,1.6226126146397626,3.972436910239586,1.052688577223851,1.3310227202779605,0.7648655033404915,0.5382385309908438,5.067978162790146,1.0873387586849375,0.4237457562666516,2.7576800241367114,3.0484223848699594,0.8737001109979361,3.6774361076876807,0.8444820753091575,5.101362156398706,2.5703887920989006,1.0093417391066872,0.7761221316602043,0.8120497422780157,1.062997886053748,0.5879968616873683,1.7352680614789693,3.449200328176461,0.998170102435682,1.1579546523851114,0.43240602499987774,0.5919355522559949,6.662392164312175,0.9683359609851137,0.7195320312935786,2.57036799579853,3.1923776483350372,0.5483952457312555,0.5780342856906292,0.9144613423475684,0.33047318390177677,1.2655984008611805,2.5566285520647547,2.389023259076593,1.7001260411036145,0.80846372970362,2.318951245024306,2.160974289916885,1.4834650448454496,1.2377152580983346,0.8360034162189449,6.347474735155751,1.8391804349168555,3.375772322372547,0.7632629442842572,5.9692261229096415,2.2481759210916823,1.5520529266909855,0.8010132230333261,1.212817717856764,0.4745983523473188,3.277880430669224,6.254333476504446,0.7072080011516944,0.9305752564388691,1.7482892661738803,0.44721904921497235,0.5871687485103123,2.3672046992280973,7.603924029460984,1.0139405035604707,0.44496067836418945,4.32988074960275,0.7210879697125094,3.468620109469947,0.7966801735673127,1.8776015603961054,0.4566460193073747,5.370380008366917,1.1222253378158618,1.285574992986906,0.8310815726430567,0.35319889380302416,0.9794835797837864,0.4300863852719741,4.629433413443997,0.8642669394632343,4.899743117714241,2.9717125103999167,4.6156020852718775,0.5898862680090665,0.477849570584629,2.165124311996998,0.5800107595784774,4.562393908179741,1.366543401363036,1.0894400157964488,0.6649483121420235,0.548582151903257,2.6354017069879667,2.653995319216886,1.4519953104785237,1.9195899652037611,1.6514049105727227,2.2289412115449303,1.530070908051078,0.8186365562402735,0.35481318288208746,0.12002463801157237,4.735682688249292,0.32842736676902995,1.8947562988864446,1.0918710352353513,0.6132428913508114,1.255314109784497,0.4015212767330183,1.949565526711342,1.4035320719361395,0.14038204154361925,0.5942657925014234,1.9750136973942072,0.593962448601427,0.660785586197685,0.5188987342529647,1.2154278987593221,1.4733319140023897,0.8780687996712918,5.332816440891581,5.2370330766311035,1.6707630996067209,0.6774921864204799,0.43439836524102704,1.8892428377331576,1.0539784826329974,1.4011210312026634,1.5528396154496849,2.0085501866056714,1.9167168276245663,1.9978980911539597,1.352818527031971,0.15943958721176923,0.3727514732314742,0.5382936204969849,0.18673887036015507,0.2946382564292266,0.8114227854191136,0.45236485221361983,0.744834333466725,0.33850275906611016,0.5774996355310038,1.877300191623823,0.883311513865811,0.3632944964173223,0.5578212938237948,0.41073572062409597,0.17709708750176859,0.7384387285694973,0.9724523459487442,2.7751116184906444,0.6082970471651256,1.6528042228233013,1.3471746248203116,1.1262652846956704,0.6185507459674454,0.6081178122640116,4.067603251847441,0.19694343950166382,0.09689422979768426,0.7420834582360094,2.4105908737187405,0.7406670200967578,0.4476007131508776,2.4557146648760324,1.2118717713321712,0.9169393971630594,0.15965716688757486,0.24161449807554874,0.8540844585077386,0.47854401466049923,0.9716400509688486,2.7971907909490743,0.5982984837779375,0.7464472567740846,1.430010462762867,1.7778114619509418,0.5257780286065354,0.9322250220807807,1.4507696373854655,2.901174532447286,1.181150933858513,0.5596436055297165,6.165197540828597,0.4706641968698138,0.9969129113102839,1.0511129201175051,1.0029705434120482,0.6131352703224487,0.8849494888774996,0.43124937606730357,0.6628063427032032,1.0268993301620863,0.33915400023718406,1.1092764445468195,0.3838636123658159,1.5129885007991255,0.5314668691756725,1.2930004525614212,0.9090820707805048,0.5742625074321981,0.555109255675631,1.1672391738596897,0.813437653728299,0.6728200545993005,0.26587723501532406,1.2271913578132994,4.303172211080193,0.6442464496352523,0.7396388302375658,0.6716763959336679,2.2880803299855303,0.5505662019332571,1.7848906984866366,1.0059201012005052,0.9563457959534456,0.30345730481011723,1.537574244116571,1.1224274498380054,0.8785013070726336,0.5594280995446111,1.4880277730155334,0.34886448429986056,0.2186657203387766,0.6007176375002885,0.6206478901529873,3.3740058058478994,1.3454373425152377,0.9008759367758208,1.5672391707531677,0.10987203521249501,3.5348113902885023,0.4580842899060321,0.6299274770081543,1.5152805301465773,0.2812633722099441,0.8129764072481249,0.29334950053969266,0.9079734402869066,0.39682564765746114,0.06615766920154445,0.7206327675425964,2.0079317685694495,1.780917607738706,1.5809602651407488,0.7962936944751836,0.9198895991758544,0.4766647693087348,1.194967752589619,0.663116644134781,0.5047667364461508,0.2679049327833829,0.12867231653887337,0.4434053332991487,0.6023912181237473,0.20374906470695936,0.8021756774924131,0.45787664849476234,4.7091276961244635,0.7720308780211953,0.6933575148116153,1.3648370180796199,0.5288006096855222,1.1934199705261173,1.3310895880069862,0.5925128592221128,3.434132711742825,0.5448484722144754,0.8758873932425912,2.1757427102661855,1.2639330171405576,0.48899955231113396,3.115264935930624,0.40463154055261413,0.6361875781171505,1.3663580861807116,0.4767269904780504,0.5434418941428052,0.941756097480707,0.5193797718392665,0.3330212116088408,0.8912597805729611,1.1707255402779762,1.0074294733456717,0.5853540298908261,0.6926404980290042,0.9293858244574262,0.49570695336358633,0.4253905076162417,1.5252041023957974,1.067150367689989,0.7811387486884346,0.5692077982496986,0.7011994584194626,0.5897069703492906,1.113540791018882,0.5378443109738228,0.5927722681891765,0.41246150522688646,1.3060248497728701,1.2246041210072862,0.7570637448718054,0.5958553392984398,0.7274990443604359,0.5810272465367521,0.3360177491315804,1.011706920142732,0.36716115894277995,1.7585145008991487,1.6926312753813695,1.580731469205138,0.7662097103432708,0.5312117938849981,1.37132165115107,0.10155966556369371,0.7674454811425467,0.48694785420629666,0.5841956172448782,0.42322466337597014,0.43774839681710065,0.848854257455445,0.14027457985168224,0.3322788000512345,1.6147233251767792,1.4379598263257372,0.2758378297578973,0.39159883865207157,0.35701046208793663,1.0248828353531834,0.5202934582931021,1.4583295544266135,1.6383945956768458,0.8868829958869984,1.8759310541559255,0.34762987234737047,0.619086535140212,1.0426036915729224,0.5544939091413316,0.6744706810021218,0.5044664384389892,0.6914014418362694,0.68112784107065,1.2199084812875693,0.8664416192529303,0.3140720081554529,0.5702871415366368,0.8622731311652777,1.9762334171663662,6.1264143679743714,1.8466279257503868,0.5881983762325131,0.3369118104800669,1.186016448173302,0.5790608311947778,3.29601724617215,0.6171703316691901,0.5442654613742464,0.4444358538932019,4.763442924673938,1.0853338612727566,0.8306443170371111,0.8345618392031737,0.9355978663464032,0.6143964052357903,0.8410439144388947,1.1989818361471127,0.9550675897353565,0.6133117860551853,1.175060158580864,0.6504564016663035,0.6937100442555426,0.44842868200229963,0.10548943973238596,0.0847063825715942,1.6786225751875343,0.9379855606701419,1.422175958945567,1.1631210455516743,0.02267110897702918,0.6532112777594926,0.3874761465350286,0.5531339874560409,0.11661171888472596,0.18958965078593043,0.6382844019734064,0.9927179971095107,2.7789581354048307,0.8752273614570433,0.6736087321601927,1.2015654272234912,0.6567730085623373,0.13793640452897335,0.9629059533964657,0.846395419586606,2.188544146709587,0.8612821198623202,0.5358010121927096,0.587913236509088,0.3024507884395213,1.1868796880096395,0.48456730927181374,0.28216376494892814,0.619269546997935,1.632977973917514,2.153681254700991,0.7755322115360466,0.6449463114076915,1.3948843208724497,4.938610446772015,1.2723376308407488,2.1183279244711217,0.6409653240358102,1.1778609592282452,1.1092333411753876,1.8605947799216072,0.5803872176271265,0.5677142391087059,0.5245486037220235,0.411819725354316,0.7698470704537432,1.4144299680898162,0.6417301569886683,0.9861535801607039,0.6008393189428296,0.5521376274050195,1.0218329331716915,0.47595586976094284,0.08351825578930355,0.6100601900434657,0.4371749998231138,0.6285457396916251,1.1823053739083278,0.26344435487985896,0.6465937712693137,0.29590772474278654,1.701602187295878,1.3467715077626574,1.561338234462122,4.102764068090865,0.6531609299593345,0.23649436754846803,0.3114708522618965,0.9228624309626333,0.6715716030743214,0.45932293953147335,0.25540510550795464,0.2691227262070706,0.159384774185691,0.5050623513351638,0.7837596222636958,2.142890721486433,0.37071436482214226,0.2607513633152863,0.5646941254737673,0.9891145518221299,0.22772496753319083,2.749833590336944,0.9432888212540541,1.7428194449116998,0.6926458107054132,0.8311828671566914,0.35451147018396567,1.2396396208443459,0.42050908250837815,0.5082225589049597,0.1648014062150829,0.2248433371167275,0.49137832578222207,0.5771425345958281,0.12845802384383406,1.8394696498366983,0.7025302024432637,1.094314785327284,0.5179728999892391,0.8716169049498482,1.4789088016182352,0.17683468288972393,1.4946615183315086,1.0303032821569704,0.6295133122220082,0.7201057811718345,0.36060997309112097,1.5657774687576995,0.31362060058350333,0.4634713983180923,0.8165874945196514,0.5105608339879668,0.25469483736380444,1.731045747634726,0.041199237218969904,0.8373269143187637,0.3419837091894503,0.2884251763406287,0.0925338955366457,0.41476856142771085,1.3548281139426153,0.14388453871075915,0.5006164016210005,1.4553848497912423,0.5493331198740868,0.4792881241155317,0.4268202386882553,0.13245922177719677,0.36272509293048427,0.11396340780246601,0.8455540110826621,0.37184069952031157],\"yaxis\":\"y\",\"type\":\"scatter\"},{\"line\":{\"color\":\"black\"},\"mode\":\"lines\",\"showlegend\":false,\"x\":[0.0,16.15924460890647],\"y\":[0.0,16.15924460890647],\"type\":\"scatter\"}],                        {\"template\":{\"data\":{\"histogram2dcontour\":[{\"type\":\"histogram2dcontour\",\"colorbar\":{\"outlinewidth\":0,\"ticks\":\"\"},\"colorscale\":[[0.0,\"#0d0887\"],[0.1111111111111111,\"#46039f\"],[0.2222222222222222,\"#7201a8\"],[0.3333333333333333,\"#9c179e\"],[0.4444444444444444,\"#bd3786\"],[0.5555555555555556,\"#d8576b\"],[0.6666666666666666,\"#ed7953\"],[0.7777777777777778,\"#fb9f3a\"],[0.8888888888888888,\"#fdca26\"],[1.0,\"#f0f921\"]]}],\"choropleth\":[{\"type\":\"choropleth\",\"colorbar\":{\"outlinewidth\":0,\"ticks\":\"\"}}],\"histogram2d\":[{\"type\":\"histogram2d\",\"colorbar\":{\"outlinewidth\":0,\"ticks\":\"\"},\"colorscale\":[[0.0,\"#0d0887\"],[0.1111111111111111,\"#46039f\"],[0.2222222222222222,\"#7201a8\"],[0.3333333333333333,\"#9c179e\"],[0.4444444444444444,\"#bd3786\"],[0.5555555555555556,\"#d8576b\"],[0.6666666666666666,\"#ed7953\"],[0.7777777777777778,\"#fb9f3a\"],[0.8888888888888888,\"#fdca26\"],[1.0,\"#f0f921\"]]}],\"heatmap\":[{\"type\":\"heatmap\",\"colorbar\":{\"outlinewidth\":0,\"ticks\":\"\"},\"colorscale\":[[0.0,\"#0d0887\"],[0.1111111111111111,\"#46039f\"],[0.2222222222222222,\"#7201a8\"],[0.3333333333333333,\"#9c179e\"],[0.4444444444444444,\"#bd3786\"],[0.5555555555555556,\"#d8576b\"],[0.6666666666666666,\"#ed7953\"],[0.7777777777777778,\"#fb9f3a\"],[0.8888888888888888,\"#fdca26\"],[1.0,\"#f0f921\"]]}],\"heatmapgl\":[{\"type\":\"heatmapgl\",\"colorbar\":{\"outlinewidth\":0,\"ticks\":\"\"},\"colorscale\":[[0.0,\"#0d0887\"],[0.1111111111111111,\"#46039f\"],[0.2222222222222222,\"#7201a8\"],[0.3333333333333333,\"#9c179e\"],[0.4444444444444444,\"#bd3786\"],[0.5555555555555556,\"#d8576b\"],[0.6666666666666666,\"#ed7953\"],[0.7777777777777778,\"#fb9f3a\"],[0.8888888888888888,\"#fdca26\"],[1.0,\"#f0f921\"]]}],\"contourcarpet\":[{\"type\":\"contourcarpet\",\"colorbar\":{\"outlinewidth\":0,\"ticks\":\"\"}}],\"contour\":[{\"type\":\"contour\",\"colorbar\":{\"outlinewidth\":0,\"ticks\":\"\"},\"colorscale\":[[0.0,\"#0d0887\"],[0.1111111111111111,\"#46039f\"],[0.2222222222222222,\"#7201a8\"],[0.3333333333333333,\"#9c179e\"],[0.4444444444444444,\"#bd3786\"],[0.5555555555555556,\"#d8576b\"],[0.6666666666666666,\"#ed7953\"],[0.7777777777777778,\"#fb9f3a\"],[0.8888888888888888,\"#fdca26\"],[1.0,\"#f0f921\"]]}],\"surface\":[{\"type\":\"surface\",\"colorbar\":{\"outlinewidth\":0,\"ticks\":\"\"},\"colorscale\":[[0.0,\"#0d0887\"],[0.1111111111111111,\"#46039f\"],[0.2222222222222222,\"#7201a8\"],[0.3333333333333333,\"#9c179e\"],[0.4444444444444444,\"#bd3786\"],[0.5555555555555556,\"#d8576b\"],[0.6666666666666666,\"#ed7953\"],[0.7777777777777778,\"#fb9f3a\"],[0.8888888888888888,\"#fdca26\"],[1.0,\"#f0f921\"]]}],\"mesh3d\":[{\"type\":\"mesh3d\",\"colorbar\":{\"outlinewidth\":0,\"ticks\":\"\"}}],\"scatter\":[{\"fillpattern\":{\"fillmode\":\"overlay\",\"size\":10,\"solidity\":0.2},\"type\":\"scatter\"}],\"parcoords\":[{\"type\":\"parcoords\",\"line\":{\"colorbar\":{\"outlinewidth\":0,\"ticks\":\"\"}}}],\"scatterpolargl\":[{\"type\":\"scatterpolargl\",\"marker\":{\"colorbar\":{\"outlinewidth\":0,\"ticks\":\"\"}}}],\"bar\":[{\"error_x\":{\"color\":\"#2a3f5f\"},\"error_y\":{\"color\":\"#2a3f5f\"},\"marker\":{\"line\":{\"color\":\"#E5ECF6\",\"width\":0.5},\"pattern\":{\"fillmode\":\"overlay\",\"size\":10,\"solidity\":0.2}},\"type\":\"bar\"}],\"scattergeo\":[{\"type\":\"scattergeo\",\"marker\":{\"colorbar\":{\"outlinewidth\":0,\"ticks\":\"\"}}}],\"scatterpolar\":[{\"type\":\"scatterpolar\",\"marker\":{\"colorbar\":{\"outlinewidth\":0,\"ticks\":\"\"}}}],\"histogram\":[{\"marker\":{\"pattern\":{\"fillmode\":\"overlay\",\"size\":10,\"solidity\":0.2}},\"type\":\"histogram\"}],\"scattergl\":[{\"type\":\"scattergl\",\"marker\":{\"colorbar\":{\"outlinewidth\":0,\"ticks\":\"\"}}}],\"scatter3d\":[{\"type\":\"scatter3d\",\"line\":{\"colorbar\":{\"outlinewidth\":0,\"ticks\":\"\"}},\"marker\":{\"colorbar\":{\"outlinewidth\":0,\"ticks\":\"\"}}}],\"scattermapbox\":[{\"type\":\"scattermapbox\",\"marker\":{\"colorbar\":{\"outlinewidth\":0,\"ticks\":\"\"}}}],\"scatterternary\":[{\"type\":\"scatterternary\",\"marker\":{\"colorbar\":{\"outlinewidth\":0,\"ticks\":\"\"}}}],\"scattercarpet\":[{\"type\":\"scattercarpet\",\"marker\":{\"colorbar\":{\"outlinewidth\":0,\"ticks\":\"\"}}}],\"carpet\":[{\"aaxis\":{\"endlinecolor\":\"#2a3f5f\",\"gridcolor\":\"white\",\"linecolor\":\"white\",\"minorgridcolor\":\"white\",\"startlinecolor\":\"#2a3f5f\"},\"baxis\":{\"endlinecolor\":\"#2a3f5f\",\"gridcolor\":\"white\",\"linecolor\":\"white\",\"minorgridcolor\":\"white\",\"startlinecolor\":\"#2a3f5f\"},\"type\":\"carpet\"}],\"table\":[{\"cells\":{\"fill\":{\"color\":\"#EBF0F8\"},\"line\":{\"color\":\"white\"}},\"header\":{\"fill\":{\"color\":\"#C8D4E3\"},\"line\":{\"color\":\"white\"}},\"type\":\"table\"}],\"barpolar\":[{\"marker\":{\"line\":{\"color\":\"#E5ECF6\",\"width\":0.5},\"pattern\":{\"fillmode\":\"overlay\",\"size\":10,\"solidity\":0.2}},\"type\":\"barpolar\"}],\"pie\":[{\"automargin\":true,\"type\":\"pie\"}]},\"layout\":{\"autotypenumbers\":\"strict\",\"colorway\":[\"#636efa\",\"#EF553B\",\"#00cc96\",\"#ab63fa\",\"#FFA15A\",\"#19d3f3\",\"#FF6692\",\"#B6E880\",\"#FF97FF\",\"#FECB52\"],\"font\":{\"color\":\"#2a3f5f\"},\"hovermode\":\"closest\",\"hoverlabel\":{\"align\":\"left\"},\"paper_bgcolor\":\"white\",\"plot_bgcolor\":\"#E5ECF6\",\"polar\":{\"bgcolor\":\"#E5ECF6\",\"angularaxis\":{\"gridcolor\":\"white\",\"linecolor\":\"white\",\"ticks\":\"\"},\"radialaxis\":{\"gridcolor\":\"white\",\"linecolor\":\"white\",\"ticks\":\"\"}},\"ternary\":{\"bgcolor\":\"#E5ECF6\",\"aaxis\":{\"gridcolor\":\"white\",\"linecolor\":\"white\",\"ticks\":\"\"},\"baxis\":{\"gridcolor\":\"white\",\"linecolor\":\"white\",\"ticks\":\"\"},\"caxis\":{\"gridcolor\":\"white\",\"linecolor\":\"white\",\"ticks\":\"\"}},\"coloraxis\":{\"colorbar\":{\"outlinewidth\":0,\"ticks\":\"\"}},\"colorscale\":{\"sequential\":[[0.0,\"#0d0887\"],[0.1111111111111111,\"#46039f\"],[0.2222222222222222,\"#7201a8\"],[0.3333333333333333,\"#9c179e\"],[0.4444444444444444,\"#bd3786\"],[0.5555555555555556,\"#d8576b\"],[0.6666666666666666,\"#ed7953\"],[0.7777777777777778,\"#fb9f3a\"],[0.8888888888888888,\"#fdca26\"],[1.0,\"#f0f921\"]],\"sequentialminus\":[[0.0,\"#0d0887\"],[0.1111111111111111,\"#46039f\"],[0.2222222222222222,\"#7201a8\"],[0.3333333333333333,\"#9c179e\"],[0.4444444444444444,\"#bd3786\"],[0.5555555555555556,\"#d8576b\"],[0.6666666666666666,\"#ed7953\"],[0.7777777777777778,\"#fb9f3a\"],[0.8888888888888888,\"#fdca26\"],[1.0,\"#f0f921\"]],\"diverging\":[[0,\"#8e0152\"],[0.1,\"#c51b7d\"],[0.2,\"#de77ae\"],[0.3,\"#f1b6da\"],[0.4,\"#fde0ef\"],[0.5,\"#f7f7f7\"],[0.6,\"#e6f5d0\"],[0.7,\"#b8e186\"],[0.8,\"#7fbc41\"],[0.9,\"#4d9221\"],[1,\"#276419\"]]},\"xaxis\":{\"gridcolor\":\"white\",\"linecolor\":\"white\",\"ticks\":\"\",\"title\":{\"standoff\":15},\"zerolinecolor\":\"white\",\"automargin\":true,\"zerolinewidth\":2},\"yaxis\":{\"gridcolor\":\"white\",\"linecolor\":\"white\",\"ticks\":\"\",\"title\":{\"standoff\":15},\"zerolinecolor\":\"white\",\"automargin\":true,\"zerolinewidth\":2},\"scene\":{\"xaxis\":{\"backgroundcolor\":\"#E5ECF6\",\"gridcolor\":\"white\",\"linecolor\":\"white\",\"showbackground\":true,\"ticks\":\"\",\"zerolinecolor\":\"white\",\"gridwidth\":2},\"yaxis\":{\"backgroundcolor\":\"#E5ECF6\",\"gridcolor\":\"white\",\"linecolor\":\"white\",\"showbackground\":true,\"ticks\":\"\",\"zerolinecolor\":\"white\",\"gridwidth\":2},\"zaxis\":{\"backgroundcolor\":\"#E5ECF6\",\"gridcolor\":\"white\",\"linecolor\":\"white\",\"showbackground\":true,\"ticks\":\"\",\"zerolinecolor\":\"white\",\"gridwidth\":2}},\"shapedefaults\":{\"line\":{\"color\":\"#2a3f5f\"}},\"annotationdefaults\":{\"arrowcolor\":\"#2a3f5f\",\"arrowhead\":0,\"arrowwidth\":1},\"geo\":{\"bgcolor\":\"white\",\"landcolor\":\"#E5ECF6\",\"subunitcolor\":\"white\",\"showland\":true,\"showlakes\":true,\"lakecolor\":\"white\"},\"title\":{\"x\":0.05},\"mapbox\":{\"style\":\"light\"}}},\"xaxis\":{\"anchor\":\"y\",\"domain\":[0.0,1.0],\"title\":{\"text\":\"IC2014\"}},\"yaxis\":{\"anchor\":\"x\",\"domain\":[0.0,1.0],\"title\":{\"text\":\"IC previsto\"}},\"coloraxis\":{\"colorbar\":{\"title\":{\"text\":\"Erro absoluto\"}},\"colorscale\":[[0.0,\"rgb(75, 41, 145)\"],[0.16666666666666666,\"rgb(135, 44, 162)\"],[0.3333333333333333,\"rgb(192, 54, 157)\"],[0.5,\"rgb(234, 79, 136)\"],[0.6666666666666666,\"rgb(250, 120, 118)\"],[0.8333333333333334,\"rgb(246, 169, 122)\"],[1.0,\"rgb(237, 217, 163)\"]]},\"legend\":{\"tracegroupgap\":0},\"title\":{\"text\":\"Validação cruzada Leave One Out\"},\"showlegend\":true},                        {\"responsive\": true}                    ).then(function(){\n",
              "                            \n",
              "var gd = document.getElementById('f872eca5-c5ff-4808-9be8-d07d3ff5b2cd');\n",
              "var x = new MutationObserver(function (mutations, observer) {{\n",
              "        var display = window.getComputedStyle(gd).display;\n",
              "        if (!display || display === 'none') {{\n",
              "            console.log([gd, 'removed!']);\n",
              "            Plotly.purge(gd);\n",
              "            observer.disconnect();\n",
              "        }}\n",
              "}});\n",
              "\n",
              "// Listen for the removal of the full notebook cells\n",
              "var notebookContainer = gd.closest('#notebook-container');\n",
              "if (notebookContainer) {{\n",
              "    x.observe(notebookContainer, {childList: true});\n",
              "}}\n",
              "\n",
              "// Listen for the clearing of the current output cell\n",
              "var outputEl = gd.closest('.output');\n",
              "if (outputEl) {{\n",
              "    x.observe(outputEl, {childList: true});\n",
              "}}\n",
              "\n",
              "                        })                };                            </script>        </div>\n",
              "</body>\n",
              "</html>"
            ]
          },
          "metadata": {}
        }
      ]
    },
    {
      "cell_type": "code",
      "source": [
        "#@title Regressão linear\n",
        "\n",
        "from sklearn.linear_model import LinearRegression\n",
        "\n",
        "#@title Random Forest Regressor\n",
        "\n",
        "Y_pred_rf = []\n",
        "\n",
        "loo = LeaveOneOut()\n",
        "\n",
        "for train_index, test_index in tqdm(loo.split(X_baseline), total=loo.get_n_splits(X_baseline), desc = 'Progress', leave=False):\n",
        "    X_train_base, X_test_base = X_baseline.iloc[train_index], X_baseline.iloc[test_index]\n",
        "    y_train_base, y_test_base = y_baseline[train_index], y_baseline[test_index]\n",
        "\n",
        "    model = LinearRegression()\n",
        "    model.fit(X_train_base, y_train_base)\n",
        "\n",
        "    y_pred = model.predict(X_test_base)\n",
        "    Y_pred_rf.append(y_pred[0])\n",
        "\n",
        "r2_rf = r2_score(y_baseline, Y_pred_rf)\n",
        "mae_rf = mean_absolute_error(y_baseline, Y_pred_rf)\n",
        "rmse_rf = mean_squared_error(y_baseline, Y_pred_rf, squared=False)\n",
        "\n",
        "print(f'R2: {r2_rf}')\n",
        "print(f'MAE: {mae_rf}')\n",
        "print(f'RMSE: {rmse_rf}')"
      ],
      "metadata": {
        "colab": {
          "base_uri": "https://localhost:8080/"
        },
        "cellView": "form",
        "id": "xtabqnQxfySn",
        "outputId": "15787429-d14c-4b7b-8860-50382dc577a9"
      },
      "execution_count": 38,
      "outputs": [
        {
          "output_type": "stream",
          "name": "stdout",
          "text": [
            "R2: -1.680147470825562\n",
            "MAE: 1.2128951382886253\n",
            "RMSE: 3.6619620366655377\n"
          ]
        }
      ]
    },
    {
      "cell_type": "code",
      "source": [
        "#@title Distribuição dos valores preditos\n",
        "\n",
        "df_print = df.copy()\n",
        "\n",
        "df_print['RV previsto'] = Y_pred_rf\n",
        "df_print['taxa RV'] = y_baseline\n",
        "\n",
        "df_print['Erro'] = df_print['taxa RV'] - df_print['RV previsto']\n",
        "\n",
        "erro_absoluto = np.abs(df_print['Erro'])\n",
        "\n",
        "df_print['Erro absoluto'] = erro_absoluto\n",
        "\n",
        "fig = px.scatter(df_print, x=\"taxa RV\", y=\"RV previsto\", color=\"Erro absoluto\", title=\"Validação cruzada Leave One Out\", color_continuous_scale='Agsunset')\n",
        "\n",
        "fig.update_layout(\n",
        "    yaxis=dict(\n",
        "        range=[0, 16]  # Define o intervalo desejado para o eixo y\n",
        "    ),\n",
        "    xaxis_title=\"TR\",\n",
        "    yaxis_title=\"TR previsto\",\n",
        "    showlegend=True)\n",
        "\n",
        "fig.add_trace(\n",
        "    go.Scatter(\n",
        "        x=[y_baseline.min(), y_baseline.max()],\n",
        "        y=[y_baseline.min(), y_baseline.max()],\n",
        "        mode='lines',\n",
        "        line=dict(color='black'),\n",
        "        showlegend=False\n",
        "    )\n",
        ")\n",
        "\n",
        "fig.show()"
      ],
      "metadata": {
        "colab": {
          "base_uri": "https://localhost:8080/",
          "height": 542
        },
        "cellView": "form",
        "id": "ZNtNMclOvGG0",
        "outputId": "a6d826b8-28cf-4f75-91e0-6013a0909138"
      },
      "execution_count": 42,
      "outputs": [
        {
          "output_type": "display_data",
          "data": {
            "text/html": [
              "<html>\n",
              "<head><meta charset=\"utf-8\" /></head>\n",
              "<body>\n",
              "    <div>            <script src=\"https://cdnjs.cloudflare.com/ajax/libs/mathjax/2.7.5/MathJax.js?config=TeX-AMS-MML_SVG\"></script><script type=\"text/javascript\">if (window.MathJax && window.MathJax.Hub && window.MathJax.Hub.Config) {window.MathJax.Hub.Config({SVG: {font: \"STIX-Web\"}});}</script>                <script type=\"text/javascript\">window.PlotlyConfig = {MathJaxConfig: 'local'};</script>\n",
              "        <script charset=\"utf-8\" src=\"https://cdn.plot.ly/plotly-2.35.2.min.js\"></script>                <div id=\"c2d13498-668d-409a-9750-65a84fb1aae4\" class=\"plotly-graph-div\" style=\"height:525px; width:100%;\"></div>            <script type=\"text/javascript\">                                    window.PLOTLYENV=window.PLOTLYENV || {};                                    if (document.getElementById(\"c2d13498-668d-409a-9750-65a84fb1aae4\")) {                    Plotly.newPlot(                        \"c2d13498-668d-409a-9750-65a84fb1aae4\",                        [{\"hovertemplate\":\"taxa RV=%{x}\\u003cbr\\u003eRV previsto=%{y}\\u003cbr\\u003eErro absoluto=%{marker.color}\\u003cextra\\u003e\\u003c\\u002fextra\\u003e\",\"legendgroup\":\"\",\"marker\":{\"color\":[0.6775328368226138,0.5761384862482899,5.995070423468706,1.0341160383313635,0.8117024920514968,0.2434946917639691,1.6290627723800668,0.3942151623775942,0.6008138194068096,0.5294130873414562,0.6411602507639831,0.034641684020465635,0.09666225431389008,0.5678528069036449,0.06378517544461702,0.11138885711723856,0.08728662413712593,7.307135817115537,0.1438442295066927,0.4492438945782932,0.18814466787719775,1.2434396744928784,0.11991373139319306,0.8115226574461825,10.308258836389024,4.518258272764832,0.3755828488491675,5.350537273280558,4.3261600953827735,4.050837169166757,0.5059878263883053,0.9398265627907161,3.422247323079752,0.9482156260779805,4.465949746568423,1.7257066984962304,2.436001127596086,0.27264668483838417,0.6728616937421545,0.39263952981510375,3.5409517689938994,1.6622508941796146,0.7614198759552795,0.7606342162166011,0.1080666339706507,1.591733413725203,9.58068607527155,6.60949699341555,2.1502663189771187,1.8934653406294135,0.18489005018409232,1.932663195936029,2.472381530943405,0.8063277763569818,5.8240668441700105,0.4509608132110001,1.1863995769314566,5.918105253810934,0.8757137224392837,0.6712387375872533,0.4044549463854701,0.0040409770349247864,0.9951384001472814,0.020016941450382908,1.7684363064876976,0.3036053764958253,1.8026611374149004,0.7226703694817758,2.3728384494114554,0.8289581125385523,2.355276663471047,0.711108167157211,0.04051544664036649,0.3782334476072309,3.8004300822940706,0.5596035033802638,0.6470449055148796,1.8969543969422968,2.173459070827117,15.860985771865888,0.5641819046098817,0.3568094457735991,0.8301119603496401,1.5396844185184415,0.42510542041411803,0.17197054018663183,0.45391884272168004,1.3181789210407875,4.297581152596951,0.06078085106329856,78.70766420011232,0.6636127040040174,4.816601816766824,1.577877767059399,0.12987998088857466,0.7496694209653259,0.13550670774962814,1.3397404605095407,1.4836641669117991,0.10766807906944975,1.5538284864193355,2.053570270776097,0.7101500940621861,11.073700431272432,2.0517824772959785,0.6139266988269014,0.3950928614591167,0.37915657971968386,1.4624208399940761,1.6780489135115726,0.4605245990435143,2.0340971798482705,1.50419614541251,0.15105543226280838,0.31238097402457976,0.011738618909485687,1.3592294687744428,0.41977579404314724,0.7560821253827634,0.21655829019830652,0.4509533954432783,1.2026645908650004,1.0530272850268911,2.7914431382681357,0.6271852575857677,0.5928509917463445,1.9309356278628664,1.2197414429556663,0.3929045554913895,0.43304196160054303,0.137317730305057,0.0750771037133462,0.004235535233066079,0.5760266935413454,0.22143796029018764,0.4730740472561663,7.667793412397903,0.5104744753858687,0.41777073792570474,1.4194245870565405,2.034180488433478,3.325557355330675,2.018228063867154,0.22811597074856338,1.7501403167491372,1.7480168897396116,0.9876028626209874,0.8317609482335251,1.5597411820436127,0.9727568403425382,0.8294446292860703,0.4985010245988315,1.185086676314743,0.7653871861373334,0.014183160794912553,0.3842352325881926,1.0120688902548896,0.33544575168722,0.22469937833329057,1.9478390968109207,2.3403461595026283,2.723228363015747,0.8567995442106932,2.5909915175119957,0.20482903382271417,0.8297626670014893,0.9451312583724784,0.19181487396196006,1.5293535955895528,0.39450311732511656,0.14122902210279312,1.3449816302905293,1.5916021322963105,0.2542362657408288,0.027420518782784953,0.2256731378524638,2.645811906226081,0.8646455474629936,1.1248998881414614,0.3485811072452574,0.8886492335099856,3.042582794928009,0.6833578219964609,0.002151460411544015,0.7349531319164825,0.15360036172338598,0.6269948740328763,1.4960838335663196,0.8007030418396522,1.065938259212162,1.7654378229284458,0.6907071690727892,1.7044605916177744,1.7460469712003128,0.9288000981482032,1.256606604171816,0.22790659413480102,1.7013905946410715,0.024447612853141232,0.018230891404047878,0.3540293702245365,0.1826203019149637,0.11357149866553895,2.2688929151834527,1.8226925115683672,6.4325410210158696,1.0643108791204776,1.6545250625760326,1.2726218086933354,0.3478397295205633,1.608946190896586,2.7564200640398298,2.050855449814277,0.44678338925152694,0.2471725422561475,0.9413338724229448,0.24026754882891643,0.24133976282984193,1.0369875184969244,2.6086575884399097,1.183852560306729,1.7124191030578002,0.10701561916056074,0.3115189300962107,0.6302914269405733,2.131438880108223,1.5456348082397637,0.28206017550992923,3.458265164409756,0.8616304526624514,1.0614919658698883,0.879934563071326,0.8822525172566795,0.7906319645402959,0.09621114222273341,0.0055722911770806904,0.5480663555640175,0.2405856568800233,0.0969724368637902,0.8156792056621284,0.7392334873840604,0.5039630015666117,1.221026365848574,1.2992465104028421,0.3466597919333574,0.0024881700809176177,0.9817350433785634,0.7403919291953449,0.9674324828771717,1.0382585017580213,0.8162243329761947,0.009606210990958819,0.2687488085767602,1.791109126224569,0.19404832060686728,0.1630599418084342,5.516798525140801,0.5008108460993521,0.12874033952231656,0.9567930872596029,0.7983802778939466,0.9090027360876238,1.832989670631901,0.8899128984540228,0.46644319914753307,0.206906914263854,0.1637140509941679,1.3241012114154656,0.5067799726546434,0.3333929360540438,0.3867258152257853,0.01082074565526403,0.499878819968373,0.23556486973484292,0.4807767369445658,0.47601848583034423,0.9994762913489659,1.4430084718150606,0.9286992473038475,0.11792952945327462,0.22839834068184928,0.6689795736060831,0.984378635534074,0.03788944591733756,0.02095569345922621,0.4505976251393573,0.8007818262368294,1.0835458128322746,0.5257572375444178,0.3242767970222062,2.4636869603376432,0.06451976641879753,0.14943183443975272,0.6301221676268373,0.3657607649805805,0.2741006551433307,0.011209637327820321,1.221516471103826,2.238889403001174,0.9607268284622876,1.396407286634357,0.1998718587884838,3.151405597689519,0.3502471327579646,0.6410646908052722,0.8076973275183761,1.2579649007582825,1.617475243019395,0.7950681928511265,1.7199121975052156,0.2861890808747037,0.18404230573081803,0.200939208188182,0.7274920198383175,0.6819648456977423,0.12047416082664908,0.25462313919931523,2.423553800102057,1.0547176269224996,0.9920816713308885,1.5205402155350767,0.9305223693826372,0.5322034698014014,0.768690654612513,1.0728529927799055,0.5564501142220288,0.604172484722568,0.5750166021113788,1.0312443166758385,0.11597885836445565,0.365278152104878,0.8254524124113253,0.6689162787241519,0.16072727730119016,1.3841757184150663,0.11451168019071167,1.009447777953326,0.6805723364910637,0.45200069786553454,1.5380538051931265,1.370886800731401,0.3598381559257007,0.2921160790365729,1.2354968947035665,0.980312886604106,0.2081477843715886,1.0794369864377327,0.031009143675708284,1.1674221959484214,1.3757377379795255,0.10787422247061773,2.490375874952929,1.4242759526614037,0.8290987127697711,1.1713596262481505,1.7830693895185306,1.1714367514101147,0.4257241605668183,0.04925250938428638,1.181355408364289,1.1886474791810313,0.31106883760365645,2.28796582508379,0.8897256043422996,1.1323046585258434,0.5741696401281651,4.771831004063168,0.536929894121245,1.11225090844664,0.3182646815877568,0.13606391186988276,1.929578216893747,0.3814416669946104,0.5849094037567113,2.5145435650933283,0.324754400824538,0.9450732886929856,0.7414852665352805,1.363231702954228,16.421506212658343,1.1092372021710484,0.282370403294361,1.4361713972509023,1.274468578638178,0.16786918461244227,0.036682680439113824,0.03218652782312348,2.5493886408719693,2.597958738322447,0.0275457031429982,1.7808871891214442,2.3893949171398923,1.0034700836786032,0.8620296504392241,0.06715998026217229,0.25237762067029557,0.521426609439491,0.04101854379133957,1.3071345254658553,0.06524206331466997,1.5024892194699393,0.013546497554251413,0.5643332913444763,0.9317029342272446,1.2260464342766615,0.2156373450441782,0.43141549140650143,0.26421132637554146,1.4799641431252992,0.9690011538844434,0.3371015718727579,0.7352926870295675,0.21386863277723167,3.662823210807062,0.03209710105679475,0.7399098160109148,0.5434755153478077,0.045399245380711384,1.2199865798842922,1.1453744197157671,0.19855119536549448,0.370040253324137,0.9934691749474576,0.7343083961368311,1.627706843241509,0.2520279848979081,0.4746626600255901,0.604512663114442,0.6314940695418252,7.0329077695557185,0.2919330005698737,0.19065776791290123,0.6494131238840368,0.6202265331245711,1.4410822831604884,0.007413675192759539,0.7308767580574349,0.44095777534297464,2.1403848033123496,0.7728637331325022,0.042874873261979474,0.43619508714158983,0.3439964320719475,0.24414121733255434,0.43648530961600707,0.4764551842020097,0.764235371563775,0.46272175491464257,0.029024144509152194,0.09503112273748937,1.641494207402115,0.7349733039381503,0.13633931159276358,0.5084613131161467,0.22264374359059502,0.6178368278073298,1.0454365528745178,0.36443997393031147,0.32256381079522933,1.9314003182789539,0.3663597700371497,0.08830369068362054,0.7914078532612621,0.4149705158411806,0.12468137362521392,0.7294155060858145,0.1611026577341086,0.16875418518052035,7.943448748169716,1.2269450272799776,1.1225197961867717,0.5587934346172233,0.28637368886918946,1.1400007115073036,0.511966702591542,0.3732714853844852,0.22928815633752597,4.172311906696685,0.5426321028111274,5.011265346869728,1.0346658283951196,1.529112362639979,1.554366949507457,1.9503208605685938,0.45918755126986355,1.0156837014425355,1.1949080206783975,0.4002045825518805,0.4788080661625882,0.9017288085854762,2.9161997075015336,0.04340750429914397,0.7271586740559239,0.15027232805812862,0.4283829738178897,0.249591837770767,0.07171261971187082,0.471373857632165,0.10461413567971478,0.10031534949705145,0.12876598384029792,0.6021690998804692,0.329598945780603,0.11625103731346043,0.39673787119471826,0.2528083996732578,5.693333295319702,0.012596340421731522,0.7135171221033221,0.40026142202890824,1.0947892322167505,1.4574342135633003,1.2138606150297837,1.5215627544988555,0.8146455062595095,0.12203597526837484,0.24860559035039387,0.34723282148160917,0.6826886069581259,0.6474950972365505,0.7777321137044009,0.1885108091480518,0.9560819769123747,0.40173122869196703,0.47555732283751695,0.07796747466247944,1.0164610690542262,1.2629124168224153,2.0117254829489557,0.413244554257672,0.80232075730996,0.36647697152759223,1.174152847769538,0.13490622710493638,0.537868125412615,0.1273257201631055,0.2379858808789399,0.2439756078603521,0.7142603606441857,0.33256924665255594,0.4398298670193711,0.9319679644398216,0.3370551611362227,1.002576207835065,0.27178080587015285,0.8722253738728756,0.9675580069506179,0.994794308348567,1.0275350671011603,1.59521611968341,0.8328339403154672,2.477403304159509,0.6501933152030284,0.2545736326012322,1.6822559684116773,2.404432357591901,0.5278112759909959,0.13032536832502328,2.5659340226815206,0.20247151046278444,0.5611924143526641,0.007192146167237401,0.11209894192910924,0.015655670053224102,1.1756107393672228,0.9288090262923561,3.1431886594358867,11.263971077519301,0.25122857543061894,0.33265818332451924,0.984997695231927,0.05657097530440858,1.154260049948995,0.37067999210550795,2.295605917380175,0.32847339643308704,0.5765631674649155,0.9695941048868514,1.7744143569693733,0.8792643001541762,0.7040263891887975,0.6366215136828528,0.019539957426958132,0.04017877563283445,0.21414654975466826,0.7336159030956395,0.5192715471464797,0.5512273884138421,0.702006380046214,0.07032916963732072,1.2327519239146265,0.748854489535578,1.72932217782936,0.017457666918062165,1.8006942852684316,1.924481328554277,0.5974588073727898,1.2863533797100075,1.0721002659229129,0.28472548089226735,0.2394790583849158,0.7521354500108642,0.4531585482934588,0.6471121944627731,0.595995411933373,0.9413068470000057,0.7539904860208461,0.16249703001157567,1.1738400345799258,0.10807444233327601,0.11812347599705308,1.4094200052410246,0.9373020449377443,0.5505906998062748,1.4964243347444295,0.10029716710312597,0.6156689044594543,0.29881939268889823,0.03757037816351616,0.1866768284115663,0.14610037727818792,0.017910459951707702,0.36128926540020245,0.9091797948562983,0.5720034776163874,1.3543264098070336,3.156639640614685,0.723134111039379,1.213049216521185,1.0650012284338999,1.6600214785949368,0.6998378528105395,0.24888292771131382,0.646741073941714,0.2543376370159288,0.6285695487925551,0.34352823379618913,0.8926847622590668,0.22351812853096176,0.1691912172242951],\"coloraxis\":\"coloraxis\",\"symbol\":\"circle\"},\"mode\":\"markers\",\"name\":\"\",\"orientation\":\"v\",\"showlegend\":false,\"x\":[0.7310535293639834,4.758732273722281,6.673785371062467,2.5155474809587033,1.837037037037037,1.97249173685894,0.0,0.3035822707953855,0.0,1.0457840721768261,1.3750429700928155,0.19138755980861244,0.2364066193853428,0.5632216277105041,0.1191090641997856,1.6717032083842345,0.14097413124691618,11.28273582506992,0.2176278563656148,0.2349900129244507,0.7290264692687304,0.07698229407236336,0.5321271783956365,1.8204208384644214,11.436276468238114,10.35998528301156,0.6578947368421053,13.40474316416276,8.546296778223079,12.303872444171889,1.463662975690467,0.8703220191470844,13.148871974216554,0.7037297677691766,6.195437904815545,2.2146251263196373,9.936336050455168,3.3310673011556764,1.0005002501250626,1.225451688923802,11.816670894809342,0.691494616220488,1.2254446878829515,2.571621926460636,0.27856705108919716,6.523819002549169,16.15924460890647,4.4232776617954075,6.724810217190649,9.578207381370826,0.8564902931100115,5.5117080190119045,8.494477278524922,5.863216055439965,12.240305496204028,7.286912524863692,2.345453797303414,11.198361482326915,1.3618151532886147,3.8968431192258857,1.8548406523257774,5.99724091431309,1.8217780553820528,0.7350624803108264,0.20828993959591752,2.1990199643308572,6.070141875039112,5.019620572329487,8.292199288482644,0.351123595505618,8.138965296356306,4.480045367548025,0.2753114460733705,1.323001323001323,7.416563658838072,4.884570817363401,0.6420958006934635,5.633412687718037,0.701344243132671,12.25676912201983,0.0,2.5116119043523137,1.8817145482791064,7.345824984683866,2.9448938321536904,1.4342971273843514,0.7364408248137237,0.6980193700375186,1.1667949600939918,1.451980916822236,14.072999876759136,2.970564407237375,4.1143037574992105,4.490214261310947,1.3640605930073946,1.3218131407569798,3.3469069002063927,4.665846762434862,0.7267001756192091,1.8420862529798454,0.7394766780432309,4.915376550522174,0.0,5.08363450283046,0.21791239921551536,0.0,0.6127719175384077,0.5691879585125221,1.0827637544833186,4.825099329480109,3.2573084279699267,0.48963603721233884,5.035105550298485,1.5179113539769278,2.372845473951626,2.7450980392156863,3.2073613146577613,0.0,1.5789473684210527,1.8074237552557981,2.2289845521679297,0.5451076587626056,4.093925840427067,6.469242959014622,1.4612761811982464,3.7601759762356877,4.853472606895097,2.335189509610203,1.1348819239870576,0.3837298541826554,1.960111726368403,2.5660876297179045,1.285722634562562,2.097739103410768,0.47162395849709166,1.2127894156560088,5.7642298080704295,0.2766347384072755,0.6915629322268326,3.691627314294281,2.584968884633796,1.017293997965412,2.1881195388795067,0.4073319755600815,2.93610774238846,4.602966841186737,0.9771986970684039,1.794005909666526,0.22917382834880257,1.4612761811982464,0.5102040816326531,2.466525722339676,3.7747295338883085,0.5995203836930456,2.1947873799725652,0.20128824476650564,0.10723860589812333,5.607341521176406,0.5394034198176817,0.24459845087647777,3.4099496802020166,2.0893390812197508,0.36172906493036716,0.5844535359438925,0.4230565838180857,0.0,0.9954799827808868,2.7883339704526544,3.6907859528686635,1.0940919037199124,0.24703557312252963,1.545563622313058,1.0576821376717531,1.789086571911341,1.8444266238973537,0.7215007215007215,7.939798299234463,0.6825622693460128,3.160846291103747,0.3122462998813464,4.8808572960111665,4.419503968830867,1.9263698630136987,1.6146393972012918,0.8169563836064085,0.5597223777006605,1.2640307412276266,7.309591236346068,0.8003841844085161,0.7427213309566251,3.9723261279751068,0.41893590280687054,0.0,3.477722546931046,8.110202324580284,0.48614487117160915,0.43431053203040176,5.086887424120053,0.6629101756711966,3.5063962833300306,1.2024433649175124,1.5630920803334596,0.9004952723998199,4.3020875524077455,4.1520979020979025,0.2939231390991256,1.539594350358123,0.449842555105713,0.1446968600781363,0.22084805653710246,3.252661268310436,0.390269285807207,5.278655558747486,2.766814501363063,2.965671694019666,0.0,0.504116955133591,0.6291710671190707,1.0548523206751055,1.6352201257861636,0.39258023358523897,1.4657383657017222,0.23679848448969926,1.3712405155864338,0.0,4.46563475808347,1.2037557178396598,1.7588430721125659,1.392757660167131,1.0929943553579182,0.5769886438144195,0.47569213205213584,0.8220304151253597,0.0,4.740715341474376,0.5421523448088913,1.498887921864423,0.8467777876816116,0.9865675039842149,0.5786199913207001,0.6941552131056504,1.2398990978665185,0.5844535359438925,1.0666666666666667,0.8552490912978405,1.3262180681423474,0.0,2.425373134328358,0.0,2.291907638264148,1.8997515709484145,0.8165845691857861,2.9504276170422936,4.740227048721167,1.7938230982912553,1.1784732224695562,0.21528525296017223,1.4753447199682233,1.7128344456913354,2.9179438811601037,1.6124303723248314,2.2456770716370986,2.8608466318000985,0.9087552892397694,1.4129615674453655,0.0,0.21953896816684962,0.45714285714285713,0.43802014892685065,0.3359086328518643,2.050910845699119,0.5372877713303246,0.0,0.7060484819957638,0.505774256090365,1.70853989860796,2.3629489603024574,0.7100591715976331,0.6763611768684478,0.5390835579514824,0.0,0.6876528117359413,0.785175879396985,2.6963262554769125,0.5673528934997568,2.1738508623895196,2.587125247298737,0.9270484204521143,0.6056935190793459,0.4755865567533291,5.883672287799204,0.0,0.0,0.16003200640128026,2.1844877010906196,1.0505204851494605,0.8743806470416788,0.4429589658921596,0.5067723210172302,0.5517893741131956,0.0,0.0,0.17780938833570412,1.5015015015015014,1.9031910169384,1.5344843225591873,0.2254791431792559,0.7544322897019993,1.9863990091374355,4.185607866823495,0.33294489761944396,1.299997678575574,1.2502790801518195,2.9180570487134023,0.9411651141464357,2.176541717049577,3.8850626907843284,0.40428542551041036,0.26186236514088196,0.4718093890068412,0.4163197335553705,0.4889975550122249,0.21226915729144555,0.0,0.3090951240244185,1.372055796935742,0.0,0.9053050878145935,0.0,1.9561572377817797,0.0,0.6834170854271356,0.7628294036061026,0.21088148460565162,1.131648434552999,0.9469995896335112,0.2530791294077948,0.6821282401091405,0.8933889219773675,0.28770079117717573,1.6864760681015099,0.0,0.4076142338890474,0.07170000717000072,1.3297500069986843,0.26737967914438504,0.8295886622882821,1.8474726574046705,0.15215296444692397,0.4986287708800798,1.6931284541417755,0.3977329223426469,0.26437541308658297,0.22530134054297624,0.6894606537340562,0.0,0.36075036075036077,1.2408872343725763,1.2769062385990515,2.594058644940625,0.5809254394827238,0.9856100926473487,2.1147326373737036,0.34965034965034963,1.4104174742318596,0.9608198996476993,0.6770480704129993,1.6852682120258196,0.0,0.2596391016487083,0.0,1.103996467211305,0.18511662347278784,0.0,0.9392317084624777,1.809743425085379,0.4655493482309125,0.30815284381053004,0.3432297923459756,0.0,0.15676438313215238,1.6027083971115232,0.13457139012245997,0.0,0.0,0.0,1.012965964343598,1.0185373803218578,0.0,1.252191334835963,2.152595072949055,4.510342459874689,0.18797497247509332,0.6209527188858334,1.6535904021391128,0.2046245140167792,1.9962378594187877,0.2887577002053388,0.0,2.870248421817521,0.2457002457002457,1.0166248056452578,1.0390210113137843,0.463980463980464,0.18429782528566163,2.4156578550056276,0.28109627547434995,0.41476565740356697,0.5944049239736928,0.5974905397331209,0.24169184290030213,0.6202618883528601,0.3898635477582846,0.0,1.2163257951166773,0.14946938368790794,0.5208451278335107,0.5532197388802832,0.0,0.1462629808395495,0.6360513929525505,0.34524426031417227,1.2021294865189764,1.1972761966526153,3.2083600696672474,0.16019223067681218,0.15479876160990713,0.5730659025787965,1.9775407867787274,0.4715710051199138,1.5874415733309815,0.7231180851833104,0.9683967446970967,1.2881653236857973,0.20200659888223016,0.2787456445993031,0.8429334082607474,0.39401103230890466,0.7233273056057866,0.34882472899001826,0.0,1.5936923335010904,1.3859704028255913,1.783556757378747,0.2598077422707197,0.0,0.6360311655271108,0.34458993797381116,0.4644202487228443,0.8815232722143864,0.49109022028904165,1.6857089342573515,0.0,0.8486803021301875,0.0,0.5223295899712719,2.315315037199395,1.7424229731767387,0.36913990402362495,0.7005253940455342,0.0,1.4058106841611997,0.0,0.996142596752999,1.947681251888915,0.0,1.6959567408135676,0.24295432458697766,0.6730984967466906,0.41220115416323166,0.5853658536585366,0.5607476635514018,0.6864988558352403,0.38595137012736397,1.080691642651297,1.0029419630917358,1.2298558100084818,1.9144862795149968,0.34287673581347505,0.3429355281207133,2.902950889528071,6.725915794294893,2.7484349190044557,0.14473874656245478,0.0,0.4733503739467954,0.0,2.1790686887957365,1.0257366654233495,0.5628253834247925,0.4037141703673799,3.1932107691248364,1.5195111700236008,1.1751608114794656,0.9710505553195363,0.8954956568460642,0.7743534148985597,0.4877255730775484,1.244278540639026,1.3770548239951803,0.6667777962993833,1.8465867456106926,0.0,0.22038567493112948,0.22346368715083798,0.4161464835622139,0.4798464491362764,2.367955332884668,1.0687757174157002,2.7608216610521517,0.599965716244786,1.0498687664041995,0.1590583744234134,0.9854644000985464,0.0,0.0,0.0,0.22573363431151242,0.43078690407811604,2.806351159940796,0.8450406675821274,0.1040257983980027,0.8521516829995739,0.350385423966363,0.0,0.43632737019260737,1.7745720991470606,2.1390374331550803,0.4060089321965083,0.4400924194080757,0.3669724770642202,0.254000508001016,0.19652800524074682,0.6583278472679395,0.0,1.437297879985627,1.3813120716184082,1.8762713053237006,0.2523977788995457,0.9110787172011662,0.8751203290452437,2.9191925951737554,1.9080756495875189,0.3718854592785422,0.576036866359447,0.5238893545683152,0.7273388489862714,0.8088160954402993,0.1427959445951735,2.0349330167881976,0.0,0.0,0.7673419275629221,1.5018773466833542,1.5372790161414296,0.0,0.26881720430107525,0.8650519031141869,1.8433859312785725,0.8582872401296967,0.34199726402188785,0.5668532558633884,0.45392646391284613,0.4704996706502306,0.36656891495601174,0.0,0.4701457451810061,0.0,1.445028699875567,1.171848073343903,0.48488426023527426,2.765113584452438,0.2686727565824825,0.0,0.2303086135421465,1.2278727105290086,0.4549590536851683,0.9732360097323601,0.0,0.0,0.0,0.42557718906266623,0.6091370558375635,1.4422047705429675,0.24313153415998054,0.0,0.49879457976556657,0.7254261878853827,0.0,1.9261997719655874,0.6288868702396758,1.0624483532050526,0.0,1.3540128015755786,0.9086188992731049,0.3930302633302764,0.5170630816959669,0.0,0.0,0.5091649694501018,0.0,0.33846674564224066,0.0,1.1701685042646142,0.0,0.9540467482906663,0.09828975820719481,0.8151492350137949,0.5154307067843567,0.0,1.6220600162206003,0.24009603841536614,0.1718213058419244,0.11617100371747212,0.3139717425431711,0.7309832470574195,0.0,0.0,1.1365788975184694,0.6777363605557438,0.0,1.8744142455482662,0.0,0.44637163627088383,0.4416961130742049,0.25680534155110424,0.0,0.5319148936170213,1.091544171154126,0.0,0.8246289169873557,0.28557829604950025,0.8496176720475785,0.16775708773695688,0.7261285247488806,0.0,0.25163563160543534,0.5260389268805892,0.9896635144051023,0.0],\"xaxis\":\"x\",\"y\":[1.4085863661865972,4.182593787473991,0.678714947593761,1.4814314426273398,1.0253345449855402,1.728997045094971,1.6290627723800668,0.6977974331729797,0.6008138194068096,1.5751971595182823,0.7338827193288324,0.1567458757881468,0.3330688736992329,1.131074434614149,0.05532388875516858,1.560314351266996,0.2282607553840421,3.975600007954384,0.3614720858723075,0.6842339075027439,0.9171711371459281,1.3204219685652419,0.41221344700244344,1.008898181018239,1.1280176318490902,5.8417270102467285,1.0334775856912728,8.054205890882201,4.220136682840305,8.253035275005132,0.9576751493021618,-0.06950454364363168,9.726624651136802,1.651945393847157,1.729488158247122,0.4889184278234069,7.500334922859082,3.0584206163172922,0.32763855638290806,0.8328121591086983,8.275719125815442,2.3537455104001026,0.464024811927672,1.810987710244035,0.17050041711854647,4.932085588823966,6.578558533634919,11.032774655210957,8.875076536167768,7.684742040741412,0.6716002429259191,3.5790448230758756,6.022095747581517,5.056888279082983,6.416238652034018,7.737873338074692,3.5318533742348706,5.280256228515981,0.486101430849331,3.2256043816386324,2.2592955987112475,6.001281891348015,0.8266396552347715,0.7550794217612093,1.976726246083615,2.5026253408266825,4.267480737624211,4.296950202847711,5.919360839071189,1.1800817080441703,5.783688632885259,5.191153534705236,0.234795999433004,0.944767875394092,3.6161335765440015,4.324967313983137,1.289140706208343,7.530367084660334,2.874803313959788,-3.604216649846059,0.5641819046098817,2.1548024585787147,2.7118265086287465,5.806140566165425,3.3699992525678084,1.2623265871977196,1.1903596675354038,-0.6201595510032689,5.4643761126909425,1.3912000657589374,92.78066407687146,3.6341771112413923,8.930905574266035,2.912336494251548,1.23418061211882,2.0714825617223056,3.2114001924567646,3.3261063019253214,2.210364342531008,1.9497543320492952,2.2933051644625664,2.8618062797460766,0.7101500940621861,16.15733493410289,2.269694876511494,0.6139266988269014,0.21767905607929094,0.19003137879283827,-0.3796570855107575,3.147050415968536,3.717833027013441,2.5237332170606095,3.530909404885975,1.3668559217141194,2.6852264479762056,2.7333594203062006,4.566590783432204,0.41977579404314724,2.335029493803816,2.0239820454541047,1.7780311567246514,-0.6575569321023949,3.040898555400176,3.677799820746486,0.8340909236124787,4.353026967982032,2.9225369790322304,1.1154480666545368,0.7419773684956681,0.8167718157831985,2.09742945667346,2.4910105260045583,1.281487099329496,1.5217124098694228,0.6930619187872793,0.7397153683998425,-1.9035636043274735,0.7871092137931441,1.1093336701525374,2.2722027272377403,0.5507883962003177,-2.308263357365263,4.206347602746661,0.6354479463086449,4.686248059137597,2.854949951447125,1.9648015596893913,0.9622449614330009,1.7889150103924152,2.4340330215407846,1.3396487109187234,1.9680246977408444,2.5896428575735655,1.364907569830379,2.1806042191776527,0.5855234773546982,1.119307496153013,5.942787272863626,0.7641027981509723,-1.703240645934443,1.0696035206993884,4.812567444235498,1.2185286091410603,3.1754450534558885,0.6278856176407999,0.8297626670014893,0.05034872440840843,2.9801488444146145,2.1614323572791108,1.488595021045029,0.38826459522532275,2.8905452526035873,2.6492842699680637,2.0433228376521697,1.8718471426801386,0.9471738593531853,5.293986393008382,1.5472078168090064,4.2857461792452085,0.6608274071266038,5.769506529521152,1.3769211739028577,1.2430120410172378,1.6124879367897478,0.08200325168992606,0.4061220159772745,1.891025615260503,5.813507402779749,1.6010872262481683,1.8086595901687872,2.206888305046661,1.1096430718796597,1.7044605916177744,1.7316755757307334,9.039002422728487,1.7427514753434252,0.6622171261652028,3.3854968294789813,0.6873577885243378,3.5246271747340785,0.8484139946929758,1.3804717784184959,1.0140667710653588,6.570980467591198,5.97479041366627,-6.138617881916744,0.47528347123764547,2.1043676176817456,1.4173186687714718,0.5686877860576658,4.861607459207022,3.146689349847037,3.2278001089332093,2.3200311121115362,3.2128442362758136,0.9413338724229448,0.7443845039625074,0.8705108299489126,0.017864802178181094,4.243877714226073,1.5764327938919678,3.1781574687595224,0.34381410365026,1.059721585490223,0.6302914269405733,2.3341958779752474,2.7493905260794236,2.040903247622495,4.851022824576887,1.9546248080203696,1.6384806096843079,1.355626695123462,-0.06022210213131984,0.7906319645402959,4.644504199251642,0.547724635985972,2.0469542774284406,0.6061921308015883,0.8895950671204247,1.3942991969828284,-0.045078274278409936,1.7438620994331302,1.8054799017924665,-0.23257984373617546,1.201908883231198,1.3237298980614298,0.9817350433785634,1.6849812051330133,0.9674324828771717,1.2536491365061266,1.0835272379722198,0.826190780176745,3.219176425619054,2.9491179224965975,1.599774777684388,1.3415331642779904,-5.301513272180628,1.9761555660675754,1.841574785213652,1.9611507939005008,2.410810650218778,1.3366743355494748,1.0278569611681974,1.7986681876937922,1.8794047665928986,0.206906914263854,0.3832530191610175,1.7812440685583226,0.9448001215814941,0.6693015689059081,1.6641850304733339,0.5264670256750605,0.499878819968373,0.47048361226092084,0.024997519145799174,2.1845583844383043,1.3634726689534915,-0.7329493002174274,-0.2523380704353997,0.4211540284982078,-0.22839834068184928,1.3566323853420243,1.769554514931059,2.658436809559575,0.5463972000405306,1.7232532372501623,1.7863434210619076,-0.15649739238016025,1.1314507566237637,0.7998633537755353,3.4199853274615606,0.06451976641879753,-0.14943183443975272,0.7901541740281175,1.818726936110039,1.3246211402927912,0.8855902843694992,1.6644754369959855,2.7456617240184045,1.5125162025754832,1.396407286634357,-0.1998718587884838,-2.973596209353815,1.1512543687435368,1.262126326133128,2.3421816500775634,1.4834440439375385,2.3719075327213943,2.781467201988562,2.465695669318279,0.6191339784941476,1.484039984306392,1.4512182883400015,2.190565028875085,1.623129959844178,2.056067556222928,3.630439551585013,-2.019268374591647,1.3165799920633816,1.4638910603377298,1.9368599490904472,1.4195199243948622,0.744472627092847,0.768690654612513,1.381948116804324,1.928505911157771,0.604172484722568,1.4803216899259724,1.0312443166758385,1.840178379417324,0.365278152104878,1.508869497838461,0.0939131248819507,0.3716087619068418,2.515824152968065,1.0615112698242228,1.2625269073611207,1.3627005766002043,0.441388224111833,1.8257545963703024,3.057362868832911,-0.3598381559257007,0.1154981548524745,1.3071969018735672,2.3100628936027903,0.47552746351597364,1.9090256487260149,1.8164635137289622,1.3195751603953454,-0.8771089670994456,1.5852542316711578,2.888108797295576,1.6886513657479867,1.0544000533127473,1.8608202799822067,1.7830693895185306,-0.8106863906597539,1.6666113949393946,1.2276537292147651,3.775414053304914,1.769572918663755,1.2966789302510051,4.402698462457494,1.2393759539926492,2.542722132757703,1.5349895397758644,5.448879074476167,1.1483383179045745,-1.11225090844664,0.5779037832364651,0.13606391186988276,-0.825581749682442,0.5665582904673983,-0.5849094037567113,3.453775273555806,1.484989024260841,-0.47952394046207303,1.0496381103458106,1.7064614953002035,16.421506212658343,1.2660015853032007,1.3203379938171622,1.5707427873733621,1.274468578638178,0.16786918461244227,-0.036682680439113824,1.0451524921667215,3.567926021193827,-2.597958738322447,1.2797370379789612,0.3717078838276109,2.120947542734797,1.1914450561536967,1.4829823693250574,1.5864304218769405,-0.0477531066535164,1.4748112499792967,0.24773915641399924,1.3071345254658553,2.805006358502851,1.748189465170185,1.0301713031995092,1.6033543026582606,1.3956833982077086,-1.041748608991,2.6312952000498058,0.7125117668808514,0.6789769837791084,2.074369067098992,1.5664916936175644,-0.09540972897245581,1.3555545753824276,0.6037321805355162,-3.662823210807062,1.1842286940598825,0.8893791996988227,1.0643206431813184,0.5986189842609946,1.2199865798842922,1.2916374005553166,0.43750019758705605,0.7152845136383092,2.195598661466434,0.46296780051578423,1.5806532264257385,0.41222021557472033,0.6294614216354972,1.1775785656932385,1.3460467172369022,7.504478774675633,1.2955085727611078,0.9137758530962117,1.6178098685811335,1.9083918568103684,1.6430888820427185,0.28615931979206266,1.5738101663181823,-0.04694674303406998,2.8637121089181363,1.1216884621225205,0.042874873261979474,2.0298874206426802,1.7299668348975388,1.5394155400461926,0.6962930518867267,0.4764551842020097,1.4002665370908858,-0.11813181694083141,0.4934443932319965,0.9765543949518758,2.1325844276911567,0.9507356303192012,0.13633931159276358,1.3571416152463343,-0.22264374359059502,1.1401664177786017,1.2698784843248774,1.3779829992464272,0.04657609322839562,2.631925712324488,0.3663597700371497,1.3175069934775792,-0.7914078532612621,1.4111131125941796,1.8229998782637011,0.7294155060858145,1.8570593985476762,0.07420013940645731,-7.270350251423025,1.6391461814432091,-0.537153942528235,1.1195410981686251,0.9728725447044297,-0.7540493413799396,1.592658345242839,0.6296704777072506,1.0005676536709558,-2.2578256271816883,0.8855088386246024,-4.668329818749015,1.8682850611329513,5.196803431654914,1.1940679694969987,2.0950596071310486,0.45918755126986355,-0.54233332749574,1.1949080206783975,2.579273271347617,1.5045447315859377,1.4645541920102687,-2.512485537134154,3.1498032648256924,0.7923524959676769,1.3254331395375942,0.5426675815016466,1.1450874946168312,0.8460660346104305,0.9590994307097134,1.3488926763187408,1.2767394744981289,0.7955437801396812,1.2444176457302234,0.329598945780603,0.10413463761766906,0.6202015583455562,0.6689548832354717,6.173179744455979,2.3805516733063996,0.35525859531237813,2.3605602390232434,1.6947549484615365,-0.4075654471591008,1.372918989453197,-0.5360983544003091,0.8146455062595095,-0.12203597526837484,0.24860559035039387,0.5729664557931216,1.113475511036242,2.1588560627042455,1.6227727812865282,0.2925366075460545,1.8082336599119486,0.75211665265833,0.47555732283751695,0.5142948448550868,0.7581110300928344,0.876125016332665,-1.6057165507524473,0.8533369736657477,1.1692932343741802,-0.11247646352657625,1.3706808530102847,0.7932340743728759,-0.537868125412615,1.3099721598225216,1.619297952497348,1.6322956974633485,-0.46186258174464,0.5785094705486102,1.3149501960646148,1.9872246307339339,1.5710204884512962,1.3744616671136072,0.3042560604892941,1.3961147284411908,1.6948968559368893,1.8036104037888663,1.1703310116963337,0.43971689710478756,0.8328339403154672,-2.477403304159509,1.4175352427659504,1.247303714082122,3.219534984553107,2.404432357591901,0.7966284802920711,0.9953772714392102,4.409319953960093,0.6558157296669123,-0.2191951503307763,0.559661109696151,0.5660254058419554,0.45484400059700647,1.5421796543232347,0.9288090262923561,3.613334404616893,-11.263971077519301,1.193800124444948,0.8391898900193837,1.4698819554672014,2.8216845597568465,1.4229328065314775,0.37067999210550795,2.5259145309223214,1.5563461069620956,1.0315222211500839,0.0036419048455087477,-1.7744143569693733,-0.8792643001541762,0.7040263891887975,1.062198702745519,0.6286770132645216,1.402025994910133,0.028984984405312275,-0.7336159030956395,1.0180661269120463,1.2766535762992248,-0.702006380046214,1.8558706023282667,1.8616387941543024,1.8113028427406306,1.72932217782936,1.3714704684936407,-0.8920753859953265,2.3175115918845535,-0.08039572567682285,-1.2863533797100075,-1.0721002659229129,0.22443948855783447,0.2394790583849158,1.090602195653105,-0.4531585482934588,1.8172806987273873,-0.595995411933373,1.895353595290672,0.8522802442280408,0.9776462650253706,1.6892707413642825,0.10807444233327601,1.7401834922176533,1.6495160436563907,1.1091233507796687,0.666761703523747,-1.1824525922012583,0.8312804141605454,0.6156689044594543,0.29881939268889823,1.0990085193549533,0.4910595321441775,-0.14610037727818792,1.8565037855965585,-0.36128926540020245,1.3555514311271821,1.0136995906905923,-1.0975210682559293,-3.156639640614685,-0.1912192174223577,2.304593387675311,-1.0650012284338999,2.4846503955822925,0.9854161488600397,0.6007347443362647,0.8144981616786708,0.9804661617648094,-0.6285695487925551,-0.09189260219075379,-0.3666458353784776,1.213181642936064,0.1691912172242951],\"yaxis\":\"y\",\"type\":\"scatter\"},{\"line\":{\"color\":\"black\"},\"mode\":\"lines\",\"showlegend\":false,\"x\":[0.0,16.15924460890647],\"y\":[0.0,16.15924460890647],\"type\":\"scatter\"}],                        {\"template\":{\"data\":{\"histogram2dcontour\":[{\"type\":\"histogram2dcontour\",\"colorbar\":{\"outlinewidth\":0,\"ticks\":\"\"},\"colorscale\":[[0.0,\"#0d0887\"],[0.1111111111111111,\"#46039f\"],[0.2222222222222222,\"#7201a8\"],[0.3333333333333333,\"#9c179e\"],[0.4444444444444444,\"#bd3786\"],[0.5555555555555556,\"#d8576b\"],[0.6666666666666666,\"#ed7953\"],[0.7777777777777778,\"#fb9f3a\"],[0.8888888888888888,\"#fdca26\"],[1.0,\"#f0f921\"]]}],\"choropleth\":[{\"type\":\"choropleth\",\"colorbar\":{\"outlinewidth\":0,\"ticks\":\"\"}}],\"histogram2d\":[{\"type\":\"histogram2d\",\"colorbar\":{\"outlinewidth\":0,\"ticks\":\"\"},\"colorscale\":[[0.0,\"#0d0887\"],[0.1111111111111111,\"#46039f\"],[0.2222222222222222,\"#7201a8\"],[0.3333333333333333,\"#9c179e\"],[0.4444444444444444,\"#bd3786\"],[0.5555555555555556,\"#d8576b\"],[0.6666666666666666,\"#ed7953\"],[0.7777777777777778,\"#fb9f3a\"],[0.8888888888888888,\"#fdca26\"],[1.0,\"#f0f921\"]]}],\"heatmap\":[{\"type\":\"heatmap\",\"colorbar\":{\"outlinewidth\":0,\"ticks\":\"\"},\"colorscale\":[[0.0,\"#0d0887\"],[0.1111111111111111,\"#46039f\"],[0.2222222222222222,\"#7201a8\"],[0.3333333333333333,\"#9c179e\"],[0.4444444444444444,\"#bd3786\"],[0.5555555555555556,\"#d8576b\"],[0.6666666666666666,\"#ed7953\"],[0.7777777777777778,\"#fb9f3a\"],[0.8888888888888888,\"#fdca26\"],[1.0,\"#f0f921\"]]}],\"heatmapgl\":[{\"type\":\"heatmapgl\",\"colorbar\":{\"outlinewidth\":0,\"ticks\":\"\"},\"colorscale\":[[0.0,\"#0d0887\"],[0.1111111111111111,\"#46039f\"],[0.2222222222222222,\"#7201a8\"],[0.3333333333333333,\"#9c179e\"],[0.4444444444444444,\"#bd3786\"],[0.5555555555555556,\"#d8576b\"],[0.6666666666666666,\"#ed7953\"],[0.7777777777777778,\"#fb9f3a\"],[0.8888888888888888,\"#fdca26\"],[1.0,\"#f0f921\"]]}],\"contourcarpet\":[{\"type\":\"contourcarpet\",\"colorbar\":{\"outlinewidth\":0,\"ticks\":\"\"}}],\"contour\":[{\"type\":\"contour\",\"colorbar\":{\"outlinewidth\":0,\"ticks\":\"\"},\"colorscale\":[[0.0,\"#0d0887\"],[0.1111111111111111,\"#46039f\"],[0.2222222222222222,\"#7201a8\"],[0.3333333333333333,\"#9c179e\"],[0.4444444444444444,\"#bd3786\"],[0.5555555555555556,\"#d8576b\"],[0.6666666666666666,\"#ed7953\"],[0.7777777777777778,\"#fb9f3a\"],[0.8888888888888888,\"#fdca26\"],[1.0,\"#f0f921\"]]}],\"surface\":[{\"type\":\"surface\",\"colorbar\":{\"outlinewidth\":0,\"ticks\":\"\"},\"colorscale\":[[0.0,\"#0d0887\"],[0.1111111111111111,\"#46039f\"],[0.2222222222222222,\"#7201a8\"],[0.3333333333333333,\"#9c179e\"],[0.4444444444444444,\"#bd3786\"],[0.5555555555555556,\"#d8576b\"],[0.6666666666666666,\"#ed7953\"],[0.7777777777777778,\"#fb9f3a\"],[0.8888888888888888,\"#fdca26\"],[1.0,\"#f0f921\"]]}],\"mesh3d\":[{\"type\":\"mesh3d\",\"colorbar\":{\"outlinewidth\":0,\"ticks\":\"\"}}],\"scatter\":[{\"fillpattern\":{\"fillmode\":\"overlay\",\"size\":10,\"solidity\":0.2},\"type\":\"scatter\"}],\"parcoords\":[{\"type\":\"parcoords\",\"line\":{\"colorbar\":{\"outlinewidth\":0,\"ticks\":\"\"}}}],\"scatterpolargl\":[{\"type\":\"scatterpolargl\",\"marker\":{\"colorbar\":{\"outlinewidth\":0,\"ticks\":\"\"}}}],\"bar\":[{\"error_x\":{\"color\":\"#2a3f5f\"},\"error_y\":{\"color\":\"#2a3f5f\"},\"marker\":{\"line\":{\"color\":\"#E5ECF6\",\"width\":0.5},\"pattern\":{\"fillmode\":\"overlay\",\"size\":10,\"solidity\":0.2}},\"type\":\"bar\"}],\"scattergeo\":[{\"type\":\"scattergeo\",\"marker\":{\"colorbar\":{\"outlinewidth\":0,\"ticks\":\"\"}}}],\"scatterpolar\":[{\"type\":\"scatterpolar\",\"marker\":{\"colorbar\":{\"outlinewidth\":0,\"ticks\":\"\"}}}],\"histogram\":[{\"marker\":{\"pattern\":{\"fillmode\":\"overlay\",\"size\":10,\"solidity\":0.2}},\"type\":\"histogram\"}],\"scattergl\":[{\"type\":\"scattergl\",\"marker\":{\"colorbar\":{\"outlinewidth\":0,\"ticks\":\"\"}}}],\"scatter3d\":[{\"type\":\"scatter3d\",\"line\":{\"colorbar\":{\"outlinewidth\":0,\"ticks\":\"\"}},\"marker\":{\"colorbar\":{\"outlinewidth\":0,\"ticks\":\"\"}}}],\"scattermapbox\":[{\"type\":\"scattermapbox\",\"marker\":{\"colorbar\":{\"outlinewidth\":0,\"ticks\":\"\"}}}],\"scatterternary\":[{\"type\":\"scatterternary\",\"marker\":{\"colorbar\":{\"outlinewidth\":0,\"ticks\":\"\"}}}],\"scattercarpet\":[{\"type\":\"scattercarpet\",\"marker\":{\"colorbar\":{\"outlinewidth\":0,\"ticks\":\"\"}}}],\"carpet\":[{\"aaxis\":{\"endlinecolor\":\"#2a3f5f\",\"gridcolor\":\"white\",\"linecolor\":\"white\",\"minorgridcolor\":\"white\",\"startlinecolor\":\"#2a3f5f\"},\"baxis\":{\"endlinecolor\":\"#2a3f5f\",\"gridcolor\":\"white\",\"linecolor\":\"white\",\"minorgridcolor\":\"white\",\"startlinecolor\":\"#2a3f5f\"},\"type\":\"carpet\"}],\"table\":[{\"cells\":{\"fill\":{\"color\":\"#EBF0F8\"},\"line\":{\"color\":\"white\"}},\"header\":{\"fill\":{\"color\":\"#C8D4E3\"},\"line\":{\"color\":\"white\"}},\"type\":\"table\"}],\"barpolar\":[{\"marker\":{\"line\":{\"color\":\"#E5ECF6\",\"width\":0.5},\"pattern\":{\"fillmode\":\"overlay\",\"size\":10,\"solidity\":0.2}},\"type\":\"barpolar\"}],\"pie\":[{\"automargin\":true,\"type\":\"pie\"}]},\"layout\":{\"autotypenumbers\":\"strict\",\"colorway\":[\"#636efa\",\"#EF553B\",\"#00cc96\",\"#ab63fa\",\"#FFA15A\",\"#19d3f3\",\"#FF6692\",\"#B6E880\",\"#FF97FF\",\"#FECB52\"],\"font\":{\"color\":\"#2a3f5f\"},\"hovermode\":\"closest\",\"hoverlabel\":{\"align\":\"left\"},\"paper_bgcolor\":\"white\",\"plot_bgcolor\":\"#E5ECF6\",\"polar\":{\"bgcolor\":\"#E5ECF6\",\"angularaxis\":{\"gridcolor\":\"white\",\"linecolor\":\"white\",\"ticks\":\"\"},\"radialaxis\":{\"gridcolor\":\"white\",\"linecolor\":\"white\",\"ticks\":\"\"}},\"ternary\":{\"bgcolor\":\"#E5ECF6\",\"aaxis\":{\"gridcolor\":\"white\",\"linecolor\":\"white\",\"ticks\":\"\"},\"baxis\":{\"gridcolor\":\"white\",\"linecolor\":\"white\",\"ticks\":\"\"},\"caxis\":{\"gridcolor\":\"white\",\"linecolor\":\"white\",\"ticks\":\"\"}},\"coloraxis\":{\"colorbar\":{\"outlinewidth\":0,\"ticks\":\"\"}},\"colorscale\":{\"sequential\":[[0.0,\"#0d0887\"],[0.1111111111111111,\"#46039f\"],[0.2222222222222222,\"#7201a8\"],[0.3333333333333333,\"#9c179e\"],[0.4444444444444444,\"#bd3786\"],[0.5555555555555556,\"#d8576b\"],[0.6666666666666666,\"#ed7953\"],[0.7777777777777778,\"#fb9f3a\"],[0.8888888888888888,\"#fdca26\"],[1.0,\"#f0f921\"]],\"sequentialminus\":[[0.0,\"#0d0887\"],[0.1111111111111111,\"#46039f\"],[0.2222222222222222,\"#7201a8\"],[0.3333333333333333,\"#9c179e\"],[0.4444444444444444,\"#bd3786\"],[0.5555555555555556,\"#d8576b\"],[0.6666666666666666,\"#ed7953\"],[0.7777777777777778,\"#fb9f3a\"],[0.8888888888888888,\"#fdca26\"],[1.0,\"#f0f921\"]],\"diverging\":[[0,\"#8e0152\"],[0.1,\"#c51b7d\"],[0.2,\"#de77ae\"],[0.3,\"#f1b6da\"],[0.4,\"#fde0ef\"],[0.5,\"#f7f7f7\"],[0.6,\"#e6f5d0\"],[0.7,\"#b8e186\"],[0.8,\"#7fbc41\"],[0.9,\"#4d9221\"],[1,\"#276419\"]]},\"xaxis\":{\"gridcolor\":\"white\",\"linecolor\":\"white\",\"ticks\":\"\",\"title\":{\"standoff\":15},\"zerolinecolor\":\"white\",\"automargin\":true,\"zerolinewidth\":2},\"yaxis\":{\"gridcolor\":\"white\",\"linecolor\":\"white\",\"ticks\":\"\",\"title\":{\"standoff\":15},\"zerolinecolor\":\"white\",\"automargin\":true,\"zerolinewidth\":2},\"scene\":{\"xaxis\":{\"backgroundcolor\":\"#E5ECF6\",\"gridcolor\":\"white\",\"linecolor\":\"white\",\"showbackground\":true,\"ticks\":\"\",\"zerolinecolor\":\"white\",\"gridwidth\":2},\"yaxis\":{\"backgroundcolor\":\"#E5ECF6\",\"gridcolor\":\"white\",\"linecolor\":\"white\",\"showbackground\":true,\"ticks\":\"\",\"zerolinecolor\":\"white\",\"gridwidth\":2},\"zaxis\":{\"backgroundcolor\":\"#E5ECF6\",\"gridcolor\":\"white\",\"linecolor\":\"white\",\"showbackground\":true,\"ticks\":\"\",\"zerolinecolor\":\"white\",\"gridwidth\":2}},\"shapedefaults\":{\"line\":{\"color\":\"#2a3f5f\"}},\"annotationdefaults\":{\"arrowcolor\":\"#2a3f5f\",\"arrowhead\":0,\"arrowwidth\":1},\"geo\":{\"bgcolor\":\"white\",\"landcolor\":\"#E5ECF6\",\"subunitcolor\":\"white\",\"showland\":true,\"showlakes\":true,\"lakecolor\":\"white\"},\"title\":{\"x\":0.05},\"mapbox\":{\"style\":\"light\"}}},\"xaxis\":{\"anchor\":\"y\",\"domain\":[0.0,1.0],\"title\":{\"text\":\"TR\"}},\"yaxis\":{\"anchor\":\"x\",\"domain\":[0.0,1.0],\"title\":{\"text\":\"TR previsto\"},\"range\":[0,16]},\"coloraxis\":{\"colorbar\":{\"title\":{\"text\":\"Erro absoluto\"}},\"colorscale\":[[0.0,\"rgb(75, 41, 145)\"],[0.16666666666666666,\"rgb(135, 44, 162)\"],[0.3333333333333333,\"rgb(192, 54, 157)\"],[0.5,\"rgb(234, 79, 136)\"],[0.6666666666666666,\"rgb(250, 120, 118)\"],[0.8333333333333334,\"rgb(246, 169, 122)\"],[1.0,\"rgb(237, 217, 163)\"]]},\"legend\":{\"tracegroupgap\":0},\"title\":{\"text\":\"Validação cruzada Leave One Out\"},\"showlegend\":true},                        {\"responsive\": true}                    ).then(function(){\n",
              "                            \n",
              "var gd = document.getElementById('c2d13498-668d-409a-9750-65a84fb1aae4');\n",
              "var x = new MutationObserver(function (mutations, observer) {{\n",
              "        var display = window.getComputedStyle(gd).display;\n",
              "        if (!display || display === 'none') {{\n",
              "            console.log([gd, 'removed!']);\n",
              "            Plotly.purge(gd);\n",
              "            observer.disconnect();\n",
              "        }}\n",
              "}});\n",
              "\n",
              "// Listen for the removal of the full notebook cells\n",
              "var notebookContainer = gd.closest('#notebook-container');\n",
              "if (notebookContainer) {{\n",
              "    x.observe(notebookContainer, {childList: true});\n",
              "}}\n",
              "\n",
              "// Listen for the clearing of the current output cell\n",
              "var outputEl = gd.closest('.output');\n",
              "if (outputEl) {{\n",
              "    x.observe(outputEl, {childList: true});\n",
              "}}\n",
              "\n",
              "                        })                };                            </script>        </div>\n",
              "</body>\n",
              "</html>"
            ]
          },
          "metadata": {}
        }
      ]
    },
    {
      "cell_type": "code",
      "source": [],
      "metadata": {
        "id": "jAVFDPxaxM2P"
      },
      "execution_count": null,
      "outputs": []
    },
    {
      "cell_type": "markdown",
      "source": [
        "## **Autoregressão espacial**"
      ],
      "metadata": {
        "id": "tKZyYPpRtshv"
      }
    },
    {
      "cell_type": "markdown",
      "source": [
        "Conforme já apresentado, os dados do presente estudo apresentam elevado grau de correlação espacial. Optou-se, portanto, por testar modelos que levam em conta tais dependências. Os modelos de regressão espacial, portanto, partem do pressuposto de que diferentes observações distribuídas no espaço exercem influência umas às outras em função da distância, ao contrário da regressão clássica, que supõe independência entre instâncias."
      ],
      "metadata": {
        "id": "EFkRvTxVuRdy"
      }
    },
    {
      "cell_type": "markdown",
      "source": [
        "\n",
        "O Spatial Lag Model (SLM) constitui um modelo de regressão que incorpora a variável dependente defasada espacialmente como uma variável explicativa no modelo. Define-se o SLM como:\n",
        "\n",
        "$$\n",
        "y = ρWy + Xβ + ϵ\n",
        "$$\n",
        "\n",
        "\n",
        "Onde:\n",
        "\n",
        "- ρ é o parâmetro de defasagem espacial que mede a intensidade da dependência espacial.\n",
        "\n",
        "- 𝑊 é a matriz de pesos espaciais que define a relação entre localidades (por exemplo, contiguidade Queen)."
      ],
      "metadata": {
        "id": "T7n-kbdzitHA"
      }
    },
    {
      "cell_type": "markdown",
      "source": [
        "Há ainda, na família dos modelos de regressão espacial, a classe dos Spatial Error Model (SEM), que prevê que a dependência espacial está nos erros do modelo de regressão, não na variável dependente em si. Isso sugere que há fatores omitidos que estão espacialmente correlacionados.\n",
        "\n",
        "\n",
        "A equação do SEM pode ser representada da seguinte forma:\n",
        "\n",
        "$$\n",
        "𝑦 = 𝑋𝛽 + 𝜆𝑊𝜖 + 𝜇\n",
        "$$\n",
        "\n",
        "Onde:\n",
        "\n",
        "- 𝜆: Parâmetro que captura a autocorrelação espacial nos erros.\n",
        "- μ: Erro aleatório"
      ],
      "metadata": {
        "id": "PxJil0_5kpnZ"
      }
    },
    {
      "cell_type": "markdown",
      "source": [
        "### **Matriz de pesos espaciais**"
      ],
      "metadata": {
        "id": "Ju8rBLQRM8jG"
      }
    },
    {
      "cell_type": "markdown",
      "source": [
        "**Utilizando a matriz de pesos inversa das distâncias**\n",
        "\n",
        "A matriz $W$ de distâncias sobre a qual se ponderam os modelos implementados a seguit é calculada a partir da distância inversa entre os municípios, considerando os 10 vizinhos mais próximos, isto é:\n",
        "\n"
      ],
      "metadata": {
        "id": "gX_PdUPs5OAs"
      }
    },
    {
      "cell_type": "markdown",
      "source": [
        "\n",
        "\n",
        "$W_{ij}$ = \\begin{cases}\n",
        "\\frac{\\frac{1}{d_{ij}}}{\\sum_{j=1}^{n} \\frac{1}{d_{ij}}}, & \\text{se for um dos KNN} \\\\\n",
        "0, & \\text{caso contrário.}\n",
        "\\end{cases}\n",
        "\n",
        "\n"
      ],
      "metadata": {
        "id": "kK3ztz6X52Zh"
      }
    },
    {
      "cell_type": "markdown",
      "source": [
        "Dessa forma, a matriz de pesos é tão densa quanto maior o número de vizinhos considerados no KNN."
      ],
      "metadata": {
        "id": "UVDUrPfLDEk1"
      }
    },
    {
      "cell_type": "code",
      "source": [
        "#@title Cálculo da matriz de distâncias W\n",
        "\n",
        "def calcular_pesos_knn(df, x_col='x_centroid', y_col='y_centroid', k=10):\n",
        "\n",
        "    coords = df[[x_col, y_col]].values\n",
        "    dist_matrix = distance_matrix(coords, coords)\n",
        "    np.fill_diagonal(dist_matrix, np.inf)\n",
        "\n",
        "    nearest_neighbors_indices = np.argsort(dist_matrix, axis=1)[:, :k]\n",
        "    nearest_neighbors_distances = np.take_along_axis(dist_matrix, nearest_neighbors_indices, axis=1)\n",
        "\n",
        "    weights = 1 / nearest_neighbors_distances\n",
        "    weights[np.isinf(weights)] = 0\n",
        "    weights_normalized = weights / weights.sum(axis=1)[:, np.newaxis]\n",
        "\n",
        "    n = df.shape[0]\n",
        "    W_matrix = np.zeros((n, n))\n",
        "\n",
        "    for i in range(n):\n",
        "        W_matrix[i, nearest_neighbors_indices[i]] = weights_normalized[i]\n",
        "\n",
        "    w_knn = libpysal.weights.full2W(W_matrix)\n",
        "\n",
        "    return w_knn"
      ],
      "metadata": {
        "collapsed": true,
        "id": "yawwE4k25BCr"
      },
      "execution_count": 5,
      "outputs": []
    },
    {
      "cell_type": "code",
      "source": [
        "#@title Definindo outras matrizes de peso\n",
        "\n",
        "w_queen = Queen.from_dataframe(df)\n",
        "w = calcular_pesos_knn(df, k=640)\n",
        "w_knn = calcular_pesos_knn(df, k=10)\n",
        "w_rook = Rook.from_dataframe(df)\n",
        "\n",
        "moran_queen = Moran(y, w_queen)\n",
        "moran_completo = Moran(y, w)\n",
        "moran_knn = Moran(y, w_knn)\n",
        "moran_rook = Moran(y, w_rook)\n",
        "\n",
        "print(f\"Moran's I matriz densa: {moran_completo.I}, p-value: {moran_completo.p_sim}\")\n",
        "print(f\"Moran's I Queen: {moran_queen.I}, p-value: {moran_queen.p_sim}\")\n",
        "print(f\"Moran's I KNN: {moran_knn.I}, p-value: {moran_knn.p_sim}\")\n",
        "print(f\"Moran's I Rook: {moran_rook.I}, p-value: {moran_rook.p_sim}\")"
      ],
      "metadata": {
        "cellView": "form",
        "id": "TquaEcQltquP",
        "colab": {
          "base_uri": "https://localhost:8080/"
        },
        "outputId": "fa49489c-010c-4a06-ea44-3e769209ff1d"
      },
      "execution_count": 6,
      "outputs": [
        {
          "output_type": "stream",
          "name": "stdout",
          "text": [
            "('WARNING: ', 41, ' is an island (no neighbors)')\n",
            "('WARNING: ', 41, ' is an island (no neighbors)')\n",
            "Moran's I matriz densa: 0.24695673972069324, p-value: 0.001\n",
            "Moran's I Queen: 0.7367193634128187, p-value: 0.001\n",
            "Moran's I KNN: 0.6870726621719322, p-value: 0.001\n",
            "Moran's I Rook: 0.7298311647889973, p-value: 0.001\n"
          ]
        }
      ]
    },
    {
      "cell_type": "markdown",
      "source": [
        "### **Multicolinearidade**\n",
        "\n",
        "Quando duas ou mais variáveis independentes em um modelo de regressão estão altamente correlacionadas entre si, a distinção do efeito individual de cada variável sobre a variável dependente é comprometida. Assim, os coeficientes de regressão se tornam instáveis, aumentando a variância e, por consequência, a incerteza das estimativas.\n",
        "\n",
        "Para mitigar a colinearidade, utiliza-se o Fator de Inflação da Variância (VIF - Variance Inflation Factor). O VIF para uma variável é dado por:\n",
        "\n",
        "$$\n",
        "X_i = X_i/(1 - R_i^2)\n",
        "$$\n",
        "\n",
        "Onde $R_i^2$ é o coeficiente de determinação obtido ao regressar a variável $X_i$ contra todas as outras variáveis independentes no modelo."
      ],
      "metadata": {
        "id": "Xv_8McfdJI1L"
      }
    },
    {
      "cell_type": "code",
      "source": [
        "#@title Testes de multicolinearidade\n",
        "X_vif = df[['Area_Km2', 'IPDM', 'CAER', 'CAEC',\n",
        "           'RTF', 'IndRiq', 'TMI', 'TMP', 'TM1539', 'TM6069',\n",
        "            'TAE03','IndLong', 'TAE03',\n",
        "            'Prof5ano', 'Prof9ano', 'TDISM',\n",
        "           'IndEsc', 'populacao', 'Agrop', 'Gini', 'Indústria', 'AdmPub', 'ServExc',\n",
        "          'ValAdic', 'ImpLiq', 'PIB', 'PIBpc']]\n",
        "\n",
        "X_vif = sm.add_constant(X_vif)\n",
        "\n",
        "vif_data = pd.DataFrame()\n",
        "vif_data[\"feature\"] = X_vif.columns\n",
        "vif_data[\"VIF\"] = [variance_inflation_factor(X_vif.values, i)\n",
        "                   for i in range(X_vif.shape[1])]\n",
        "print(vif_data)\n"
      ],
      "metadata": {
        "colab": {
          "base_uri": "https://localhost:8080/"
        },
        "id": "m4_luPMTjmhr",
        "outputId": "4d469ebe-91b8-407b-f30c-1b2a7f40a684",
        "cellView": "form"
      },
      "execution_count": null,
      "outputs": [
        {
          "output_type": "stream",
          "name": "stdout",
          "text": [
            "      feature           VIF\n",
            "0       const  1.258036e+07\n",
            "1    Area_Km2  1.534944e+00\n",
            "2        IPDM  3.863852e+04\n",
            "3        CAER  2.893766e+00\n",
            "4        CAEC  2.357438e+00\n",
            "5         RTF  3.151233e+00\n",
            "6      IndRiq  8.800937e+03\n",
            "7         TMI  1.162392e+04\n",
            "8         TMP  2.265768e+04\n",
            "9      TM1539  5.471300e+03\n",
            "10     TM6069  4.559739e+03\n",
            "11      TAE03           inf\n",
            "12    IndLong  7.612581e+04\n",
            "13      TAE03           inf\n",
            "14   Prof5ano  4.635494e+03\n",
            "15   Prof9ano  3.688841e+03\n",
            "16      TDISM  1.235475e+03\n",
            "17     IndEsc  3.213727e+04\n",
            "18  populacao  1.064765e+03\n",
            "19      Agrop           inf\n",
            "20       Gini  1.428608e+00\n",
            "21  Indústria           inf\n",
            "22     AdmPub           inf\n",
            "23    ServExc           inf\n",
            "24    ValAdic           inf\n",
            "25     ImpLiq           inf\n",
            "26        PIB           inf\n",
            "27      PIBpc  2.564724e+00\n"
          ]
        }
      ]
    },
    {
      "cell_type": "code",
      "source": [
        "#@title Testes de multicolinearidade\n",
        "X_vif = df[['Area_Km2', 'IPDM', 'CAER', 'CAEC',\n",
        "           'RTF', 'IndRiq', 'TMI', 'TMP', 'TM1539', 'TM6069',\n",
        "           'IndLong', 'TAE03', 'TDISM',\n",
        "           'IndEsc', 'populacao', 'Agrop', 'Gini']]\n",
        "\n",
        "X_vif = sm.add_constant(X_vif)\n",
        "\n",
        "vif_data = pd.DataFrame()\n",
        "vif_data[\"feature\"] = X_vif.columns\n",
        "vif_data[\"VIF\"] = [variance_inflation_factor(X_vif.values, i)\n",
        "                   for i in range(X_vif.shape[1])]\n",
        "print(vif_data)\n"
      ],
      "metadata": {
        "id": "mkCJf1TtI_cK",
        "colab": {
          "base_uri": "https://localhost:8080/"
        },
        "outputId": "a013463f-7f8d-4257-9530-fd255dc64131",
        "cellView": "form"
      },
      "execution_count": null,
      "outputs": [
        {
          "output_type": "stream",
          "name": "stdout",
          "text": [
            "      feature           VIF\n",
            "0       const  1.241340e+07\n",
            "1    Area_Km2  1.490267e+00\n",
            "2        IPDM  3.796301e+04\n",
            "3        CAER  2.617284e+00\n",
            "4        CAEC  2.099127e+00\n",
            "5         RTF  2.618920e+00\n",
            "6      IndRiq  8.649324e+03\n",
            "7         TMI  1.155557e+04\n",
            "8         TMP  2.252285e+04\n",
            "9      TM1539  5.439494e+03\n",
            "10     TM6069  4.532252e+03\n",
            "11    IndLong  7.535137e+04\n",
            "12      TAE03  1.720634e+00\n",
            "13      TDISM  1.275999e+00\n",
            "14     IndEsc  1.162225e+04\n",
            "15  populacao  1.100668e+00\n",
            "16      Agrop  1.422367e+00\n",
            "17       Gini  1.369064e+00\n"
          ]
        }
      ]
    },
    {
      "cell_type": "code",
      "source": [
        "#@title Testes de multicolinearidade após remoção\n",
        "X_vif = df[['Area_Km2', 'CAER', 'CAEC',\n",
        "           'RTF', 'IndRiq', 'TMI', 'TMP', 'TM1539', 'TM6069', 'TAE03', 'TDISM',\n",
        "           'IndEsc', 'populacao', 'Agrop']]\n",
        "\n",
        "X_vif = sm.add_constant(X_vif)\n",
        "\n",
        "vif_data = pd.DataFrame()\n",
        "vif_data[\"feature\"] = X_vif.columns\n",
        "vif_data[\"VIF\"] = [variance_inflation_factor(X_vif.values, i)\n",
        "                   for i in range(X_vif.shape[1])]\n",
        "print(vif_data)\n"
      ],
      "metadata": {
        "id": "Z6L9zTCV87tD",
        "colab": {
          "base_uri": "https://localhost:8080/"
        },
        "outputId": "5d5ce5ba-a792-42bf-b81f-de5eae24208f",
        "cellView": "form"
      },
      "execution_count": null,
      "outputs": [
        {
          "output_type": "stream",
          "name": "stdout",
          "text": [
            "      feature         VIF\n",
            "0       const  142.871472\n",
            "1    Area_Km2    1.389237\n",
            "2        CAER    2.569998\n",
            "3        CAEC    2.098613\n",
            "4         RTF    2.614000\n",
            "5      IndRiq    7.100628\n",
            "6         TMI    1.365036\n",
            "7         TMP    1.364410\n",
            "8      TM1539    1.060860\n",
            "9      TM6069    1.089630\n",
            "10      TAE03    1.706071\n",
            "11      TDISM    1.274928\n",
            "12     IndEsc    2.093061\n",
            "13  populacao    1.079162\n",
            "14      Agrop    1.404500\n"
          ]
        }
      ]
    },
    {
      "cell_type": "code",
      "source": [
        "#@title Testes de multicolinearidade após remoção\n",
        "X_vif = df[['Area_Km2', 'CAER', 'CAEC',\n",
        "           'RTF', 'IndRiq', 'TMI', 'TMP', 'TM1539', 'TM6069', 'TAE03', 'TDISM',\n",
        "           'IndEsc', 'populacao', 'Agrop', 'Gini']]\n",
        "\n",
        "X_vif = sm.add_constant(X_vif)\n",
        "\n",
        "vif_data = pd.DataFrame()\n",
        "vif_data[\"feature\"] = X_vif.columns\n",
        "vif_data[\"VIF\"] = [variance_inflation_factor(X_vif.values, i)\n",
        "                   for i in range(X_vif.shape[1])]\n",
        "print(vif_data)\n"
      ],
      "metadata": {
        "colab": {
          "base_uri": "https://localhost:8080/"
        },
        "cellView": "form",
        "id": "IDbbVh4LWAIs",
        "outputId": "a1043ff3-9642-47bb-a94f-4359d23d82b0"
      },
      "execution_count": null,
      "outputs": [
        {
          "output_type": "stream",
          "name": "stdout",
          "text": [
            "      feature         VIF\n",
            "0       const  200.782546\n",
            "1    Area_Km2    1.482678\n",
            "2        CAER    2.609345\n",
            "3        CAEC    2.098621\n",
            "4         RTF    2.616782\n",
            "5      IndRiq    7.130652\n",
            "6         TMI    1.369909\n",
            "7         TMP    1.376935\n",
            "8      TM1539    1.061704\n",
            "9      TM6069    1.090166\n",
            "10      TAE03    1.718088\n",
            "11      TDISM    1.275056\n",
            "12     IndEsc    2.105884\n",
            "13  populacao    1.096660\n",
            "14      Agrop    1.409050\n",
            "15       Gini    1.365747\n"
          ]
        }
      ]
    },
    {
      "cell_type": "markdown",
      "source": [
        "---"
      ],
      "metadata": {
        "id": "tzfS3qdgtAjU"
      }
    },
    {
      "cell_type": "markdown",
      "source": [
        "### **Modelos de Regressão**"
      ],
      "metadata": {
        "id": "NQ7thkvKtJ_A"
      }
    },
    {
      "cell_type": "code",
      "source": [
        "#@title Testando modelo completo\n",
        "\n",
        "y = (df['TR2014'] * 1000 / df['populacao']).values\n",
        "X = df[['Area_Km2', 'IPDM', 'CAER', 'CAEC',\n",
        "           'RTF', 'IndRiq', 'TMI', 'TMP', 'TM1539', 'TM6069',\n",
        "           'IndLong', 'TAE03', 'TDISM',\n",
        "           'IndEsc', 'populacao', 'Agrop', 'Gini']]\n",
        "\n",
        "model_SLM = GM_Lag(\n",
        "    y, X,\n",
        "    w=w_knn,\n",
        "    name_y='IC2014',\n",
        "    name_x=['Area_Km2', 'IPDM', 'CAER', 'CAEC',\n",
        "           'RTF', 'IndRiq', 'TMI', 'TMP', 'TM1539', 'TM6069',\n",
        "           'IndLong', 'TAE03', 'TDISM',\n",
        "           'IndEsc', 'populacao', 'Agrop', 'Gini']\n",
        ")\n",
        "\n",
        "print(model_SLM.summary)"
      ],
      "metadata": {
        "id": "WIaIBmWQ9TtY",
        "colab": {
          "base_uri": "https://localhost:8080/"
        },
        "outputId": "5271eea7-cd93-4d67-fd2e-2726dc772853",
        "cellView": "form"
      },
      "execution_count": null,
      "outputs": [
        {
          "output_type": "stream",
          "name": "stdout",
          "text": [
            "REGRESSION RESULTS\n",
            "------------------\n",
            "\n",
            "SUMMARY OF OUTPUT: SPATIAL TWO STAGE LEAST SQUARES\n",
            "--------------------------------------------------\n",
            "Data set            :     unknown\n",
            "Weights matrix      :     unknown\n",
            "Dependent Variable  :      IC2014                Number of Observations:         640\n",
            "Mean dependent var  :      1.5583                Number of Variables   :          19\n",
            "S.D. dependent var  :      2.2386                Degrees of Freedom    :         621\n",
            "Pseudo R-squared    :      0.7395\n",
            "Spatial Pseudo R-squared:  0.5495\n",
            "\n",
            "------------------------------------------------------------------------------------\n",
            "            Variable     Coefficient       Std.Error     z-Statistic     Probability\n",
            "------------------------------------------------------------------------------------\n",
            "            CONSTANT       -23.65180       159.05928        -0.14870         0.88179\n",
            "            Area_Km2         0.00051         0.00018         2.79091         0.00526\n",
            "                IPDM      -106.56165       166.84726        -0.63868         0.52303\n",
            "                CAER         0.06694         0.15241         0.43922         0.66050\n",
            "                CAEC        -0.01044         0.00492        -2.12180         0.03385\n",
            "                 RTF        -0.00017         0.00009        -1.99951         0.04555\n",
            "              IndRiq        41.80690        55.65042         0.75124         0.45251\n",
            "                 TMI         0.12287         0.90338         0.13601         0.89182\n",
            "                 TMP         0.15677         1.17353         0.13359         0.89373\n",
            "              TM1539         1.32207         7.82605         0.16893         0.86585\n",
            "              TM6069         0.11940         0.84634         0.14108         0.88781\n",
            "             IndLong        56.39689       166.98576         0.33773         0.73556\n",
            "               TAE03        -0.00269         0.00395        -0.68016         0.49640\n",
            "               TDISM        -0.01455         0.00900        -1.61609         0.10607\n",
            "              IndEsc        35.32135        55.63387         0.63489         0.52550\n",
            "           populacao         0.00000         0.00000         4.45263         0.00001\n",
            "               Agrop        -0.00000         0.00000        -1.43245         0.15202\n",
            "                Gini         0.59873         0.96453         0.62075         0.53476\n",
            "            W_IC2014         0.92278         0.04164        22.16219         0.00000\n",
            "------------------------------------------------------------------------------------\n",
            "Instrumented: W_IC2014\n",
            "Instruments: W_Agrop, W_Area_Km2, W_CAEC, W_CAER, W_Gini, W_IPDM, W_IndEsc,\n",
            "             W_IndLong, W_IndRiq, W_RTF, W_TAE03, W_TDISM, W_TM1539,\n",
            "             W_TM6069, W_TMI, W_TMP, W_populacao\n",
            "\n",
            "DIAGNOSTICS FOR SPATIAL DEPENDENCE\n",
            "TEST                              DF         VALUE           PROB\n",
            "Anselin-Kelejian Test             1         11.537           0.0007\n",
            "\n",
            "SPATIAL LAG MODEL IMPACTS\n",
            "Impacts computed using the 'simple' method.\n",
            "            Variable         Direct        Indirect          Total\n",
            "            Area_Km2         0.0005          0.0061          0.0066\n",
            "                IPDM      -106.5616      -1273.4668      -1380.0284\n",
            "                CAER         0.0669          0.8000          0.8670\n",
            "                CAEC        -0.0104         -0.1248         -0.1352\n",
            "                 RTF        -0.0002         -0.0021         -0.0023\n",
            "              IndRiq        41.8069        499.6141        541.4210\n",
            "                 TMI         0.1229          1.4683          1.5912\n",
            "                 TMP         0.1568          1.8735          2.0303\n",
            "              TM1539         1.3221         15.7994         17.1215\n",
            "              TM6069         0.1194          1.4269          1.5463\n",
            "             IndLong        56.3969        673.9720        730.3689\n",
            "               TAE03        -0.0027         -0.0321         -0.0348\n",
            "               TDISM        -0.0146         -0.1739         -0.1885\n",
            "              IndEsc        35.3214        422.1084        457.4298\n",
            "           populacao         0.0000          0.0000          0.0000\n",
            "               Agrop        -0.0000         -0.0000         -0.0000\n",
            "                Gini         0.5987          7.1551          7.7539\n",
            "================================ END OF REPORT =====================================\n"
          ]
        }
      ]
    },
    {
      "cell_type": "code",
      "source": [
        "#@title Testando modelo ao retirar multicolinearidade\n",
        "y = (df['TR2014'] * 1000 / df['populacao']).values\n",
        "X = df[['Area_Km2', 'CAER', 'CAEC',\n",
        "           'RTF', 'IndRiq', 'TMI', 'TMP', 'TM1539', 'TM6069', 'TAE03', 'TDISM',\n",
        "           'IndEsc', 'populacao', 'Agrop', 'Gini']]\n",
        "\n",
        "model_SLM = GM_Lag(\n",
        "    y, X,\n",
        "    w=w_knn,\n",
        "    name_y='IC2014',\n",
        "    name_x=['Area_Km2', 'CAER', 'CAEC',\n",
        "           'RTF', 'IndRiq', 'TMI', 'TMP', 'TM1539', 'TM6069', 'TAE03', 'TDISM',\n",
        "           'IndEsc', 'populacao', 'Agrop', 'Gini']\n",
        ")\n",
        "\n",
        "print(model_SLM.summary)"
      ],
      "metadata": {
        "id": "KICIZQIy0fqs",
        "colab": {
          "base_uri": "https://localhost:8080/"
        },
        "outputId": "ad796729-4ad0-4dac-df3e-f1ba85badfec",
        "cellView": "form"
      },
      "execution_count": null,
      "outputs": [
        {
          "output_type": "stream",
          "name": "stdout",
          "text": [
            "REGRESSION RESULTS\n",
            "------------------\n",
            "\n",
            "SUMMARY OF OUTPUT: SPATIAL TWO STAGE LEAST SQUARES\n",
            "--------------------------------------------------\n",
            "Data set            :     unknown\n",
            "Weights matrix      :     unknown\n",
            "Dependent Variable  :      IC2014                Number of Observations:         640\n",
            "Mean dependent var  :      1.5583                Number of Variables   :          17\n",
            "S.D. dependent var  :      2.2386                Degrees of Freedom    :         623\n",
            "Pseudo R-squared    :      0.7394\n",
            "Spatial Pseudo R-squared:  0.5486\n",
            "\n",
            "------------------------------------------------------------------------------------\n",
            "            Variable     Coefficient       Std.Error     z-Statistic     Probability\n",
            "------------------------------------------------------------------------------------\n",
            "            CONSTANT        -2.40878         0.66090        -3.64469         0.00027\n",
            "            Area_Km2         0.00051         0.00018         2.76969         0.00561\n",
            "                CAER         0.06658         0.15239         0.43690         0.66218\n",
            "                CAEC        -0.01040         0.00492        -2.11171         0.03471\n",
            "                 RTF        -0.00018         0.00009        -2.00419         0.04505\n",
            "              IndRiq         6.27145         1.59547         3.93079         0.00008\n",
            "                 TMI         0.00230         0.00991         0.23183         0.81667\n",
            "                 TMP         0.00004         0.00918         0.00481         0.99616\n",
            "              TM1539         0.27739         0.10944         2.53450         0.01126\n",
            "              TM6069         0.00633         0.01321         0.47908         0.63188\n",
            "               TAE03        -0.00272         0.00395        -0.68780         0.49158\n",
            "               TDISM        -0.01446         0.00900        -1.60578         0.10832\n",
            "              IndEsc        -0.20624         0.75030        -0.27487         0.78341\n",
            "           populacao         0.00000         0.00000         4.50499         0.00001\n",
            "               Agrop        -0.00000         0.00000        -1.41534         0.15697\n",
            "                Gini         0.58033         0.96513         0.60130         0.54764\n",
            "            W_IC2014         0.92136         0.04171        22.09016         0.00000\n",
            "------------------------------------------------------------------------------------\n",
            "Instrumented: W_IC2014\n",
            "Instruments: W_Agrop, W_Area_Km2, W_CAEC, W_CAER, W_Gini, W_IndEsc,\n",
            "             W_IndRiq, W_RTF, W_TAE03, W_TDISM, W_TM1539, W_TM6069, W_TMI,\n",
            "             W_TMP, W_populacao\n",
            "\n",
            "DIAGNOSTICS FOR SPATIAL DEPENDENCE\n",
            "TEST                              DF         VALUE           PROB\n",
            "Anselin-Kelejian Test             1         11.524           0.0007\n",
            "\n",
            "SPATIAL LAG MODEL IMPACTS\n",
            "Impacts computed using the 'simple' method.\n",
            "            Variable         Direct        Indirect          Total\n",
            "            Area_Km2         0.0005          0.0059          0.0064\n",
            "                CAER         0.0666          0.7801          0.8467\n",
            "                CAEC        -0.0104         -0.1218         -0.1322\n",
            "                 RTF        -0.0002         -0.0021         -0.0022\n",
            "              IndRiq         6.2715         73.4798         79.7513\n",
            "                 TMI         0.0023          0.0269          0.0292\n",
            "                 TMP         0.0000          0.0005          0.0006\n",
            "              TM1539         0.2774          3.2500          3.5274\n",
            "              TM6069         0.0063          0.0741          0.0805\n",
            "               TAE03        -0.0027         -0.0318         -0.0345\n",
            "               TDISM        -0.0145         -0.1694         -0.1838\n",
            "              IndEsc        -0.2062         -2.4164         -2.6226\n",
            "           populacao         0.0000          0.0000          0.0000\n",
            "               Agrop        -0.0000         -0.0000         -0.0000\n",
            "                Gini         0.5803          6.7995          7.3798\n",
            "================================ END OF REPORT =====================================\n"
          ]
        }
      ]
    },
    {
      "cell_type": "code",
      "source": [
        "print(Moran(model_SLM.predy, w_knn).p_sim)\n",
        "print(Moran(model_SLM.predy, w_knn).I)"
      ],
      "metadata": {
        "colab": {
          "base_uri": "https://localhost:8080/"
        },
        "id": "qEKSf9DFdhGI",
        "outputId": "0462bb1f-3d8f-40c7-bdbf-783444b60ba9"
      },
      "execution_count": null,
      "outputs": [
        {
          "output_type": "stream",
          "name": "stdout",
          "text": [
            "0.001\n",
            "0.9078681053164938\n"
          ]
        }
      ]
    },
    {
      "cell_type": "code",
      "source": [
        "#@title Testando modelo reduzido\n",
        "\n",
        "y_model = (df['TR2014'] * 1000 / df['populacao']).values\n",
        "X_model = df[['Area_Km2', 'CAER', 'CAEC',\n",
        "           'RTF', 'IndRiq', 'TM1539', 'TM6069', 'TAE03',\n",
        "           'IndEsc', 'Agrop', 'Gini']]\n",
        "\n",
        "model_SLM = GM_Lag(\n",
        "    y_model, X_model,\n",
        "    w=w_knn,\n",
        "    name_y='IC2014',\n",
        "    name_x=['Area_Km2', 'CAER', 'CAEC',\n",
        "           'RTF', 'IndRiq', 'TM1539', 'TM6069', 'TAE03',\n",
        "           'IndEsc', 'Agrop', 'Gini']\n",
        ")\n",
        "\n",
        "print(model_SLM.summary)"
      ],
      "metadata": {
        "cellView": "form",
        "id": "HiiS93JFzXC4",
        "colab": {
          "base_uri": "https://localhost:8080/"
        },
        "outputId": "f66a1ef3-bef2-45c9-93db-90dc8ae7885b"
      },
      "execution_count": null,
      "outputs": [
        {
          "output_type": "stream",
          "name": "stdout",
          "text": [
            "REGRESSION RESULTS\n",
            "------------------\n",
            "\n",
            "SUMMARY OF OUTPUT: SPATIAL TWO STAGE LEAST SQUARES\n",
            "--------------------------------------------------\n",
            "Data set            :     unknown\n",
            "Weights matrix      :     unknown\n",
            "Dependent Variable  :      IC2014                Number of Observations:         640\n",
            "Mean dependent var  :      1.5583                Number of Variables   :          13\n",
            "S.D. dependent var  :      2.2386                Degrees of Freedom    :         627\n",
            "Pseudo R-squared    :      0.7268\n",
            "Spatial Pseudo R-squared:  0.4408\n",
            "\n",
            "------------------------------------------------------------------------------------\n",
            "            Variable     Coefficient       Std.Error     z-Statistic     Probability\n",
            "------------------------------------------------------------------------------------\n",
            "            CONSTANT        -3.30450         0.63343        -5.21683         0.00000\n",
            "            Area_Km2         0.00054         0.00018         2.91343         0.00357\n",
            "                CAER         0.11266         0.15708         0.71719         0.47325\n",
            "                CAEC        -0.00743         0.00508        -1.46241         0.14363\n",
            "                 RTF        -0.00015         0.00009        -1.70966         0.08733\n",
            "              IndRiq         6.53174         1.62879         4.01017         0.00006\n",
            "              TM1539         0.30012         0.11134         2.69554         0.00703\n",
            "              TM6069         0.00812         0.01346         0.60280         0.54664\n",
            "               TAE03        -0.00430         0.00402        -1.06769         0.28566\n",
            "              IndEsc        -0.01678         0.71107        -0.02360         0.98117\n",
            "               Agrop        -0.00000         0.00000        -1.84158         0.06554\n",
            "                Gini         1.76447         1.00371         1.75795         0.07876\n",
            "            W_IC2014         0.84710         0.04650        18.21840         0.00000\n",
            "------------------------------------------------------------------------------------\n",
            "Instrumented: W_IC2014\n",
            "Instruments: W_Agrop, W_Area_Km2, W_CAEC, W_CAER, W_Gini, W_IndEsc,\n",
            "             W_IndRiq, W_RTF, W_TAE03, W_TM1539, W_TM6069\n",
            "\n",
            "DIAGNOSTICS FOR SPATIAL DEPENDENCE\n",
            "TEST                              DF         VALUE           PROB\n",
            "Anselin-Kelejian Test             1          0.336           0.5620\n",
            "\n",
            "SPATIAL LAG MODEL IMPACTS\n",
            "Impacts computed using the 'simple' method.\n",
            "            Variable         Direct        Indirect          Total\n",
            "            Area_Km2         0.0005          0.0030          0.0035\n",
            "                CAER         0.1127          0.6241          0.7368\n",
            "                CAEC        -0.0074         -0.0412         -0.0486\n",
            "                 RTF        -0.0002         -0.0008         -0.0010\n",
            "              IndRiq         6.5317         36.1870         42.7188\n",
            "              TM1539         0.3001          1.6627          1.9628\n",
            "              TM6069         0.0081          0.0450          0.0531\n",
            "               TAE03        -0.0043         -0.0238         -0.0281\n",
            "              IndEsc        -0.0168         -0.0930         -0.1098\n",
            "               Agrop        -0.0000         -0.0000         -0.0000\n",
            "                Gini         1.7645          9.7755         11.5399\n",
            "================================ END OF REPORT =====================================\n"
          ]
        }
      ]
    },
    {
      "cell_type": "code",
      "source": [
        "#@title Moran's I para teste de autocorrelação nos resíduos\n",
        "\n",
        "previsoes_slm = model_SLM.predy.flatten()\n",
        "valores_reais = (df['TR2014'] * 1000 / df['populacao']).values\n",
        "\n",
        "residuo = previsoes_slm - valores_reais\n",
        "\n",
        "moran = esda.Moran(residuo, w_knn)\n",
        "print(f'Morans I - Modelo reduzido: {moran.I}')\n",
        "print(f'p Valor - Modelo reduzido: {moran.p_sim}')"
      ],
      "metadata": {
        "cellView": "form",
        "id": "dFeuVF5aqakU",
        "colab": {
          "base_uri": "https://localhost:8080/"
        },
        "outputId": "0189a30e-e823-416f-e58e-8d44dea25ecb"
      },
      "execution_count": null,
      "outputs": [
        {
          "output_type": "stream",
          "name": "stdout",
          "text": [
            "Morans I - Modelo reduzido: -0.07185373925745304\n",
            "p Valor - Modelo reduzido: 0.001\n"
          ]
        }
      ]
    },
    {
      "cell_type": "markdown",
      "source": [
        "### Utilizando a matriz de pesos baseada em contingência"
      ],
      "metadata": {
        "id": "UT5YCvOmNEDb"
      }
    },
    {
      "source": [
        "#@title Histograma do número de municípios vizinhos\n",
        "\n",
        "w_queen = Queen.from_dataframe(df)\n",
        "\n",
        "num_neighbors = [w_queen.cardinalities[neigh] for neigh in w_queen.neighbors]\n",
        "\n",
        "sns.histplot(num_neighbors, bins=range(min(num_neighbors), max(num_neighbors)+1), kde=True)\n",
        "plt.title('Distribuição do Número de Vizinhos (Contiguidade Queen)')\n",
        "plt.xlabel('Número de Vizinhos')\n",
        "plt.ylabel('Frequência')\n",
        "plt.show()"
      ],
      "cell_type": "code",
      "metadata": {
        "id": "yVUNPa92Rp07",
        "cellView": "form",
        "colab": {
          "base_uri": "https://localhost:8080/"
        },
        "outputId": "7f014413-66bf-467d-e09e-93667bbae6b1"
      },
      "execution_count": null,
      "outputs": [
        {
          "output_type": "display_data",
          "data": {
            "text/plain": [
              "<Figure size 640x480 with 1 Axes>"
            ],
            "image/png": "[encoded data removed]"
          },
          "metadata": {}
        }
      ]
    },
    {
      "cell_type": "code",
      "source": [
        "y_model = df['IC2014'].values\n",
        "X_model = df[['Area_Km2', 'CAER', 'CAEC',\n",
        "           'RTF', 'IndRiq', 'TMI', 'TMP', 'TM1539', 'TM6069', 'TAE03',\n",
        "           'IndEsc', 'Agrop']]\n",
        "\n",
        "model_SLM = GM_Lag(\n",
        "    y_model, X_model,\n",
        "    w=w_queen,\n",
        "    name_y='IC2014',\n",
        "    name_x=['Area_Km2', 'CAER', 'CAEC',\n",
        "           'RTF', 'IndRiq', 'TMI', 'TMP', 'TM1539', 'TM6069', 'TAE03',\n",
        "           'IndEsc', 'Agrop']\n",
        ")\n",
        "\n",
        "print(model_SLM.summary)"
      ],
      "metadata": {
        "id": "Xad3s9G8cU4r",
        "colab": {
          "base_uri": "https://localhost:8080/"
        },
        "outputId": "265c6a69-7b26-423a-b4d5-c2aa2c378008"
      },
      "execution_count": null,
      "outputs": [
        {
          "output_type": "stream",
          "name": "stdout",
          "text": [
            "REGRESSION RESULTS\n",
            "------------------\n",
            "\n",
            "SUMMARY OF OUTPUT: SPATIAL TWO STAGE LEAST SQUARES\n",
            "--------------------------------------------------\n",
            "Data set            :     unknown\n",
            "Weights matrix      :     unknown\n",
            "Dependent Variable  :      IC2014                Number of Observations:         640\n",
            "Mean dependent var  :      0.2430                Number of Variables   :          14\n",
            "S.D. dependent var  :      0.0913                Degrees of Freedom    :         626\n",
            "Pseudo R-squared    :      0.1650\n",
            "Spatial Pseudo R-squared:  0.1652\n",
            "\n",
            "------------------------------------------------------------------------------------\n",
            "            Variable     Coefficient       Std.Error     z-Statistic     Probability\n",
            "------------------------------------------------------------------------------------\n",
            "            CONSTANT         0.05554         0.03632         1.52918         0.12622\n",
            "            Area_Km2         0.00007         0.00001         4.89111         0.00000\n",
            "                CAER         0.00077         0.01074         0.07143         0.94305\n",
            "                CAEC        -0.00204         0.00035        -5.76833         0.00000\n",
            "                 RTF        -0.00001         0.00001        -2.26460         0.02354\n",
            "              IndRiq         0.54715         0.11716         4.67021         0.00000\n",
            "                 TMI        -0.00144         0.00072        -2.00149         0.04534\n",
            "                 TMP         0.00120         0.00067         1.80603         0.07091\n",
            "              TM1539         0.02041         0.00797         2.56130         0.01043\n",
            "              TM6069         0.00136         0.00096         1.41764         0.15630\n",
            "               TAE03         0.00082         0.00028         2.91267         0.00358\n",
            "              IndEsc        -0.13070         0.04978        -2.62558         0.00865\n",
            "               Agrop        -0.00000         0.00000        -2.04742         0.04062\n",
            "            W_IC2014        -0.00023         0.00869        -0.02621         0.97909\n",
            "------------------------------------------------------------------------------------\n",
            "Instrumented: W_IC2014\n",
            "Instruments: W_Agrop, W_Area_Km2, W_CAEC, W_CAER, W_IndEsc, W_IndRiq, W_RTF,\n",
            "             W_TAE03, W_TM1539, W_TM6069, W_TMI, W_TMP\n",
            "\n",
            "DIAGNOSTICS FOR SPATIAL DEPENDENCE\n",
            "TEST                              DF         VALUE           PROB\n",
            "Anselin-Kelejian Test             1          7.156           0.0075\n",
            "\n",
            "SPATIAL LAG MODEL IMPACTS\n",
            "Impacts computed using the 'simple' method.\n",
            "            Variable         Direct        Indirect          Total\n",
            "            Area_Km2         0.0001         -0.0000          0.0001\n",
            "                CAER         0.0008         -0.0000          0.0008\n",
            "                CAEC        -0.0020          0.0000         -0.0020\n",
            "                 RTF        -0.0000          0.0000         -0.0000\n",
            "              IndRiq         0.5472         -0.0001          0.5470\n",
            "                 TMI        -0.0014          0.0000         -0.0014\n",
            "                 TMP         0.0012         -0.0000          0.0012\n",
            "              TM1539         0.0204         -0.0000          0.0204\n",
            "              TM6069         0.0014         -0.0000          0.0014\n",
            "               TAE03         0.0008         -0.0000          0.0008\n",
            "              IndEsc        -0.1307          0.0000         -0.1307\n",
            "               Agrop        -0.0000          0.0000         -0.0000\n",
            "================================ END OF REPORT =====================================\n"
          ]
        }
      ]
    },
    {
      "cell_type": "code",
      "source": [
        "y_queen = df['IC2014'].values\n",
        "X_queen = df[['Area_Km2', 'IPDM', 'CAER', 'CAEC',\n",
        "           'RTF', 'IndRiq', 'TMI', 'TMP', 'TM1539', 'TM6069',\n",
        "           'IndLong', 'TAE03', 'TDISM',\n",
        "           'IndEsc', 'populacao', 'dens_demog']]\n",
        "\n",
        "model_SLM_queen = GM_Lag(\n",
        "    y_queen, X_queen,\n",
        "    w=w_queen,\n",
        "    name_y='IC2014',\n",
        "    name_x=['Area_Km2', 'IPDM', 'CAER', 'CAEC',\n",
        "           'RTF', 'IndRiq', 'TMI', 'TMP', 'TM1539', 'TM6069',\n",
        "           'IndLong', 'TAE03', 'TDISM',\n",
        "           'IndEsc', 'populacao', 'dens_demog']\n",
        ")\n",
        "\n",
        "print(model_SLM_queen.summary)"
      ],
      "metadata": {
        "id": "MA11AK3IRTar",
        "colab": {
          "base_uri": "https://localhost:8080/"
        },
        "outputId": "e8ebb154-e01a-41be-87b4-79ef1e364ae9"
      },
      "execution_count": null,
      "outputs": [
        {
          "output_type": "stream",
          "name": "stdout",
          "text": [
            "REGRESSION RESULTS\n",
            "------------------\n",
            "\n",
            "SUMMARY OF OUTPUT: SPATIAL TWO STAGE LEAST SQUARES\n",
            "--------------------------------------------------\n",
            "Data set            :     unknown\n",
            "Weights matrix      :     unknown\n",
            "Dependent Variable  :      IC2014                Number of Observations:         640\n",
            "Mean dependent var  :      0.2430                Number of Variables   :          18\n",
            "S.D. dependent var  :      0.0913                Degrees of Freedom    :         622\n",
            "Pseudo R-squared    :      0.1781\n",
            "Spatial Pseudo R-squared:  0.1802\n",
            "\n",
            "------------------------------------------------------------------------------------\n",
            "            Variable     Coefficient       Std.Error     z-Statistic     Probability\n",
            "------------------------------------------------------------------------------------\n",
            "            CONSTANT       -15.88295        11.48526        -1.38290         0.16670\n",
            "            Area_Km2         0.00006         0.00001         4.13716         0.00004\n",
            "                IPDM        11.12352        12.07036         0.92156         0.35676\n",
            "                CAER         0.00232         0.01057         0.21935         0.82637\n",
            "                CAEC        -0.00183         0.00035        -5.15499         0.00000\n",
            "                 RTF        -0.00001         0.00001        -1.99959         0.04554\n",
            "              IndRiq        -3.17430         4.02362        -0.78891         0.43016\n",
            "                 TMI         0.08908         0.06523         1.36554         0.17208\n",
            "                 TMP         0.11873         0.08473         1.40127         0.16113\n",
            "              TM1539         0.80467         0.56507         1.42401         0.15444\n",
            "              TM6069         0.08613         0.06112         1.40924         0.15876\n",
            "             IndLong        11.96866        12.08750         0.99017         0.32209\n",
            "               TAE03         0.00073         0.00028         2.60725         0.00913\n",
            "               TDISM         0.00062         0.00065         0.95523         0.33946\n",
            "              IndEsc        -3.82840         4.02378        -0.95144         0.34138\n",
            "           populacao         0.00000         0.00000         0.04298         0.96571\n",
            "          dens_demog        -0.00001         0.00000        -3.24226         0.00119\n",
            "            W_IC2014        -0.00305         0.00876        -0.34834         0.72759\n",
            "------------------------------------------------------------------------------------\n",
            "Instrumented: W_IC2014\n",
            "Instruments: W_Area_Km2, W_CAEC, W_CAER, W_IPDM, W_IndEsc, W_IndLong,\n",
            "             W_IndRiq, W_RTF, W_TAE03, W_TDISM, W_TM1539, W_TM6069, W_TMI,\n",
            "             W_TMP, W_dens_demog, W_populacao\n",
            "\n",
            "DIAGNOSTICS FOR SPATIAL DEPENDENCE\n",
            "TEST                              DF         VALUE           PROB\n",
            "Anselin-Kelejian Test             1          6.115           0.0134\n",
            "\n",
            "SPATIAL LAG MODEL IMPACTS\n",
            "Impacts computed using the 'simple' method.\n",
            "            Variable         Direct        Indirect          Total\n",
            "            Area_Km2         0.0001         -0.0000          0.0001\n",
            "                IPDM        11.1235         -0.0338         11.0897\n",
            "                CAER         0.0023         -0.0000          0.0023\n",
            "                CAEC        -0.0018          0.0000         -0.0018\n",
            "                 RTF        -0.0000          0.0000         -0.0000\n",
            "              IndRiq        -3.1743          0.0097         -3.1646\n",
            "                 TMI         0.0891         -0.0003          0.0888\n",
            "                 TMP         0.1187         -0.0004          0.1184\n",
            "              TM1539         0.8047         -0.0024          0.8022\n",
            "              TM6069         0.0861         -0.0003          0.0859\n",
            "             IndLong        11.9687         -0.0364         11.9323\n",
            "               TAE03         0.0007         -0.0000          0.0007\n",
            "               TDISM         0.0006         -0.0000          0.0006\n",
            "              IndEsc        -3.8284          0.0116         -3.8168\n",
            "           populacao         0.0000         -0.0000          0.0000\n",
            "          dens_demog        -0.0000          0.0000         -0.0000\n",
            "================================ END OF REPORT =====================================\n"
          ]
        }
      ]
    },
    {
      "cell_type": "markdown",
      "source": [
        "O teste de Anselin-Kelejian para a regressão com a matriz de pesos espaciais calculada por meio da contiguidade Queen atestou um p-valor de 0.0134, indicando que os resíduos da regressão possuem autocorrelação espacial. O modelo, portanto, não captura suficientemente as dependências das variáveis no espaço tal qual aquele calculado a partir da matriz de distância inversa, sendo descartado para análises futuras."
      ],
      "metadata": {
        "id": "Vu-XyEcumuEm"
      }
    },
    {
      "cell_type": "markdown",
      "source": [
        "### **Validação cruzada**"
      ],
      "metadata": {
        "id": "xiZ0byaETc_d"
      }
    },
    {
      "cell_type": "markdown",
      "source": [
        "Nesta seção, vale o destaque para o método de avaliação dos modelos, uma vez que utilizou-se do $Spatial$ $Pseudo$ $R^2$ ao invés do $R^2$, que parte do pressuposto de que as observações são independentes entre si. Em modelos de regressão espacial, a dependência espacial é incorporada explicitamente pelo termo $ρWy$, que viola os pressupostos de independência."
      ],
      "metadata": {
        "id": "C6Ls-osS_ve7"
      }
    },
    {
      "cell_type": "code",
      "source": [
        "df_reg = df[['Area_Km2', 'CAER', 'CAEC', 'RTF', 'IndRiq', 'TMI', 'TMP', 'TM1539', 'TM6069', 'TAE03', 'IndEsc', 'Agrop', 'Gini']]"
      ],
      "metadata": {
        "id": "WkxgfjEUnMnM"
      },
      "execution_count": null,
      "outputs": []
    },
    {
      "cell_type": "code",
      "source": [
        "def loocv_sml_lag(df, X, y, features):\n",
        "    n = len(df)\n",
        "    predictions = np.zeros(n)\n",
        "\n",
        "    X = X.reset_index(drop=True)\n",
        "    df = df.reset_index(drop=True)\n",
        "    y = pd.Series(y).reset_index(drop=True)\n",
        "\n",
        "    # Calcular a matriz de distancia para toda nova instancia (afeta a normalização)\n",
        "    coords = np.array(df[['x_centroid', 'y_centroid']])\n",
        "\n",
        "    dist_matrix = distance_matrix(coords, coords)\n",
        "    np.fill_diagonal(dist_matrix, np.inf)\n",
        "\n",
        "    inv_dist_matrix = 1 / dist_matrix\n",
        "    inv_dist_matrix[np.isinf(inv_dist_matrix)] = 0\n",
        "    weights_matrix = inv_dist_matrix.copy()\n",
        "    weights_matrix /= weights_matrix.sum(axis=1)[:, np.newaxis]\n",
        "\n",
        "\n",
        "    X_const = X.copy()\n",
        "    X_const['constant'] = 1  # Só funciona se adicionar constante previamente, nao alterar\n",
        "\n",
        "    features_with_const = ['constant'] + features\n",
        "\n",
        "\n",
        "    for i in tqdm(range(n)):\n",
        "        X_train = X_const.drop(index=i).reset_index(drop=True)\n",
        "        y_train = y.drop(index=i).reset_index(drop=True)\n",
        "\n",
        "        W_train_matrix = np.delete(np.delete(weights_matrix, i, axis=0), i, axis=1)\n",
        "        W_train = full2W(W_train_matrix)\n",
        "\n",
        "        model = ML_Lag(\n",
        "            y_train.values,\n",
        "            X_train[features_with_const].values,\n",
        "            w=W_train,\n",
        "            name_y='target_variable',\n",
        "            name_x=features_with_const\n",
        "        )\n",
        "\n",
        "        X_test = X_const.loc[[i], features_with_const].values\n",
        "\n",
        "        W_i = weights_matrix[i, :]\n",
        "        W_i = np.delete(W_i, i)\n",
        "\n",
        "        y_train_no_i = y_train.values\n",
        "        spatial_lag = W_i @ y_train_no_i\n",
        "\n",
        "        # betas: do intercepto até o penúltimo coeficiente\n",
        "        betas = model.betas[:-1].flatten()  # excluir o último coeficiente (rho)\n",
        "        rho = model.betas[-1][0]            # o último coeficiente é rho\n",
        "\n",
        "        y_pred = X_test @ betas + rho * spatial_lag\n",
        "        predictions[i] = y_pred[0]\n",
        "\n",
        "    return predictions"
      ],
      "metadata": {
        "id": "7hlWeFaMTvPn"
      },
      "execution_count": null,
      "outputs": []
    },
    {
      "cell_type": "code",
      "source": [
        "#@title LOOCV\n",
        "\n",
        "features = ['Area_Km2', 'CAER', 'CAEC', 'RTF', 'IndRiq', 'TMI', 'TMP', 'TM1539', 'TM6069', 'TAE03', 'IndEsc', 'Agrop']\n",
        "\n",
        "X = df_reg[features]\n",
        "y = (df['TR2014'] * 1000 / df['populacao']).values\n",
        "\n",
        "predictions = loocv_sml_lag(df, X, y, features)"
      ],
      "metadata": {
        "colab": {
          "base_uri": "https://localhost:8080/"
        },
        "id": "f-_ARBw8nBHt",
        "outputId": "0c89aca2-d1d5-4d8d-add5-08f174336517"
      },
      "execution_count": null,
      "outputs": [
        {
          "output_type": "stream",
          "name": "stderr",
          "text": [
            "100%|██████████| 640/640 [17:28<00:00,  1.64s/it]\n"
          ]
        }
      ]
    },
    {
      "cell_type": "code",
      "source": [
        "y_true = (df['TR2014'] * 1000 / df['populacao']).values\n",
        "y_pred = predictions\n",
        "\n",
        "mae = mean_absolute_error(y_true, y_pred)\n",
        "rmse = mean_squared_error(y_true, y_pred, squared=False)\n",
        "r2 = r2_score(y_true, y_pred)\n",
        "\n",
        "\n",
        "\n",
        "print(f'Erro Médio Absoluto (MAE): {mae}')\n",
        "print(f'Raiz do Erro Quadrático Médio (RMSE): {rmse}')\n",
        "print(f'Coeficiente de Determinação (R²): {r2}')"
      ],
      "metadata": {
        "colab": {
          "base_uri": "https://localhost:8080/"
        },
        "id": "GSWArJUJJGba",
        "outputId": "7264e257-40b5-4725-d2e5-5b76be1e7b98"
      },
      "execution_count": null,
      "outputs": [
        {
          "output_type": "stream",
          "name": "stdout",
          "text": [
            "Erro Médio Absoluto (MAE): 0.9361660775587991\n",
            "Raiz do Erro Quadrático Médio (RMSE): 1.5505545017993838\n",
            "Coeficiente de Determinação (R²): 0.5194870592985998\n"
          ]
        }
      ]
    },
    {
      "cell_type": "code",
      "source": [
        "#@title Distribuição: Valores previstos x reais\n",
        "\n",
        "df_resultados = pd.DataFrame([y_true, y_pred]).T\n",
        "df_resultados.columns = ['y_true', 'y_pred']\n",
        "df_resultados['Erro absoluto'] = abs(df_resultados['y_true'] - df_resultados['y_pred'])\n",
        "\n",
        "fig = px.scatter(df_resultados, x=\"y_true\", y=\"y_pred\", color=\"Erro absoluto\", title=\"Validação cruzada Leave One Out\", color_continuous_scale='Agsunset')\n",
        "\n",
        "fig.update_layout(\n",
        "    xaxis_title=\"Taxa de roubo\",\n",
        "    yaxis_title=\"Taxa de roubo prevista\",\n",
        "    showlegend=True)\n",
        "\n",
        "fig.add_trace(\n",
        "    go.Scatter(\n",
        "        x=[y_true.min(), y_true.max()],\n",
        "        y=[y_true.min(), y_true.max()],\n",
        "        mode='lines',\n",
        "        line=dict(color='black'),\n",
        "        showlegend=False\n",
        "    )\n",
        ")\n",
        "\n",
        "fig.show()"
      ],
      "metadata": {
        "id": "JW98-kG_xN7U",
        "colab": {
          "base_uri": "https://localhost:8080/",
          "height": 542
        },
        "outputId": "058160d6-b65d-4305-e463-aeceecb4281b"
      },
      "execution_count": null,
      "outputs": [
        {
          "output_type": "display_data",
          "data": {
            "text/html": [
              "<html>\n",
              "<head><meta charset=\"utf-8\" /></head>\n",
              "<body>\n",
              "    <div>            <script src=\"https://cdnjs.cloudflare.com/ajax/libs/mathjax/2.7.5/MathJax.js?config=TeX-AMS-MML_SVG\"></script><script type=\"text/javascript\">if (window.MathJax && window.MathJax.Hub && window.MathJax.Hub.Config) {window.MathJax.Hub.Config({SVG: {font: \"STIX-Web\"}});}</script>                <script type=\"text/javascript\">window.PlotlyConfig = {MathJaxConfig: 'local'};</script>\n",
              "        <script charset=\"utf-8\" src=\"https://cdn.plot.ly/plotly-2.35.2.min.js\"></script>                <div id=\"2f39a2ba-3b18-44f7-a613-9ee79fd7c0c9\" class=\"plotly-graph-div\" style=\"height:525px; width:100%;\"></div>            <script type=\"text/javascript\">                                    window.PLOTLYENV=window.PLOTLYENV || {};                                    if (document.getElementById(\"2f39a2ba-3b18-44f7-a613-9ee79fd7c0c9\")) {                    Plotly.newPlot(                        \"2f39a2ba-3b18-44f7-a613-9ee79fd7c0c9\",                        [{\"hovertemplate\":\"y_true=%{x}\\u003cbr\\u003ey_pred=%{y}\\u003cbr\\u003eErro absoluto=%{marker.color}\\u003cextra\\u003e\\u003c\\u002fextra\\u003e\",\"legendgroup\":\"\",\"marker\":{\"color\":[1.9878168487538779,0.027950576684506068,5.464969566783837,0.9128695006947631,0.4887280055263532,0.34417059521853255,0.7666164944257512,0.34295981609423604,0.10686864289780584,1.0833280816294844,1.8728698539143274,0.9020285497221322,0.52761781212203,0.25848799300012537,0.20867729087829145,0.6757751323485122,1.1635750567267664,7.055557142533802,0.3091694510345121,0.1905638215991889,1.1092905772658095,1.3608151248294877,0.044377267916955176,0.10536220438597632,9.468601925391145,5.475852000648824,1.7804599068986984,7.731504761717582,3.971693922277206,7.030402101354873,0.6449029407797601,0.39089686379121624,6.916504598263961,0.9955783906052017,2.4953807485941994,0.9788267803747397,3.737533410119404,1.2505983790974815,1.1038015601269462,0.3542854842577343,5.654399893761989,5.582351178353763,0.11310376244987363,1.9459323992074027,0.34810507799447415,1.626214858928389,11.000836801328212,2.9136623259648404,3.311886169340859,4.30442365507851,0.17946611579060712,0.1300917314523673,3.4762359432313534,0.6702013306442094,6.947222836309292,2.2620538984316845,2.1971063458360542,6.257966102408789,1.1789731739564626,0.45106281679533033,0.8299046651818502,0.7725969496232867,0.5109922295064302,0.6978762035807632,0.14490033216111403,1.0568354323806939,1.3014006977784849,0.8598900631453681,4.012768472155574,0.6200211201290251,3.6915056870942653,0.49762232791589245,0.2048420480371304,0.028358787919254835,4.019621710419678,0.4452444053039235,2.212702242543047,1.016945928903402,3.523510790510337,6.776663158881602,0.06230809947538951,0.1755746351402645,1.4194436063005946,3.38083986075268,1.0808786733404272,0.20301734083535483,0.4659541731435419,0.6584269002873069,4.786262056279888,0.4841498134846056,8.679174243287953,1.8023227745936206,0.530547718563839,1.544598274046364,0.9585391764125974,1.0566588615113905,0.7295159116142491,0.3624258670101339,2.6826411586210783,1.8377394593524958,2.424735640419315,0.4571076884774481,1.3093855467193187,0.7161614131637011,2.6869486608763147,0.21496752596885882,0.4519381884129794,0.3247072517706405,0.6209630840112446,1.6338354190640936,0.5320505151682049,2.618265142554713,1.384684630630527,0.08007005291892799,0.06979656022744063,1.3203698331900346,1.6210030691474597,0.4227392132371841,2.6332696728246563,1.2267850998288037,0.7544069584643252,0.663611115027962,0.7863005654430588,3.140748664735475,0.25668110538958055,0.8862331720749776,1.2749983057010175,0.8706840413959194,0.3356044526945614,0.16333962076417147,0.6002572563732163,1.1275900031350918,1.1734250540794637,0.4013834040267481,0.4237184500603874,0.29377411384994156,1.9033991243310404,0.550158007970821,0.7827286029943283,0.6392300858542468,2.1244516584828843,0.3547030602801695,2.344517694334596,0.8434163703343118,0.6413719459475802,1.043221362639632,1.1078964040143928,0.8321298935287733,2.629762991436951,1.272011770399216,0.5718556479295615,1.0460412654445483,0.7193982417795315,0.2801242936643341,0.1197032711259487,0.9681856527902499,0.7116548425878996,2.485605240579737,0.8583079106991099,1.0149291314827766,2.620911169222885,1.3793372629294942,0.7435636843952026,2.463486470414913,0.5556864769873293,0.45163107865072705,1.2459773681161557,0.12428543687983584,0.779901558020935,0.9544639407484325,1.521616989712857,1.6759542978674538,0.20066150433487473,1.1518508012644044,1.2647084291052408,0.9760625409372007,4.559714388479497,0.8390737720509492,0.10564724532886594,0.7959889407597536,1.600883348609376,2.6685468682694378,0.30128929774607704,0.9286019556460672,0.23407257224282862,0.11038153946437468,1.1191924972034657,4.222595015240479,0.5184041780120775,1.599070289273202,1.381239992741353,1.083099791236822,1.3276428767401052,0.3790204103194368,4.613610779674946,1.2413299270109872,0.7865972818097788,2.0035612198345074,0.8929772921566734,0.8087162625955449,0.3143359728224564,0.6426220736405015,0.17162704650177285,0.36717626759313937,0.9287323984578464,0.92930613887668,0.8871755365501551,0.7935493427197782,0.9486240191261145,0.009453054612240969,0.32447880081064984,2.1121681759558975,2.316658172985927,0.8976072433011435,0.6131147570306172,1.1003482432406568,0.3266334258169491,1.079474617666236,0.27722961862970386,2.5923326374376967,1.3731482858484734,2.8161606494175837,0.14015905120963307,0.032171733320925266,0.8212777381485306,2.046326264222587,2.073431044051377,0.7397952943398662,1.341250699175094,1.436810914569361,1.2502424992674177,0.5203640445103914,0.3733515883995939,0.24637173679587465,1.950920040167461,0.17804049680770173,0.7298537944173498,0.319452056793168,0.17360174258776462,1.8727723628321793,0.5864766330631349,0.21068211768067613,1.2583167878518826,1.8297759186972486,0.25330144871518234,0.2751760323656438,0.7888123436478367,0.7490484183214894,0.4224504878882255,0.7744487294380056,0.43399476131578707,0.9317413189388087,0.011629650454846097,2.31042855489141,0.8852599711338048,0.7169796888342752,0.7657936309584061,1.1379257848119753,0.47929105858155063,0.4140672625229618,0.5507779444138097,0.3108729235933212,0.6497522483597549,1.0432775511425494,0.5650873264402712,0.20955525869001612,0.042618372736655946,1.1846766370888555,0.3659785181852017,0.1777651531177385,0.6949744317687399,0.5861965157888123,0.33993276216981716,0.3334943774359356,0.3906825095426566,0.1861667401785665,0.3766075478841133,0.5997337418130916,0.9207673492856359,0.1711766251424095,0.2656509536010121,0.6358407572615377,0.5732721219894514,0.00806639927332009,0.0073666420129883114,0.08615803645365316,1.0795489489984964,0.06648535420698498,0.20578561168834764,0.34786639356738763,3.5876688228152736,0.038430992568443956,0.18074964420014294,0.20973735038429117,0.05216717369062884,0.7025771348769043,0.10423636456804419,1.3816894953779126,0.5456400246022489,1.0386882889919582,0.07547358243013269,0.19077461529943074,0.1965112611200666,0.29453613962008274,0.3036380611792775,0.6589477740774123,1.9702095806080244,0.04485717176157222,0.011384317141864164,2.247210431574018,0.6775600897220975,0.27773883003237065,1.3386293283422808,1.1372973598126328,0.8947393778850075,0.5075336732126576,1.7269988054179737,0.3267243641509193,0.605436510279465,1.58063077755263,0.8849009126446834,0.4590207789680289,0.5697176425663358,0.38596972283747066,0.7926189868506711,0.9465138897069407,0.410663908982408,0.9617237782692675,1.4446639516132103,0.06515672256156324,0.4575407993624887,0.2138770790368978,0.07425617682110375,0.0803271527521697,0.010672160925068619,1.010328764974803,1.0268466805311676,0.05777479873916669,0.08497269672575836,0.14559369739762412,0.3959419481918891,0.19372840853369655,0.25337966768900355,0.6925618695398956,0.7559015562954403,0.1486379710684645,0.8060215174816429,0.2794563214902781,0.42482230890918293,1.183761314529457,0.001973754557120566,1.2127100951422836,1.3880911553062008,0.4272831795098695,0.4018173250661259,0.24290095531122868,1.6406357776057356,0.23243548503831302,0.3814092622283288,0.10474984275975219,1.1107876086545212,0.7536797087232622,0.4068279685013594,0.7222023573115468,0.048316979711965136,0.7493577563936433,0.25857691073888933,0.47973203978780465,1.115804268928331,1.4623437569838393,0.48726783312700017,0.3534389641836202,0.2118588017789197,0.5172332095403028,0.20608195654854278,0.17515379586521385,1.2577820183362327,0.9261690037299548,1.6512519065673819,0.33164848682274306,0.5334058067817001,0.007443512381914319,1.4650076160509626,0.8166316622514184,0.09400836540366653,0.3730285072080649,0.6323605106351148,0.04900386768453835,0.5226138517358871,0.05262299199160081,1.7444937386164494,2.6521268725733766,0.2931253192463105,0.8675546544769409,0.4194961805851276,0.4565038857943535,0.16722720565395277,0.3206620814321565,0.42785789457765466,1.0466467264379782,1.711619548319312,0.2984142283511144,0.8722531324465894,0.8457711855721154,0.25680795105749366,0.3812926988144323,0.48547067608892264,0.28776886301424554,1.3521681323601498,1.0777983714674626,0.03155508872226684,0.802092645110726,0.1086834731730083,0.6417126609400765,0.3599424522892609,0.3466196360623076,0.2763794113692718,0.13157301526375265,0.702168153154397,0.5911751445650972,0.38741425161165033,0.17591971941789025,1.8148553886756815,0.17154315484930072,1.7697710471822086,1.0443598359643027,0.16962170171921098,0.45639076701541614,0.27365181420066564,0.19339451015200604,0.7281846174308353,0.5190140163795064,0.43132189125054055,0.3101534765238665,0.37492502788247495,0.04354079518976156,0.5831235780905766,0.8140957810892957,0.23291209030753246,0.7901568860582026,0.6746585057206661,0.30844410380039755,0.14383264636456095,0.08738633744680602,0.7678303293429811,0.33441085863442954,0.37216071460959965,0.7027596169784884,0.07814760761293554,0.14857892980984877,1.748191124640728,0.7097951498246734,0.5625109216270837,0.16309384502395396,0.3228974694740372,0.7801353585983821,0.0468901913569959,0.6660066042297628,0.5077408173526714,0.545108504863493,0.16633841696348295,0.6273065134855356,0.4174305136072026,0.3852881953773709,0.3194350558362562,0.02620243307609682,0.046333368833768596,0.5110200539165162,0.2190434362700615,1.5301000169329537,0.31666076971110946,0.8373945510959181,0.36993821676034266,1.2688054724494686,0.5831276740856768,0.12781193486773446,0.12251411538389334,1.4952889300915149,0.4418626330261987,0.6699536444015883,2.0126187901098422,3.9943437262970454,0.9231065172396624,0.5724487178250375,0.5084930699707293,0.30086294870296776,0.8807087775028883,0.3776611240212926,0.6120616591705068,0.7136921643084795,0.36996393593719556,0.5828441383410983,0.3431515088489616,0.2839229631057516,0.03571502208261923,0.15240388363199675,0.02685841260536448,0.6190577083567214,0.14693076241159186,0.28143539156719743,0.4620440907337331,0.37713628546671885,0.10130041037734139,0.15268347280802497,0.3274690586022908,0.4608170201973903,1.3826629957524785,0.3906724032420392,0.02254507108091941,0.6554453229729686,0.9935144990470215,1.4898798204949077,1.7656883755214319,1.270763427008156,0.48173069641652005,0.01917197153598127,0.17111043939276926,0.31707688340692197,0.33527557136874653,0.8418718799233709,0.8548225845653152,0.12674393759427632,0.8156967904812402,0.42950558147547374,0.9048357720731538,0.9654080617595295,0.7482873971823836,0.10777323423115259,0.1271163758788399,0.4080664654520925,1.141467678015896,0.8304385513833761,0.9984545258344544,0.1139956996104512,0.593572336729161,0.3336712566549347,0.3397637426290838,0.6469666822512512,0.2729398975490081,0.19709699818303206,0.3486593848090832,1.0074620799439291,0.06808617793396787,0.9245600386291247,0.10298888315300547,0.5976071087063792,0.4896545144396668,1.1409293156702711,1.5995301051059971,1.473238258652505,0.9501616292351895,0.17965112217848667,0.5260876993232453,0.08576871495098803,0.0881942031886136,3.124838766370536,0.039774769750173244,0.47150425910282395,0.06008424320808592,0.31486647058891093,0.5606999887717041,0.21374645248869661,0.058345324870563486,0.0490916342909854,0.9049184896663293,0.7171724073381578,0.28500623242100914,0.30090106445446807,0.24129946135148095,0.40642016868264697,1.2614420623216307,1.2445974494439758,1.175659604868316,0.0025363862651223146,0.0663773797284728,0.010086115354148273,0.5560368787956141,1.4042165750539992,0.44840989085388283,0.3316197083839957,0.6805422465921296,0.2556920877988846,0.08468727565049161,0.5307112623752552,0.03903373397762158,1.182602272467017,0.43011763851587453,0.08324956113594961,0.5883208498857189,0.219657852659084,0.8518381061417645,0.8086816124089933,1.5948058109977408,0.00020659168709613596,0.4724021032658059,1.453633576991308,0.5657206749349757,1.1623903873388017,0.18017397100977617,0.3745276674057336,0.9012273313221328,0.478186969134604,0.4344902771402842,0.48264581232741244,0.5198493413534537,1.9187624877967502,0.9412852805875002,0.30437139504063404,0.45954939023171304,1.1565416657213397,0.6944978641273951,1.3269424922086435,1.5041056821217569,0.6322044977589859,0.5303379723526469,0.2532049380066914,0.29292672452169277,0.8220865214166851,0.05198079465136907,0.764193794603462,0.44393631464516314,0.1243763564743039,0.6931930601152263,0.9085233658625915,0.7176637745260221,0.3641568195890522,0.10503325408743691,0.39226251292798164,0.2962446751980081,0.6828488767934815,1.6931561651474027,0.5367503123454785,0.6361722809074954,0.5248224783788491,0.1305955384294929,0.5543898822958205,0.6717132087004424,0.8757081141503831,0.04303784592822557,0.27978132513439524],\"coloraxis\":\"coloraxis\",\"symbol\":\"circle\"},\"mode\":\"markers\",\"name\":\"\",\"orientation\":\"v\",\"showlegend\":false,\"x\":[0.7310535293639834,4.758732273722281,6.673785371062467,2.5155474809587033,1.837037037037037,1.97249173685894,0.0,0.3035822707953855,0.0,1.0457840721768261,1.3750429700928155,0.19138755980861244,0.2364066193853428,0.5632216277105041,0.1191090641997856,1.6717032083842345,0.14097413124691618,11.28273582506992,0.2176278563656148,0.2349900129244507,0.7290264692687304,0.07698229407236336,0.5321271783956365,1.8204208384644214,11.436276468238114,10.35998528301156,0.6578947368421053,13.40474316416276,8.546296778223079,12.303872444171889,1.463662975690467,0.8703220191470844,13.148871974216554,0.7037297677691766,6.195437904815545,2.2146251263196373,9.936336050455168,3.3310673011556764,1.0005002501250626,1.225451688923802,11.816670894809342,0.691494616220488,1.2254446878829515,2.571621926460636,0.27856705108919716,6.523819002549169,16.15924460890647,4.4232776617954075,6.724810217190649,9.578207381370826,0.8564902931100115,5.5117080190119045,8.494477278524922,5.863216055439965,12.240305496204028,7.286912524863692,2.345453797303414,11.198361482326915,1.3618151532886147,3.8968431192258857,1.8548406523257774,5.99724091431309,1.8217780553820528,0.7350624803108264,0.20828993959591752,2.1990199643308572,6.070141875039112,5.019620572329487,8.292199288482644,0.351123595505618,8.138965296356306,4.480045367548025,0.2753114460733705,1.323001323001323,7.416563658838072,4.884570817363401,0.6420958006934635,5.633412687718037,0.701344243132671,12.25676912201983,0.0,2.5116119043523137,1.8817145482791064,7.345824984683866,2.9448938321536904,1.4342971273843514,0.7364408248137237,0.6980193700375186,1.1667949600939918,1.451980916822236,14.072999876759136,2.970564407237375,4.1143037574992105,4.490214261310947,1.3640605930073946,1.3218131407569798,3.3469069002063927,4.665846762434862,0.7267001756192091,1.8420862529798454,0.7394766780432309,4.915376550522174,0.0,5.08363450283046,0.21791239921551536,0.0,0.6127719175384077,0.5691879585125221,1.0827637544833186,4.825099329480109,3.2573084279699267,0.48963603721233884,5.035105550298485,1.5179113539769278,2.372845473951626,2.7450980392156863,3.2073613146577613,0.0,1.5789473684210527,1.8074237552557981,2.2289845521679297,0.5451076587626056,4.093925840427067,6.469242959014622,1.4612761811982464,3.7601759762356877,4.853472606895097,2.335189509610203,1.1348819239870576,0.3837298541826554,1.960111726368403,2.5660876297179045,1.285722634562562,2.097739103410768,0.47162395849709166,1.2127894156560088,5.7642298080704295,0.2766347384072755,0.6915629322268326,3.691627314294281,2.584968884633796,1.017293997965412,2.1881195388795067,0.4073319755600815,2.93610774238846,4.602966841186737,0.9771986970684039,1.794005909666526,0.22917382834880257,1.4612761811982464,0.5102040816326531,2.466525722339676,3.7747295338883085,0.5995203836930456,2.1947873799725652,0.20128824476650564,0.10723860589812333,5.607341521176406,0.5394034198176817,0.24459845087647777,3.4099496802020166,2.0893390812197508,0.36172906493036716,0.5844535359438925,0.4230565838180857,0.0,0.9954799827808868,2.7883339704526544,3.6907859528686635,1.0940919037199124,0.24703557312252963,1.545563622313058,1.0576821376717531,1.789086571911341,1.8444266238973537,0.7215007215007215,7.939798299234463,0.6825622693460128,3.160846291103747,0.3122462998813464,4.8808572960111665,4.419503968830867,1.9263698630136987,1.6146393972012918,0.8169563836064085,0.5597223777006605,1.2640307412276266,7.309591236346068,0.8003841844085161,0.7427213309566251,3.9723261279751068,0.41893590280687054,0.0,3.477722546931046,8.110202324580284,0.48614487117160915,0.43431053203040176,5.086887424120053,0.6629101756711966,3.5063962833300306,1.2024433649175124,1.5630920803334596,0.9004952723998199,4.3020875524077455,4.1520979020979025,0.2939231390991256,1.539594350358123,0.449842555105713,0.1446968600781363,0.22084805653710246,3.252661268310436,0.390269285807207,5.278655558747486,2.766814501363063,2.965671694019666,0.0,0.504116955133591,0.6291710671190707,1.0548523206751055,1.6352201257861636,0.39258023358523897,1.4657383657017222,0.23679848448969926,1.3712405155864338,0.0,4.46563475808347,1.2037557178396598,1.7588430721125659,1.392757660167131,1.0929943553579182,0.5769886438144195,0.47569213205213584,0.8220304151253597,0.0,4.740715341474376,0.5421523448088913,1.498887921864423,0.8467777876816116,0.9865675039842149,0.5786199913207001,0.6941552131056504,1.2398990978665185,0.5844535359438925,1.0666666666666667,0.8552490912978405,1.3262180681423474,0.0,2.425373134328358,0.0,2.291907638264148,1.8997515709484145,0.8165845691857861,2.9504276170422936,4.740227048721167,1.7938230982912553,1.1784732224695562,0.21528525296017223,1.4753447199682233,1.7128344456913354,2.9179438811601037,1.6124303723248314,2.2456770716370986,2.8608466318000985,0.9087552892397694,1.4129615674453655,0.0,0.21953896816684962,0.45714285714285713,0.43802014892685065,0.3359086328518643,2.050910845699119,0.5372877713303246,0.0,0.7060484819957638,0.505774256090365,1.70853989860796,2.3629489603024574,0.7100591715976331,0.6763611768684478,0.5390835579514824,0.0,0.6876528117359413,0.785175879396985,2.6963262554769125,0.5673528934997568,2.1738508623895196,2.587125247298737,0.9270484204521143,0.6056935190793459,0.4755865567533291,5.883672287799204,0.0,0.0,0.16003200640128026,2.1844877010906196,1.0505204851494605,0.8743806470416788,0.4429589658921596,0.5067723210172302,0.5517893741131956,0.0,0.0,0.17780938833570412,1.5015015015015014,1.9031910169384,1.5344843225591873,0.2254791431792559,0.7544322897019993,1.9863990091374355,4.185607866823495,0.33294489761944396,1.299997678575574,1.2502790801518195,2.9180570487134023,0.9411651141464357,2.176541717049577,3.8850626907843284,0.40428542551041036,0.26186236514088196,0.4718093890068412,0.4163197335553705,0.4889975550122249,0.21226915729144555,0.0,0.3090951240244185,1.372055796935742,0.0,0.9053050878145935,0.0,1.9561572377817797,0.0,0.6834170854271356,0.7628294036061026,0.21088148460565162,1.131648434552999,0.9469995896335112,0.2530791294077948,0.6821282401091405,0.8933889219773675,0.28770079117717573,1.6864760681015099,0.0,0.4076142338890474,0.07170000717000072,1.3297500069986843,0.26737967914438504,0.8295886622882821,1.8474726574046705,0.15215296444692397,0.4986287708800798,1.6931284541417755,0.3977329223426469,0.26437541308658297,0.22530134054297624,0.6894606537340562,0.0,0.36075036075036077,1.2408872343725763,1.2769062385990515,2.594058644940625,0.5809254394827238,0.9856100926473487,2.1147326373737036,0.34965034965034963,1.4104174742318596,0.9608198996476993,0.6770480704129993,1.6852682120258196,0.0,0.2596391016487083,0.0,1.103996467211305,0.18511662347278784,0.0,0.9392317084624777,1.809743425085379,0.4655493482309125,0.30815284381053004,0.3432297923459756,0.0,0.15676438313215238,1.6027083971115232,0.13457139012245997,0.0,0.0,0.0,1.012965964343598,1.0185373803218578,0.0,1.252191334835963,2.152595072949055,4.510342459874689,0.18797497247509332,0.6209527188858334,1.6535904021391128,0.2046245140167792,1.9962378594187877,0.2887577002053388,0.0,2.870248421817521,0.2457002457002457,1.0166248056452578,1.0390210113137843,0.463980463980464,0.18429782528566163,2.4156578550056276,0.28109627547434995,0.41476565740356697,0.5944049239736928,0.5974905397331209,0.24169184290030213,0.6202618883528601,0.3898635477582846,0.0,1.2163257951166773,0.14946938368790794,0.5208451278335107,0.5532197388802832,0.0,0.1462629808395495,0.6360513929525505,0.34524426031417227,1.2021294865189764,1.1972761966526153,3.2083600696672474,0.16019223067681218,0.15479876160990713,0.5730659025787965,1.9775407867787274,0.4715710051199138,1.5874415733309815,0.7231180851833104,0.9683967446970967,1.2881653236857973,0.20200659888223016,0.2787456445993031,0.8429334082607474,0.39401103230890466,0.7233273056057866,0.34882472899001826,0.0,1.5936923335010904,1.3859704028255913,1.783556757378747,0.2598077422707197,0.0,0.6360311655271108,0.34458993797381116,0.4644202487228443,0.8815232722143864,0.49109022028904165,1.6857089342573515,0.0,0.8486803021301875,0.0,0.5223295899712719,2.315315037199395,1.7424229731767387,0.36913990402362495,0.7005253940455342,0.0,1.4058106841611997,0.0,0.996142596752999,1.947681251888915,0.0,1.6959567408135676,0.24295432458697766,0.6730984967466906,0.41220115416323166,0.5853658536585366,0.5607476635514018,0.6864988558352403,0.38595137012736397,1.080691642651297,1.0029419630917358,1.2298558100084818,1.9144862795149968,0.34287673581347505,0.3429355281207133,2.902950889528071,6.725915794294893,2.7484349190044557,0.14473874656245478,0.0,0.4733503739467954,0.0,2.1790686887957365,1.0257366654233495,0.5628253834247925,0.4037141703673799,3.1932107691248364,1.5195111700236008,1.1751608114794656,0.9710505553195363,0.8954956568460642,0.7743534148985597,0.4877255730775484,1.244278540639026,1.3770548239951803,0.6667777962993833,1.8465867456106926,0.0,0.22038567493112948,0.22346368715083798,0.4161464835622139,0.4798464491362764,2.367955332884668,1.0687757174157002,2.7608216610521517,0.599965716244786,1.0498687664041995,0.1590583744234134,0.9854644000985464,0.0,0.0,0.0,0.22573363431151242,0.43078690407811604,2.806351159940796,0.8450406675821274,0.1040257983980027,0.8521516829995739,0.350385423966363,0.0,0.43632737019260737,1.7745720991470606,2.1390374331550803,0.4060089321965083,0.4400924194080757,0.3669724770642202,0.254000508001016,0.19652800524074682,0.6583278472679395,0.0,1.437297879985627,1.3813120716184082,1.8762713053237006,0.2523977788995457,0.9110787172011662,0.8751203290452437,2.9191925951737554,1.9080756495875189,0.3718854592785422,0.576036866359447,0.5238893545683152,0.7273388489862714,0.8088160954402993,0.1427959445951735,2.0349330167881976,0.0,0.0,0.7673419275629221,1.5018773466833542,1.5372790161414296,0.0,0.26881720430107525,0.8650519031141869,1.8433859312785725,0.8582872401296967,0.34199726402188785,0.5668532558633884,0.45392646391284613,0.4704996706502306,0.36656891495601174,0.0,0.4701457451810061,0.0,1.445028699875567,1.171848073343903,0.48488426023527426,2.765113584452438,0.2686727565824825,0.0,0.2303086135421465,1.2278727105290086,0.4549590536851683,0.9732360097323601,0.0,0.0,0.0,0.42557718906266623,0.6091370558375635,1.4422047705429675,0.24313153415998054,0.0,0.49879457976556657,0.7254261878853827,0.0,1.9261997719655874,0.6288868702396758,1.0624483532050526,0.0,1.3540128015755786,0.9086188992731049,0.3930302633302764,0.5170630816959669,0.0,0.0,0.5091649694501018,0.0,0.33846674564224066,0.0,1.1701685042646142,0.0,0.9540467482906663,0.09828975820719481,0.8151492350137949,0.5154307067843567,0.0,1.6220600162206003,0.24009603841536614,0.1718213058419244,0.11617100371747212,0.3139717425431711,0.7309832470574195,0.0,0.0,1.1365788975184694,0.6777363605557438,0.0,1.8744142455482662,0.0,0.44637163627088383,0.4416961130742049,0.25680534155110424,0.0,0.5319148936170213,1.091544171154126,0.0,0.8246289169873557,0.28557829604950025,0.8496176720475785,0.16775708773695688,0.7261285247488806,0.0,0.25163563160543534,0.5260389268805892,0.9896635144051023,0.0],\"xaxis\":\"x\",\"y\":[2.7188703781178614,4.7307816970377745,1.20881580427863,1.6026779802639401,1.3483090315106838,2.3166623320774726,0.7666164944257512,0.6465420868896216,0.10686864289780584,2.1291121538063105,3.247912824007143,-0.7106409899135198,0.7640244315073728,0.8217096207106295,-0.08956822667850584,2.3474783407327466,1.3045491879736826,4.227178682536119,-0.09154159466889733,0.4255538345236396,-0.380264107997079,1.4377974189018512,0.4877499104786813,1.715058634078445,1.96767454284697,4.884133282362737,2.4383546437408037,5.673238402445178,4.574602855945873,5.273470342817015,0.818760034910707,1.2612188829383006,6.2323673759525935,1.6993081583743783,3.700057156221346,1.2357983459448976,6.198802640335764,4.581665680253158,-0.10330131000188358,0.8711662046660678,6.162271001047353,6.273845794574251,1.338548450332825,4.517554325668039,0.6266721290836713,4.8976041436207804,5.158407807578258,7.336939987760248,10.036696386531508,5.273783726292315,1.0359564089006186,5.381616287559537,5.018241335293569,5.193014724795756,5.293082659894736,5.024858626432008,4.542560143139468,4.940395379918126,0.18284197933215207,4.347905936021216,2.6847453175076277,5.224643964689803,1.3107858258756226,1.4329386838915896,0.06338960743480349,3.255855396711551,4.768741177260627,4.159730509184119,4.2794308163270705,0.9711447156346431,4.44745960926204,4.977667695463918,0.07046939803624008,1.3513601109205777,3.3969419484183945,4.4393264120594775,2.8547980432365105,6.650358616621439,4.224855033643008,5.480105963138227,0.06230809947538951,2.3360372692120492,3.301158154579701,3.964985123931186,4.025772505494118,1.6373144682197063,1.2023949979572657,0.03959246975021169,5.953057016373879,1.9361307303068416,5.393825633471183,4.7728871818309955,3.5837560389353715,2.945615987264583,2.322599769419992,2.3784720022683703,4.076422811820642,4.303420895424728,3.4093413342402874,3.6798257123323412,3.164212318462546,5.372484238999622,1.3093855467193187,4.367473089666759,2.90486106009183,0.21496752596885882,1.064710105951387,0.2444807067418816,0.46180067047207407,3.191263910416015,2.725257912801722,3.107901179767052,3.650420919667958,1.4378413010579998,2.303048913724185,4.065467872405721,4.828364383805221,0.4227392132371841,4.212217041245709,3.034208855084602,2.983391510632255,-0.11850345626535641,3.3076252749840083,3.328494294279147,1.717957286587827,4.646409148310665,3.5784743011940794,1.4645054682142837,1.470486376681619,0.22039023341848396,2.560368982741619,3.6936776328529963,2.459147688642026,2.4991225074375163,0.895342408557479,0.9190153018060673,3.860830683739389,0.8267927463780965,1.474291535221161,4.330857400148528,4.70942054311668,1.3719970582455816,4.5326372332141025,1.2507483458943933,3.57747968833604,3.5597454785471045,2.0850951010827967,2.6261358031952993,2.858936819785754,2.7332879515974624,1.0820597295622145,3.5125669877842243,3.055331292108777,0.8796446773573797,2.0750841088466165,1.1694738975567556,0.8188934484860229,3.121736280596669,1.3977113305167916,1.2595275823592544,0.7890385109791314,3.468676344149245,1.1052927493255698,3.0479400063588056,0.9787430608054151,0.45163107865072705,2.2414573508970426,2.6640485335728186,2.9108843948477285,2.048555844468345,1.7686525628353866,3.2215179201805118,1.2583436420066278,2.9409373731757453,3.1091350530025945,1.6975632624379222,3.380083910754966,1.521636041396962,3.055199045774881,1.1082352406411,3.2799739474017904,1.7509571005614293,2.2276591607597758,2.543241352847359,1.0510289558492372,0.6701039171650351,2.3832232384310923,3.0869962211055886,1.3187883624205936,2.3417916202298272,2.5910861352337538,1.5020356940436927,1.3276428767401052,3.0987021366116094,3.4965915449053377,1.7274747981825964,1.2209078138401805,3.0833262042855454,1.55588746782787,2.6976800207344858,0.888107392095056,2.205714153973961,0.728868225898047,3.934911284814606,3.223365503640056,1.2232292779758056,0.652418813807968,1.2433918978254912,1.0933208792042508,0.2113950019248615,2.928182467499786,2.502437461763104,2.9619973857615594,3.6644217446642067,3.5787864510502834,1.1003482432406568,0.8307503809505401,1.7086456847853067,0.7776227020454016,4.22755276322386,1.7657285194337122,4.281899015119306,0.3769575356993323,1.3390687822655085,0.8212777381485306,2.4193084938608833,3.277186761891037,2.498638366452432,2.734008359342225,2.5298052699272793,1.8272311430818373,0.9960561765625272,0.44867882672576576,-0.24637173679587465,2.7897953013069148,0.720192841616593,2.228741716281773,1.1662298444747796,0.8129657613964503,2.4513923541528793,0.10767858004251551,1.4505812155471947,1.842770323795775,-0.763109252030582,0.6019476425826582,1.6013941005079912,0.7888123436478367,1.6763247160068688,0.4224504878882255,1.5174589088261423,2.3337463322642016,1.7483258881245949,2.9387979665874475,2.4297984938297565,0.9085631271574505,1.8954529113038314,0.9810788839185783,2.6132705047801985,2.192125504272886,2.503876618637142,2.163208316738641,2.55654999523042,2.2110943834403436,1.9520328403823188,1.9780488938856366,-0.20955525869001612,0.17692059543019367,1.6418194942317126,0.07204163074164893,0.1581434797341258,1.3559364139303793,1.1234842871191368,0.33993276216981716,0.3725541045598282,0.8964567656330216,1.8947066387865266,1.986341412418344,0.11032542978454152,-0.2444061724171881,0.7102601830938919,-0.2656509536010121,1.323493568997479,1.3584480013864364,2.7043926547502326,0.5599862514867685,2.260008898843173,1.5075762983002405,0.8605630662451293,0.39990790739099824,0.12772016318594148,2.2960034649839303,0.038430992568443956,0.18074964420014294,0.36976935678557143,2.132320527399991,1.7530976200263648,0.7701442824736346,1.8246484612700722,1.0524123456194792,1.5904776631051538,0.07547358243013269,0.19077461529943074,0.3743206494557707,1.7960376411215841,1.5995529557591226,2.1934320966365997,2.1956887237872804,0.709575117940427,1.9977833262792997,1.938397435249477,1.0105049873415415,1.0222588485432034,2.5889084084941003,1.7807596889007695,1.8359044920314431,1.6690080438369193,2.1580638853663547,0.07756106135949103,0.8672988754203469,2.0524401665594714,1.301220646200054,0.9480183339802538,0.7819867998577814,0.38596972283747066,1.1017141108750896,2.318569686642683,0.410663908982408,1.867028866083861,1.4446639516132103,1.8910005152202165,0.4575407993624887,0.46954000639023785,0.8370855804272064,0.2912086373578213,1.1209762736279303,1.9573283546083142,1.2799258099389623,0.7399030388483072,0.8084162252516092,0.43329448857479985,1.2905341199096207,-0.19372840853369655,0.15423456620004383,0.7642618767098963,2.0856515632941246,0.11874170807592055,1.635610179769925,2.1269289788949486,0.5769752733561069,-0.6851325436493771,1.695102208698896,1.6104430174849305,1.6524665683927837,0.6525845200528457,1.091277978800182,0.24290095531122868,-1.2798854168553748,1.4733227194108893,0.8954969763707227,2.4893088021808727,1.691713048137245,1.7392898013706108,1.7079046688723443,-0.3725520076611971,1.4587344539438247,1.7101776560413426,0.9356249811518886,2.165000251813624,-1.115804268928331,1.7219828586325476,-0.48726783312700017,1.4574354313949252,0.39697542525170754,-0.5172332095403028,0.7331497519139349,1.6345896292201652,-0.7922326701053203,1.234321847540485,1.9944816989133576,0.33164848682274306,0.6901701899138525,1.595264884729609,1.5995790061734225,0.8166316622514184,-0.09400836540366653,-0.3730285072080649,0.3806054537084832,1.0675412480063962,0.5226138517358871,1.3048143268275638,0.40810133433260565,1.8582155873013124,0.48110029172140384,1.4885073733627743,2.0730865827242404,0.6611283998111327,1.829010653764835,0.6094197816374953,0.42785789457765466,1.8236016953795429,1.9573197940195577,1.3150390339963722,1.9112741437603737,1.3097516495525794,-0.07251012577183202,2.0343651561911953,0.7665669515632726,0.12699679438932143,1.9465730563338426,1.6752889112005835,0.27324693162256897,1.422354533463586,0.2811800745852763,0.6417126609400765,1.5762682474059382,0.4960890197502155,0.7972245392027825,0.6847927541440358,0.702168153154397,0.7374381254046467,0.2486371413409002,0.5211639797320625,3.016984875194658,1.368819351501916,1.4385890224850388,1.204552066641115,0.3244204633291181,1.0294566695942127,1.7038889725780617,0.6649655152719198,0.8592569559001462,0.20410406880380405,1.3997186359476372,1.5983188002096638,0.5769316267647051,0.3222864397890647,1.426056986351324,-0.42008474878039104,0.9562393959133191,1.1389816150482208,-0.6746585057206661,1.902136437301488,1.5298030491901522,1.870943094825553,1.0276380716137008,0.33441085863442954,1.0081918801367105,-0.35816967900467733,0.3862726411099088,1.0301022020242352,2.2392813449297697,0.9759137844326781,0.5625109216270837,1.0117741471541415,-0.3228974694740372,1.302464948569654,2.362205228556391,1.076416368946976,0.8768807213762964,1.2456338989090272,0.16633841696348295,2.0331171976467353,0.4174305136072026,1.38143079213037,1.6282461960526589,-0.02620243307609682,1.649623371979799,-0.26806572932953854,0.8921419330167522,1.9423011710961853,0.2687050839474271,1.39814221464732,1.056437072595583,1.6547568425768326,1.6638193167369737,1.1307538979594702,1.352369925392375,0.41919734942348197,0.7847393688396738,1.0128891725223017,0.8903320994182286,2.7315720679978472,1.8253284017647933,0.7171874643874923,0.5084930699707293,0.7742133226497632,0.8807087775028883,1.8014075647744439,1.6377983245938563,1.276517547733272,0.03375023443018432,2.610366630783738,1.1763596611746392,0.891237848373714,0.9353355332369171,0.7430917732140675,0.7474950022931952,1.1067832814342697,1.3912093030506179,1.0956194324279829,1.1288218870331164,1.4694504601439737,0.10130041037734139,0.06770220212310452,0.5509327457531288,0.8769635037596042,-0.9028165466162023,1.9772829296426289,1.0913207884966196,2.105376338079183,1.5934802152918075,-0.4400110540907083,1.9247467499448452,-0.28529902690960973,0.48173069641652005,-0.01917197153598127,-0.17111043939276926,0.5428105177184344,0.7660624754468626,1.9644792800174251,1.6998632521474426,0.230769735992279,1.667848473480814,0.7798910054418368,0.9048357720731538,1.401735431952137,1.026284701964677,2.0312641989239277,0.5331253080753482,0.8481588848601682,1.5084401550801163,-0.57643804338236,1.1949825310752011,0.7723235468783907,-0.593572336729161,1.1036266233306924,1.721075814247492,1.2293046230724494,0.5253376764485538,0.7139817190181341,1.223779713854327,1.9117305152298263,1.839989471653551,1.296445497907667,0.4730479832064415,1.1214964632746944,1.2169933634259382,1.9497454111105705,1.7423260497011706,0.5616947581356927,0.9501616292351895,0.17965112217848667,1.2934296268861674,1.5876460616343422,1.6254732193300432,3.124838766370536,0.3085919740512485,0.39354764401136294,1.7833016880704866,0.5434207695407858,-0.21870272474981634,0.3531068033746918,0.39558113904228265,0.519591304941216,1.271487404622341,0.7171724073381578,0.7551519776020152,0.30090106445446807,1.203729238524086,1.57826824202655,1.746326322556905,1.5205161350084622,1.4443323614507986,-0.0025363862651223146,0.1639312338136737,1.2379588258831569,1.0109959324807825,-0.4309805653216391,-0.44840989085388283,0.3316197083839957,0.6805422465921296,0.16988510126378165,0.6938243314880551,0.9114935081677122,0.2821652681376021,-1.182602272467017,0.9289122182814411,0.8086757490213323,-0.5883208498857189,2.1458576246246714,1.4807249763814403,1.8711299656140459,1.5948058109977408,1.3542193932626747,0.436216796007299,1.8466638403215845,-0.048657593239008756,-1.1623903873388017,0.18017397100977617,0.1346373020443682,0.9012273313221328,0.8166537147768447,-0.4344902771402842,1.6528143165920266,-0.5198493413534537,2.8728092360874165,1.039575038794695,0.5107778399731608,0.9749800970160697,-1.1565416657213397,2.3165578803479954,1.5670385306240096,1.6759269879636813,0.748375501476458,-0.21636622980947573,0.47777830905072805,0.29292672452169277,0.8220865214166851,1.1885596921698385,-0.08645743404771822,-0.44393631464516314,1.99879060202257,-0.6931930601152263,1.3548950021334754,1.1593598876002271,0.6209621611401565,-0.10503325408743691,0.13965238068903962,1.3877888463521342,-0.6828488767934815,2.5177850821347585,0.8223286083949788,0.2134453911400831,0.692579566115806,0.5955329863193877,-0.5543898822958205,-0.42007757709500704,-0.3496691872697939,0.9466256684768767,0.27978132513439524],\"yaxis\":\"y\",\"type\":\"scatter\"},{\"line\":{\"color\":\"black\"},\"mode\":\"lines\",\"showlegend\":false,\"x\":[0.0,16.15924460890647],\"y\":[0.0,16.15924460890647],\"type\":\"scatter\"}],                        {\"template\":{\"data\":{\"histogram2dcontour\":[{\"type\":\"histogram2dcontour\",\"colorbar\":{\"outlinewidth\":0,\"ticks\":\"\"},\"colorscale\":[[0.0,\"#0d0887\"],[0.1111111111111111,\"#46039f\"],[0.2222222222222222,\"#7201a8\"],[0.3333333333333333,\"#9c179e\"],[0.4444444444444444,\"#bd3786\"],[0.5555555555555556,\"#d8576b\"],[0.6666666666666666,\"#ed7953\"],[0.7777777777777778,\"#fb9f3a\"],[0.8888888888888888,\"#fdca26\"],[1.0,\"#f0f921\"]]}],\"choropleth\":[{\"type\":\"choropleth\",\"colorbar\":{\"outlinewidth\":0,\"ticks\":\"\"}}],\"histogram2d\":[{\"type\":\"histogram2d\",\"colorbar\":{\"outlinewidth\":0,\"ticks\":\"\"},\"colorscale\":[[0.0,\"#0d0887\"],[0.1111111111111111,\"#46039f\"],[0.2222222222222222,\"#7201a8\"],[0.3333333333333333,\"#9c179e\"],[0.4444444444444444,\"#bd3786\"],[0.5555555555555556,\"#d8576b\"],[0.6666666666666666,\"#ed7953\"],[0.7777777777777778,\"#fb9f3a\"],[0.8888888888888888,\"#fdca26\"],[1.0,\"#f0f921\"]]}],\"heatmap\":[{\"type\":\"heatmap\",\"colorbar\":{\"outlinewidth\":0,\"ticks\":\"\"},\"colorscale\":[[0.0,\"#0d0887\"],[0.1111111111111111,\"#46039f\"],[0.2222222222222222,\"#7201a8\"],[0.3333333333333333,\"#9c179e\"],[0.4444444444444444,\"#bd3786\"],[0.5555555555555556,\"#d8576b\"],[0.6666666666666666,\"#ed7953\"],[0.7777777777777778,\"#fb9f3a\"],[0.8888888888888888,\"#fdca26\"],[1.0,\"#f0f921\"]]}],\"heatmapgl\":[{\"type\":\"heatmapgl\",\"colorbar\":{\"outlinewidth\":0,\"ticks\":\"\"},\"colorscale\":[[0.0,\"#0d0887\"],[0.1111111111111111,\"#46039f\"],[0.2222222222222222,\"#7201a8\"],[0.3333333333333333,\"#9c179e\"],[0.4444444444444444,\"#bd3786\"],[0.5555555555555556,\"#d8576b\"],[0.6666666666666666,\"#ed7953\"],[0.7777777777777778,\"#fb9f3a\"],[0.8888888888888888,\"#fdca26\"],[1.0,\"#f0f921\"]]}],\"contourcarpet\":[{\"type\":\"contourcarpet\",\"colorbar\":{\"outlinewidth\":0,\"ticks\":\"\"}}],\"contour\":[{\"type\":\"contour\",\"colorbar\":{\"outlinewidth\":0,\"ticks\":\"\"},\"colorscale\":[[0.0,\"#0d0887\"],[0.1111111111111111,\"#46039f\"],[0.2222222222222222,\"#7201a8\"],[0.3333333333333333,\"#9c179e\"],[0.4444444444444444,\"#bd3786\"],[0.5555555555555556,\"#d8576b\"],[0.6666666666666666,\"#ed7953\"],[0.7777777777777778,\"#fb9f3a\"],[0.8888888888888888,\"#fdca26\"],[1.0,\"#f0f921\"]]}],\"surface\":[{\"type\":\"surface\",\"colorbar\":{\"outlinewidth\":0,\"ticks\":\"\"},\"colorscale\":[[0.0,\"#0d0887\"],[0.1111111111111111,\"#46039f\"],[0.2222222222222222,\"#7201a8\"],[0.3333333333333333,\"#9c179e\"],[0.4444444444444444,\"#bd3786\"],[0.5555555555555556,\"#d8576b\"],[0.6666666666666666,\"#ed7953\"],[0.7777777777777778,\"#fb9f3a\"],[0.8888888888888888,\"#fdca26\"],[1.0,\"#f0f921\"]]}],\"mesh3d\":[{\"type\":\"mesh3d\",\"colorbar\":{\"outlinewidth\":0,\"ticks\":\"\"}}],\"scatter\":[{\"fillpattern\":{\"fillmode\":\"overlay\",\"size\":10,\"solidity\":0.2},\"type\":\"scatter\"}],\"parcoords\":[{\"type\":\"parcoords\",\"line\":{\"colorbar\":{\"outlinewidth\":0,\"ticks\":\"\"}}}],\"scatterpolargl\":[{\"type\":\"scatterpolargl\",\"marker\":{\"colorbar\":{\"outlinewidth\":0,\"ticks\":\"\"}}}],\"bar\":[{\"error_x\":{\"color\":\"#2a3f5f\"},\"error_y\":{\"color\":\"#2a3f5f\"},\"marker\":{\"line\":{\"color\":\"#E5ECF6\",\"width\":0.5},\"pattern\":{\"fillmode\":\"overlay\",\"size\":10,\"solidity\":0.2}},\"type\":\"bar\"}],\"scattergeo\":[{\"type\":\"scattergeo\",\"marker\":{\"colorbar\":{\"outlinewidth\":0,\"ticks\":\"\"}}}],\"scatterpolar\":[{\"type\":\"scatterpolar\",\"marker\":{\"colorbar\":{\"outlinewidth\":0,\"ticks\":\"\"}}}],\"histogram\":[{\"marker\":{\"pattern\":{\"fillmode\":\"overlay\",\"size\":10,\"solidity\":0.2}},\"type\":\"histogram\"}],\"scattergl\":[{\"type\":\"scattergl\",\"marker\":{\"colorbar\":{\"outlinewidth\":0,\"ticks\":\"\"}}}],\"scatter3d\":[{\"type\":\"scatter3d\",\"line\":{\"colorbar\":{\"outlinewidth\":0,\"ticks\":\"\"}},\"marker\":{\"colorbar\":{\"outlinewidth\":0,\"ticks\":\"\"}}}],\"scattermapbox\":[{\"type\":\"scattermapbox\",\"marker\":{\"colorbar\":{\"outlinewidth\":0,\"ticks\":\"\"}}}],\"scatterternary\":[{\"type\":\"scatterternary\",\"marker\":{\"colorbar\":{\"outlinewidth\":0,\"ticks\":\"\"}}}],\"scattercarpet\":[{\"type\":\"scattercarpet\",\"marker\":{\"colorbar\":{\"outlinewidth\":0,\"ticks\":\"\"}}}],\"carpet\":[{\"aaxis\":{\"endlinecolor\":\"#2a3f5f\",\"gridcolor\":\"white\",\"linecolor\":\"white\",\"minorgridcolor\":\"white\",\"startlinecolor\":\"#2a3f5f\"},\"baxis\":{\"endlinecolor\":\"#2a3f5f\",\"gridcolor\":\"white\",\"linecolor\":\"white\",\"minorgridcolor\":\"white\",\"startlinecolor\":\"#2a3f5f\"},\"type\":\"carpet\"}],\"table\":[{\"cells\":{\"fill\":{\"color\":\"#EBF0F8\"},\"line\":{\"color\":\"white\"}},\"header\":{\"fill\":{\"color\":\"#C8D4E3\"},\"line\":{\"color\":\"white\"}},\"type\":\"table\"}],\"barpolar\":[{\"marker\":{\"line\":{\"color\":\"#E5ECF6\",\"width\":0.5},\"pattern\":{\"fillmode\":\"overlay\",\"size\":10,\"solidity\":0.2}},\"type\":\"barpolar\"}],\"pie\":[{\"automargin\":true,\"type\":\"pie\"}]},\"layout\":{\"autotypenumbers\":\"strict\",\"colorway\":[\"#636efa\",\"#EF553B\",\"#00cc96\",\"#ab63fa\",\"#FFA15A\",\"#19d3f3\",\"#FF6692\",\"#B6E880\",\"#FF97FF\",\"#FECB52\"],\"font\":{\"color\":\"#2a3f5f\"},\"hovermode\":\"closest\",\"hoverlabel\":{\"align\":\"left\"},\"paper_bgcolor\":\"white\",\"plot_bgcolor\":\"#E5ECF6\",\"polar\":{\"bgcolor\":\"#E5ECF6\",\"angularaxis\":{\"gridcolor\":\"white\",\"linecolor\":\"white\",\"ticks\":\"\"},\"radialaxis\":{\"gridcolor\":\"white\",\"linecolor\":\"white\",\"ticks\":\"\"}},\"ternary\":{\"bgcolor\":\"#E5ECF6\",\"aaxis\":{\"gridcolor\":\"white\",\"linecolor\":\"white\",\"ticks\":\"\"},\"baxis\":{\"gridcolor\":\"white\",\"linecolor\":\"white\",\"ticks\":\"\"},\"caxis\":{\"gridcolor\":\"white\",\"linecolor\":\"white\",\"ticks\":\"\"}},\"coloraxis\":{\"colorbar\":{\"outlinewidth\":0,\"ticks\":\"\"}},\"colorscale\":{\"sequential\":[[0.0,\"#0d0887\"],[0.1111111111111111,\"#46039f\"],[0.2222222222222222,\"#7201a8\"],[0.3333333333333333,\"#9c179e\"],[0.4444444444444444,\"#bd3786\"],[0.5555555555555556,\"#d8576b\"],[0.6666666666666666,\"#ed7953\"],[0.7777777777777778,\"#fb9f3a\"],[0.8888888888888888,\"#fdca26\"],[1.0,\"#f0f921\"]],\"sequentialminus\":[[0.0,\"#0d0887\"],[0.1111111111111111,\"#46039f\"],[0.2222222222222222,\"#7201a8\"],[0.3333333333333333,\"#9c179e\"],[0.4444444444444444,\"#bd3786\"],[0.5555555555555556,\"#d8576b\"],[0.6666666666666666,\"#ed7953\"],[0.7777777777777778,\"#fb9f3a\"],[0.8888888888888888,\"#fdca26\"],[1.0,\"#f0f921\"]],\"diverging\":[[0,\"#8e0152\"],[0.1,\"#c51b7d\"],[0.2,\"#de77ae\"],[0.3,\"#f1b6da\"],[0.4,\"#fde0ef\"],[0.5,\"#f7f7f7\"],[0.6,\"#e6f5d0\"],[0.7,\"#b8e186\"],[0.8,\"#7fbc41\"],[0.9,\"#4d9221\"],[1,\"#276419\"]]},\"xaxis\":{\"gridcolor\":\"white\",\"linecolor\":\"white\",\"ticks\":\"\",\"title\":{\"standoff\":15},\"zerolinecolor\":\"white\",\"automargin\":true,\"zerolinewidth\":2},\"yaxis\":{\"gridcolor\":\"white\",\"linecolor\":\"white\",\"ticks\":\"\",\"title\":{\"standoff\":15},\"zerolinecolor\":\"white\",\"automargin\":true,\"zerolinewidth\":2},\"scene\":{\"xaxis\":{\"backgroundcolor\":\"#E5ECF6\",\"gridcolor\":\"white\",\"linecolor\":\"white\",\"showbackground\":true,\"ticks\":\"\",\"zerolinecolor\":\"white\",\"gridwidth\":2},\"yaxis\":{\"backgroundcolor\":\"#E5ECF6\",\"gridcolor\":\"white\",\"linecolor\":\"white\",\"showbackground\":true,\"ticks\":\"\",\"zerolinecolor\":\"white\",\"gridwidth\":2},\"zaxis\":{\"backgroundcolor\":\"#E5ECF6\",\"gridcolor\":\"white\",\"linecolor\":\"white\",\"showbackground\":true,\"ticks\":\"\",\"zerolinecolor\":\"white\",\"gridwidth\":2}},\"shapedefaults\":{\"line\":{\"color\":\"#2a3f5f\"}},\"annotationdefaults\":{\"arrowcolor\":\"#2a3f5f\",\"arrowhead\":0,\"arrowwidth\":1},\"geo\":{\"bgcolor\":\"white\",\"landcolor\":\"#E5ECF6\",\"subunitcolor\":\"white\",\"showland\":true,\"showlakes\":true,\"lakecolor\":\"white\"},\"title\":{\"x\":0.05},\"mapbox\":{\"style\":\"light\"}}},\"xaxis\":{\"anchor\":\"y\",\"domain\":[0.0,1.0],\"title\":{\"text\":\"Taxa de roubo\"}},\"yaxis\":{\"anchor\":\"x\",\"domain\":[0.0,1.0],\"title\":{\"text\":\"Taxa de roubo prevista\"}},\"coloraxis\":{\"colorbar\":{\"title\":{\"text\":\"Erro absoluto\"}},\"colorscale\":[[0.0,\"rgb(75, 41, 145)\"],[0.16666666666666666,\"rgb(135, 44, 162)\"],[0.3333333333333333,\"rgb(192, 54, 157)\"],[0.5,\"rgb(234, 79, 136)\"],[0.6666666666666666,\"rgb(250, 120, 118)\"],[0.8333333333333334,\"rgb(246, 169, 122)\"],[1.0,\"rgb(237, 217, 163)\"]]},\"legend\":{\"tracegroupgap\":0},\"title\":{\"text\":\"Validação cruzada Leave One Out\"},\"showlegend\":true},                        {\"responsive\": true}                    ).then(function(){\n",
              "                            \n",
              "var gd = document.getElementById('2f39a2ba-3b18-44f7-a613-9ee79fd7c0c9');\n",
              "var x = new MutationObserver(function (mutations, observer) {{\n",
              "        var display = window.getComputedStyle(gd).display;\n",
              "        if (!display || display === 'none') {{\n",
              "            console.log([gd, 'removed!']);\n",
              "            Plotly.purge(gd);\n",
              "            observer.disconnect();\n",
              "        }}\n",
              "}});\n",
              "\n",
              "// Listen for the removal of the full notebook cells\n",
              "var notebookContainer = gd.closest('#notebook-container');\n",
              "if (notebookContainer) {{\n",
              "    x.observe(notebookContainer, {childList: true});\n",
              "}}\n",
              "\n",
              "// Listen for the clearing of the current output cell\n",
              "var outputEl = gd.closest('.output');\n",
              "if (outputEl) {{\n",
              "    x.observe(outputEl, {childList: true});\n",
              "}}\n",
              "\n",
              "                        })                };                            </script>        </div>\n",
              "</body>\n",
              "</html>"
            ]
          },
          "metadata": {}
        }
      ]
    },
    {
      "cell_type": "code",
      "source": [
        "#@title Morran's I e Geary's C para resíduos\n",
        "\n",
        "df_resultados = pd.DataFrame([y_true, y_pred]).T\n",
        "df_resultados.columns = ['y_true', 'y_pred']\n",
        "\n",
        "residuos = df_resultados['y_true'] - df_resultados['y_pred']\n",
        "moran = esda.Moran(residuos, w)\n",
        "print(f'Morans I: {moran.I}')\n",
        "\n",
        "geary = Geary(residuos, w)\n",
        "print(f\"Geary's C: {geary.C}, p-value: {geary.p_sim}\")"
      ],
      "metadata": {
        "id": "91v84nf-D54D",
        "colab": {
          "base_uri": "https://localhost:8080/"
        },
        "outputId": "03589b71-55b7-47ea-e5f9-9b38e2c1953e"
      },
      "execution_count": null,
      "outputs": [
        {
          "output_type": "stream",
          "name": "stdout",
          "text": [
            "Morans I: 0.06343805260744269\n",
            "Geary's C: 0.9324974453455425, p-value: 0.001\n"
          ]
        }
      ]
    },
    {
      "cell_type": "markdown",
      "source": [
        "---"
      ],
      "metadata": {
        "id": "wy73hE6FOqKC"
      }
    },
    {
      "cell_type": "markdown",
      "source": [
        "## **GNN**\n",
        "\n",
        "As Graph Neural Networks (GNNs) são modelos de aprendizagem profunda projetados para lidar com dados que possuem estrutura de grafo. Em se tratando de dados espaciais, as GNNs modelam explicitamente as vizinhanças e permitem que cada nó aprenda uma representação latente que considera atributos vizinhos. Cada nó do grafo,portanto, representa um município e possui um vetor de atributos com as características socioeconômicas.\n",
        "\n",
        "#### **Arquitetura GAE**\n",
        "\n",
        "As arquiteturas do tipo Graph Autoencoder mapeiam grafos a um espaço de características latentes para gerar um embedding de cada nó. O modelo é treinado de forma que essa representação capture a estrutura topológica da rede original. Depois, um decoder calcula a similaridade de cada par de nós, e uma função de ativação define se deve ou não existir uma aresta entre nós durante a reconstrução da rede. As GAEs são treinadas para minimizar a loss entre a real matriz de adjacências e decodificada.\n",
        "\n",
        "#### **Por quê treinar um modelo para \"aprender as features\"?**\n",
        "\n",
        "As representações latentes dos dados capturam suas características mais relevantes, performando uma redução na dimensionalidade das features de modo a capturar padrões não lineares. A ideia é facilitar tarefas como classificação supervisionada e clusterização.\n",
        "\n",
        "#### **Arquitetura NAGAE**\n",
        "\n",
        "Para além de um Graph Autoencoder, a arquitetura utilizada aqui (NAGAE) adiciona mecanismos de atenção ao treinamento. Esses mecanismos atuam de forma similar (mas não análoga) ao mecanismos de atenção dos transformers. Aqui, ao invés de calcular a \"atenção\" entre diferentes palavras dado um contexto, o modelo avalia as relações entre nós conectados, modificando dinamicamente a estrutura da rede. Assim, os pesos se ajustam conforme a topologia e aos valores de cada nó. Para grafos heterogêneos ou grafos onde nem todas as conexões são igualmente relevantes, os modelos que incorporam atenção performam melhor do que os GAE's comuns."
      ],
      "metadata": {
        "id": "K93LVgtXtvJp"
      }
    },
    {
      "cell_type": "code",
      "source": [
        "#@title Pré processamento\n",
        "\n",
        "df_gnn = df[['Area_Km2', 'IPDM', 'CAER', 'CAEC',\n",
        "           'RTF', 'IndRiq', 'TMI', 'TMP', 'TM1539', 'TM6069',\n",
        "            'TAE03','IndLong',\n",
        "            'Prof5ano', 'Prof9ano', 'TDISM',\n",
        "           'IndEsc', 'populacao', 'Agrop', 'Gini', 'Indústria', 'AdmPub', 'ServExc',\n",
        "          'ValAdic', 'ImpLiq', 'PIB', 'PIBpc', 'x_centroid', 'y_centroid']]\n",
        "\n",
        "feature_columns = [col for col in df_gnn.columns if col not in ['x_centroid', 'y_centroid']]\n",
        "\n",
        "scaler = StandardScaler()\n",
        "x = scaler.fit_transform(df_gnn[feature_columns])\n",
        "\n",
        "x = torch.tensor(x, dtype=torch.float)"
      ],
      "metadata": {
        "id": "oJ01BkT29S-V",
        "cellView": "form"
      },
      "execution_count": null,
      "outputs": []
    },
    {
      "cell_type": "code",
      "source": [
        "#@title Criação do grafo a partir da matriz de pesos espaciais W\n",
        "\n",
        "G = w_knn.to_networkx()\n",
        "\n",
        "\n",
        "edge_index = torch.tensor(list(G.edges()), dtype=torch.long).t().contiguous()\n",
        "if 'weight' in next(iter(G.edges(data=True)))[-1]:\n",
        "    edge_attr = torch.tensor([data['weight'] for _, _, data in G.edges(data=True)], dtype=torch.float).unsqueeze(1)\n",
        "else:\n",
        "    edge_attr = None"
      ],
      "metadata": {
        "id": "e1QuTNoj9Sdr",
        "cellView": "form"
      },
      "execution_count": null,
      "outputs": []
    },
    {
      "cell_type": "code",
      "source": [
        "#@title Definição do modelo\n",
        "\n",
        "class NAGAE(torch.nn.Module):\n",
        "    def __init__(self, num_features, hidden_channels, num_heads=2):\n",
        "        super(NAGAE, self).__init__()\n",
        "        # Encoder\n",
        "        self.conv1 = GATConv(num_features, hidden_channels, heads=num_heads, dropout=0.1)\n",
        "        self.conv2 = GATConv(hidden_channels * num_heads, hidden_channels, heads=num_heads, dropout=0.1)\n",
        "        # Decoder\n",
        "        self.decoder = torch.nn.Linear(hidden_channels * num_heads, num_features)\n",
        "\n",
        "    def encode(self, x, edge_index):\n",
        "        x = F.leaky_relu(self.conv1(x, edge_index), negative_slope=0.02)\n",
        "        x = F.leaky_relu(self.conv2(x, edge_index), negative_slope=0.02)\n",
        "        return x\n",
        "\n",
        "    def decode(self, z):\n",
        "        return self.decoder(z)\n",
        "\n",
        "    def forward(self, x, edge_index):\n",
        "        z = self.encode(x, edge_index)\n",
        "        return self.decode(z)"
      ],
      "metadata": {
        "id": "M72pbbjABwXY"
      },
      "execution_count": null,
      "outputs": []
    },
    {
      "cell_type": "code",
      "source": [
        "#@title Hiperparâmetros\n",
        "\n",
        "learning_rate = 0.0005\n",
        "weight_decay = 1e-5\n",
        "hidden_channels = 16\n",
        "num_heads = 2\n",
        "dropout_rate = 0.1\n",
        "max_epochs = 5000\n",
        "patience = 300\n",
        "\n",
        "device = torch.device('cuda' if torch.cuda.is_available() else 'cpu')\n",
        "\n",
        "# mover data para a gpu tambem\n",
        "data = Data(x=x, edge_index=edge_index)\n",
        "if edge_attr is not None:\n",
        "    data.edge_attr = edge_attr\n",
        "\n",
        "data.x = data.x.to(device)\n",
        "data.edge_index = data.edge_index.to(device)"
      ],
      "metadata": {
        "id": "QWGbFvZLDIpv",
        "cellView": "form"
      },
      "execution_count": null,
      "outputs": []
    },
    {
      "cell_type": "code",
      "source": [
        "#@title Testando as curvas de validação do modelo\n",
        "\n",
        "k_folds = 5\n",
        "kf = KFold(n_splits=k_folds, shuffle=True, random_state=120)\n",
        "fold_results = []\n",
        "\n",
        "num_nodes = data.num_nodes\n",
        "indices = np.arange(num_nodes)\n",
        "\n",
        "logs = {\n",
        "    'train_losses': {},\n",
        "    'val_losses': {},\n",
        "    'val_mae': {},\n",
        "    'val_rmse': {}\n",
        "}\n",
        "\n",
        "for fold, (train_idx, val_idx) in enumerate(kf.split(indices)):\n",
        "    print(f'\\n### Fold {fold + 1}/{k_folds} ###')\n",
        "\n",
        "    train_mask = torch.zeros(num_nodes, dtype=torch.bool)\n",
        "    val_mask = torch.zeros(num_nodes, dtype=torch.bool)\n",
        "\n",
        "    train_mask[train_idx] = True\n",
        "    val_mask[val_idx] = True\n",
        "\n",
        "    data.train_mask = train_mask.to(device)\n",
        "    data.val_mask = val_mask.to(device)\n",
        "\n",
        "    model = NAGAE(num_features=x.shape[1], hidden_channels=hidden_channels, num_heads=num_heads).to(device)\n",
        "\n",
        "    optimizer = torch.optim.AdamW(model.parameters(), lr=learning_rate, weight_decay=weight_decay)\n",
        "    criterion = torch.nn.MSELoss()\n",
        "    scheduler = torch.optim.lr_scheduler.ReduceLROnPlateau(\n",
        "        optimizer,\n",
        "        mode='min',\n",
        "        factor=0.2,\n",
        "        patience=100,\n",
        "        verbose=True\n",
        "    )\n",
        "\n",
        "    best_val_loss = np.inf\n",
        "    patience_counter = 0\n",
        "    best_model_path = f'best_nagae_model_fold_{fold + 1}.pth'\n",
        "\n",
        "    train_losses = []\n",
        "    val_losses = []\n",
        "    val_mae_current_list = []\n",
        "    val_rmse_current_list = []\n",
        "\n",
        "    current_lr = optimizer.param_groups[0]['lr']\n",
        "\n",
        "    for epoch in range(1, max_epochs + 1):\n",
        "        model.train()\n",
        "        optimizer.zero_grad()\n",
        "        out = model(data.x, data.edge_index)\n",
        "\n",
        "        # calcular loss apenas no treino\n",
        "        loss = criterion(out[data.train_mask], data.x[data.train_mask])\n",
        "        loss.backward()\n",
        "        optimizer.step()\n",
        "\n",
        "        train_losses.append(loss.item())\n",
        "\n",
        "        # avalia na validação\n",
        "        model.eval()\n",
        "        with torch.no_grad():\n",
        "            out_val = model(data.x, data.edge_index)\n",
        "            val_loss = criterion(out_val[data.val_mask], data.x[data.val_mask]).item()\n",
        "            val_mae_current = mean_absolute_error(\n",
        "                data.x[data.val_mask].cpu().numpy(),\n",
        "                out_val[data.val_mask].cpu().numpy()\n",
        "            )\n",
        "            val_rmse_current = mean_squared_error(\n",
        "                data.x[data.val_mask].cpu().numpy(),\n",
        "                out_val[data.val_mask].cpu().numpy(),\n",
        "                squared=False\n",
        "            )\n",
        "\n",
        "        val_losses.append(val_loss)\n",
        "        val_mae_current_list.append(val_mae_current)\n",
        "        val_rmse_current_list.append(val_rmse_current)\n",
        "        scheduler.step(val_loss)\n",
        "\n",
        "        new_lr = optimizer.param_groups[0]['lr']\n",
        "        if new_lr < current_lr:\n",
        "            print(f'Fold {fold +1}, Época {epoch}: Learning rate reduzido de {current_lr} para {new_lr}')\n",
        "            current_lr = new_lr\n",
        "\n",
        "        if val_loss < best_val_loss:\n",
        "            best_val_loss = val_loss\n",
        "            patience_counter = 0\n",
        "            torch.save(model.state_dict(), best_model_path)\n",
        "        else:\n",
        "            patience_counter += 1\n",
        "\n",
        "        # callback 300 épocas\n",
        "        if epoch % 300 == 0:\n",
        "            print(f'Época {epoch}, Loss: {loss.item():.4f}, Val Loss: {val_loss:.4f}, Val MAE: {val_mae_current:.4f}, Val RMSE: {val_rmse_current:.4f}')\n",
        "\n",
        "        # early stopping\n",
        "        if patience_counter >= patience:\n",
        "            print(f'Early stopping na época {epoch}')\n",
        "            break\n",
        "\n",
        "    model.load_state_dict(torch.load(best_model_path))\n",
        "\n",
        "    # logs para plot\n",
        "    fold_number = fold + 1\n",
        "    logs['train_losses'][fold_number] = train_losses\n",
        "    logs['val_losses'][fold_number] = val_losses\n",
        "    logs['val_mae'][fold_number] = val_mae_current_list\n",
        "    logs['val_rmse'][fold_number] = val_rmse_current_list\n",
        "    fold_results.append({\n",
        "        'Fold': fold + 1,\n",
        "        'Best Val Loss': best_val_loss,\n",
        "        'Final Val MAE': val_mae_current_list[-1],\n",
        "        'Final Val RMSE': val_rmse_current_list[-1],\n",
        "        'Total Epochs': epoch\n",
        "    })\n"
      ],
      "metadata": {
        "colab": {
          "base_uri": "https://localhost:8080/"
        },
        "id": "ORoc6nMtDVVD",
        "outputId": "8fccf568-8fc4-4377-dd01-53f33eb364ee",
        "collapsed": true
      },
      "execution_count": null,
      "outputs": [
        {
          "output_type": "stream",
          "name": "stdout",
          "text": [
            "\n",
            "### Fold 1/5 ###\n",
            "Época 300, Loss: 0.5563, Val Loss: 0.6772, Val MAE: 0.5063, Val RMSE: 0.7293\n",
            "Época 600, Loss: 0.5114, Val Loss: 0.6531, Val MAE: 0.4951, Val RMSE: 0.7152\n",
            "Época 900, Loss: 0.4900, Val Loss: 0.6431, Val MAE: 0.4953, Val RMSE: 0.7117\n",
            "Fold 1, Época 1020: Learning rate reduzido de 0.0005 para 0.0001\n",
            "Fold 1, Época 1121: Learning rate reduzido de 0.0001 para 2e-05\n",
            "Época 1200, Loss: 0.4778, Val Loss: 0.6431, Val MAE: 0.4960, Val RMSE: 0.7122\n",
            "Early stopping na época 1220\n",
            "\n",
            "### Fold 2/5 ###\n",
            "Época 300, Loss: 0.5956, Val Loss: 0.6666, Val MAE: 0.5214, Val RMSE: 0.7371\n",
            "Época 600, Loss: 0.5085, Val Loss: 0.6638, Val MAE: 0.5184, Val RMSE: 0.7366\n",
            "Fold 2, Época 627: Learning rate reduzido de 0.0005 para 0.0001\n",
            "Fold 2, Época 728: Learning rate reduzido de 0.0001 para 2e-05\n",
            "Early stopping na época 826\n",
            "\n",
            "### Fold 3/5 ###\n",
            "Época 300, Loss: 0.5460, Val Loss: 1.7223, Val MAE: 0.5388, Val RMSE: 1.1873\n",
            "Época 600, Loss: 0.4977, Val Loss: 1.6932, Val MAE: 0.5321, Val RMSE: 1.1785\n",
            "Fold 3, Época 639: Learning rate reduzido de 0.0005 para 0.0001\n",
            "Fold 3, Época 740: Learning rate reduzido de 0.0001 para 2e-05\n",
            "Early stopping na época 838\n",
            "\n",
            "### Fold 4/5 ###\n",
            "Época 300, Loss: 0.6486, Val Loss: 0.5551, Val MAE: 0.4918, Val RMSE: 0.6937\n",
            "Época 600, Loss: 0.5749, Val Loss: 0.5421, Val MAE: 0.4846, Val RMSE: 0.6794\n",
            "Fold 4, Época 624: Learning rate reduzido de 0.0005 para 0.0001\n",
            "Fold 4, Época 725: Learning rate reduzido de 0.0001 para 2e-05\n",
            "Early stopping na época 823\n",
            "\n",
            "### Fold 5/5 ###\n",
            "Época 300, Loss: 0.5886, Val Loss: 0.5569, Val MAE: 0.4783, Val RMSE: 0.6939\n",
            "Época 600, Loss: 0.5394, Val Loss: 0.5422, Val MAE: 0.4671, Val RMSE: 0.6846\n",
            "Fold 5, Época 767: Learning rate reduzido de 0.0005 para 0.0001\n",
            "Fold 5, Época 868: Learning rate reduzido de 0.0001 para 2e-05\n",
            "Época 900, Loss: 0.5234, Val Loss: 0.5406, Val MAE: 0.4665, Val RMSE: 0.6831\n",
            "Early stopping na época 967\n"
          ]
        }
      ]
    },
    {
      "cell_type": "code",
      "source": [
        "#@title Logs do primeiro fold\n",
        "plt.figure(figsize=(10,6))\n",
        "sns.set_theme()\n",
        "plt.plot(logs['train_losses'][1], label='Train Loss', color = 'olive')\n",
        "plt.plot(logs['val_losses'][1], label='Validation Loss', color='teal')\n",
        "plt.xlabel('Épocas')\n",
        "plt.ylabel('Loss')\n",
        "plt.title(f'Fold {1} - Treinamento e Validação')\n",
        "plt.legend()\n",
        "plt.show()"
      ],
      "metadata": {
        "colab": {
          "base_uri": "https://localhost:8080/",
          "height": 575
        },
        "id": "RV0uLCGALijA",
        "outputId": "8b261535-3a76-4d60-ffbe-a6beea9fe3b1",
        "cellView": "form"
      },
      "execution_count": null,
      "outputs": [
        {
          "output_type": "display_data",
          "data": {
            "text/plain": [
              "<Figure size 1000x600 with 1 Axes>"
            ],
            "image/png": "[encoded data removed]"
          },
          "metadata": {}
        }
      ]
    },
    {
      "cell_type": "markdown",
      "source": [
        "## **Leave One Out CV**\n",
        "\n",
        "Antes de obter de fato os embeddings, foi feito um pequeno processo de validação para avaliar algumas hipóteses. Num primeiro momento, não se sabia se os dados disponíveis para o modelo seriam suficientes para a tarefa criada; a validação, portanto, previa evitar o overfitting. Depois, buscou-se encontrar um conjunto de hiperparâmetros adequado à tarefa. Para isso, realizou-se o processo intensivo de validação cruzada por meio do método \"Leave One Out\".\n",
        "\n",
        "Para cada município, ocultava-se as conexões dele durante o treino e fornecia a tarefa à rede de modelar a estrutura do grafo. Posteriormente, introduzia-se o novo nó como uma instância a ser predita a partir dos embeddings obtidos, repetindo o processo a cada iteração."
      ],
      "metadata": {
        "id": "1irkj9irgpLM"
      }
    },
    {
      "cell_type": "markdown",
      "source": [
        "## **Detalhes da implementação**\n",
        "\n",
        "Explica-se a seguir, em detalhes, a arquiteura da rede utilizada.\n",
        "\n",
        "\n",
        "\n",
        "- **Encoder**: aprende a representar cada nó do grafo em um espaço de baixa dimensão (embeddings) utilizando camadas de atenção em grafos. Aqui, o encoder é dado por duas camadas do tipo \"GATConv\" (que incorporam os mecanismos de atenção). Para cada par de nós conectados (i,j), as camadas do encoder calculam a similaridade, que indicam o \"quão relevante\" o nó $j$ é para explicar o nó $i$. As \"cabeças de atenção\" incorporam a informação da topologia do grafo, aprendendo tipos de relação diferente a depender da estrutura da rede.\n",
        "\n",
        "- Decoder: Reconstrói as características originais dos nós a partir das embeddings geradas pelo encoder. A camada de saída linear transforma de volta para o espaço das características originais.\n",
        "\n",
        "- Todas as funções de ativação são **Leaky Relu's**, que performou melhor so que a **\"Relu\"** diante da robustez dos gráficos. Os hiperparâmetros foram testados durante as etapas de validação, optou-se pelo seguinte conjunto:\n",
        "\n",
        "\n",
        "1. **weight_decay** = 1e-5\n",
        "2. **hidden_channels** = 16\n",
        "3. **num_heads** = 2\n",
        "4. learning_rate = 0.0005, monitorando a loss da validação com paciência de 50 épocas. O fator de redução era 0,5.\n",
        "5. max_epochs = 5000\n",
        "6. patience = 300\n",
        "\n",
        "O tamanho das embeddings também podem ser considerados um \"hiperparêmetro\" neste caso. Utilizou-se da combinação \"**num_heads**\" * \"**hidden_channel**\", validados a seguir."
      ],
      "metadata": {
        "id": "fkAd-IA9R2WG"
      }
    },
    {
      "cell_type": "code",
      "source": [
        "#@title Pré-processamento\n",
        "\n",
        "learning_rate = 0.0005\n",
        "weight_decay = 1e-5\n",
        "hidden_channels = 16\n",
        "num_heads = 2\n",
        "dropout_rate = 0.1\n",
        "max_epochs = 5000\n",
        "patience = 300\n",
        "\n",
        "\n",
        "device = torch.device('cuda' if torch.cuda.is_available() else 'cpu')\n",
        "data = Data(x=x, edge_index=edge_index)\n",
        "if edge_attr is not None:\n",
        "    data.edge_attr = edge_attr\n",
        "\n",
        "data = data.to(device)\n",
        "\n",
        "all_preds = []\n",
        "all_labels = []\n",
        "\n",
        "num_nodes = data.num_nodes\n",
        "indices = np.arange(num_nodes)"
      ],
      "metadata": {
        "cellView": "form",
        "id": "0O36ESmlgn6P"
      },
      "execution_count": null,
      "outputs": []
    },
    {
      "cell_type": "code",
      "source": [
        "#@title Leave One Out Cross Validation\n",
        "\n",
        "for node_idx in tqdm(range(num_nodes), desc=\"LOOCV Progress\"):\n",
        "    train_val_indices = np.delete(indices, node_idx)\n",
        "\n",
        "    train_indices, val_indices = train_test_split(\n",
        "        train_val_indices, test_size=0.2, random_state=42\n",
        "    )\n",
        "\n",
        "    train_mask = torch.zeros(num_nodes, dtype=torch.bool)\n",
        "    val_mask = torch.zeros(num_nodes, dtype=torch.bool)\n",
        "    test_mask = torch.zeros(num_nodes, dtype=torch.bool)\n",
        "\n",
        "    train_mask[train_indices] = True\n",
        "    val_mask[val_indices] = True\n",
        "    test_mask[node_idx] = True\n",
        "\n",
        "    data.train_mask = train_mask.to(device)\n",
        "    data.val_mask = val_mask.to(device)\n",
        "    data.test_mask = test_mask.to(device)\n",
        "\n",
        "    x_train = data.x.clone()\n",
        "    x_train[data.test_mask] = 0\n",
        "\n",
        "    model = NAGAE(\n",
        "        num_features=data.x.shape[1],\n",
        "        hidden_channels=hidden_channels,\n",
        "        num_heads=num_heads,\n",
        "    ).to(device)\n",
        "\n",
        "    optimizer = torch.optim.AdamW(\n",
        "        model.parameters(),\n",
        "        lr=learning_rate,\n",
        "        weight_decay=weight_decay\n",
        "    )\n",
        "    criterion = torch.nn.MSELoss()\n",
        "\n",
        "    best_val_loss = np.inf\n",
        "    patience_counter = 0\n",
        "\n",
        "    for epoch in range(1, max_epochs + 1):\n",
        "        model.train()\n",
        "        optimizer.zero_grad()\n",
        "        out = model(x_train, data.edge_index)\n",
        "\n",
        "        loss = criterion(out[data.train_mask], data.x[data.train_mask])\n",
        "        loss.backward()\n",
        "        optimizer.step()\n",
        "\n",
        "        model.eval()\n",
        "        with torch.no_grad():\n",
        "            out_val = model(data.x, data.edge_index)\n",
        "            val_loss = criterion(out_val[data.val_mask], data.x[data.val_mask])\n",
        "\n",
        "        if val_loss.item() < best_val_loss:\n",
        "            best_val_loss = val_loss.item()\n",
        "            patience_counter = 0\n",
        "            best_model_state = model.state_dict().copy()\n",
        "        else:\n",
        "            patience_counter += 1\n",
        "            if patience_counter >= patience:\n",
        "                break\n",
        "\n",
        "    model.load_state_dict(best_model_state)\n",
        "\n",
        "    model.eval()\n",
        "    with torch.no_grad():\n",
        "        out_test = model(data.x, data.edge_index)\n",
        "        pred = out_test[data.test_mask].cpu().numpy()\n",
        "        label = data.x[data.test_mask].cpu().numpy()\n",
        "\n",
        "        all_preds.append(pred)\n",
        "        all_labels.append(label)\n",
        "\n",
        "all_preds = np.vstack(all_preds)\n",
        "all_labels = np.vstack(all_labels)\n",
        "\n",
        "r2_scores = []\n",
        "for i in range(all_labels.shape[1]):\n",
        "    r2 = r2_score(all_labels[:, i], all_preds[:, i])\n",
        "    r2_scores.append(r2)\n",
        "    print(f'R^2 para a característica {i}: {r2:.4f}')"
      ],
      "metadata": {
        "id": "rcIO2B0HW9aK",
        "colab": {
          "base_uri": "https://localhost:8080/"
        },
        "outputId": "7958e686-52fe-47cc-e904-33c163844fee"
      },
      "execution_count": null,
      "outputs": [
        {
          "output_type": "stream",
          "name": "stderr",
          "text": [
            "LOOCV Progress:  96%|█████████▌| 613/640 [1:35:10<04:25,  9.82s/it]"
          ]
        }
      ]
    },
    {
      "cell_type": "markdown",
      "source": [
        "## **Obtendo embeddings a partir de aprendizado semi-supervisionado**\n",
        "\n"
      ],
      "metadata": {
        "id": "khOjigNmhiqh"
      }
    },
    {
      "cell_type": "code",
      "source": [
        "device = torch.device('cuda' if torch.cuda.is_available() else 'cpu')"
      ],
      "metadata": {
        "id": "KJxnpgEa37h4"
      },
      "execution_count": null,
      "outputs": []
    },
    {
      "cell_type": "code",
      "source": [
        "#@title Definindo o modelo\n",
        "\n",
        "class NAGAE(torch.nn.Module):\n",
        "    def __init__(self, num_features, hidden_channels, num_heads=2):\n",
        "        super(NAGAE, self).__init__()\n",
        "        # Encoder\n",
        "        self.conv1 = GATConv(num_features, hidden_channels, heads=num_heads, dropout=0.1)\n",
        "        self.conv2 = GATConv(hidden_channels * num_heads, hidden_channels, heads=num_heads, dropout=0.1)\n",
        "        # Decoder\n",
        "        self.decoder = torch.nn.Linear(hidden_channels * num_heads, num_features)\n",
        "\n",
        "    def encode(self, x, edge_index):\n",
        "        x = F.leaky_relu(self.conv1(x, edge_index), negative_slope=0.02)\n",
        "        x = F.leaky_relu(self.conv2(x, edge_index), negative_slope=0.02)\n",
        "        return x\n",
        "\n",
        "    def decode(self, z):\n",
        "        return self.decoder(z)\n",
        "\n",
        "    def forward(self, x, edge_index):\n",
        "        z = self.encode(x, edge_index)\n",
        "        return self.decode(z)"
      ],
      "metadata": {
        "id": "YLIXwrICl2eB"
      },
      "execution_count": null,
      "outputs": []
    },
    {
      "cell_type": "code",
      "source": [
        "#@title Hiperparametros validados\n",
        "\n",
        "learning_rate = 0.0005\n",
        "weight_decay = 1e-5\n",
        "hidden_channels = 16\n",
        "num_heads = 2\n",
        "dropout_rate = 0.1\n",
        "max_epochs = 5000\n",
        "patience = 200\n",
        "embedding_dim = 32"
      ],
      "metadata": {
        "id": "sVXaH9ZSmI2m"
      },
      "execution_count": null,
      "outputs": []
    },
    {
      "cell_type": "code",
      "source": [
        "#@title Matriz de pesos, atributos e objeto \"Data\"\n",
        "\n",
        "df_gnn = df[['Area_Km2', 'IPDM', 'CAER', 'CAEC',\n",
        "           'RTF', 'IndRiq', 'TMI', 'TMP', 'TM1539', 'TM6069',\n",
        "            'TAE03','IndLong',\n",
        "            'Prof5ano', 'Prof9ano', 'TDISM',\n",
        "           'IndEsc', 'populacao', 'Agrop', 'Gini', 'Indústria', 'AdmPub', 'ServExc',\n",
        "          'ValAdic', 'ImpLiq', 'PIB', 'PIBpc', 'x_centroid', 'y_centroid']]\n",
        "\n",
        "feature_columns = [col for col in df_gnn.columns if col not in ['x_centroid', 'y_centroid']]\n",
        "scaler = StandardScaler()\n",
        "x = scaler.fit_transform(df_gnn[feature_columns])\n",
        "x = torch.tensor(x, dtype=torch.float)\n",
        "\n",
        "G  = w_knn.to_networkx()\n",
        "arestas = list(G.edges())\n",
        "edge_index = torch.tensor(arestas, dtype=torch.long).t().contiguous()\n",
        "\n",
        "data = Data(x=x, edge_index=edge_index)\n",
        "\n",
        "data.x = data.x.to(device)\n",
        "data.edge_index = data.edge_index.to(device)"
      ],
      "metadata": {
        "id": "D9d4wfnOx1yG"
      },
      "execution_count": null,
      "outputs": []
    },
    {
      "cell_type": "code",
      "source": [
        "#@title Inicializando o modelo\n",
        "\n",
        "model = NAGAE(num_features=data.num_features,\n",
        "             hidden_channels=hidden_channels,\n",
        "             num_heads=num_heads).to(device)\n",
        "\n",
        "model = NAGAE(num_features=x.shape[1], hidden_channels=hidden_channels, num_heads=num_heads).to(device)\n",
        "optimizer = torch.optim.Adam(model.parameters(), lr=learning_rate, weight_decay=weight_decay)\n",
        "\n",
        "# scheduler para monitorar o learning rate adaptativo\n",
        "scheduler = torch.optim.lr_scheduler.ReduceLROnPlateau(optimizer, mode='min', factor=0.5, patience=50, verbose=True)\n",
        "\n",
        "\n",
        "criterion = torch.nn.MSELoss()"
      ],
      "metadata": {
        "id": "gs9WBcYUmUzI"
      },
      "execution_count": null,
      "outputs": []
    },
    {
      "cell_type": "code",
      "source": [
        "#@title Treino e validação\n",
        "\n",
        "num_nodes = data.num_nodes\n",
        "indices = np.arange(num_nodes)\n",
        "np.random.shuffle(indices)\n",
        "\n",
        "\n",
        "train_size = int(0.8 * num_nodes)\n",
        "train_indices = indices[:train_size]\n",
        "val_indices = indices[train_size:]\n",
        "\n",
        "# data masks\n",
        "train_mask = torch.zeros(num_nodes, dtype=torch.bool)\n",
        "val_mask = torch.zeros(num_nodes, dtype=torch.bool)\n",
        "train_mask[train_indices] = True\n",
        "val_mask[val_indices] = True\n",
        "\n",
        "data.train_mask = train_mask\n",
        "data.val_mask = val_mask\n",
        "\n",
        "data.train_mask = data.train_mask.to(device)\n",
        "data.val_mask = data.val_mask.to(device)"
      ],
      "metadata": {
        "id": "BRHnw1RL5MLy"
      },
      "execution_count": null,
      "outputs": []
    },
    {
      "cell_type": "code",
      "source": [
        "best_val_loss = float('inf')\n",
        "patience_counter = 0\n",
        "train_losses = []\n",
        "val_losses = []\n",
        "\n",
        "for epoch in range(1, max_epochs + 1):\n",
        "    model.train()\n",
        "    optimizer.zero_grad()\n",
        "    out = model(data.x, data.edge_index)\n",
        "    loss = criterion(out[data.train_mask], data.x[data.train_mask])\n",
        "    loss.backward()\n",
        "    optimizer.step()\n",
        "\n",
        "    model.eval()\n",
        "    with torch.no_grad():\n",
        "        out_val = model(data.x, data.edge_index)\n",
        "        val_loss = criterion(out_val[data.val_mask], data.x[data.val_mask])\n",
        "\n",
        "    train_losses.append(loss.item())\n",
        "    val_losses.append(val_loss.item())\n",
        "\n",
        "    if epoch % 100 == 0 or epoch == 1:\n",
        "        print(f'Epoch: {epoch}, Loss: {loss.item():.4f}, Val Loss: {val_loss.item():.4f}')\n",
        "\n",
        "    if val_loss.item() < best_val_loss:\n",
        "        best_val_loss = val_loss.item()\n",
        "        patience_counter = 0\n",
        "        torch.save(model.state_dict(), 'best_model.pt')\n",
        "    else:\n",
        "        patience_counter += 1\n",
        "        if patience_counter >= patience:\n",
        "            print(f'Early stopping at epoch: {epoch}')\n",
        "            break\n",
        "\n",
        "    scheduler.step(val_loss)"
      ],
      "metadata": {
        "id": "7t6pXRS-nAeg",
        "colab": {
          "base_uri": "https://localhost:8080/"
        },
        "outputId": "cc2ae963-c84e-4a1c-a8fe-1d19ecedb76f"
      },
      "execution_count": null,
      "outputs": [
        {
          "output_type": "stream",
          "name": "stdout",
          "text": [
            "Epoch: 1, Loss: 1.4110, Val Loss: 1.0128\n",
            "Epoch: 100, Loss: 0.9472, Val Loss: 0.7159\n",
            "Epoch: 200, Loss: 0.7046, Val Loss: 0.6467\n",
            "Epoch: 300, Loss: 0.5716, Val Loss: 0.6325\n",
            "Epoch: 400, Loss: 0.5622, Val Loss: 0.6319\n",
            "Epoch: 500, Loss: 0.5527, Val Loss: 0.6319\n",
            "Epoch: 600, Loss: 0.5492, Val Loss: 0.6319\n",
            "Early stopping at epoch: 660\n"
          ]
        }
      ]
    },
    {
      "cell_type": "code",
      "source": [
        "sns.set_theme()\n",
        "plt.figure(figsize=(10,6))\n",
        "plt.plot(train_losses, label='Train Loss', color = 'olive')\n",
        "plt.plot(val_losses, label='Validation Loss', color='teal')\n",
        "plt.xlabel('Épocas')\n",
        "plt.ylabel('Loss')\n",
        "plt.legend()\n",
        "plt.title('Curvas de Perda')\n",
        "plt.show()"
      ],
      "metadata": {
        "colab": {
          "base_uri": "https://localhost:8080/",
          "height": 575
        },
        "id": "BYvX3Ord5gqQ",
        "outputId": "e84f5ded-eedd-465f-bf9d-f8993033ef99"
      },
      "execution_count": null,
      "outputs": [
        {
          "output_type": "display_data",
          "data": {
            "text/plain": [
              "<Figure size 1000x600 with 1 Axes>"
            ],
            "image/png": "[encoded data removed]"
          },
          "metadata": {}
        }
      ]
    },
    {
      "cell_type": "code",
      "source": [
        "#@title Salvar os Embeddings\n",
        "\n",
        "model.load_state_dict(torch.load('best_model.pt'))\n",
        "model.eval()\n",
        "\n",
        "with torch.no_grad():\n",
        "    embeddings = model.encode(data.x, data.edge_index).cpu().numpy()\n",
        "\n",
        "df_embeddings = pd.DataFrame(embeddings, index=df_gnn.index)\n",
        "df_embeddings.to_csv('embeddings_municipios.csv', index_label='municipio')"
      ],
      "metadata": {
        "id": "XbY1vsWA8SN7"
      },
      "execution_count": null,
      "outputs": []
    },
    {
      "cell_type": "code",
      "source": [
        "df_embeddings['Municipio'] = df['Municipio']"
      ],
      "metadata": {
        "id": "4zWIKYuq_mbh"
      },
      "execution_count": null,
      "outputs": []
    },
    {
      "cell_type": "code",
      "source": [
        "#@title UMAP para visualizar embeddings\n",
        "\n",
        "embeddings = df_embeddings.drop(columns='Municipio').values\n",
        "umap_reducer = umap.UMAP(n_components=2, n_neighbors=10, random_state=42)\n",
        "\n",
        "embeddings_umap = umap_reducer.fit_transform(embeddings)"
      ],
      "metadata": {
        "colab": {
          "base_uri": "https://localhost:8080/"
        },
        "id": "VT0qcUgZ_UMr",
        "outputId": "53c7ad0b-091f-47b2-9468-3a168980e935"
      },
      "execution_count": null,
      "outputs": [
        {
          "output_type": "stream",
          "name": "stdout",
          "text": [
            "(640, 2)\n"
          ]
        }
      ]
    },
    {
      "cell_type": "code",
      "source": [
        "embeddings_umap_df = pd.DataFrame(embeddings_umap, columns=['UMAP_1', 'UMAP_2'])\n",
        "df_combined = pd.concat([df_embeddings, embeddings_umap_df], axis=1)"
      ],
      "metadata": {
        "id": "V7zA-7saEXe9"
      },
      "execution_count": null,
      "outputs": []
    },
    {
      "cell_type": "code",
      "source": [
        "df_embeddings['Região imediata'] = df['RGIme']\n",
        "\n",
        "embeddings_umap_df = pd.DataFrame(embeddings_umap, columns=['UMAP_1', 'UMAP_2'])\n",
        "df_combined = pd.concat([df_embeddings, embeddings_umap_df], axis=1)\n",
        "\n",
        "fig = px.scatter(\n",
        "    df_combined,\n",
        "    x='UMAP_1',\n",
        "    y='UMAP_2',\n",
        "    color='Região imediata',\n",
        "    # hover_data=['municipio'],\n",
        "    title='Visualização dos Embeddings com UMAP - Colorido por Região Geográfica Imediata',\n",
        "    labels={\n",
        "        'UMAP_1': 'UMAP 1',\n",
        "        'UMAP_2': 'UMAP 2',\n",
        "        'Nome Região Geográfica Imediata': 'Região Geográfica Imediata'\n",
        "    },\n",
        "    width=800,\n",
        "    height=600\n",
        ")\n",
        "\n",
        "fig.update_coloraxes(\n",
        "    colorbar=dict(showticklabels=False)\n",
        ")\n",
        "\n",
        "fig.show()"
      ],
      "metadata": {
        "colab": {
          "base_uri": "https://localhost:8080/",
          "height": 617
        },
        "id": "-U5_T-P7CuUD",
        "outputId": "b4806b0f-4f9b-45d4-b59c-d27f98777ee6"
      },
      "execution_count": null,
      "outputs": [
        {
          "output_type": "display_data",
          "data": {
            "text/html": [
              "<html>\n",
              "<head><meta charset=\"utf-8\" /></head>\n",
              "<body>\n",
              "    <div>            <script src=\"https://cdnjs.cloudflare.com/ajax/libs/mathjax/2.7.5/MathJax.js?config=TeX-AMS-MML_SVG\"></script><script type=\"text/javascript\">if (window.MathJax && window.MathJax.Hub && window.MathJax.Hub.Config) {window.MathJax.Hub.Config({SVG: {font: \"STIX-Web\"}});}</script>                <script type=\"text/javascript\">window.PlotlyConfig = {MathJaxConfig: 'local'};</script>\n",
              "        <script charset=\"utf-8\" src=\"https://cdn.plot.ly/plotly-2.35.2.min.js\"></script>                <div id=\"070c26a7-e39b-435f-bf13-35215f8f8a16\" class=\"plotly-graph-div\" style=\"height:600px; width:800px;\"></div>            <script type=\"text/javascript\">                                    window.PLOTLYENV=window.PLOTLYENV || {};                                    if (document.getElementById(\"070c26a7-e39b-435f-bf13-35215f8f8a16\")) {                    Plotly.newPlot(                        \"070c26a7-e39b-435f-bf13-35215f8f8a16\",                        [{\"hovertemplate\":\"UMAP 1=%{x}\\u003cbr\\u003eUMAP 2=%{y}\\u003cbr\\u003eRegião imediata=%{marker.color}\\u003cextra\\u003e\\u003c\\u002fextra\\u003e\",\"legendgroup\":\"\",\"marker\":{\"color\":[350005,350005,350005,350005,350005,350005,350004,350004,350004,350005,350005,350004,350005,350004,350004,350002,350005,350002,350004,350004,350004,350005,350004,350005,350005,350002,350002,350002,350002,350002,350004,350003,350002,350004,350001,350004,350002,350001,350004,350006,350002,350051,350003,350001,350004,350001,350001,350051,350002,350001,350003,350001,350001,350001,350001,350001,350003,350001,350004,350001,350003,350001,350004,350003,350007,350003,350001,350001,350001,350006,350001,350001,350004,350006,350001,350051,350001,350001,350003,350001,350004,350003,350003,350001,350003,350006,350007,350007,350001,350003,350001,350003,350003,350001,350049,350003,350001,350001,350001,350001,350049,350001,350050,350001,350007,350017,350006,350017,350006,350001,350001,350007,350001,350008,350008,350039,350051,350008,350049,350003,350001,350017,350039,350049,350050,350003,350039,350008,350003,350017,350041,350003,350041,350003,350007,350008,350039,350017,350003,350039,350039,350008,350038,350050,350038,350041,350011,350049,350040,350038,350015,350039,350049,350015,350041,350011,350007,350050,350011,350015,350039,350038,350015,350040,350007,350007,350003,350050,350038,350040,350041,350040,350015,350052,350039,350049,350038,350007,350041,350011,350049,350052,350041,350040,350052,350015,350052,350038,350041,350050,350040,350011,350014,350038,350038,350007,350041,350050,350041,350038,350014,350038,350015,350038,350052,350014,350014,350014,350007,350015,350038,350048,350052,350038,350052,350053,350053,350011,350011,350050,350053,350040,350015,350050,350053,350038,350038,350053,350038,350048,350011,350011,350009,350014,350040,350053,350042,350015,350014,350048,350015,350010,350052,350009,350013,350009,350018,350040,350018,350038,350048,350041,350053,350042,350014,350040,350009,350048,350042,350040,350053,350042,350046,350010,350053,350018,350018,350009,350009,350013,350009,350010,350018,350013,350010,350009,350046,350013,350018,350018,350013,350009,350018,350043,350009,350043,350045,350014,350018,350013,350046,350013,350018,350018,350045,350043,350013,350010,350018,350010,350014,350014,350018,350046,350037,350010,350010,350013,350009,350045,350044,350013,350010,350043,350044,350045,350009,350018,350018,350037,350009,350013,350013,350018,350018,350046,350009,350010,350036,350044,350013,350018,350018,350021,350009,350010,350037,350013,350010,350016,350013,350018,350018,350018,350037,350009,350044,350036,350018,350018,350037,350013,350044,350016,350016,350019,350019,350012,350013,350037,350044,350009,350044,350018,350018,350036,350016,350037,350018,350047,350019,350036,350016,350016,350013,350036,350018,350009,350047,350012,350016,350036,350009,350019,350021,350020,350023,350036,350012,350036,350023,350037,350021,350047,350044,350016,350037,350019,350021,350036,350023,350012,350036,350021,350023,350012,350023,350019,350047,350036,350036,350036,350023,350023,350044,350019,350020,350047,350036,350019,350020,350031,350031,350036,350012,350047,350019,350012,350031,350020,350023,350019,350036,350031,350020,350023,350031,350020,350036,350025,350020,350012,350047,350031,350026,350025,350023,350020,350020,350026,350026,350023,350031,350031,350022,350025,350031,350023,350031,350026,350022,350031,350025,350031,350031,350020,350031,350020,350023,350026,350025,350025,350025,350023,350026,350026,350031,350026,350032,350032,350023,350031,350031,350020,350024,350026,350032,350026,350026,350026,350023,350031,350022,350023,350025,350025,350031,350025,350031,350022,350026,350025,350026,350024,350025,350026,350023,350031,350025,350031,350031,350023,350025,350024,350024,350025,350022,350025,350024,350022,350025,350032,350032,350026,350022,350031,350032,350032,350025,350025,350034,350022,350032,350025,350022,350032,350031,350025,350022,350025,350024,350025,350032,350024,350025,350025,350025,350034,350034,350033,350032,350027,350033,350032,350025,350025,350024,350022,350033,350027,350027,350022,350025,350022,350033,350022,350024,350029,350024,350034,350034,350033,350025,350028,350028,350035,350033,350028,350028,350028,350029,350028,350025,350027,350029,350028,350027,350025,350030,350032,350034,350024,350033,350033,350027,350025,350027,350028,350027,350027,350025,350030,350030,350035,350028,350032,350032,350028,350030,350028,350032,350035,350025,350029,350030,350029,350029,350027,350035,350028,350028,350035,350029,350033,350030,350028,350029,350028,350035,350030,350033,350027,350027,350028,350025,350029,350029,350028,350029,350028],\"coloraxis\":\"coloraxis\",\"symbol\":\"circle\"},\"mode\":\"markers\",\"name\":\"\",\"orientation\":\"v\",\"showlegend\":false,\"x\":[5.9184175,5.9358153,5.857841,5.8642783,5.8965564,5.9551053,4.859222,4.8522882,4.8129497,5.9473066,6.054877,4.8429956,4.9759445,4.9114723,4.878233,-3.8786783,5.86191,-3.7730103,4.9463973,4.885249,5.044616,5.9856734,5.6377273,5.987347,6.0189567,-3.713348,-3.8150694,-2.164187,-3.739705,-2.1538184,4.929551,5.975535,-2.1865716,5.7316966,-3.7568703,5.821096,-2.1675162,-3.7074282,8.06992,5.826978,-2.1984441,-1.7791919,5.8375854,-2.1335466,5.7603593,-2.5532217,-2.5411956,-1.7199063,-2.1701078,-2.4877782,4.663027,-2.1231213,-2.5106173,-2.5735538,-2.4721885,-2.541091,-3.7891476,-2.600719,5.7010307,-1.5209298,4.4534974,-1.5977085,5.795851,5.405401,8.171755,3.2333093,-1.5107703,-0.9119062,-2.456984,5.8349934,-1.1230122,-1.4319077,8.102502,4.8917885,-1.71609,-1.7396971,-1.7175171,-1.3310612,-0.937277,-2.3507953,8.240842,4.292349,-0.9833561,-1.1167037,-1.3440857,5.8938136,8.158758,8.272066,-1.2881398,4.4486194,-2.5430143,-1.3315259,3.3208835,-1.5475494,-1.7122513,4.1787033,-1.0795145,-1.1202515,-1.3358417,-1.5287095,-1.7544194,-1.1702985,-1.7572663,-0.7250817,5.7157164,8.230257,5.936702,8.317425,5.8047175,-0.88575107,-0.82160497,8.042003,-0.8117761,6.015383,7.1615787,-0.9745996,-1.8338879,5.938019,-1.6722655,8.515869,-1.1161543,8.194577,-0.8965298,-1.5432923,-1.7176547,-0.76987004,-0.80798894,7.5127983,8.570694,8.289129,-0.42697033,6.771148,-0.56187767,8.104299,5.2319317,6.179078,-0.82682824,8.076553,8.48434,6.429786,6.402847,7.3937345,6.3608317,-4.557151,6.559665,-0.5189564,5.934906,-1.2617193,8.250646,7.937168,7.821859,-0.755052,-1.6419042,7.907563,5.6278815,5.8948193,7.6484027,-4.4589305,5.483419,7.8608017,6.5943484,6.3702235,7.7279143,8.23675,7.0670834,7.7302604,8.454027,-4.554128,6.9319887,8.521243,5.9259095,8.059139,7.9895387,-4.6106467,6.632153,-4.4811397,6.539817,5.1607327,4.673073,6.3051305,-0.44343054,-4.773063,6.101175,8.35634,-5.3370376,9.371503,-4.804061,6.594357,9.450321,-4.458307,8.177337,4.839831,10.586452,6.502426,6.40417,7.8090496,9.388481,-4.5538106,6.177692,6.9215918,10.21485,6.6547737,9.690104,6.523292,-5.303561,10.554003,10.519867,10.576457,7.811791,9.430338,6.6409264,9.429892,-5.2761436,6.606708,-4.9597073,-5.563885,-5.462721,5.3376756,5.4168644,-4.5850506,-5.552327,7.2953205,9.1457405,-4.485253,-5.527762,6.6117034,6.592935,-5.3583517,7.046662,9.71273,4.59184,4.6719217,8.640866,10.138548,7.1847835,-5.539645,6.942422,7.818728,10.547877,9.488372,9.323754,4.544789,-5.2978735,9.178633,9.614377,4.8030567,10.397969,4.5590444,10.569295,6.7168293,9.429829,9.439109,-5.4656553,6.791661,10.456467,7.0250425,9.162654,9.436309,6.9797573,7.305876,-5.5281043,7.0432262,7.0379643,4.517547,-5.5611005,8.047956,6.2548165,9.010717,9.171869,9.233768,4.1983004,4.6012816,8.918926,9.346343,4.511638,9.048791,7.086988,9.476431,8.916493,6.8556747,8.888668,8.9826565,6.2695346,7.090208,8.985884,9.395395,7.114867,10.506755,8.238578,10.07952,7.0798984,10.034317,8.939864,8.098388,7.0504265,7.7370024,8.774097,4.515773,6.4214206,4.0896444,10.15419,10.115416,6.6172013,6.9596267,7.2387342,4.041129,3.988461,5.205406,4.094386,5.1397853,6.3501315,5.282177,3.243031,7.7217965,7.627926,5.1318417,4.333639,8.698485,8.882952,3.0980277,5.0767164,5.34999,4.743669,10.377709,10.176108,5.1456156,4.92498,3.5379846,2.9921217,5.5125556,10.045224,8.720755,10.450715,6.5740843,4.360524,4.026891,2.9721627,4.6489463,4.0433807,9.790317,5.1693163,8.450714,8.850224,8.311209,5.055052,4.8723993,6.109087,3.206768,8.21096,8.50351,2.9159694,5.459934,6.04718,9.680418,9.83238,8.637843,8.563065,4.6237593,4.5872126,5.0976458,5.7006283,4.5884404,5.0931497,8.427317,8.458995,3.6689703,5.6224456,4.831128,8.353692,5.60481,8.479391,3.150661,9.104225,9.488222,4.241927,2.9609778,8.4191675,4.7997684,5.926831,4.8439207,9.344403,4.391637,4.987044,8.690304,8.25138,8.506177,9.473528,3.764444,4.751696,2.9807148,9.459263,3.0619705,8.228839,6.010855,5.2644615,9.10806,4.922825,8.822044,6.769778,2.9890924,4.157702,4.5905643,3.24777,6.494702,9.960168,4.4712615,9.573776,8.92255,5.7607303,2.9512699,3.2122734,4.7142825,9.912902,11.026692,5.154346,8.728921,9.063993,6.019533,3.0885108,8.746624,9.288417,3.312828,3.174976,9.168306,4.300997,5.90986,8.781555,4.2772107,4.7210107,9.362905,4.152499,8.86476,8.780802,3.094494,9.481182,11.163062,3.1658077,9.195594,8.910245,10.20755,9.489724,4.1485457,5.590344,3.1949599,10.177537,8.570766,4.1362734,9.473232,9.382307,9.111539,9.276747,10.985481,4.8084064,4.7448573,10.871524,8.501914,3.3199847,3.9770458,4.8525157,10.275631,10.805086,3.3151755,10.937096,8.849041,3.3088315,9.504837,4.756842,9.477216,10.597407,8.995216,11.4407215,8.496633,10.517424,11.5818815,9.226364,9.913158,4.8037605,10.268029,4.222171,4.127923,11.38388,3.4243329,3.6505766,9.478349,9.565866,9.651829,4.122104,9.96715,9.01206,10.227713,11.692505,3.4948022,10.945134,12.376419,10.696175,10.384388,4.836538,11.257187,4.7324085,10.767347,9.162163,11.755886,9.838529,10.708133,12.02331,9.393977,12.366573,3.657732,10.384019,3.4823503,3.7328258,12.319173,11.343294,10.445539,10.434492,11.99991,12.368847,11.964936,10.492837,10.99564,9.9176,8.971851,3.9406924,9.951069,12.290779,4.810316,3.81117,4.0816784,10.055633,11.647823,3.4817626,12.399553,3.7703512,12.222186,12.406862,3.444766,4.5605545,11.123474,12.6468115,11.94848,10.428045,9.749479,3.3402789,9.434844,11.22389,3.702593,11.688342,3.483166,4.3009157,2.8403165,3.2089791,12.132483,2.8866134,3.6796758,7.37723,3.7469537,12.73995,13.0623455,2.8497207,12.296938,12.473997,12.732173,7.315086,12.6853485,2.8505905,12.565318,10.381977,12.761366,10.48207,3.323962,3.346243,2.8170648,3.2485683,13.180241,12.999889,2.704028,2.6300628,13.272907,13.269733,12.909605,13.226421,13.417641,11.262687,12.551256,12.859681,13.506781,12.62754,3.6556158,13.3345585,3.1466246,3.204282,10.4903555,2.7064385,2.6687784,11.728474,3.196226,8.821105,13.758341,12.631444,9.007306,8.520829,13.501224,13.607146,2.7369487,14.322945,3.0670946,3.1421404,14.115014,13.484087,13.979648,3.075877,2.628493,4.1208215,14.169881,13.307345,13.37791,12.7054615,8.673445,2.599118,14.138135,14.311672,3.1333542,14.230541,2.7023613,13.750805,14.3258915,13.404512,14.305662,2.5917103,13.888591,2.6357696,4.3388453,9.077425,14.182949,4.222704,13.205526,14.198405,14.33327,14.315894,14.329011],\"xaxis\":\"x\",\"y\":[3.9219341,3.911267,3.97966,4.013638,3.952709,3.9271693,3.153568,3.1455812,3.0958426,3.9854033,3.8953705,3.1178489,3.2949526,3.206192,3.1820672,7.987032,4.071119,8.062195,3.269666,3.1927013,3.4034603,4.2262926,4.4480953,4.030292,3.8726373,8.089446,8.031638,8.495877,8.085243,8.468396,3.241039,4.190337,8.484765,4.599152,8.076608,4.7647257,8.489942,8.104727,7.901864,4.8857965,8.525185,7.4654164,5.078509,8.470419,4.800211,8.889102,8.960244,7.5091205,8.484824,8.87835,6.5521193,8.517976,8.9265785,8.940769,8.883628,8.951246,8.050474,9.010954,4.5439057,8.548742,7.8658967,8.532386,4.7845826,6.0006766,8.00872,8.128826,8.602061,8.087146,8.9910965,5.251905,7.836026,8.60531,7.9457,7.6270895,8.009631,7.484527,7.5491037,8.689715,8.241405,9.060621,8.076151,8.022957,8.316765,7.7878933,8.612993,5.338509,7.9830647,8.070393,8.693957,7.9995804,8.973183,8.631826,8.247985,7.739599,7.5515895,8.198126,8.537288,7.79377,8.74785,7.734039,7.4340315,8.599441,7.4343004,8.038512,5.6121783,8.124871,5.808091,8.049746,8.602101,8.332475,8.346546,7.9273615,8.156223,9.086863,8.963253,8.628993,7.352216,9.010743,7.448471,11.128452,7.7702036,8.2682085,8.503829,7.6532044,7.408187,8.475892,8.466812,8.985884,11.117156,8.270163,8.065481,13.384502,8.026898,11.656335,8.401075,9.223231,8.583536,8.393706,11.1221895,13.943913,13.974795,9.060081,14.020946,7.4890137,13.726341,8.104689,8.987861,7.6887717,11.489585,11.853175,8.876187,8.30359,7.417701,8.979044,9.795048,9.048193,8.909675,7.4121585,8.57744,8.940637,13.528523,14.009391,9.003251,11.501943,8.916977,8.974536,11.270307,7.4292836,13.154927,11.142135,9.733453,11.698993,8.895209,7.478834,13.514627,7.3509126,13.74077,8.524098,10.338027,9.401191,8.102088,7.5087647,9.708721,11.378893,7.5695834,8.283411,7.5200987,13.624527,12.044698,7.3235364,11.570213,8.979812,7.136415,13.802239,13.963662,8.861579,12.094758,7.428869,9.694601,13.13404,7.803577,13.470341,8.02381,13.782482,7.579393,7.1413794,7.327229,7.156774,8.8326,8.181691,13.614121,12.039119,7.5559154,13.676414,7.5336266,7.5520177,7.56239,9.058975,9.250549,7.4465504,7.5436378,12.370598,8.155391,7.380514,7.5615344,13.673807,13.501436,7.581609,12.938502,11.663204,9.148308,9.057561,8.509408,7.657337,12.699934,7.524437,13.090889,9.014848,7.14369,12.090917,8.072812,9.08728,7.5479345,8.262392,7.997052,8.9795065,6.9663734,9.28505,7.156981,13.435209,12.10666,12.070246,7.5172553,13.345776,7.246173,12.952701,8.113294,12.036066,13.018543,12.287448,7.5569515,12.84339,12.809416,9.168466,7.5586724,5.9094,5.3043504,8.115894,8.111161,7.9026194,9.011931,9.255334,6.1154747,7.916337,9.204897,8.305853,12.746617,7.842316,6.1167607,5.7008095,8.004487,8.232103,5.3191495,12.843107,8.044006,11.92775,12.669488,7.148616,5.94531,7.56702,12.671481,7.1067176,6.0492373,5.974156,12.630141,9.521289,8.007634,9.203098,5.4823003,8.932905,7.092924,7.05281,5.6278844,12.497166,12.409156,9.253121,8.628762,7.076408,8.452664,10.150458,9.514938,7.1357594,9.873196,9.466809,9.451638,10.153838,8.020844,5.7686143,6.063324,9.975199,7.084685,7.1772766,6.638848,7.0243316,7.0484266,10.209525,6.841704,9.621446,10.010523,10.017983,6.963634,5.863351,7.035014,5.596987,7.9974732,8.873681,10.072898,6.5869,8.729383,6.9494333,7.028381,5.3550835,6.0043745,5.831825,10.100768,6.749225,9.628377,9.787771,5.849179,5.408956,10.160041,7.1628227,9.648205,7.122307,6.996836,6.0819645,5.858934,6.609044,6.6177845,10.110287,9.912397,7.8475437,10.111931,5.3475904,5.384586,9.534933,7.2314024,10.085275,5.268308,9.923131,5.417134,9.839113,6.6973577,7.5426025,6.943989,10.264105,5.369942,6.703401,9.740785,6.7237635,7.111861,8.131,7.2813506,6.156777,5.731133,5.434458,7.6567616,9.482135,6.6682196,10.266378,7.7635865,10.324146,5.768185,9.645441,10.034575,6.8264375,10.098446,6.3255625,5.6913085,10.097586,7.5604014,6.604499,9.802432,5.5418653,8.303135,6.711815,7.912683,6.4571323,9.850934,10.245339,9.857599,7.9265857,8.110663,8.953284,10.028583,6.1863956,5.743546,9.585323,10.317098,6.182362,5.4024243,9.797538,10.449989,10.932426,6.881882,9.70379,6.1533384,7.418295,10.488974,5.2689404,7.112222,6.149399,10.623867,10.33679,5.127658,9.064989,10.466401,5.583669,10.726511,11.241317,5.1184044,7.0843277,10.061154,10.501876,11.282217,6.869533,7.5166197,5.1384006,5.2639585,10.936597,11.022355,9.3747225,10.841414,10.719349,8.810168,6.912803,10.526201,7.789282,10.812405,11.223572,8.752189,10.497294,11.06185,10.6633215,10.48922,5.1236873,10.783394,5.095757,9.516026,10.8662195,10.94067,6.908677,11.181776,9.899321,11.044274,11.242973,10.813963,11.220783,8.380216,8.298663,9.703541,10.499802,10.159396,5.123914,5.083663,11.211659,8.299324,11.215971,10.886381,11.226168,10.067754,10.382861,8.879985,10.419524,11.14046,11.2223215,10.789198,10.978335,10.759041,8.708529,11.085274,10.83654,11.246337,8.647983,10.704924,11.168039,10.4934225,10.264343,11.350458,8.84821,8.262261,10.536987,10.929687,8.279848,8.2600565,10.748382,10.528983,10.7710905,8.332619,8.920812,11.462857,11.014392,8.582948,11.324493,10.589293,10.790046,8.204979,8.246011,11.349077,10.916792,9.015521,10.521873,8.699422,10.63953,10.485907,8.222966,10.163304,11.05905,9.804722,10.791564,8.24342,11.581338,8.276707,7.771106,10.983841,9.0127535,10.881074,9.129699,9.904706,6.7095885,8.292484,10.662006,6.760236,8.761624,11.973591,8.810017,9.068814,9.196962,6.7109637,10.570623,10.324976,9.759091,11.852461,9.868763,6.74616,10.058686,8.119301,9.862836,8.238278,8.386651,8.93836,6.668213,8.409021,9.033676,9.059938,6.6186566,6.5395007,9.479694,9.284175,9.018314,9.634425,9.165921,10.83348,9.684918,9.523612,9.265855,9.719146,8.553146,9.108708,8.237584,8.989397,8.144145,6.6160784,6.5675507,9.723555,8.5112295,6.6196637,9.280041,9.429993,6.7803802,6.8755927,9.1748905,9.204344,6.696938,9.817204,8.262374,8.402825,9.650496,9.116703,9.444524,8.246867,6.542064,7.623219,9.852851,9.079068,9.691227,9.346161,6.539608,6.5141363,9.610492,9.800657,8.95693,9.908203,6.608836,9.206403,9.780787,9.71075,9.828507,6.5042725,9.358128,6.547395,7.5078363,7.178787,9.566253,7.4896336,9.607124,9.872983,9.815027,9.87148,9.843139],\"yaxis\":\"y\",\"type\":\"scatter\"}],                        {\"template\":{\"data\":{\"histogram2dcontour\":[{\"type\":\"histogram2dcontour\",\"colorbar\":{\"outlinewidth\":0,\"ticks\":\"\"},\"colorscale\":[[0.0,\"#0d0887\"],[0.1111111111111111,\"#46039f\"],[0.2222222222222222,\"#7201a8\"],[0.3333333333333333,\"#9c179e\"],[0.4444444444444444,\"#bd3786\"],[0.5555555555555556,\"#d8576b\"],[0.6666666666666666,\"#ed7953\"],[0.7777777777777778,\"#fb9f3a\"],[0.8888888888888888,\"#fdca26\"],[1.0,\"#f0f921\"]]}],\"choropleth\":[{\"type\":\"choropleth\",\"colorbar\":{\"outlinewidth\":0,\"ticks\":\"\"}}],\"histogram2d\":[{\"type\":\"histogram2d\",\"colorbar\":{\"outlinewidth\":0,\"ticks\":\"\"},\"colorscale\":[[0.0,\"#0d0887\"],[0.1111111111111111,\"#46039f\"],[0.2222222222222222,\"#7201a8\"],[0.3333333333333333,\"#9c179e\"],[0.4444444444444444,\"#bd3786\"],[0.5555555555555556,\"#d8576b\"],[0.6666666666666666,\"#ed7953\"],[0.7777777777777778,\"#fb9f3a\"],[0.8888888888888888,\"#fdca26\"],[1.0,\"#f0f921\"]]}],\"heatmap\":[{\"type\":\"heatmap\",\"colorbar\":{\"outlinewidth\":0,\"ticks\":\"\"},\"colorscale\":[[0.0,\"#0d0887\"],[0.1111111111111111,\"#46039f\"],[0.2222222222222222,\"#7201a8\"],[0.3333333333333333,\"#9c179e\"],[0.4444444444444444,\"#bd3786\"],[0.5555555555555556,\"#d8576b\"],[0.6666666666666666,\"#ed7953\"],[0.7777777777777778,\"#fb9f3a\"],[0.8888888888888888,\"#fdca26\"],[1.0,\"#f0f921\"]]}],\"heatmapgl\":[{\"type\":\"heatmapgl\",\"colorbar\":{\"outlinewidth\":0,\"ticks\":\"\"},\"colorscale\":[[0.0,\"#0d0887\"],[0.1111111111111111,\"#46039f\"],[0.2222222222222222,\"#7201a8\"],[0.3333333333333333,\"#9c179e\"],[0.4444444444444444,\"#bd3786\"],[0.5555555555555556,\"#d8576b\"],[0.6666666666666666,\"#ed7953\"],[0.7777777777777778,\"#fb9f3a\"],[0.8888888888888888,\"#fdca26\"],[1.0,\"#f0f921\"]]}],\"contourcarpet\":[{\"type\":\"contourcarpet\",\"colorbar\":{\"outlinewidth\":0,\"ticks\":\"\"}}],\"contour\":[{\"type\":\"contour\",\"colorbar\":{\"outlinewidth\":0,\"ticks\":\"\"},\"colorscale\":[[0.0,\"#0d0887\"],[0.1111111111111111,\"#46039f\"],[0.2222222222222222,\"#7201a8\"],[0.3333333333333333,\"#9c179e\"],[0.4444444444444444,\"#bd3786\"],[0.5555555555555556,\"#d8576b\"],[0.6666666666666666,\"#ed7953\"],[0.7777777777777778,\"#fb9f3a\"],[0.8888888888888888,\"#fdca26\"],[1.0,\"#f0f921\"]]}],\"surface\":[{\"type\":\"surface\",\"colorbar\":{\"outlinewidth\":0,\"ticks\":\"\"},\"colorscale\":[[0.0,\"#0d0887\"],[0.1111111111111111,\"#46039f\"],[0.2222222222222222,\"#7201a8\"],[0.3333333333333333,\"#9c179e\"],[0.4444444444444444,\"#bd3786\"],[0.5555555555555556,\"#d8576b\"],[0.6666666666666666,\"#ed7953\"],[0.7777777777777778,\"#fb9f3a\"],[0.8888888888888888,\"#fdca26\"],[1.0,\"#f0f921\"]]}],\"mesh3d\":[{\"type\":\"mesh3d\",\"colorbar\":{\"outlinewidth\":0,\"ticks\":\"\"}}],\"scatter\":[{\"fillpattern\":{\"fillmode\":\"overlay\",\"size\":10,\"solidity\":0.2},\"type\":\"scatter\"}],\"parcoords\":[{\"type\":\"parcoords\",\"line\":{\"colorbar\":{\"outlinewidth\":0,\"ticks\":\"\"}}}],\"scatterpolargl\":[{\"type\":\"scatterpolargl\",\"marker\":{\"colorbar\":{\"outlinewidth\":0,\"ticks\":\"\"}}}],\"bar\":[{\"error_x\":{\"color\":\"#2a3f5f\"},\"error_y\":{\"color\":\"#2a3f5f\"},\"marker\":{\"line\":{\"color\":\"#E5ECF6\",\"width\":0.5},\"pattern\":{\"fillmode\":\"overlay\",\"size\":10,\"solidity\":0.2}},\"type\":\"bar\"}],\"scattergeo\":[{\"type\":\"scattergeo\",\"marker\":{\"colorbar\":{\"outlinewidth\":0,\"ticks\":\"\"}}}],\"scatterpolar\":[{\"type\":\"scatterpolar\",\"marker\":{\"colorbar\":{\"outlinewidth\":0,\"ticks\":\"\"}}}],\"histogram\":[{\"marker\":{\"pattern\":{\"fillmode\":\"overlay\",\"size\":10,\"solidity\":0.2}},\"type\":\"histogram\"}],\"scattergl\":[{\"type\":\"scattergl\",\"marker\":{\"colorbar\":{\"outlinewidth\":0,\"ticks\":\"\"}}}],\"scatter3d\":[{\"type\":\"scatter3d\",\"line\":{\"colorbar\":{\"outlinewidth\":0,\"ticks\":\"\"}},\"marker\":{\"colorbar\":{\"outlinewidth\":0,\"ticks\":\"\"}}}],\"scattermapbox\":[{\"type\":\"scattermapbox\",\"marker\":{\"colorbar\":{\"outlinewidth\":0,\"ticks\":\"\"}}}],\"scatterternary\":[{\"type\":\"scatterternary\",\"marker\":{\"colorbar\":{\"outlinewidth\":0,\"ticks\":\"\"}}}],\"scattercarpet\":[{\"type\":\"scattercarpet\",\"marker\":{\"colorbar\":{\"outlinewidth\":0,\"ticks\":\"\"}}}],\"carpet\":[{\"aaxis\":{\"endlinecolor\":\"#2a3f5f\",\"gridcolor\":\"white\",\"linecolor\":\"white\",\"minorgridcolor\":\"white\",\"startlinecolor\":\"#2a3f5f\"},\"baxis\":{\"endlinecolor\":\"#2a3f5f\",\"gridcolor\":\"white\",\"linecolor\":\"white\",\"minorgridcolor\":\"white\",\"startlinecolor\":\"#2a3f5f\"},\"type\":\"carpet\"}],\"table\":[{\"cells\":{\"fill\":{\"color\":\"#EBF0F8\"},\"line\":{\"color\":\"white\"}},\"header\":{\"fill\":{\"color\":\"#C8D4E3\"},\"line\":{\"color\":\"white\"}},\"type\":\"table\"}],\"barpolar\":[{\"marker\":{\"line\":{\"color\":\"#E5ECF6\",\"width\":0.5},\"pattern\":{\"fillmode\":\"overlay\",\"size\":10,\"solidity\":0.2}},\"type\":\"barpolar\"}],\"pie\":[{\"automargin\":true,\"type\":\"pie\"}]},\"layout\":{\"autotypenumbers\":\"strict\",\"colorway\":[\"#636efa\",\"#EF553B\",\"#00cc96\",\"#ab63fa\",\"#FFA15A\",\"#19d3f3\",\"#FF6692\",\"#B6E880\",\"#FF97FF\",\"#FECB52\"],\"font\":{\"color\":\"#2a3f5f\"},\"hovermode\":\"closest\",\"hoverlabel\":{\"align\":\"left\"},\"paper_bgcolor\":\"white\",\"plot_bgcolor\":\"#E5ECF6\",\"polar\":{\"bgcolor\":\"#E5ECF6\",\"angularaxis\":{\"gridcolor\":\"white\",\"linecolor\":\"white\",\"ticks\":\"\"},\"radialaxis\":{\"gridcolor\":\"white\",\"linecolor\":\"white\",\"ticks\":\"\"}},\"ternary\":{\"bgcolor\":\"#E5ECF6\",\"aaxis\":{\"gridcolor\":\"white\",\"linecolor\":\"white\",\"ticks\":\"\"},\"baxis\":{\"gridcolor\":\"white\",\"linecolor\":\"white\",\"ticks\":\"\"},\"caxis\":{\"gridcolor\":\"white\",\"linecolor\":\"white\",\"ticks\":\"\"}},\"coloraxis\":{\"colorbar\":{\"outlinewidth\":0,\"ticks\":\"\"}},\"colorscale\":{\"sequential\":[[0.0,\"#0d0887\"],[0.1111111111111111,\"#46039f\"],[0.2222222222222222,\"#7201a8\"],[0.3333333333333333,\"#9c179e\"],[0.4444444444444444,\"#bd3786\"],[0.5555555555555556,\"#d8576b\"],[0.6666666666666666,\"#ed7953\"],[0.7777777777777778,\"#fb9f3a\"],[0.8888888888888888,\"#fdca26\"],[1.0,\"#f0f921\"]],\"sequentialminus\":[[0.0,\"#0d0887\"],[0.1111111111111111,\"#46039f\"],[0.2222222222222222,\"#7201a8\"],[0.3333333333333333,\"#9c179e\"],[0.4444444444444444,\"#bd3786\"],[0.5555555555555556,\"#d8576b\"],[0.6666666666666666,\"#ed7953\"],[0.7777777777777778,\"#fb9f3a\"],[0.8888888888888888,\"#fdca26\"],[1.0,\"#f0f921\"]],\"diverging\":[[0,\"#8e0152\"],[0.1,\"#c51b7d\"],[0.2,\"#de77ae\"],[0.3,\"#f1b6da\"],[0.4,\"#fde0ef\"],[0.5,\"#f7f7f7\"],[0.6,\"#e6f5d0\"],[0.7,\"#b8e186\"],[0.8,\"#7fbc41\"],[0.9,\"#4d9221\"],[1,\"#276419\"]]},\"xaxis\":{\"gridcolor\":\"white\",\"linecolor\":\"white\",\"ticks\":\"\",\"title\":{\"standoff\":15},\"zerolinecolor\":\"white\",\"automargin\":true,\"zerolinewidth\":2},\"yaxis\":{\"gridcolor\":\"white\",\"linecolor\":\"white\",\"ticks\":\"\",\"title\":{\"standoff\":15},\"zerolinecolor\":\"white\",\"automargin\":true,\"zerolinewidth\":2},\"scene\":{\"xaxis\":{\"backgroundcolor\":\"#E5ECF6\",\"gridcolor\":\"white\",\"linecolor\":\"white\",\"showbackground\":true,\"ticks\":\"\",\"zerolinecolor\":\"white\",\"gridwidth\":2},\"yaxis\":{\"backgroundcolor\":\"#E5ECF6\",\"gridcolor\":\"white\",\"linecolor\":\"white\",\"showbackground\":true,\"ticks\":\"\",\"zerolinecolor\":\"white\",\"gridwidth\":2},\"zaxis\":{\"backgroundcolor\":\"#E5ECF6\",\"gridcolor\":\"white\",\"linecolor\":\"white\",\"showbackground\":true,\"ticks\":\"\",\"zerolinecolor\":\"white\",\"gridwidth\":2}},\"shapedefaults\":{\"line\":{\"color\":\"#2a3f5f\"}},\"annotationdefaults\":{\"arrowcolor\":\"#2a3f5f\",\"arrowhead\":0,\"arrowwidth\":1},\"geo\":{\"bgcolor\":\"white\",\"landcolor\":\"#E5ECF6\",\"subunitcolor\":\"white\",\"showland\":true,\"showlakes\":true,\"lakecolor\":\"white\"},\"title\":{\"x\":0.05},\"mapbox\":{\"style\":\"light\"}}},\"xaxis\":{\"anchor\":\"y\",\"domain\":[0.0,1.0],\"title\":{\"text\":\"UMAP 1\"}},\"yaxis\":{\"anchor\":\"x\",\"domain\":[0.0,1.0],\"title\":{\"text\":\"UMAP 2\"}},\"coloraxis\":{\"colorbar\":{\"title\":{\"text\":\"Região imediata\"},\"showticklabels\":false},\"colorscale\":[[0.0,\"#0d0887\"],[0.1111111111111111,\"#46039f\"],[0.2222222222222222,\"#7201a8\"],[0.3333333333333333,\"#9c179e\"],[0.4444444444444444,\"#bd3786\"],[0.5555555555555556,\"#d8576b\"],[0.6666666666666666,\"#ed7953\"],[0.7777777777777778,\"#fb9f3a\"],[0.8888888888888888,\"#fdca26\"],[1.0,\"#f0f921\"]]},\"legend\":{\"tracegroupgap\":0},\"title\":{\"text\":\"Visualização dos Embeddings com UMAP - Colorido por Região Geográfica Imediata\"},\"height\":600,\"width\":800},                        {\"responsive\": true}                    ).then(function(){\n",
              "                            \n",
              "var gd = document.getElementById('070c26a7-e39b-435f-bf13-35215f8f8a16');\n",
              "var x = new MutationObserver(function (mutations, observer) {{\n",
              "        var display = window.getComputedStyle(gd).display;\n",
              "        if (!display || display === 'none') {{\n",
              "            console.log([gd, 'removed!']);\n",
              "            Plotly.purge(gd);\n",
              "            observer.disconnect();\n",
              "        }}\n",
              "}});\n",
              "\n",
              "// Listen for the removal of the full notebook cells\n",
              "var notebookContainer = gd.closest('#notebook-container');\n",
              "if (notebookContainer) {{\n",
              "    x.observe(notebookContainer, {childList: true});\n",
              "}}\n",
              "\n",
              "// Listen for the clearing of the current output cell\n",
              "var outputEl = gd.closest('.output');\n",
              "if (outputEl) {{\n",
              "    x.observe(outputEl, {childList: true});\n",
              "}}\n",
              "\n",
              "                        })                };                            </script>        </div>\n",
              "</body>\n",
              "</html>"
            ]
          },
          "metadata": {}
        }
      ]
    },
    {
      "cell_type": "code",
      "source": [
        "#@title Modelo de Regressão com os embeddings\n",
        "\n",
        "y_model = (df['TR2014'] * 1000 / df['populacao']).values\n",
        "X_model = df_embeddings[[0, 1, 2, 3, 4, 5, 6, 7, 8, 9, 10, 11, 12, 13, 14, 15, 16, 17, 18, 19, 20, 21, 22, 23, 24, 25, 26, 27, 28, 29, 30, 31]]\n",
        "\n",
        "model_SLM = GM_Lag(\n",
        "    y_model, X_model,\n",
        "    w=w_knn,\n",
        "    name_y='TR2014',\n",
        "    name_x=''\n",
        ")\n",
        "\n",
        "print(model_SLM.summary)"
      ],
      "metadata": {
        "colab": {
          "base_uri": "https://localhost:8080/"
        },
        "cellView": "form",
        "id": "SS156gEZ988_",
        "outputId": "bda5fe63-c97a-46d9-aa5b-0784d5420aff"
      },
      "execution_count": null,
      "outputs": [
        {
          "output_type": "stream",
          "name": "stdout",
          "text": [
            "REGRESSION RESULTS\n",
            "------------------\n",
            "\n",
            "SUMMARY OF OUTPUT: SPATIAL TWO STAGE LEAST SQUARES\n",
            "--------------------------------------------------\n",
            "Data set            :     unknown\n",
            "Weights matrix      :     unknown\n",
            "Dependent Variable  :      TR2014                Number of Observations:         640\n",
            "Mean dependent var  :      1.5583                Number of Variables   :          34\n",
            "S.D. dependent var  :      2.2386                Degrees of Freedom    :         606\n",
            "Pseudo R-squared    :      0.7186\n",
            "Spatial Pseudo R-squared:  0.6158\n",
            "\n",
            "------------------------------------------------------------------------------------\n",
            "            Variable     Coefficient       Std.Error     z-Statistic     Probability\n",
            "------------------------------------------------------------------------------------\n",
            "            CONSTANT        -0.16722         0.33974        -0.49221         0.62257\n",
            "               var_1        -0.17086         0.52285        -0.32678         0.74383\n",
            "               var_2         0.62820         0.56389         1.11406         0.26525\n",
            "               var_3         1.35370         1.08691         1.24546         0.21296\n",
            "               var_4         0.50439         0.50294         1.00288         0.31592\n",
            "               var_5         0.45103         0.58961         0.76496         0.44429\n",
            "               var_6        -0.08112         0.40625        -0.19968         0.84173\n",
            "               var_7        -0.84077         0.67310        -1.24910         0.21163\n",
            "               var_8        -0.54780         0.47770        -1.14674         0.25149\n",
            "               var_9        -0.08344         0.53017        -0.15738         0.87494\n",
            "              var_10         0.04268         0.47817         0.08926         0.92888\n",
            "              var_11        -0.49908         0.83210        -0.59978         0.54866\n",
            "              var_12         0.08308         0.52867         0.15716         0.87512\n",
            "              var_13         0.17511         0.48706         0.35952         0.71920\n",
            "              var_14        -0.94106         0.64373        -1.46190         0.14377\n",
            "              var_15         0.62406         0.48141         1.29633         0.19486\n",
            "              var_16         0.11110         0.50529         0.21986         0.82598\n",
            "              var_17        -0.05211         0.64669        -0.08058         0.93578\n",
            "              var_18         0.02987         0.95166         0.03139         0.97496\n",
            "              var_19        -0.02400         0.50882        -0.04718         0.96237\n",
            "              var_20        -0.67557         0.54660        -1.23594         0.21648\n",
            "              var_21        -0.20249         0.48827        -0.41470         0.67836\n",
            "              var_22         0.19709         0.46340         0.42531         0.67061\n",
            "              var_23         1.09180         0.50377         2.16728         0.03021\n",
            "              var_24         0.35314         0.40349         0.87521         0.38146\n",
            "              var_25         0.72530         1.40194         0.51735         0.60491\n",
            "              var_26         0.83510         0.56419         1.48019         0.13882\n",
            "              var_27         0.28142         0.61428         0.45812         0.64686\n",
            "              var_28        -0.33954         0.51145        -0.66387         0.50677\n",
            "              var_29        -0.02682         0.58542        -0.04582         0.96345\n",
            "              var_30        -0.21450         0.59076        -0.36309         0.71654\n",
            "              var_31         0.34001         0.76136         0.44658         0.65518\n",
            "              var_32        -0.63739         0.53810        -1.18451         0.23621\n",
            "            W_TR2014         0.91248         0.10949         8.33417         0.00000\n",
            "------------------------------------------------------------------------------------\n",
            "Instrumented: W_TR2014\n",
            "Instruments: W_var_1, W_var_10, W_var_11, W_var_12, W_var_13, W_var_14,\n",
            "             W_var_15, W_var_16, W_var_17, W_var_18, W_var_19, W_var_2,\n",
            "             W_var_20, W_var_21, W_var_22, W_var_23, W_var_24, W_var_25,\n",
            "             W_var_26, W_var_27, W_var_28, W_var_29, W_var_3, W_var_30,\n",
            "             W_var_31, W_var_32, W_var_4, W_var_5, W_var_6, W_var_7,\n",
            "             W_var_8, W_var_9\n",
            "\n",
            "DIAGNOSTICS FOR SPATIAL DEPENDENCE\n",
            "TEST                              DF         VALUE           PROB\n",
            "Anselin-Kelejian Test             1         13.259           0.0003\n",
            "\n",
            "SPATIAL LAG MODEL IMPACTS\n",
            "Impacts computed using the 'simple' method.\n",
            "            Variable         Direct        Indirect          Total\n",
            "               var_1        -0.1709         -1.7814         -1.9522\n",
            "               var_2         0.6282          6.5496          7.1778\n",
            "               var_3         1.3537         14.1136         15.4673\n",
            "               var_4         0.5044          5.2587          5.7631\n",
            "               var_5         0.4510          4.7025          5.1535\n",
            "               var_6        -0.0811         -0.8457         -0.9269\n",
            "               var_7        -0.8408         -8.7658         -9.6066\n",
            "               var_8        -0.5478         -5.7114         -6.2592\n",
            "               var_9        -0.0834         -0.8700         -0.9534\n",
            "              var_10         0.0427          0.4450          0.4877\n",
            "              var_11        -0.4991         -5.2033         -5.7024\n",
            "              var_12         0.0831          0.8662          0.9493\n",
            "              var_13         0.1751          1.8257          2.0008\n",
            "              var_14        -0.9411         -9.8115        -10.7526\n",
            "              var_15         0.6241          6.5065          7.1305\n",
            "              var_16         0.1111          1.1583          1.2694\n",
            "              var_17        -0.0521         -0.5433         -0.5954\n",
            "              var_18         0.0299          0.3114          0.3413\n",
            "              var_19        -0.0240         -0.2503         -0.2743\n",
            "              var_20        -0.6756         -7.0434         -7.7190\n",
            "              var_21        -0.2025         -2.1111         -2.3136\n",
            "              var_22         0.1971          2.0549          2.2519\n",
            "              var_23         1.0918         11.3831         12.4749\n",
            "              var_24         0.3531          3.6818          4.0350\n",
            "              var_25         0.7253          7.5619          8.2872\n",
            "              var_26         0.8351          8.7067          9.5418\n",
            "              var_27         0.2814          2.9340          3.2154\n",
            "              var_28        -0.3395         -3.5400         -3.8796\n",
            "              var_29        -0.0268         -0.2797         -0.3065\n",
            "              var_30        -0.2145         -2.2364         -2.4509\n",
            "              var_31         0.3400          3.5449          3.8849\n",
            "              var_32        -0.6374         -6.6454         -7.2827\n",
            "================================ END OF REPORT =====================================\n"
          ]
        }
      ]
    },
    {
      "cell_type": "code",
      "source": [
        "#@title Autocorrelação dos resíduos\n",
        "\n",
        "previsoes_embedding = model_SLM.predy.flatten()\n",
        "valores_reais = (df['TR2014'] * 1000 / df['populacao']).values\n",
        "\n",
        "residuo = previsoes_embedding - valores_reais\n",
        "\n",
        "moran_embedding = esda.Moran(residuo, w_knn)\n",
        "gearys_embeddinf = esda.Geary(residuo, w_knn)\n",
        "\n",
        "print(f'Morans I: {moran_embedding.I}')\n",
        "print(f'Gearys C: {gearys_embeddinf.C}')"
      ],
      "metadata": {
        "colab": {
          "base_uri": "https://localhost:8080/"
        },
        "cellView": "form",
        "id": "b0wig6osJRHQ",
        "outputId": "3933cd3a-48c6-4f46-d6f3-062005f881b6"
      },
      "execution_count": null,
      "outputs": [
        {
          "output_type": "stream",
          "name": "stdout",
          "text": [
            "Morans I: -0.0888334322325319\n",
            "Gearys C: 1.0756096649006348\n"
          ]
        }
      ]
    },
    {
      "cell_type": "markdown",
      "source": [
        "---"
      ],
      "metadata": {
        "id": "JH5z-vx49CWw"
      }
    },
    {
      "cell_type": "markdown",
      "source": [
        "## **Gradient Boost para teste**"
      ],
      "metadata": {
        "id": "-TuQqW5o7vCX"
      }
    },
    {
      "cell_type": "code",
      "source": [
        "import pandas as pd\n",
        "import numpy as np\n",
        "\n",
        "from sklearn.ensemble import GradientBoostingRegressor\n",
        "from sklearn.model_selection import LeaveOneOut, cross_val_predict\n",
        "from sklearn.metrics import mean_squared_error, mean_absolute_error, r2_score\n",
        "from sklearn.preprocessing import StandardScaler, OneHotEncoder\n",
        "from sklearn.compose import ColumnTransformer\n",
        "from sklearn.pipeline import Pipeline\n"
      ],
      "metadata": {
        "id": "tkm_Crfh9yO8"
      },
      "execution_count": 7,
      "outputs": []
    },
    {
      "cell_type": "code",
      "source": [
        "df_gradient = df[['Area_Km2', 'IPDM', 'CAER', 'CAEC',\n",
        "       'RTF', 'IndRiq', 'TMI', 'TMP', 'TM1539', 'TM6069', 'IndLong', 'TAE03',\n",
        "       'Prof5ano', 'Prof9ano', 'TDISM', 'IndEsc', 'populacao', 'homens',\n",
        "       'mulheres', 'razao_sexo', 'id_media', 'dens_demog', 'Agrop',\n",
        "       'Indústria', 'AdmPub', 'ServExc', 'ValAdic', 'ImpLiq', 'PIB', 'Gini', 'IC2014']]"
      ],
      "metadata": {
        "id": "bg9LhbOg8DMv"
      },
      "execution_count": 8,
      "outputs": []
    },
    {
      "cell_type": "code",
      "source": [
        "# Definir as features e a variável alvo\n",
        "features = ['Area_Km2', 'CAER', 'CAEC',\n",
        "           'RTF', 'IndRiq', 'TMI', 'TMP', 'TM1539', 'TM6069', 'TAE03', 'TDISM',\n",
        "           'IndEsc', 'populacao', 'Agrop', 'Gini']\n",
        "\n",
        "X = df_gradient[features]\n",
        "y = df_gradient['IC2014']"
      ],
      "metadata": {
        "id": "NZQhTeBN7yts"
      },
      "execution_count": 9,
      "outputs": []
    },
    {
      "cell_type": "code",
      "source": [
        "from re import L\n",
        "scaler = StandardScaler()\n",
        "df_gradient[features] = scaler.fit_transform(df_gradient[features])\n",
        "\n",
        "loo = LeaveOneOut()"
      ],
      "metadata": {
        "id": "JNkEbjJA7zVK"
      },
      "execution_count": 10,
      "outputs": []
    },
    {
      "cell_type": "code",
      "source": [
        "y_pred = []\n",
        "\n",
        "for train_index, test_index in tqdm(loo.split(X), total=loo.get_n_splits(X), desc=\"LOOCV Progress\"):\n",
        "    X_train, X_test = X.iloc[train_index], X.iloc[test_index]\n",
        "    y_train, y_test = y.iloc[train_index], y.iloc[test_index]\n",
        "\n",
        "    model = GradientBoostingRegressor()\n",
        "    model.fit(X_train, y_train)\n",
        "\n",
        "    y_pred.append(model.predict(X_test)[0])"
      ],
      "metadata": {
        "id": "YLvLY5Bo_3a1",
        "colab": {
          "base_uri": "https://localhost:8080/"
        },
        "outputId": "1201a365-b689-43c8-8829-f149e174fd34"
      },
      "execution_count": 11,
      "outputs": [
        {
          "output_type": "stream",
          "name": "stderr",
          "text": [
            "LOOCV Progress: 100%|██████████| 640/640 [04:54<00:00,  2.17it/s]\n"
          ]
        }
      ]
    },
    {
      "cell_type": "code",
      "source": [
        "#@title Depois de incluir Gini\n",
        "\n",
        "mse = mean_squared_error(y, y_pred)\n",
        "mae = mean_absolute_error(y, y_pred)\n",
        "r2 = r2_score(y, y_pred)\n",
        "\n",
        "print(f'Mean Squared Error (MSE): {mse:.4f}')\n",
        "print(f'Mean Absolute Error (MAE): {mae:.4f}')\n",
        "print(f'R² Score: {r2:.4f}')"
      ],
      "metadata": {
        "cellView": "form",
        "id": "9C8RTqNXQXWw"
      },
      "execution_count": null,
      "outputs": []
    },
    {
      "cell_type": "code",
      "source": [
        "#@title Antes de incluir Gini\n",
        "\n",
        "mse = mean_squared_error(y, y_pred)\n",
        "mae = mean_absolute_error(y, y_pred)\n",
        "r2 = r2_score(y, y_pred)\n",
        "\n",
        "print(f'Mean Squared Error (MSE): {mse:.4f}')\n",
        "print(f'Mean Absolute Error (MAE): {mae:.4f}')\n",
        "print(f'R² Score: {r2:.4f}')"
      ],
      "metadata": {
        "id": "fiSNIZni_b07",
        "cellView": "form"
      },
      "execution_count": null,
      "outputs": []
    },
    {
      "cell_type": "code",
      "source": [
        "residuals = y - y_pred\n",
        "\n",
        "print(f'Mean of Residuals: {residuals.mean():.4f}')\n",
        "print(f'Standard Deviation of Residuals: {residuals.std():.4f}')"
      ],
      "metadata": {
        "id": "V-9t5bG3_iy8"
      },
      "execution_count": null,
      "outputs": []
    },
    {
      "cell_type": "markdown",
      "source": [
        "---"
      ],
      "metadata": {
        "id": "LpTweE7NtZ_u"
      }
    },
    {
      "cell_type": "markdown",
      "source": [
        "## **Miscelanea**"
      ],
      "metadata": {
        "id": "jRWSGn7jta3t"
      }
    },
    {
      "cell_type": "code",
      "source": [
        "path_regiao_imediata = '/content/Analise-Criminal-no-Brasil/Shapefiles_auxiliares/regiao_geografica_imediata/Regiao Geografica Imediata.shp'"
      ],
      "metadata": {
        "id": "vtXBILz7FIBu"
      },
      "execution_count": null,
      "outputs": []
    },
    {
      "cell_type": "code",
      "source": [
        "regioes_imediatas = gpd.read_file(path_regiao_imediata)\n",
        "regioes_imediatas['geometry'] = regioes_imediatas['geometry'].simplify(0.01)\n",
        "regioes_imediatas['constante'] = 1\n",
        "geojson_regioes = json.loads(regioes_imediatas.to_json())"
      ],
      "metadata": {
        "id": "i9xsoIwPFRgZ"
      },
      "execution_count": null,
      "outputs": []
    },
    {
      "cell_type": "code",
      "source": [
        "moran = Moran(residuals, w)\n",
        "print(f\"Moran's I: {moran.I}, p-value: {moran.p_sim}\")"
      ],
      "metadata": {
        "id": "1uslG3oOEkPE"
      },
      "execution_count": null,
      "outputs": []
    },
    {
      "cell_type": "code",
      "source": [
        "df['Cod'] = regioes_imediatas['Cod']"
      ],
      "metadata": {
        "id": "bQh__BRnJXeM"
      },
      "execution_count": null,
      "outputs": []
    },
    {
      "cell_type": "code",
      "source": [
        "coords = np.array(df[['x_centroid', 'y_centroid']])\n",
        "dist_matrix = distance_matrix(coords, coords)\n",
        "\n",
        "# Substituir as distâncias na diagonal (municipio consigo mesmo) por infinito para evitar divisão por zero\n",
        "np.fill_diagonal(dist_matrix, np.inf)\n",
        "inv_dist_matrix = 1 / dist_matrix\n",
        "# Extrair os códigos das microrregiões\n",
        "cod = df['RGInter'].values\n",
        "\n",
        "# Criar uma matriz de máscara onde W_mask[i][j] = 1 se Cod[i] == Cod[j], senão 0\n",
        "W_mask = (cod[:, np.newaxis] == cod[np.newaxis, :]).astype(float)\n",
        "W_matrix = inv_dist_matrix * W_mask\n",
        "# Somar os pesos de cada linha\n",
        "row_sums = W_matrix.sum(axis=1, keepdims=True)\n",
        "\n",
        "# Evitar divisão por zero substituindo zeros por um (temporariamente)\n",
        "row_sums[row_sums == 0] = 1\n",
        "\n",
        "# Normalizar os pesos\n",
        "W_matrix_normalized = W_matrix / row_sums\n",
        "\n",
        "# Substituir NaNs resultantes de divisão por zero (se houver) por 0\n",
        "W_matrix_normalized = np.nan_to_num(W_matrix_normalized)\n",
        "# Verificar algumas entradas\n",
        "print(\"Exemplo de W_matrix_normalized:\")\n",
        "print(W_matrix_normalized[:5, :5])  # Exemplo das 5 primeiras linhas e colunas\n",
        "\n",
        "# Verificar se as diagonais são 0\n",
        "print(\"Verificação das diagonais:\")\n",
        "print(np.diag(W_matrix_normalized))\n"
      ],
      "metadata": {
        "id": "0w-uZigfHMHX"
      },
      "execution_count": null,
      "outputs": []
    },
    {
      "cell_type": "code",
      "source": [
        "# Converter a matriz completa para um objeto de pesos do libpysal\n",
        "w = libpysal.weights.full2W(W_matrix_normalized)"
      ],
      "metadata": {
        "id": "uVddjWjOJSmO"
      },
      "execution_count": null,
      "outputs": []
    },
    {
      "cell_type": "markdown",
      "source": [
        "## **Últimos testes de autocorrelação espacial no índice**"
      ],
      "metadata": {
        "id": "UvG1jk9Cz_dK"
      }
    },
    {
      "cell_type": "code",
      "source": [
        "#@title Matriz W completa (inversos das distancias)\n",
        "\n",
        "coords = np.array(df[['x_centroid', 'y_centroid']])\n",
        "dist_matrix = distance_matrix(coords, coords)\n",
        "np.fill_diagonal(dist_matrix, np.inf)\n",
        "inv_dist_matrix = 1 / dist_matrix\n",
        "\n",
        "\n",
        "# k definido com validação\n",
        "k = 640\n",
        "\n",
        "\n",
        "nearest_neighbors_indices = np.argsort(dist_matrix, axis=1)[:, :k]\n",
        "nearest_neighbors_distances = np.take_along_axis(dist_matrix, nearest_neighbors_indices, axis=1)\n",
        "\n",
        "weights = 1 / nearest_neighbors_distances\n",
        "\n",
        "weights[np.isinf(weights)] = 0\n",
        "weights_normalized = weights / weights.sum(axis=1)[:, np.newaxis]\n",
        "\n",
        "n = len(df)\n",
        "W_matrix = np.zeros((n, n))\n",
        "\n",
        "for i in range(n):\n",
        "    W_matrix[i, nearest_neighbors_indices[i]] = weights_normalized[i]\n",
        "\n",
        "w_cheia = libpysal.weights.full2W(W_matrix)"
      ],
      "metadata": {
        "cellView": "form",
        "id": "VBzDcYzG0XY7"
      },
      "execution_count": null,
      "outputs": []
    },
    {
      "cell_type": "code",
      "source": [
        "#@title Matriz W knn (inversos das distancias)\n",
        "\n",
        "coords = np.array(df[['x_centroid', 'y_centroid']])\n",
        "dist_matrix = distance_matrix(coords, coords)\n",
        "np.fill_diagonal(dist_matrix, np.inf)\n",
        "inv_dist_matrix = 1 / dist_matrix\n",
        "\n",
        "\n",
        "# k definido com validação\n",
        "k = 11\n",
        "\n",
        "\n",
        "nearest_neighbors_indices = np.argsort(dist_matrix, axis=1)[:, :k]\n",
        "nearest_neighbors_distances = np.take_along_axis(dist_matrix, nearest_neighbors_indices, axis=1)\n",
        "\n",
        "weights = 1 / nearest_neighbors_distances\n",
        "\n",
        "weights[np.isinf(weights)] = 0\n",
        "weights_normalized = weights / weights.sum(axis=1)[:, np.newaxis]\n",
        "\n",
        "n = len(df)\n",
        "W_matrix = np.zeros((n, n))\n",
        "\n",
        "for i in range(n):\n",
        "    W_matrix[i, nearest_neighbors_indices[i]] = weights_normalized[i]\n",
        "\n",
        "w_knn = libpysal.weights.full2W(W_matrix)"
      ],
      "metadata": {
        "collapsed": true,
        "cellView": "form",
        "id": "OXaEGr8J0J80"
      },
      "execution_count": null,
      "outputs": []
    },
    {
      "cell_type": "code",
      "source": [
        "moran = esda.Moran(df['IC2014'], w_knn)\n",
        "print(f'Morans I: {moran.I}')"
      ],
      "metadata": {
        "id": "GhdW2wPh0HxS"
      },
      "execution_count": null,
      "outputs": []
    },
    {
      "cell_type": "code",
      "source": [
        "moran.p_sim"
      ],
      "metadata": {
        "id": "rcpzhRwk2RZU"
      },
      "execution_count": null,
      "outputs": []
    },
    {
      "cell_type": "code",
      "source": [
        "from splot.esda import moran_scatterplot"
      ],
      "metadata": {
        "id": "ah71_avV3z16"
      },
      "execution_count": null,
      "outputs": []
    },
    {
      "cell_type": "code",
      "source": [
        "moran_scatterplot(moran)"
      ],
      "metadata": {
        "id": "a3v1klUg3Brg"
      },
      "execution_count": null,
      "outputs": []
    },
    {
      "cell_type": "code",
      "source": [
        "moran = esda.Moran(df['IC2014'], w_cheia)\n",
        "print(f'Morans I: {moran.I}')"
      ],
      "metadata": {
        "id": "UA7QCEkZ0FfF"
      },
      "execution_count": null,
      "outputs": []
    },
    {
      "cell_type": "code",
      "source": [
        "df_sem = df[df['IC2014'] < 1]"
      ],
      "metadata": {
        "id": "s5aR7a7r4T7v"
      },
      "execution_count": null,
      "outputs": []
    },
    {
      "cell_type": "markdown",
      "source": [
        "## **Variogramas**"
      ],
      "metadata": {
        "id": "ZzroubD9-De_"
      }
    },
    {
      "cell_type": "code",
      "source": [
        "#@title Adicionando o índice de Gini ao dataframe\n",
        "\n",
        "gini = pd.read_csv('/content/gini_2010 - Página1.csv')\n",
        "gini['Cod'] = gini['Cod'].astype(int)\n",
        "gini['Gini'] = gini['Gini'].astype(str).str.replace(',', '.').astype(float)\n",
        "df['Codigo sem digito'] = ((df['cod_ibge'] - (df['cod_ibge'] % 10)) / 10).astype(int)\n",
        "df = df.merge(gini, left_on='Codigo sem digito', right_on='Cod', how='left')\n",
        "\n",
        "df.drop('Codigo sem digito', axis=1, inplace=True)\n",
        "df.drop('Município', axis=1, inplace=True)\n",
        "df.drop('Cod', axis=1, inplace=True)"
      ],
      "metadata": {
        "cellView": "form",
        "id": "-DNjsLIT-3Sm"
      },
      "execution_count": null,
      "outputs": []
    },
    {
      "cell_type": "code",
      "source": [
        "#@title Moran's I do índice de Gini\n",
        "\n",
        "moran = esda.Moran(df['Gini'], w)\n",
        "print(f'Morans I: {moran.I}')\n",
        "\n",
        "moran_kmeans = esda.Moran(df['Gini'], w_knn)\n",
        "print(f'Morans I: {moran_kmeans.I}')"
      ],
      "metadata": {
        "cellView": "form",
        "id": "FjBsogfQYmg6"
      },
      "execution_count": null,
      "outputs": []
    },
    {
      "cell_type": "markdown",
      "source": [
        "## **Rede neural desconsiderando espaço**"
      ],
      "metadata": {
        "id": "muc-LrWyf7Xx"
      }
    },
    {
      "cell_type": "code",
      "source": [
        "import pandas as pd\n",
        "import numpy as np\n",
        "import tensorflow as tf\n",
        "from tensorflow.keras.models import Sequential\n",
        "from tensorflow.keras.layers import Dense, Dropout\n",
        "from tensorflow.keras.callbacks import EarlyStopping, ReduceLROnPlateau\n",
        "from sklearn.preprocessing import StandardScaler\n",
        "from sklearn.model_selection import KFold\n",
        "from sklearn.metrics import r2_score, mean_squared_error\n",
        "import matplotlib.pyplot as plt\n",
        "from tensorflow.keras.callbacks import EarlyStopping"
      ],
      "metadata": {
        "id": "U-2XGBJKZx2m"
      },
      "execution_count": null,
      "outputs": []
    },
    {
      "cell_type": "code",
      "source": [
        "#@title Todas as features num pca\n",
        "\n",
        "df_pca = df.copy()\n",
        "df_pca = df_pca[['Area_Km2', 'IPDM', 'CAER', 'CAEC',\n",
        "           'RTF', 'IndRiq', 'TMI', 'TMP', 'TM1539', 'TM6069',\n",
        "            'TAE03','IndLong', 'TAE03',\n",
        "            'Prof5ano', 'Prof9ano', 'TDISM',\n",
        "           'IndEsc', 'populacao', 'Agrop', 'Gini', 'Indústria', 'AdmPub', 'ServExc',\n",
        "          'ValAdic', 'ImpLiq', 'PIB', 'PIBpc']]\n",
        "\n",
        "X = df_rede.drop('IC2014', axis=1).values\n",
        "y = df_rede['IC2014'].values"
      ],
      "metadata": {
        "id": "AjpboqTpi_rW"
      },
      "execution_count": null,
      "outputs": []
    },
    {
      "cell_type": "code",
      "source": [
        "scaler = StandardScaler()\n",
        "X_scaled = scaler.fit_transform(X)"
      ],
      "metadata": {
        "id": "RhvnPCG_kSxR"
      },
      "execution_count": null,
      "outputs": []
    },
    {
      "cell_type": "code",
      "source": [
        "from sklearn.decomposition import PCA\n",
        "\n",
        "pca = PCA(n_components=0.95, random_state=42)  # 95% da variância\n",
        "X_pca = pca.fit_transform(X_scaled)\n",
        "print(f\"Número de componentes selecionados: {pca.n_components_}\")\n"
      ],
      "metadata": {
        "id": "cgoSMeoKk6xN"
      },
      "execution_count": null,
      "outputs": []
    },
    {
      "cell_type": "code",
      "source": [
        "# Carregar os dados\n",
        "df_rn = df_gradient.copy()  # Supondo que df_gradient já está carregado\n",
        "\n",
        "df_rede = df_rn[['Area_Km2', 'CAER', 'CAEC',\n",
        "           'RTF', 'IndRiq', 'TMI', 'TMP', 'TM1539', 'TM6069', 'TAE03',\n",
        "           'IndEsc', 'Agrop', 'Gini', 'IC2014']]\n",
        "\n",
        "# Separar features e target\n",
        "X = df_rede.drop('IC2014', axis=1).values\n",
        "y = df_rede['IC2014'].values\n",
        "\n",
        "# Escalonar as features\n",
        "scaler = StandardScaler()\n",
        "X_scaled = scaler.fit_transform(X)"
      ],
      "metadata": {
        "id": "mYWVgNqBgq7T"
      },
      "execution_count": null,
      "outputs": []
    },
    {
      "cell_type": "code",
      "source": [
        "def criar_modelo(input_dim):\n",
        "    model = Sequential()\n",
        "    model.add(Dense(64, input_dim=input_dim, activation='relu',\n",
        "                    kernel_regularizer=tf.keras.regularizers.l2(0.001)))\n",
        "    model.add(Dropout(0.2))\n",
        "    model.add(Dense(32, activation='relu',\n",
        "                    kernel_regularizer=tf.keras.regularizers.l2(0.001)))\n",
        "    model.add(Dropout(0.2))\n",
        "    model.add(Dense(1, activation='linear'))\n",
        "    model.compile(optimizer='adam', loss='mse', metrics=['mae'])\n",
        "    return model"
      ],
      "metadata": {
        "id": "f8rdnAYKgxbY"
      },
      "execution_count": null,
      "outputs": []
    },
    {
      "cell_type": "code",
      "source": [
        "early_stop = EarlyStopping(monitor='val_loss', patience=20, restore_best_weights=True)\n",
        "reduce_lr = ReduceLROnPlateau(monitor='val_loss', factor=0.5, patience=10, min_lr=1e-6)"
      ],
      "metadata": {
        "id": "H20qKSsdg8mT"
      },
      "execution_count": null,
      "outputs": []
    },
    {
      "cell_type": "code",
      "source": [
        "k = 10 # Número de folds\n",
        "num_epochs = 200\n",
        "batch_size = 64\n",
        "\n",
        "kfold = KFold(n_splits=k, shuffle=True, random_state=42)\n",
        "r2_scores = []\n",
        "mse_scores = []\n",
        "\n",
        "r2_scores = []\n",
        "mse_scores = []\n",
        "\n",
        "for fold, (train_idx, val_idx) in enumerate(kfold.split(X_pca)):\n",
        "    X_train, X_val = X_pca[train_idx], X_pca[val_idx]\n",
        "    y_train, y_val = y[train_idx], y[val_idx]\n",
        "\n",
        "    model = criar_modelo(input_dim=X_train.shape[1])\n",
        "\n",
        "    history = model.fit(\n",
        "        X_train, y_train,\n",
        "        epochs=200,\n",
        "        batch_size=16,\n",
        "        validation_data=(X_val, y_val),\n",
        "        callbacks=[early_stop, reduce_lr],\n",
        "        verbose=0\n",
        "    )\n",
        "\n",
        "    # Previsões e Avaliação\n",
        "    y_pred = model.predict(X_val).flatten()\n",
        "    r2 = r2_score(y_val, y_pred)\n",
        "    mse = mean_squared_error(y_val, y_pred)\n",
        "    r2_scores.append(r2)\n",
        "    mse_scores.append(mse)\n",
        "\n",
        "    print(f\"Fold {fold+1} - R²: {r2:.4f}, MSE: {mse:.4f}\")\n",
        "\n",
        "print(f\"\\nResultado Médio da Validação Cruzada ({k}-fold):\")\n",
        "print(f\"R² Médio: {np.mean(r2_scores):.4f} ± {np.std(r2_scores):.4f}\")\n",
        "print(f\"MSE Médio: {np.mean(mse_scores):.4f} ± {np.std(mse_scores):.4f}\")\n"
      ],
      "metadata": {
        "id": "UsgaTZlQg-_M"
      },
      "execution_count": null,
      "outputs": []
    },
    {
      "cell_type": "code",
      "source": [
        "print(f\"\\nResultado Médio da Validação Cruzada ({k}-fold):\")\n",
        "print(f\"R² Médio: {np.mean(r2_scores):.4f} ± {np.std(r2_scores):.4f}\")\n",
        "print(f\"MSE Médio: {np.mean(mse_scores):.4f} ± {np.std(mse_scores):.4f}\")\n"
      ],
      "metadata": {
        "id": "k8JXObwahFRt"
      },
      "execution_count": null,
      "outputs": []
    },
    {
      "cell_type": "code",
      "source": [],
      "metadata": {
        "id": "mQks78uphT35"
      },
      "execution_count": null,
      "outputs": []
    },
    {
      "cell_type": "code",
      "source": [],
      "metadata": {
        "id": "tQ6CiRz2hXUc"
      },
      "execution_count": null,
      "outputs": []
    },
    {
      "cell_type": "code",
      "source": [],
      "metadata": {
        "id": "2mmw1kIA_crM"
      },
      "execution_count": null,
      "outputs": []
    },
    {
      "cell_type": "markdown",
      "source": [
        "## **Análise subsequente: furto de veículos por habitante**"
      ],
      "metadata": {
        "id": "9EKVBcH2_eYe"
      }
    },
    {
      "cell_type": "code",
      "source": [
        "df.columns"
      ],
      "metadata": {
        "id": "PByQY7Bl_kl8"
      },
      "execution_count": null,
      "outputs": []
    },
    {
      "cell_type": "code",
      "source": [
        "y_veiculos = df['FV2014'] / df['populacao']"
      ],
      "metadata": {
        "id": "hcSBVBIX_mTJ"
      },
      "execution_count": null,
      "outputs": []
    },
    {
      "cell_type": "code",
      "source": [
        "Moran(y_veiculos, w_knn).I"
      ],
      "metadata": {
        "id": "9Y9OG40m_1PC"
      },
      "execution_count": null,
      "outputs": []
    },
    {
      "cell_type": "markdown",
      "source": [
        "### **Modelos de regressão**"
      ],
      "metadata": {
        "id": "-LEGtk79B5Zw"
      }
    },
    {
      "cell_type": "code",
      "source": [
        "#@title Regressor com base na Matriz Knn\n",
        "y = y_veiculos\n",
        "X = df[['Area_Km2', 'CAER', 'CAEC',\n",
        "           'RTF', 'IndRiq', 'TMI', 'TMP', 'TM1539', 'TM6069', 'TAE03', 'TDISM',\n",
        "           'IndEsc', 'populacao', 'Agrop',]]# 'Gini']]\n",
        "\n",
        "model_SLM = GM_Lag(\n",
        "    y, X,\n",
        "    w=w_knn,\n",
        "    name_y='IC2014',\n",
        "    name_x=['Area_Km2', 'CAER', 'CAEC',\n",
        "           'RTF', 'IndRiq', 'TMI', 'TMP', 'TM1539', 'TM6069', 'TAE03', 'TDISM',\n",
        "           'IndEsc', 'populacao', 'Agrop',]# 'Gini']\n",
        ")\n",
        "\n",
        "print(model_SLM.summary)"
      ],
      "metadata": {
        "cellView": "form",
        "id": "UOW1QrFv_8cS"
      },
      "execution_count": null,
      "outputs": []
    },
    {
      "cell_type": "code",
      "source": [
        "#@title Regressor com base na Matriz densa\n",
        "y = y_veiculos\n",
        "X = df[['Area_Km2', 'CAER', 'CAEC',\n",
        "           'RTF', 'IndRiq', 'TMI', 'TMP', 'TM1539', 'TM6069', 'TAE03', 'TDISM',\n",
        "           'IndEsc', 'populacao', 'Agrop',]]# 'Gini']]\n",
        "\n",
        "model_SLM = GM_Lag(\n",
        "    y, X,\n",
        "    w=w,\n",
        "    name_y='IC2014',\n",
        "    name_x=['Area_Km2', 'CAER', 'CAEC',\n",
        "           'RTF', 'IndRiq', 'TMI', 'TMP', 'TM1539', 'TM6069', 'TAE03', 'TDISM',\n",
        "           'IndEsc', 'populacao', 'Agrop',]# 'Gini']\n",
        ")\n",
        "\n",
        "print(model_SLM.summary)"
      ],
      "metadata": {
        "cellView": "form",
        "id": "jkfC8UClBBVR"
      },
      "execution_count": null,
      "outputs": []
    },
    {
      "cell_type": "code",
      "source": [
        "#@title Regressor com base na Matriz contiguidade Queen\n",
        "y = y_veiculos\n",
        "X = df[['Area_Km2', 'CAER', 'CAEC',\n",
        "           'RTF', 'IndRiq', 'TMI', 'TMP', 'TM1539', 'TM6069', 'TAE03', 'TDISM',\n",
        "           'IndEsc', 'populacao', 'Agrop',]]# 'Gini']]\n",
        "\n",
        "model_SLM = GM_Lag(\n",
        "    y, X,\n",
        "    w=w_knn,\n",
        "    name_y='IC2014',\n",
        "    name_x=['Area_Km2', 'CAER', 'CAEC',\n",
        "           'RTF', 'IndRiq', 'TMI', 'TMP', 'TM1539', 'TM6069', 'TAE03', 'TDISM',\n",
        "           'IndEsc', 'populacao', 'Agrop',]# 'Gini']\n",
        ")\n",
        "\n",
        "print(model_SLM.summary)"
      ],
      "metadata": {
        "cellView": "form",
        "id": "xxVsff-ACIQT"
      },
      "execution_count": null,
      "outputs": []
    },
    {
      "cell_type": "code",
      "source": [],
      "metadata": {
        "id": "qWGTfHBJCWgZ"
      },
      "execution_count": null,
      "outputs": []
    }
  ]
}