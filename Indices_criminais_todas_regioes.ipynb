{
 "cells": [
  {
   "cell_type": "code",
   "execution_count": 1,
   "metadata": {},
   "outputs": [],
   "source": [
    "import pandas as pd\n",
    "import os\n",
    "from functools import reduce\n",
    "import unidecode"
   ]
  },
  {
   "cell_type": "code",
   "execution_count": 3,
   "metadata": {},
   "outputs": [],
   "source": [
    "caminho_da_base = r\"Processamento_base_SSP-SP\\regioes(2010, a 2024)\"\n",
    "anos = os.listdir(caminho_da_base)\n",
    "\n",
    "def dict_crimes(ano):\n",
    "    dicionario = {}\n",
    "    caminho = os.path.join(caminho_da_base, str(ano))\n",
    "    \n",
    "    for arquivo in os.listdir(caminho):\n",
    "        if arquivo.endswith('.csv'):\n",
    "            chave = arquivo.replace('.csv', '')\n",
    "            caminho_completo = os.path.join(caminho, arquivo)\n",
    "            dicionario[chave] = caminho_completo\n",
    "    \n",
    "    return dicionario\n",
    "\n",
    "def criar_dataframe(ano):\n",
    "    \n",
    "    dataframes = []\n",
    "    \n",
    "    dicionario_caminhos = dict_crimes(ano)\n",
    "    for tipo_crime, caminho_crime in dicionario_caminhos.items():\n",
    "        df = pd.read_csv(caminho_crime)\n",
    "        df = df[['cod_ibge', 'municipios', 'Total']]\n",
    "        df.rename(columns={'Total': f'{tipo_crime.replace(\"_\", \" \").capitalize()} {ano}'}, inplace=True)\n",
    "        dataframes.append(df)\n",
    "    \n",
    "    colunas_comuns = ['municipios', 'cod_ibge']\n",
    "\n",
    "    df_final = reduce(lambda left, right: pd.merge(left, right, on=colunas_comuns, how='outer'), dataframes) \n",
    "    df_final.rename(columns={f'Total de estupro 4 {ano}': f'Total de estupro {ano}',\n",
    "                             f'Total de roubo outros 1 {ano}': f'Total de Roubo {ano}',\n",
    "                             f'Nº de vítimas em homicídio doloso 3 {ano}': f'Vítimas de homicídio {ano}',\n",
    "                             \"municipios\": \"Municipio\"}, inplace=True)\n",
    "    return df_final"
   ]
  },
  {
   "cell_type": "code",
   "execution_count": null,
   "metadata": {},
   "outputs": [],
   "source": [
    "ocorrencias_2014 = criar_dataframe(2014)\n",
    "ocorrencias_2016 = criar_dataframe(2016)\n",
    "ocorrencias_2018 = criar_dataframe(2018) \n",
    "ocorrencias_2020 = criar_dataframe(2020)\n",
    "ocorrencias_2022 = criar_dataframe(2022)"
   ]
  },
  {
   "cell_type": "code",
   "execution_count": null,
   "metadata": {},
   "outputs": [],
   "source": [
    "caminho_est_pop = \"Processamento_base_EST_POP\\EST_POP_processada.csv\"\n",
    "est_pop = pd.read_csv(caminho_est_pop)\n",
    "\n",
    "def merge_dfs(est_pop, df_ocorrencias, ano):\n",
    "    \n",
    "    est_pop = est_pop.loc[est_pop['Ano'] == ano].copy()\n",
    "    pop = est_pop[['Ano', 'cod_ibge', 'Municipio', 'populacao']].copy()\n",
    "    \n",
    "    df_ocorrencias['Municipio'] = df_ocorrencias['Municipio'].apply(lambda x: unidecode.unidecode(x))\n",
    "    pop['Municipio'] = pop['Municipio'].apply(lambda x: unidecode.unidecode(x))\n",
    "    \n",
    "    merged_df = pop.merge(df_ocorrencias, on=['cod_ibge', 'Municipio'], how='inner')\n",
    "    merged_df.rename(columns={'populacao': f'Populacao {ano}'}, inplace=True)\n",
    "    \n",
    "    return merged_df\n",
    "    \n",
    "ocorrencias_2014 = merge_dfs(est_pop, ocorrencias_2014, 2014)\n",
    "ocorrencias_2016 = merge_dfs(est_pop, ocorrencias_2016, 2016) \n",
    "ocorrencias_2018 = merge_dfs(est_pop, ocorrencias_2018, 2018) \n",
    "ocorrencias_2020 = merge_dfs(est_pop, ocorrencias_2020, 2020) \n",
    "ocorrencias_2022 = merge_dfs(est_pop, ocorrencias_2022, 2022) \n",
    "\n",
    "ocorrencias = [ocorrencias_2014, ocorrencias_2016,\n",
    "               ocorrencias_2018, ocorrencias_2020,\n",
    "               ocorrencias_2022]"
   ]
  },
  {
   "cell_type": "code",
   "execution_count": 5,
   "metadata": {},
   "outputs": [],
   "source": [
    "pesos = {\n",
    "    'Furto de veículo': 1,\n",
    "    'Furto outros': 1,\n",
    "    'Homicídio culposo outros': 4,\n",
    "    'Homicídio culposo por acidente de trânsito': 4.5,\n",
    "    'Latrocínio': 6,\n",
    "    'Lesão corporal culposa outras': 2.5,\n",
    "    'Lesão corporal culposa por acidente de trâsito': 3,\n",
    "    'Lesão corporal dolosa': 3.5,\n",
    "    'Vitimas homicidio': 5,\n",
    "    'Tentativa de homicidio': 4.5,\n",
    "    'Total estupro': 5,\n",
    "    'Total roubos': 2\n",
    "}\n",
    "\n",
    "def calcular_indice_criminalidade(row, ano):\n",
    "    numerador = sum((row[f\"{crime} {ano}\"] / row[f'Populacao {ano}']) * peso\n",
    "                    for crime, peso in pesos.items() if f\"{crime} {ano}\" in row)\n",
    "    denominador = sum(peso for crime, peso in pesos.items() if f\"{crime} {ano}\" in row)\n",
    "    return numerador / denominador if denominador > 0 else 0\n",
    "\n",
    "def normalizar_serie(serie):\n",
    "    min_value = serie.min()\n",
    "    max_value = serie.max()\n",
    "    return (serie - min_value) / (max_value - min_value) if (max_value - min_value) > 0 else serie\n"
   ]
  },
  {
   "cell_type": "code",
   "execution_count": null,
   "metadata": {},
   "outputs": [],
   "source": [
    "anos = ['2014', '2016', '2018', '2020','2022']\n",
    "\n",
    "bins = [0, 0.2, 0.4, 0.6, 0.8, 1.0]\n",
    "labels = ['Muito Baixo', 'Baixo', 'Médio', 'Alto', 'Muito Alto']\n",
    "for df, ano in zip(ocorrencias, anos):\n",
    "    df[f'Indice Criminalidade {ano}'] = df.apply(lambda row: calcular_indice_criminalidade(row, ano),\n",
    "                                                 axis=1)\n",
    "    df[f'Indice Criminalidade {ano}'] = normalizar_serie(df[f'Indice Criminalidade {ano}'])\n",
    "    df[f'Classificação {ano}'] = pd.cut(df[f'Indice Criminalidade {ano}'],\n",
    "                                        bins=bins,\n",
    "                                        labels=labels,\n",
    "                                        include_lowest=True)\n",
    "    df.drop(columns=f'Populacao {ano}', inplace=True)"
   ]
  },
  {
   "cell_type": "code",
   "execution_count": 8,
   "metadata": {},
   "outputs": [],
   "source": [
    "def exportar_df(df, ano, caminho_destino='indices_criminais'):\n",
    "    diretorio = os.path.join(caminho_destino, str(ano))\n",
    "    os.makedirs(diretorio, exist_ok=True)\n",
    "    \n",
    "    arquivo = os.path.join(diretorio, f\"indices_criminais{ano}.csv\")\n",
    "    df.to_csv(arquivo, index=False)\n",
    "    print(f\"Exportado: {arquivo}\")"
   ]
  },
  {
   "cell_type": "code",
   "execution_count": 9,
   "metadata": {},
   "outputs": [
    {
     "name": "stdout",
     "output_type": "stream",
     "text": [
      "Exportado: indices_criminais\\2014\\indices_criminais2014.csv\n",
      "Exportado: indices_criminais\\2016\\indices_criminais2016.csv\n",
      "Exportado: indices_criminais\\2018\\indices_criminais2018.csv\n",
      "Exportado: indices_criminais\\2020\\indices_criminais2020.csv\n",
      "Exportado: indices_criminais\\2022\\indices_criminais2022.csv\n"
     ]
    }
   ],
   "source": [
    "exportar_df(ocorrencias_2014, 2014)\n",
    "exportar_df(ocorrencias_2016, 2016)\n",
    "exportar_df(ocorrencias_2018, 2018)\n",
    "exportar_df(ocorrencias_2020, 2020)\n",
    "exportar_df(ocorrencias_2022, 2022)"
   ]
  }
 ],
 "metadata": {
  "kernelspec": {
   "display_name": ".venv",
   "language": "python",
   "name": "python3"
  },
  "language_info": {
   "codemirror_mode": {
    "name": "ipython",
    "version": 3
   },
   "file_extension": ".py",
   "mimetype": "text/x-python",
   "name": "python",
   "nbconvert_exporter": "python",
   "pygments_lexer": "ipython3",
   "version": "3.9.13"
  }
 },
 "nbformat": 4,
 "nbformat_minor": 2
}
